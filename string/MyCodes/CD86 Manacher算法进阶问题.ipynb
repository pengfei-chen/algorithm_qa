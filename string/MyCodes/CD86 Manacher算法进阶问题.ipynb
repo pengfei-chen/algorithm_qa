{
 "cells": [
  {
   "cell_type": "code",
   "execution_count": 1,
   "id": "8684e00b",
   "metadata": {},
   "outputs": [
    {
     "name": "stdout",
     "output_type": "stream",
     "text": [
      "abcd123321\n",
      "dcba\n"
     ]
    }
   ],
   "source": [
    "s = input()\n",
    "\n",
    "def manacherString(s):\n",
    "    charArr = list(s)\n",
    "    res = ['0'] * (len(s)*2 + 1)\n",
    "    index = 0 \n",
    "    for i in range(len(res)):\n",
    "        if (i%2==0):\n",
    "            res[i] = '#' \n",
    "        else:\n",
    "            res[i] = charArr[index]\n",
    "            index += 1\n",
    "    return res\n",
    "\n",
    "def maxLcpsLength(s):\n",
    "    if not s or len(s)==0:\n",
    "        return 0 \n",
    "    charArr = manacherString(s)\n",
    "    pArr = [0] * len(charArr)\n",
    "    index = -1 \n",
    "    pR = -1 \n",
    "    maxContainsEnd = -1\n",
    "    for i in range(len(charArr)):\n",
    "        pArr[i] = min(pArr[2*index-i], pR-i) if pR>i else 1 \n",
    "        while (i+pArr[i]<len(charArr) and (i - pArr[i] > -1)):\n",
    "            if charArr[i+pArr[i]] == charArr[i-pArr[i]]:\n",
    "                pArr[i] += 1\n",
    "            else:\n",
    "                break \n",
    "        if (i+pArr[i]>pR):\n",
    "            pR = i+pArr[i]\n",
    "            index = i \n",
    "        # 相比于原始问题，增加如下部分\n",
    "        if pR == len(charArr): \n",
    "            #pR已经到达最右边了，以最右边字符结尾的回文串已找到。\n",
    "            #去左边找到不在这个回文串内的部分，逆序加在最后\n",
    "            maxContainsEnd = pArr[i]\n",
    "            break \n",
    "    res = ['0'] * (len(s) - maxContainsEnd + 1)\n",
    "    for i in range(len(res)):\n",
    "        res[len(res)-1-i] = charArr[i*2+1]\n",
    "    return res\n",
    "\n",
    "ans = maxLcpsLength(s)\n",
    "print(''.join(ans))"
   ]
  },
  {
   "cell_type": "code",
   "execution_count": null,
   "id": "158bb0ec",
   "metadata": {},
   "outputs": [],
   "source": []
  }
 ],
 "metadata": {
  "kernelspec": {
   "display_name": "Python 3",
   "language": "python",
   "name": "python3"
  },
  "language_info": {
   "codemirror_mode": {
    "name": "ipython",
    "version": 3
   },
   "file_extension": ".py",
   "mimetype": "text/x-python",
   "name": "python",
   "nbconvert_exporter": "python",
   "pygments_lexer": "ipython3",
   "version": "3.8.3"
  }
 },
 "nbformat": 4,
 "nbformat_minor": 5
}
