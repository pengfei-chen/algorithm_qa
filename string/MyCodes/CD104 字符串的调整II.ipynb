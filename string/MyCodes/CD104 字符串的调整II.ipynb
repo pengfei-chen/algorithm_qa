{
 "cells": [
  {
   "cell_type": "code",
   "execution_count": 1,
   "id": "384fe600",
   "metadata": {},
   "outputs": [
    {
     "name": "stdout",
     "output_type": "stream",
     "text": [
      "a  b      c\n",
      "a%20%20b%20%20%20%20%20%20c\n"
     ]
    }
   ],
   "source": [
    "chas = input()\n",
    "\n",
    "def replace(chas):\n",
    "    length = len(chas)\n",
    "    if (not chas) or length==0:\n",
    "        return \n",
    "    num, Len =0,0 \n",
    "    while Len < length and chas[Len] != 0:\n",
    "        if chas[Len] == ' ':\n",
    "            num += 1  #统计一共有多少个空格 \n",
    "        Len += 1 \n",
    "    j = Len + num * 2  #更新后的长度 \n",
    "    res = ['0'] * j\n",
    "    for i in range(Len-1, -1,-1):\n",
    "        if chas[i] != ' ':\n",
    "            j -= 1 \n",
    "            res[j] = chas[i] \n",
    "        else:\n",
    "            j -= 1\n",
    "            res[j] = '0'\n",
    "            j -= 1 \n",
    "            res[j] = '2'\n",
    "            j -= 1 \n",
    "            res[j] = '%'\n",
    "    return res \n",
    "\n",
    "ans = replace(chas) \n",
    "ans = ''.join(ans)\n",
    "print(ans)"
   ]
  },
  {
   "cell_type": "code",
   "execution_count": null,
   "id": "a2ea52b4",
   "metadata": {},
   "outputs": [],
   "source": []
  }
 ],
 "metadata": {
  "kernelspec": {
   "display_name": "Python 3",
   "language": "python",
   "name": "python3"
  },
  "language_info": {
   "codemirror_mode": {
    "name": "ipython",
    "version": 3
   },
   "file_extension": ".py",
   "mimetype": "text/x-python",
   "name": "python",
   "nbconvert_exporter": "python",
   "pygments_lexer": "ipython3",
   "version": "3.8.8"
  }
 },
 "nbformat": 4,
 "nbformat_minor": 5
}
