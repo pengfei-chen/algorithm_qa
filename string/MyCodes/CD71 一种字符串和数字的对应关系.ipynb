{
 "cells": [
  {
   "cell_type": "code",
   "execution_count": 1,
   "id": "4288b43b",
   "metadata": {},
   "outputs": [
    {
     "data": {
      "text/plain": [
       "'c'"
      ]
     },
     "execution_count": 1,
     "metadata": {},
     "output_type": "execute_result"
    }
   ],
   "source": [
    "s = 'abc'"
   ]
  },
  {
   "cell_type": "code",
   "execution_count": 2,
   "id": "1efd1837",
   "metadata": {},
   "outputs": [
    {
     "name": "stdout",
     "output_type": "stream",
     "text": [
      "2 3\n",
      "ABC\n",
      "CBC\n",
      "36\n"
     ]
    }
   ],
   "source": [
    "\n",
    "def getKthCharAtChs(chs, k):\n",
    "    if (k<1 or k>len(chs)):\n",
    "        return 0 \n",
    "    return chs[k-1]\n",
    "\n",
    "def getString(chs, n):\n",
    "    if not chs or len(chs)==0 or n<1:\n",
    "        return \"\"\n",
    "    cur = 1 \n",
    "    base= len(chs)\n",
    "    Len = 0 \n",
    "    while (n>=cur):\n",
    "        Len += 1 \n",
    "        n -= cur \n",
    "        cur *= base \n",
    "    res = [''] * Len \n",
    "    index = 0 \n",
    "    nCur = 0 \n",
    "    while True:\n",
    "        cur = cur // base \n",
    "        nCur = n // cur \n",
    "        res[index] = getKthCharAtChs(chs,nCur+1)\n",
    "        n = n % cur\n",
    "        index += 1 \n",
    "        if index == len(res):\n",
    "            break\n",
    "    return res \n",
    "\n",
    "def getNthFromChar(chs, ch):\n",
    "    res = -1 \n",
    "    for i in range(len(chs)):\n",
    "        if chs[i] == ch:\n",
    "            res = i+1 \n",
    "            break \n",
    "    return res \n",
    "\n",
    "def getNum(chs, s):\n",
    "    if not chs or len(chs)==0:\n",
    "        return 0\n",
    "    base = len(chs)\n",
    "    strc = list(s) \n",
    "    cur, res = 1,0\n",
    "    for i in range(len(strc)-1, -1,-1):\n",
    "        res = res + getNthFromChar(chs, strc[i]) * cur \n",
    "        cur = cur * base \n",
    "    return res \n",
    "\n",
    "if __name__ == '__main__':\n",
    "    opt, k = list(map(int,input().split()))\n",
    "    chs = input()\n",
    "    n = input()\n",
    "    if opt == 1:\n",
    "        n = int(n)\n",
    "        ans = getString(chs,n)\n",
    "        print(\"\".join(ans))\n",
    "    else:\n",
    "        s = n\n",
    "        ans = getNum(chs,s)\n",
    "        print(ans)\n",
    "    "
   ]
  },
  {
   "cell_type": "code",
   "execution_count": null,
   "id": "eb07b0bb",
   "metadata": {},
   "outputs": [],
   "source": []
  }
 ],
 "metadata": {
  "kernelspec": {
   "display_name": "Python 3",
   "language": "python",
   "name": "python3"
  },
  "language_info": {
   "codemirror_mode": {
    "name": "ipython",
    "version": 3
   },
   "file_extension": ".py",
   "mimetype": "text/x-python",
   "name": "python",
   "nbconvert_exporter": "python",
   "pygments_lexer": "ipython3",
   "version": "3.8.3"
  }
 },
 "nbformat": 4,
 "nbformat_minor": 5
}
