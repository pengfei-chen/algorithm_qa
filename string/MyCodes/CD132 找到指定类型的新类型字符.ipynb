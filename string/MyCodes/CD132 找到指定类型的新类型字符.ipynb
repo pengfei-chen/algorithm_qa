{
 "cells": [
  {
   "cell_type": "code",
   "execution_count": 3,
   "id": "66994e14",
   "metadata": {},
   "outputs": [
    {
     "data": {
      "text/plain": [
       "True"
      ]
     },
     "execution_count": 3,
     "metadata": {},
     "output_type": "execute_result"
    }
   ],
   "source": [
    "'A'.isupper()"
   ]
  },
  {
   "cell_type": "code",
   "execution_count": 4,
   "id": "cce5c762",
   "metadata": {},
   "outputs": [
    {
     "name": "stdout",
     "output_type": "stream",
     "text": [
      "11 7\n",
      "aaABCDEcBCg\n",
      "Ec\n"
     ]
    }
   ],
   "source": [
    "n,k = list(map(int,(input().split())))\n",
    "s =  input()\n",
    "\n",
    "def pointNewchar(s, k):\n",
    "    if not s or len(s)==0 or k<0 or k>=len(s):\n",
    "        return ''\n",
    "    uNum = 0 \n",
    "    for i in range(k-1,-1,-1):\n",
    "        if not s[i].isupper(): #如果不是大写\n",
    "            break \n",
    "        uNum += 1 \n",
    "    if uNum%2==1: #如果是奇数\n",
    "        return s[k-1:k+1]\n",
    "    if s[k].isupper():#如果是偶数且s[k]为大写\n",
    "        return s[k:k+2]\n",
    "    return s[k]  #uNum为0，且s[k]不是大写\n",
    "\n",
    "ans = pointNewchar(s, k)\n",
    "print(ans)"
   ]
  },
  {
   "cell_type": "code",
   "execution_count": null,
   "id": "b27a77ba",
   "metadata": {},
   "outputs": [],
   "source": []
  }
 ],
 "metadata": {
  "kernelspec": {
   "display_name": "Python 3",
   "language": "python",
   "name": "python3"
  },
  "language_info": {
   "codemirror_mode": {
    "name": "ipython",
    "version": 3
   },
   "file_extension": ".py",
   "mimetype": "text/x-python",
   "name": "python",
   "nbconvert_exporter": "python",
   "pygments_lexer": "ipython3",
   "version": "3.8.8"
  }
 },
 "nbformat": 4,
 "nbformat_minor": 5
}
