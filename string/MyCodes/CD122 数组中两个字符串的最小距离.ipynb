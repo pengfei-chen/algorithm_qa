{
 "cells": [
  {
   "cell_type": "code",
   "execution_count": 1,
   "id": "0669941e",
   "metadata": {},
   "outputs": [
    {
     "name": "stdout",
     "output_type": "stream",
     "text": [
      "1\n",
      "CD AB\n",
      "CD\n",
      "-1\n"
     ]
    }
   ],
   "source": [
    "n = int(input())\n",
    "str1,str2 = input().split(' ')\n",
    "strs = []\n",
    "for i in range(n):\n",
    "    strs.append(input())\n",
    "    \n",
    "def minDistance(strs, str1,str2):\n",
    "    if not str1 or not str2:\n",
    "        return -1 \n",
    "    if str1==str2:\n",
    "        return 0 \n",
    "    last1 = -1 \n",
    "    last2 = -1 \n",
    "    Min = 10**10 \n",
    "    for i in range(len(strs)):\n",
    "        if strs[i] == str1:\n",
    "            Min = min(Min, Min if last2 == -1 else i-last2)\n",
    "            last1 = i\n",
    "        if strs[i] == str2:\n",
    "            Min = min(Min, Min if last1== -1 else i-last1)\n",
    "            last2 = i \n",
    "    return -1 if Min == 10**10 else Min \n",
    "\n",
    "print(minDistance(strs, str1,str2))"
   ]
  },
  {
   "cell_type": "code",
   "execution_count": null,
   "id": "47d9ea62",
   "metadata": {},
   "outputs": [],
   "source": []
  }
 ],
 "metadata": {
  "kernelspec": {
   "display_name": "Python 3",
   "language": "python",
   "name": "python3"
  },
  "language_info": {
   "codemirror_mode": {
    "name": "ipython",
    "version": 3
   },
   "file_extension": ".py",
   "mimetype": "text/x-python",
   "name": "python",
   "nbconvert_exporter": "python",
   "pygments_lexer": "ipython3",
   "version": "3.8.8"
  }
 },
 "nbformat": 4,
 "nbformat_minor": 5
}
