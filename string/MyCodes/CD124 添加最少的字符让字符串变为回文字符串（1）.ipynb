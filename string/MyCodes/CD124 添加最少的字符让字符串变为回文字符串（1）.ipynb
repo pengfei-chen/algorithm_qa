{
 "cells": [
  {
   "cell_type": "code",
   "execution_count": 7,
   "id": "3d93bc0f",
   "metadata": {},
   "outputs": [
    {
     "name": "stdout",
     "output_type": "stream",
     "text": [
      "AB\n",
      "BAB\n"
     ]
    }
   ],
   "source": [
    "Str = input()\n",
    "\n",
    "def getDP(Str):\n",
    "    dp = [[0]*len(Str) for _ in range(len(Str))]\n",
    "    for j in range(1,len(Str)): # 大于等于2个字符串才需要加字符\n",
    "        dp[j-1][j] = 0 if  Str[j-1] == Str[j] else 1 \n",
    "        for i in range(j-2, -1,-1):\n",
    "            if Str[i] == Str[j]:\n",
    "                dp[i][j] = dp[i+1][j-1]\n",
    "            else:\n",
    "                dp[i][j] = min(dp[i+1][j], dp[i][j-1]) + 1 \n",
    "    return dp \n",
    "\n",
    "def getPalidromel(Str):\n",
    "    if not Str or len(Str)<2:\n",
    "        return Str \n",
    "    dp = getDP(Str)\n",
    "    res = ['0'] * (len(Str)+dp[0][len(Str)-1])\n",
    "    i = 0 \n",
    "    j = len(Str) - 1\n",
    "    resl = 0 \n",
    "    resr = len(res) -1\n",
    "    while (i<=j):\n",
    "        if Str[i] == Str[j]:\n",
    "            resl+=1\n",
    "            i +=1\n",
    "            res[resl] = Str[i]\n",
    "            resr-=1\n",
    "            j -=1\n",
    "            res[resr] = Str[j]\n",
    "        elif dp[i][j-1] <= dp[i+1][j]: #注意：这里是可以等于的\n",
    "            resl+=1\n",
    "            res[resl] = Str[j]\n",
    "            resr -=1\n",
    "            j -=1\n",
    "            res[resr] = Str[j]\n",
    "        else:\n",
    "            resl+=1\n",
    "            res[resl]=Str[i]\n",
    "            resr -=1\n",
    "            i+=1\n",
    "            res[resr] = Str[i]\n",
    "    return res \n",
    "\n",
    "ans = getPalidromel(Str)\n",
    "print(''.join(ans))"
   ]
  },
  {
   "cell_type": "code",
   "execution_count": null,
   "id": "51b74ccf",
   "metadata": {},
   "outputs": [],
   "source": []
  }
 ],
 "metadata": {
  "kernelspec": {
   "display_name": "Python 3",
   "language": "python",
   "name": "python3"
  },
  "language_info": {
   "codemirror_mode": {
    "name": "ipython",
    "version": 3
   },
   "file_extension": ".py",
   "mimetype": "text/x-python",
   "name": "python",
   "nbconvert_exporter": "python",
   "pygments_lexer": "ipython3",
   "version": "3.8.3"
  }
 },
 "nbformat": 4,
 "nbformat_minor": 5
}
