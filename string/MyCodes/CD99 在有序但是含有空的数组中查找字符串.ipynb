{
 "cells": [
  {
   "cell_type": "code",
   "execution_count": 3,
   "id": "d6483396",
   "metadata": {},
   "outputs": [
    {
     "ename": "ValueError",
     "evalue": "'d' is not in list",
     "output_type": "error",
     "traceback": [
      "\u001b[1;31m---------------------------------------------------------------------------\u001b[0m",
      "\u001b[1;31mValueError\u001b[0m                                Traceback (most recent call last)",
      "\u001b[1;32m<ipython-input-3-533d7689071a>\u001b[0m in \u001b[0;36m<module>\u001b[1;34m\u001b[0m\n\u001b[1;32m----> 1\u001b[1;33m \u001b[1;33m[\u001b[0m\u001b[1;34m\"awk\"\u001b[0m\u001b[1;33m,\u001b[0m\u001b[1;34m\"grep\"\u001b[0m\u001b[1;33m,\u001b[0m\u001b[1;32mNone\u001b[0m\u001b[1;33m,\u001b[0m\u001b[1;34m\"sed\"\u001b[0m\u001b[1;33m]\u001b[0m\u001b[1;33m.\u001b[0m\u001b[0mindex\u001b[0m\u001b[1;33m(\u001b[0m\u001b[1;34m'd'\u001b[0m\u001b[1;33m)\u001b[0m\u001b[1;33m\u001b[0m\u001b[1;33m\u001b[0m\u001b[0m\n\u001b[0m",
      "\u001b[1;31mValueError\u001b[0m: 'd' is not in list"
     ]
    }
   ],
   "source": [
    "[\"awk\",\"grep\",None,\"sed\"].index('d')"
   ]
  },
  {
   "cell_type": "code",
   "execution_count": 11,
   "id": "85187595",
   "metadata": {},
   "outputs": [
    {
     "data": {
      "text/plain": [
       "True"
      ]
     },
     "execution_count": 11,
     "metadata": {},
     "output_type": "execute_result"
    }
   ],
   "source": [
    "'Y' < 'Z'"
   ]
  },
  {
   "cell_type": "code",
   "execution_count": 12,
   "id": "8b5a6216",
   "metadata": {},
   "outputs": [
    {
     "name": "stdout",
     "output_type": "stream",
     "text": [
      "8\n",
      "a\n",
      "0\n",
      "a\n",
      "0\n",
      "a\n",
      "ab\n",
      "ac\n",
      "0\n",
      "b\n",
      "1\n"
     ]
    }
   ],
   "source": [
    "n = int(input())\n",
    "Str = input()\n",
    "strs = []\n",
    "for i in range(n):\n",
    "    a = input()\n",
    "    strs.append(a)\n",
    "    \n",
    "def getIndex(strs, Str):\n",
    "    if (not strs) or len(strs)==0 or (not Str):\n",
    "        return -1 \n",
    "    res = -1 \n",
    "    left = 0 \n",
    "    right = len(strs) - 1 \n",
    "    mid = 0 \n",
    "    i = 0 \n",
    "    while left <= right:\n",
    "        mid = (left + right) // 2 \n",
    "        if (strs[mid] != '0') and strs[mid]==Str:\n",
    "            res = mid \n",
    "            right = mid -1 \n",
    "        elif strs[mid] != '0':\n",
    "            if strs[mid] < Str: # python字符串字典序直接比较\n",
    "                left = mid + 1 \n",
    "            else:\n",
    "                right = mid -1 \n",
    "        else: # strs[mid] != None and strs[mid]!=Str\n",
    "            i = mid \n",
    "            i -= 1\n",
    "            while (strs[i] == '0') and i >=left:\n",
    "                i -= 1\n",
    "            if i<left  or strs[i] < Str: # i 左边不会有 Str\n",
    "                left = mid + 1 \n",
    "            else:\n",
    "                res = i if strs[i] == Str else res \n",
    "                right = i-1 \n",
    "    return res \n",
    "\n",
    "print(getIndex(strs, Str))"
   ]
  },
  {
   "cell_type": "code",
   "execution_count": null,
   "id": "690447fb",
   "metadata": {},
   "outputs": [],
   "source": []
  }
 ],
 "metadata": {
  "kernelspec": {
   "display_name": "Python 3",
   "language": "python",
   "name": "python3"
  },
  "language_info": {
   "codemirror_mode": {
    "name": "ipython",
    "version": 3
   },
   "file_extension": ".py",
   "mimetype": "text/x-python",
   "name": "python",
   "nbconvert_exporter": "python",
   "pygments_lexer": "ipython3",
   "version": "3.8.8"
  }
 },
 "nbformat": 4,
 "nbformat_minor": 5
}
