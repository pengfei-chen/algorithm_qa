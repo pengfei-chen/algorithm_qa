{
 "cells": [
  {
   "cell_type": "markdown",
   "id": "525ae4a0",
   "metadata": {},
   "source": [
    "### 递归的方法"
   ]
  },
  {
   "cell_type": "code",
   "execution_count": 2,
   "id": "76d916b6",
   "metadata": {},
   "outputs": [
    {
     "name": "stdout",
     "output_type": "stream",
     "text": [
      "abcd\n",
      ".*\n",
      "YES\n"
     ]
    }
   ],
   "source": [
    "s = input()\n",
    "e = input()\n",
    "\n",
    "# 先解决有效性问题\n",
    "def isValid(s, e):\n",
    "    for i in range(len(s)):\n",
    "        if s[i]=='*' or s[i]=='.':\n",
    "            return False \n",
    "    for i in range(len(e)):\n",
    "        if e[i]=='*' and (i==0 or e[i-1]=='*'):\n",
    "            return False \n",
    "    return True \n",
    "\n",
    "def process(s,e,si,ei): # s[si...slen] 能否被 e[ei...elen] 匹配\n",
    "    if ei==len(e):\n",
    "        return si==len(s)\n",
    "    if (ei+1 == len(e) or e[ei+1] != '*'): #考察ei+1这个位置的字符\n",
    "        return si != len(s) and ( e[ei]==s[si] or e[ei]=='.') and process(s, e, si+1, ei+1)\n",
    "    while (si != len(s) and (e[ei]==s[si] or e[ei]=='.') ):#  ei+1 位置的字符为 '*'\n",
    "        if (process(s, e, si, ei+2)): # 只要有一个匹配，即可返回True\n",
    "            return True \n",
    "        si += 1\n",
    "    return process(s, e, si, ei+2) #如果 s[si] 和 e[ei]不匹配，'x*'被忽略，ei+2,再比较(s, e, si, ei+2)\n",
    "\n",
    "# 递归方法主函数 \n",
    "def isMatch(s,e):\n",
    "    if not s or not e:\n",
    "        return False \n",
    "    s = list(s) \n",
    "    e = list(e) \n",
    "    return  process(s,e,0,0)  if isValid(s, e) else False \n",
    "\n",
    "ans = isMatch(s,e)\n",
    "print(\"YES\" if ans else \"NO\")\n"
   ]
  },
  {
   "cell_type": "code",
   "execution_count": null,
   "id": "202124dc",
   "metadata": {},
   "outputs": [],
   "source": []
  },
  {
   "cell_type": "markdown",
   "id": "77c8606b",
   "metadata": {},
   "source": [
    "### 动态规划方法："
   ]
  },
  {
   "cell_type": "code",
   "execution_count": 3,
   "id": "98b3e9ad",
   "metadata": {},
   "outputs": [
    {
     "name": "stdout",
     "output_type": "stream",
     "text": [
      "abcd\n",
      ".*\n",
      "YES\n"
     ]
    }
   ],
   "source": [
    "s = input()\n",
    "e = input()\n",
    "\n",
    "\n",
    "# 先解决有效性问题\n",
    "def isValid(s, e):\n",
    "    for i in range(len(s)):\n",
    "        if s[i]=='*' or s[i]=='.':\n",
    "            return False \n",
    "    for i in range(len(e)):\n",
    "        if e[i]=='*' and (i==0 or e[i-1]=='*'):\n",
    "            return False \n",
    "    return True \n",
    "\n",
    "def initDPMap(s,e):\n",
    "    slen = len(s)\n",
    "    elen = len(e)\n",
    "    dp = [[True] * (elen+1) for _ in range(slen+1)]\n",
    "    dp[slen][elen] = True \n",
    "    j = elen - 2 \n",
    "    while j>-1:\n",
    "        if e[j] != '*' and e[j+1]=='*':\n",
    "            dp[slen][j] == True \n",
    "        else:\n",
    "            break \n",
    "        j -= 2\n",
    "    if (slen > 0 and elen > 0):\n",
    "        if ( (e[elen - 1] == '.' or s[slen-1] == e[elen-1] ) ):\n",
    "            dp[slen-1][elen-1] = True \n",
    "    return dp \n",
    "\n",
    "def isMatchDP(s,e):\n",
    "    if not s or not e:\n",
    "        return False \n",
    "    s = list(s)\n",
    "    e = list(e)\n",
    "    if not isValid(s,e):\n",
    "        return False \n",
    "    dp = initDPMap(s,e)\n",
    "    for i in range(len(s)-1, -1,-1):\n",
    "        for j in range(len(e)-2, -1,-1):\n",
    "            if e[j+1] != '*':\n",
    "                dp[i][j] = (s[i]==e[j] or e[j]=='.') and dp[i+1][j+1]\n",
    "            else: # e[j+1] == '*'\n",
    "                si = i \n",
    "                while ( si != len(s) and (s[si]==e[j] or e[j]=='.') ):\n",
    "                    if dp[si][j+2]:\n",
    "                        dp[i][j] = True \n",
    "                        break \n",
    "                    si += 1\n",
    "                if dp[i][j] != True:\n",
    "                    dp[i][j] = dp[si][j+2] #si向右移动了不少，j也加2\n",
    "    return dp[0][0]\n",
    "\n",
    "\n",
    "\n",
    "ans = isMatchDP(s,e)\n",
    "print(\"YES\" if ans else \"NO\")\n"
   ]
  },
  {
   "cell_type": "code",
   "execution_count": null,
   "id": "a167a38f",
   "metadata": {},
   "outputs": [],
   "source": []
  }
 ],
 "metadata": {
  "kernelspec": {
   "display_name": "Python 3",
   "language": "python",
   "name": "python3"
  },
  "language_info": {
   "codemirror_mode": {
    "name": "ipython",
    "version": 3
   },
   "file_extension": ".py",
   "mimetype": "text/x-python",
   "name": "python",
   "nbconvert_exporter": "python",
   "pygments_lexer": "ipython3",
   "version": "3.8.3"
  }
 },
 "nbformat": 4,
 "nbformat_minor": 5
}
