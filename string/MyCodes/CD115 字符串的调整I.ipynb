{
 "cells": [
  {
   "cell_type": "code",
   "execution_count": 2,
   "id": "75f5e2b3",
   "metadata": {},
   "outputs": [
    {
     "name": "stdout",
     "output_type": "stream",
     "text": [
      "qw**23\n",
      "**qw23\n"
     ]
    }
   ],
   "source": [
    "chas = input()\n",
    "\n",
    "def trans(chas):\n",
    "    if not chas or  len(chas)==0:\n",
    "        return \n",
    "    j = len(chas) # 因为下面那一步，这里要取len(chas)\n",
    "    res = ['0'] * len(chas)\n",
    "    for i in range(len(chas)-1, -1, -1):\n",
    "        if chas[i] != '*':\n",
    "            j -= 1 \n",
    "            res[j] = chas[i]\n",
    "    while j >0:\n",
    "        j -= 1\n",
    "        res[j] = '*'\n",
    "    return res \n",
    "\n",
    "ans = trans(chas)\n",
    "ans = ''.join(ans)\n",
    "print(ans)"
   ]
  },
  {
   "cell_type": "markdown",
   "id": "151470cd",
   "metadata": {},
   "source": [
    "### 边界问题，真是让人头大！"
   ]
  },
  {
   "cell_type": "code",
   "execution_count": null,
   "id": "5625ae11",
   "metadata": {},
   "outputs": [],
   "source": []
  }
 ],
 "metadata": {
  "kernelspec": {
   "display_name": "Python 3",
   "language": "python",
   "name": "python3"
  },
  "language_info": {
   "codemirror_mode": {
    "name": "ipython",
    "version": 3
   },
   "file_extension": ".py",
   "mimetype": "text/x-python",
   "name": "python",
   "nbconvert_exporter": "python",
   "pygments_lexer": "ipython3",
   "version": "3.8.8"
  }
 },
 "nbformat": 4,
 "nbformat_minor": 5
}
