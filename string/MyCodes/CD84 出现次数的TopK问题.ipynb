{
 "cells": [
  {
   "cell_type": "code",
   "execution_count": 1,
   "id": "69d3410a",
   "metadata": {},
   "outputs": [
    {
     "name": "stdout",
     "output_type": "stream",
     "text": [
      "1 2\n",
      "2 1\n"
     ]
    }
   ],
   "source": [
    "Map = {'1':2, '2':1}\n",
    "for k,v in Map.items():\n",
    "    print(k,v)"
   ]
  },
  {
   "cell_type": "code",
   "execution_count": 31,
   "id": "06a17538",
   "metadata": {},
   "outputs": [],
   "source": [
    "import heapq \n",
    "nums = [132,2, 3, 5, 1, 54, 23]\n",
    "heapq.heapify(nums)"
   ]
  },
  {
   "cell_type": "code",
   "execution_count": 32,
   "id": "a433d7d2",
   "metadata": {},
   "outputs": [
    {
     "data": {
      "text/plain": [
       "[1, 2, 3, 5, 132, 54, 23]"
      ]
     },
     "execution_count": 32,
     "metadata": {},
     "output_type": "execute_result"
    }
   ],
   "source": [
    "nums"
   ]
  },
  {
   "cell_type": "code",
   "execution_count": 8,
   "id": "3284b8a0",
   "metadata": {},
   "outputs": [],
   "source": [
    "heapq??"
   ]
  },
  {
   "cell_type": "code",
   "execution_count": 10,
   "id": "0cb455c9",
   "metadata": {},
   "outputs": [
    {
     "data": {
      "text/plain": [
       "True"
      ]
     },
     "execution_count": 10,
     "metadata": {},
     "output_type": "execute_result"
    }
   ],
   "source": [
    "'a' < 'b'"
   ]
  },
  {
   "cell_type": "markdown",
   "id": "0a269f01",
   "metadata": {},
   "source": [
    "###  通过for， 交换遍历到的位置和 堆首 位置的元素，然后再 调整堆的顺序，可以实现堆 严格从大到小的排序"
   ]
  },
  {
   "cell_type": "markdown",
   "id": "c65b7f4b",
   "metadata": {},
   "source": [
    "**如下两步所示**"
   ]
  },
  {
   "cell_type": "code",
   "execution_count": 71,
   "id": "4fce9c78",
   "metadata": {},
   "outputs": [
    {
     "data": {
      "text/plain": [
       "[1, 2, 3, 5, 132, 54, 23]"
      ]
     },
     "execution_count": 71,
     "metadata": {},
     "output_type": "execute_result"
    }
   ],
   "source": [
    "nums = [132,2, 3, 5, 1, 54, 23]\n",
    "heapq.heapify(nums)\n",
    "nums"
   ]
  },
  {
   "cell_type": "code",
   "execution_count": 72,
   "id": "83eb9cd5",
   "metadata": {
    "scrolled": true
   },
   "outputs": [
    {
     "name": "stdout",
     "output_type": "stream",
     "text": [
      "[2, 5, 3, 23, 132, 54, 1]\n",
      "[3, 5, 54, 23, 132, 2, 1]\n",
      "[5, 23, 54, 132, 3, 2, 1]\n",
      "[23, 132, 54, 5, 3, 2, 1]\n",
      "[54, 132, 23, 5, 3, 2, 1]\n",
      "[132, 54, 23, 5, 3, 2, 1]\n",
      "[132, 54, 23, 5, 3, 2, 1]\n"
     ]
    }
   ],
   "source": [
    "for i in range(len(nums)-1,-1,-1):\n",
    "    nums[0],nums[i] = nums[i],nums[0]\n",
    "    a = nums[:i].copy()\n",
    "    heapq.heapify(a)\n",
    "    nums[:i] = a[:] #切片赋值\n",
    "    print(nums)"
   ]
  },
  {
   "cell_type": "code",
   "execution_count": null,
   "id": "739b704c",
   "metadata": {},
   "outputs": [],
   "source": []
  },
  {
   "cell_type": "markdown",
   "id": "74b2978b",
   "metadata": {},
   "source": [
    "###  最后还是直接用 sorted了， 嗯，真香！"
   ]
  },
  {
   "cell_type": "code",
   "execution_count": 73,
   "id": "e6e8cf62",
   "metadata": {},
   "outputs": [
    {
     "name": "stdout",
     "output_type": "stream",
     "text": [
      "4 2\n",
      "1\n",
      "2\n",
      "3\n",
      "4\n",
      "1 1\n",
      "2 1\n"
     ]
    }
   ],
   "source": [
    "class Node:\n",
    "    def __init__(self,s,t):\n",
    "        self.str = s \n",
    "        self.times = t \n",
    "        \n",
    "n,topK = list(map(int,input().split()))\n",
    "arr = []\n",
    "for i in range(n):\n",
    "    arr.append(input())\n",
    "\n",
    "def swap(heap, index1, index2):\n",
    "    heap[index1],heap[index2] = heap[index2],heap[index1]\n",
    "    \n",
    "# 小根堆中插入元素，并将元素 上浮 到相应位置 \n",
    "def heapInsert(heap, index):\n",
    "    while index != 0:\n",
    "        parent = (index-1) //2\n",
    "        if heap[index].times < heap[parent].times:\n",
    "            swap(heap,parent,index)\n",
    "            index = parent \n",
    "        else:\n",
    "            break \n",
    "            \n",
    "# 新加入的较大元素进行下沉，下沉到合适位置，进而保证堆有序\n",
    "def heapify(heap, index, heapSize):\n",
    "    left = index * 2 + 1 #左子节点\n",
    "    right = index * 2 + 2 #右子节点\n",
    "    smallest = index \n",
    "    while (left < heapSize):\n",
    "        if heap[left].times < heap[index].times:\n",
    "            smallest = left \n",
    "        if right < heapSize and heap[right].times < heap[smallest].times:\n",
    "            smallest = right \n",
    "        if smallest != index:\n",
    "            swap(heap, smallest, index)\n",
    "        else:\n",
    "            break \n",
    "        index = smallest \n",
    "        left = index * 2 + 1 \n",
    "        right = index * 2 + 2 \n",
    "    \n",
    "def printTopKAndRank(arr, topK):\n",
    "    if not arr or topK < 1:\n",
    "        return \n",
    "    Map = dict()\n",
    "    # 生成哈希表 \n",
    "    for i in range(len(arr)):\n",
    "        cur = arr[i]\n",
    "        if cur not in Map.keys():\n",
    "            Map[cur]  = 1\n",
    "        else:\n",
    "            Map[cur] = Map.get(cur) + 1 \n",
    "#     # 建立小顶堆\n",
    "#     heap = [0] * topK   #先用列表来表示堆，并占位\n",
    "#     index = 0 \n",
    "#     for k,v in Map.items():\n",
    "#         node = Node(k,v)\n",
    "#         if index!=topK:\n",
    "#             heap[index] = node \n",
    "#             heapInsert(heap, index)\n",
    "#             index += 1\n",
    "#         else:\n",
    "#             if (heap[0].times < node.times):\n",
    "#                 heap[0] = node\n",
    "#                 heapify(heap, 0, topK)\n",
    "    # 把小根堆的所有元素按照词频从大到小开始排序 \n",
    "    # 严格按照排名打印k条记录 ,牛逼的做法！\n",
    "#     for i in range(index-1,-1,-1):\n",
    "#         swap(heap,0,i) #交换一次，下一步就重置一次顺序\n",
    "#         heapify(heap,0,i)\n",
    "    Map = sorted(Map.items(), key= lambda x: (-x[1], x[0]))\n",
    "#     for i in range(len(heap)):\n",
    "#         if heap[i] == None:\n",
    "#             break \n",
    "#         else:\n",
    "#             print(heap[i].str, heap[i].times)\n",
    "    ans = Map[:topK]\n",
    "    for i in ans:\n",
    "        print(i[0], i[1])\n",
    "            \n",
    "printTopKAndRank(arr, topK)\n",
    "# 用自写的堆排序，有关键的细节点没有想清楚！"
   ]
  },
  {
   "cell_type": "code",
   "execution_count": null,
   "id": "27573c7e",
   "metadata": {},
   "outputs": [],
   "source": []
  }
 ],
 "metadata": {
  "kernelspec": {
   "display_name": "Python 3",
   "language": "python",
   "name": "python3"
  },
  "language_info": {
   "codemirror_mode": {
    "name": "ipython",
    "version": 3
   },
   "file_extension": ".py",
   "mimetype": "text/x-python",
   "name": "python",
   "nbconvert_exporter": "python",
   "pygments_lexer": "ipython3",
   "version": "3.8.3"
  }
 },
 "nbformat": 4,
 "nbformat_minor": 5
}
