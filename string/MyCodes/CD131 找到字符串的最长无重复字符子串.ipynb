{
 "cells": [
  {
   "cell_type": "code",
   "execution_count": 1,
   "id": "a4617c10",
   "metadata": {},
   "outputs": [
    {
     "name": "stdout",
     "output_type": "stream",
     "text": [
      "5\n",
      "2 2 3 4 3\n",
      "3\n"
     ]
    }
   ],
   "source": [
    "n = int(input())\n",
    "Str = list(map(int,input().split()))\n",
    "\n",
    "def maxUnique(Str):\n",
    "    if not Str or len(Str)==0:\n",
    "        return 0\n",
    "    Map = dict()  # 储存最近一次出现 Str[i] 的位置\n",
    "    Len = 0 \n",
    "    pre = -1 \n",
    "    cur = 0 \n",
    "    for i in range(len(Str)):\n",
    "        pre = max(pre, Map.get(Str[i],-1))\n",
    "        cur = i - pre  # 当前遍历到i位置，且已Str[i]结尾的最长长度\n",
    "        Len = max(Len, cur)  #更新Len \n",
    "        Map[Str[i]] = i  # 更新Map里面的值 \n",
    "    return Len \n",
    "\n",
    "print(maxUnique(Str))"
   ]
  },
  {
   "cell_type": "code",
   "execution_count": null,
   "id": "649c6adb",
   "metadata": {},
   "outputs": [],
   "source": []
  }
 ],
 "metadata": {
  "kernelspec": {
   "display_name": "Python 3",
   "language": "python",
   "name": "python3"
  },
  "language_info": {
   "codemirror_mode": {
    "name": "ipython",
    "version": 3
   },
   "file_extension": ".py",
   "mimetype": "text/x-python",
   "name": "python",
   "nbconvert_exporter": "python",
   "pygments_lexer": "ipython3",
   "version": "3.8.8"
  }
 },
 "nbformat": 4,
 "nbformat_minor": 5
}
