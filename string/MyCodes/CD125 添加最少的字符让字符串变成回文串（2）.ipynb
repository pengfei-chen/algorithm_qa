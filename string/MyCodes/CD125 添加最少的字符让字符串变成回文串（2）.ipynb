{
 "cells": [
  {
   "cell_type": "markdown",
   "id": "d3ef510d",
   "metadata": {},
   "source": [
    "### 牛逼的写法，行云流水般顺畅！"
   ]
  },
  {
   "cell_type": "code",
   "execution_count": 1,
   "id": "103ec231",
   "metadata": {},
   "outputs": [
    {
     "name": "stdout",
     "output_type": "stream",
     "text": [
      "A1B21C\n",
      "121\n",
      "AC1B2B1CA\n"
     ]
    }
   ],
   "source": [
    "Str = input()\n",
    "strlps = input()\n",
    "\n",
    "def getPalindrome(s, lps):\n",
    "    res = ['']*(2*len(s) -len(lps))\n",
    "    ls,re = 0,len(s)-1 \n",
    "    m,n = 0,len(lps)-1 \n",
    "    i,j = 0,len(res)-1 \n",
    "    while i<=j:\n",
    "        le = ls \n",
    "        while s[le] != lps[m]:\n",
    "            le += 1\n",
    "        rs = re \n",
    "        while s[rs] != lps[n]:\n",
    "            rs -= 1\n",
    "        tmp = s[ls:le] + s[re:rs:-1] #右边要逆序 \n",
    "        res[i:i+len(tmp)] = tmp[:] # 切片赋值方法 \n",
    "        res[j-len(tmp)+1:j+1] = tmp[::-1] #更新res \n",
    "        i,j = i+len(tmp), j-len(tmp) \n",
    "        res[i],res[j] = lps[m],lps[n]\n",
    "        i,j = i+1,j-1 \n",
    "        ls, re = le+1, rs-1 \n",
    "        m,n = m+1, n-1 \n",
    "    return \"\".join(res) \n",
    "\n",
    "print(getPalindrome(Str, strlps))\n",
    "        "
   ]
  },
  {
   "cell_type": "code",
   "execution_count": null,
   "id": "45ec3d2c",
   "metadata": {},
   "outputs": [],
   "source": []
  }
 ],
 "metadata": {
  "kernelspec": {
   "display_name": "Python 3",
   "language": "python",
   "name": "python3"
  },
  "language_info": {
   "codemirror_mode": {
    "name": "ipython",
    "version": 3
   },
   "file_extension": ".py",
   "mimetype": "text/x-python",
   "name": "python",
   "nbconvert_exporter": "python",
   "pygments_lexer": "ipython3",
   "version": "3.8.8"
  }
 },
 "nbformat": 4,
 "nbformat_minor": 5
}
