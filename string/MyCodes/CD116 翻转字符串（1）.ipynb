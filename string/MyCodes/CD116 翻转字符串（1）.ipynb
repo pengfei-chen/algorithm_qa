{
 "cells": [
  {
   "cell_type": "code",
   "execution_count": 2,
   "id": "4a99dba5",
   "metadata": {},
   "outputs": [
    {
     "name": "stdout",
     "output_type": "stream",
     "text": [
      "i am a student\n",
      "i ma a tneduts\n"
     ]
    }
   ],
   "source": [
    "chas = input().split()\n",
    "\n",
    "def reverse(chas):\n",
    "    for i in range(len(chas)):\n",
    "        x = chas[i]\n",
    "        chas[i] = x[::-1]\n",
    "    return chas \n",
    "\n",
    "ans = reverse(chas)\n",
    "ans = ' '.join(ans)\n",
    "print(ans)\n"
   ]
  },
  {
   "cell_type": "code",
   "execution_count": null,
   "id": "580a3db8",
   "metadata": {},
   "outputs": [],
   "source": []
  }
 ],
 "metadata": {
  "kernelspec": {
   "display_name": "Python 3",
   "language": "python",
   "name": "python3"
  },
  "language_info": {
   "codemirror_mode": {
    "name": "ipython",
    "version": 3
   },
   "file_extension": ".py",
   "mimetype": "text/x-python",
   "name": "python",
   "nbconvert_exporter": "python",
   "pygments_lexer": "ipython3",
   "version": "3.8.8"
  }
 },
 "nbformat": 4,
 "nbformat_minor": 5
}
