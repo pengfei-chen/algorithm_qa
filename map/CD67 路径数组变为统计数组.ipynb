{
 "cells": [
  {
   "cell_type": "code",
   "execution_count": 1,
   "id": "7ffd4027",
   "metadata": {},
   "outputs": [
    {
     "name": "stdout",
     "output_type": "stream",
     "text": [
      "10\n",
      "9 1 4 9 0 4 8 9 0 1\n",
      "1 1 3 2 3 0 0 0 0 0\n"
     ]
    }
   ],
   "source": [
    "n = int(input())\n",
    "paths = list(map(int,input().split()))\n",
    "\n",
    "# 找到首都 \n",
    "for i in range(n):\n",
    "    if i==paths[i]:\n",
    "        m = i \n",
    "        break \n",
    "\n",
    "nums = [0 for i in range(n)]\n",
    "# 找到每个点距离首都的距离\n",
    "for i in range(n):\n",
    "    s = 0 \n",
    "    i_0 = i \n",
    "    while i_0 != m:\n",
    "        i_0 = paths[i_0]\n",
    "        if i_0 < 0: # 已经遍历过了，其到远点的距离为 i_0 \n",
    "            s += abs(i_0)\n",
    "            break \n",
    "        s += 1 \n",
    "    paths[i] = -s \n",
    "    nums[s] += 1  # 个数加1 \n",
    "    \n",
    "print(' '.join(map(str,nums)))"
   ]
  },
  {
   "cell_type": "code",
   "execution_count": null,
   "id": "7b897616",
   "metadata": {},
   "outputs": [],
   "source": []
  }
 ],
 "metadata": {
  "kernelspec": {
   "display_name": "Python 3",
   "language": "python",
   "name": "python3"
  },
  "language_info": {
   "codemirror_mode": {
    "name": "ipython",
    "version": 3
   },
   "file_extension": ".py",
   "mimetype": "text/x-python",
   "name": "python",
   "nbconvert_exporter": "python",
   "pygments_lexer": "ipython3",
   "version": "3.8.8"
  }
 },
 "nbformat": 4,
 "nbformat_minor": 5
}
