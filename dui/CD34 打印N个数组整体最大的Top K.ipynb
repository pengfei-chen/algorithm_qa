{
 "cells": [
  {
   "cell_type": "markdown",
   "id": "c6888c68",
   "metadata": {},
   "source": [
    "###  原书中答案"
   ]
  },
  {
   "cell_type": "code",
   "execution_count": 4,
   "id": "9245a093",
   "metadata": {},
   "outputs": [
    {
     "name": "stdout",
     "output_type": "stream",
     "text": [
      "3 5\n",
      "5 219 405 538 845 971\n",
      "2 148 558\n",
      "4 52 99 348 691\n",
      "971 845 691 558 538 \n"
     ]
    }
   ],
   "source": [
    "class HeapNode:\n",
    "    def __init__(self, value, arrNum, index):\n",
    "        self.value = value\n",
    "        self.arrNum = arrNum\n",
    "        self.index = index\n",
    "\n",
    "def getTopK(matrix, topK, res):\n",
    "    heapSize = len(matrix)\n",
    "    heap = [0]*heapSize\n",
    "    for i in range(heapSize):\n",
    "        index = len(matrix[i]) - 1\n",
    "        heap[i] = HeapNode(matrix[i][index], i, index)\n",
    "        heapInsert(heap, i)\n",
    "    for i in range(topK):\n",
    "        if heapSize == 0:\n",
    "            break\n",
    "        res.append(heap[0].value)\n",
    "        if heap[0].index != 0:\n",
    "            heap[0].index -= 1\n",
    "            heap[0].value = matrix[heap[0].arrNum][heap[0].index]\n",
    "        else:\n",
    "            heapSize -= 1\n",
    "            swap(heap, 0, heapSize)\n",
    "        heapify(heap, 0, heapSize)\n",
    "    return res\n",
    "\n",
    "def heapInsert(heap, index):\n",
    "    while index != 0:\n",
    "        parent = int((index-1)/2)\n",
    "        if heap[parent].value < heap[index].value:\n",
    "            swap(heap, parent, index)\n",
    "            index = parent\n",
    "        else:\n",
    "            break\n",
    "\n",
    "def heapify(heap, index, heapSize):\n",
    "    left = index*2 + 1\n",
    "    right = index*2 + 2\n",
    "    largest = index\n",
    "    while left < heapSize:\n",
    "        if heap[left].value > heap[index].value:\n",
    "            largest = left\n",
    "        if right < heapSize and heap[right].value > heap[largest].value:\n",
    "            largest = right\n",
    "        if largest != index:\n",
    "            swap(heap, largest, index)\n",
    "        else:\n",
    "            break\n",
    "        index = largest\n",
    "        left = index*2 + 1\n",
    "        right = index*2 + 2\n",
    "\n",
    "def swap(heap, index1, index2):\n",
    "    tmp = heap[index1]\n",
    "    heap[index1] = heap[index2]\n",
    "    heap[index2] = tmp\n",
    "\n",
    "if __name__ == '__main__':\n",
    "    import sys\n",
    "    n, topK = list(map(int, input().split()))\n",
    "    matrix = []\n",
    "    for i in range(n):\n",
    "        matrix.append(list(map(int, input().split())))\n",
    "    res = []\n",
    "    res = getTopK(matrix, topK, res)\n",
    "    r = ''\n",
    "    for i in res:\n",
    "        r+=str(i)+' '\n",
    "    print(r)"
   ]
  },
  {
   "cell_type": "markdown",
   "id": "67dc33f4",
   "metadata": {},
   "source": [
    "###  最终自己提交答案"
   ]
  },
  {
   "cell_type": "code",
   "execution_count": null,
   "id": "91069096",
   "metadata": {},
   "outputs": [],
   "source": [
    "# 建堆时的调整过程\n",
    "# def heapInsert(heap, index):\n",
    "#     while index != 0:\n",
    "#         parent = (index-1) // 2\n",
    "#         if heap[parent] < heap[index]:\n",
    "#             heap[parent],heap[index] = heap[index],heap[parent]\n",
    "#             index = parent \n",
    "#         else:\n",
    "#             break \n",
    "            \n",
    "# 恢复堆的调整过程,使父节点的值大于子节点\n",
    "def heapify_big(heap, index, heapSize):\n",
    "    left = 2*index + 1 \n",
    "    right = 2*index + 2\n",
    "    largest = index\n",
    "    while left < heapSize:\n",
    "        if heap[left] > heap[index]:\n",
    "            largest = left \n",
    "        if right<heapSize and heap[right] > heap[largest]:\n",
    "            largest = right \n",
    "        if largest != index:\n",
    "            heap[index],heap[largest] = heap[largest],heap[index] \n",
    "        else:\n",
    "            break \n",
    "        index = largest \n",
    "        left = index*2 + 1\n",
    "        right = index*2 + 2 \n",
    "        \n",
    "#构造一个堆，将堆中所有数据重新排序\n",
    "def Build_Heap(heap):\n",
    "    HeapSize = len(heap)  #将堆的长度当独拿出来方便\n",
    "    for i in range(HeapSize ,-1,-1):#从后往前出数\n",
    "        heapify_big(heap,i,HeapSize)\n",
    "        \n",
    "#将根节点取出与最后一位做对调，对前面len-1个节点继续进行对调整过程。\n",
    "def HeapSort1(heap):\n",
    "    Build_Heap(heap)\n",
    "    for i in range(len(heap)-1,0,-1):\n",
    "        heap[0],heap[i] = heap[i],heap[0]\n",
    "        heapify_big(heap, 0, i)\n",
    "    return heap\n",
    "        \n",
    "t,k = list(map(int, input().split()))\n",
    "lst = []\n",
    "for i in range(t):\n",
    "    h = list(map(int, input().split())) \n",
    "    lst.extend(h)\n",
    "\n",
    "ans = HeapSort1(lst)\n",
    "ans = ans[::-1][:k]\n",
    "print(*ans)"
   ]
  },
  {
   "cell_type": "code",
   "execution_count": null,
   "id": "9f9dff49",
   "metadata": {},
   "outputs": [],
   "source": []
  },
  {
   "cell_type": "code",
   "execution_count": null,
   "id": "80c46ff4",
   "metadata": {},
   "outputs": [],
   "source": []
  },
  {
   "cell_type": "markdown",
   "id": "53af775c",
   "metadata": {},
   "source": [
    "### 写一个堆排序"
   ]
  },
  {
   "cell_type": "markdown",
   "id": "e8cc7c56",
   "metadata": {},
   "source": [
    "### 大根堆，顺序排序"
   ]
  },
  {
   "cell_type": "code",
   "execution_count": 248,
   "id": "a7fbb598",
   "metadata": {},
   "outputs": [],
   "source": [
    "# 恢复堆的调整过程,使父节点的值大于子节点\n",
    "def heapify_big(heap, index, heapSize):\n",
    "    left = 2*index + 1 \n",
    "    right = 2*index + 2\n",
    "    largest = index\n",
    "    while left < heapSize:\n",
    "        if heap[left] > heap[index]:\n",
    "            largest = left \n",
    "        if right<heapSize and heap[right] > heap[largest]:\n",
    "            largest = right \n",
    "        if largest != index:\n",
    "            heap[index],heap[largest] = heap[largest],heap[index] \n",
    "        else:\n",
    "            break \n",
    "        index = largest \n",
    "        left = index*2 + 1\n",
    "        right = index*2 + 2 \n",
    "        \n",
    "#构造一个堆，将堆中所有数据重新排序\n",
    "def Build_Heap(heap):\n",
    "    HeapSize = len(heap)  #将堆的长度当独拿出来方便\n",
    "    for i in range(HeapSize ,-1,-1):#从后往前出数\n",
    "        heapify_big(heap,i,HeapSize)\n",
    "        \n",
    "#将根节点取出与最后一位做对调，对前面len-1个节点继续进行对调整过程。\n",
    "def HeapSort1(heap):\n",
    "    Build_Heap(heap)\n",
    "    for i in range(len(heap)-1,0,-1):\n",
    "        heap[0],heap[i] = heap[i],heap[0]\n",
    "        heapify_big(heap, 0, i)\n",
    "    return heap"
   ]
  },
  {
   "cell_type": "markdown",
   "id": "26075ec3",
   "metadata": {},
   "source": [
    "### 小根堆，逆序排序"
   ]
  },
  {
   "cell_type": "code",
   "execution_count": 249,
   "id": "024eaf25",
   "metadata": {},
   "outputs": [],
   "source": [
    "# 恢复堆的调整过程,使父节点的值小于子节点\n",
    "def heapify_small(heap, index, heapSize):\n",
    "    left = 2*index + 1 \n",
    "    right = 2*index + 2\n",
    "    smallest = index\n",
    "    while left < heapSize:\n",
    "        if heap[left] < heap[index]:\n",
    "            smallest = left \n",
    "        if right<heapSize and heap[right] < heap[smallest]:\n",
    "            smallest = right \n",
    "        if smallest != index:\n",
    "            heap[index],heap[smallest] = heap[smallest],heap[index] \n",
    "        else:\n",
    "            break \n",
    "        index = smallest \n",
    "        left = index*2 + 1\n",
    "        right = index*2 + 2 \n",
    "        \n",
    "#构造一个堆，将堆中所有数据重新排序\n",
    "def Build_Heap_(heap):\n",
    "    HeapSize = len(heap)  #将堆的长度当独拿出来方便\n",
    "    for i in range(HeapSize ,-1,-1):#从后往前出数\n",
    "        heapify_small(heap,i,HeapSize)\n",
    "        \n",
    "#将根节点取出与最后一位做对调，对前面len-1个节点继续进行对调整过程。\n",
    "def HeapSort_reverse(heap):\n",
    "    Build_Heap_(heap)\n",
    "    for i in range(len(heap)-1,0,-1):\n",
    "        heap[0],heap[i] = heap[i],heap[0]\n",
    "        heapify_small(heap, 0, i)\n",
    "    return heap"
   ]
  },
  {
   "cell_type": "code",
   "execution_count": null,
   "id": "9e40fbdf",
   "metadata": {},
   "outputs": [],
   "source": []
  },
  {
   "cell_type": "code",
   "execution_count": 250,
   "id": "0610a0fd",
   "metadata": {},
   "outputs": [
    {
     "name": "stdout",
     "output_type": "stream",
     "text": [
      "[30, 50, 57, 62, 77, 78, 80, 84, 94]\n"
     ]
    }
   ],
   "source": [
    "# 大根对，顺序排序\n",
    "a = [30,50,57,77,62,78,94,80,84]\n",
    "HeapSort1(a)\n",
    "print(a)"
   ]
  },
  {
   "cell_type": "code",
   "execution_count": 251,
   "id": "3283f48e",
   "metadata": {},
   "outputs": [
    {
     "name": "stdout",
     "output_type": "stream",
     "text": [
      "[94, 84, 80, 78, 77, 62, 57, 50, 30]\n"
     ]
    }
   ],
   "source": [
    "# 小根对，逆序排序\n",
    "a = [30,50,57,77,62,78,94,80,84]\n",
    "HeapSort_reverse(a)\n",
    "print(a)"
   ]
  },
  {
   "cell_type": "code",
   "execution_count": null,
   "id": "ed5c1896",
   "metadata": {},
   "outputs": [],
   "source": []
  }
 ],
 "metadata": {
  "kernelspec": {
   "display_name": "Python 3",
   "language": "python",
   "name": "python3"
  },
  "language_info": {
   "codemirror_mode": {
    "name": "ipython",
    "version": 3
   },
   "file_extension": ".py",
   "mimetype": "text/x-python",
   "name": "python",
   "nbconvert_exporter": "python",
   "pygments_lexer": "ipython3",
   "version": "3.8.8"
  }
 },
 "nbformat": 4,
 "nbformat_minor": 5
}
