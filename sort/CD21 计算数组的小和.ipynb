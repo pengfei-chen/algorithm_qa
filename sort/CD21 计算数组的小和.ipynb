{
 "cells": [
  {
   "cell_type": "code",
   "execution_count": null,
   "id": "10c392c9",
   "metadata": {},
   "outputs": [],
   "source": [
    "\"\"\"\n",
    "描述\n",
    "数组小和的定义如下：\n",
    "例如，数组s = [1, 3, 5, 2, 4, 6]，在s[0]的左边小于或等于s[0]的数的和为0；在s[1]的左边小于或等于s[1]的数的和为1；在s[2]的左边小于或等于s[2]的数的和为1+3=4；在s[3]的左边小于或等于s[3]的数的和为1；\n",
    "在s[4]的左边小于或等于s[4]的数的和为1+3+2=6；在s[5]的左边小于或等于s[5]的数的和为1+3+5+2+4=15。所以s的小和为0+1+4+1+6+15=27\n",
    "给定一个数组s，实现函数返回s的小和\n",
    "[要求]\n",
    "时间复杂度为O(nlogn)O(nlogn)，空间复杂度为O(n)O(n)\n",
    "输入描述：\n",
    "第一行有一个整数N。表示数组长度\n",
    "接下来一行N个整数表示数组内的数\n",
    "输出描述：\n",
    "一个整数表示答案\n",
    "\n",
    "示例1\n",
    "输入：\n",
    "6\n",
    "1 3 5 2 4 6\n",
    "输出：\n",
    "27\n",
    "\"\"\""
   ]
  },
  {
   "cell_type": "code",
   "execution_count": 1,
   "id": "be6b7b0c",
   "metadata": {},
   "outputs": [
    {
     "name": "stdout",
     "output_type": "stream",
     "text": [
      "6\n",
      "1 3 5 2 4 6\n",
      "27\n"
     ]
    }
   ],
   "source": [
    "def mergeSort(arr, left, right):\n",
    "    if left == right:\n",
    "        return 0\n",
    "    mid = (left + right) // 2\n",
    "    return mergeSort(arr, left, mid) + mergeSort(arr, mid + 1, right) + merge(arr, left, mid, right)\n",
    "  \n",
    "def merge(arr, left, mid, right):\n",
    "    res = []\n",
    "    small_sub = 0\n",
    "    i, j = left, mid + 1\n",
    "    while i <= mid and j <= right:\n",
    "        if arr[i] <= arr[j]:\n",
    "            small_sub += arr[i] * (right-j+1)   # j 后面的部分比 j 都要大， 所以小和有right-j+1个arr[i]\n",
    "            res.append(arr[i])\n",
    "            i += 1\n",
    "        else:\n",
    "            res.append(arr[j])   # 把小的值先往res里面填写\n",
    "            j += 1\n",
    "    res += arr[i:mid + 1]   # 全都排完之后，左半部分有剩余\n",
    "    res += arr[j:right + 1]   #全都排完以后，右半部分有剩余\n",
    "    arr[left:right + 1] = res   # 修改原 arr 的值\n",
    "    return small_sub\n",
    "  \n",
    "N = int(input())\n",
    "lst = list(map(int, input().split()))\n",
    "print(mergeSort(lst,0,N-1))"
   ]
  },
  {
   "cell_type": "code",
   "execution_count": null,
   "id": "57f4e67e",
   "metadata": {},
   "outputs": [],
   "source": []
  }
 ],
 "metadata": {
  "kernelspec": {
   "display_name": "Python [conda env:root] *",
   "language": "python",
   "name": "conda-root-py"
  },
  "language_info": {
   "codemirror_mode": {
    "name": "ipython",
    "version": 3
   },
   "file_extension": ".py",
   "mimetype": "text/x-python",
   "name": "python",
   "nbconvert_exporter": "python",
   "pygments_lexer": "ipython3",
   "version": "3.8.3"
  }
 },
 "nbformat": 4,
 "nbformat_minor": 5
}
