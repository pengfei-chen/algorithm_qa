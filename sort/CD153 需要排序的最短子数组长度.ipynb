{
 "cells": [
  {
   "cell_type": "code",
   "execution_count": 1,
   "id": "8dc50d91",
   "metadata": {},
   "outputs": [
    {
     "name": "stdout",
     "output_type": "stream",
     "text": [
      "7\n",
      "1 5 3 4 2 6 7\n",
      "4\n"
     ]
    }
   ],
   "source": [
    "# 参考冒泡排序\n",
    "n = int(input())\n",
    "arr = list(map(int,input().split()))\n",
    "\n",
    "Min = arr[n-1]\n",
    "l = -1  # 考虑原数组已经排好序的情况\n",
    "for i in range(n-2,-1,-1):  #只做一轮冒泡排序，不过并不去真的修改数组\n",
    "    if Min < arr[i]:  #最右边的比i还小，说明从i开始就有问题了\n",
    "        l = i \n",
    "    else:\n",
    "        Min = arr[i]  # i 后面是有序的\n",
    "# 可以把 l 放到合适的位置区\n",
    "    \n",
    "Max  = arr[0]\n",
    "r = -1\n",
    "for i in range(1,n): \n",
    "    if Max > arr[i]: # 0 到 i 这一段，顺序是有问题的\n",
    "        r = i \n",
    "    else:\n",
    "        Max = arr[i]  # 从0到i是有序的，更新比较值\n",
    "        \n",
    "print(r-l+1)"
   ]
  },
  {
   "cell_type": "code",
   "execution_count": null,
   "id": "8459246c",
   "metadata": {},
   "outputs": [],
   "source": []
  }
 ],
 "metadata": {
  "kernelspec": {
   "display_name": "Python 3",
   "language": "python",
   "name": "python3"
  },
  "language_info": {
   "codemirror_mode": {
    "name": "ipython",
    "version": 3
   },
   "file_extension": ".py",
   "mimetype": "text/x-python",
   "name": "python",
   "nbconvert_exporter": "python",
   "pygments_lexer": "ipython3",
   "version": "3.8.3"
  }
 },
 "nbformat": 4,
 "nbformat_minor": 5
}
