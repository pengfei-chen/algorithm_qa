{
 "cells": [
  {
   "cell_type": "code",
   "execution_count": 5,
   "id": "57ffc476",
   "metadata": {},
   "outputs": [],
   "source": [
    "# 对arr[l......r]的范围进行排序\n",
    "def __mergeSort(alist,start, end):\n",
    "    if start > end:\n",
    "        return\n",
    "    # 存在风险，start + end 可能越界\n",
    "    mid = (start + end ) // 2\n",
    "    left = __mergeSort(alist,start,mid)\n",
    "    right = __mergeSort(alist,mid+1,end)\n",
    "    ans = merge(alist,start,mid,end)\n",
    "    return ans \n",
    "\n",
    "def merge(alist,start,mid,end):   # merge这里写得并不好\n",
    "    # 复制一份\n",
    "    blist = alist[start:end+1]\n",
    "    l = start   # 这里写得不容易理解  l 表示左半边元素\n",
    "    r = mid +1  # r 表示右半边元素\n",
    "    pos = start  # 当前位置索引\n",
    "    while pos <= end:   # 从start 到 end 遍历新的blist   # z注意这里的  -start\n",
    "        if(l > mid):   #左边用尽，取右半边的元素\n",
    "            alist[pos] = blist[l-start]\n",
    "            r += 1\n",
    "        elif(r>end):  #右边用尽，取左半边的元素\n",
    "            alist[pos] = blist[l-start]\n",
    "            l += 1\n",
    "        elif blist[l-start] <= blist[r-start]:  #左半边当前元素小于右半边当前元素，取左半边\n",
    "            alist[pos] = blist[l-start]\n",
    "            l += 1\n",
    "        else:\n",
    "            alist[pos] = blist[r-start]   #右半边当前元素小于左半边当前元素，取右半边\n",
    "            r += 1\n",
    "        pos += 1\n",
    "    return alist"
   ]
  },
  {
   "cell_type": "code",
   "execution_count": null,
   "id": "f58f9e7c",
   "metadata": {},
   "outputs": [],
   "source": [
    "alist = [2,9,5,8,3,4,6,1,7]\n",
    "ans = __mergeSort(alist,0,len(alist)-1)\n",
    "print(ans)"
   ]
  },
  {
   "cell_type": "markdown",
   "id": "967879d8",
   "metadata": {},
   "source": [
    "###  使用的归并排序如下"
   ]
  },
  {
   "cell_type": "code",
   "execution_count": 1,
   "id": "d7d5c43e",
   "metadata": {},
   "outputs": [
    {
     "name": "stdout",
     "output_type": "stream",
     "text": [
      "[1, 2, 3, 4, 5, 6, 7, 8, 9]\n"
     ]
    }
   ],
   "source": [
    "def merge(a, b):\n",
    "    c = []\n",
    "    h = j = 0\n",
    "    while j < len(a) and h < len(b):\n",
    "        if a[j] < b[h]:\n",
    "            c.append(a[j])\n",
    "            j += 1\n",
    "        else:\n",
    "            c.append(b[h])\n",
    "            h += 1\n",
    "    if j == len(a):\n",
    "        for i in b[h:]:\n",
    "            c.append(i)\n",
    "    else:\n",
    "        for i in a[j:]:\n",
    "            c.append(i)\n",
    "    return c\n",
    "\n",
    "def merge_sort(lists):\n",
    "    if len(lists) <= 1:\n",
    "        return lists\n",
    "    middle = len(lists)//2\n",
    "    left = merge_sort(lists[:middle])\n",
    "    right = merge_sort(lists[middle:])\n",
    "    return merge(left, right)\n",
    "\n",
    "\n",
    "if __name__ == '__main__':\n",
    "    a = [2,9,5,8,3,4,6,1,7]\n",
    "    print(merge_sort(a))"
   ]
  },
  {
   "cell_type": "markdown",
   "id": "2e09e96d",
   "metadata": {},
   "source": [
    "### 快排"
   ]
  },
  {
   "cell_type": "code",
   "execution_count": 7,
   "id": "59a8a8d5",
   "metadata": {},
   "outputs": [
    {
     "name": "stdout",
     "output_type": "stream",
     "text": [
      "[1, 2, 3, 4, 5, 6, 7, 8, 9]\n"
     ]
    }
   ],
   "source": [
    "\"\"\"\n",
    "快速排序由 C. A. R. Hoare 在1962年提出。\n",
    "它的基本思想是：通过一趟排序将要排序的数据分割成独立的两部分，其中一部分的所有数据都比另外一部分的所有数据都要小，\n",
    "然后再按此方法对这两部分数据分别进行快速排序，整个排序过程可以递归进行，以此达到整个数据变成有序序列。\n",
    "\"\"\"\n",
    "from random import randint\n",
    "\n",
    "def quickSort(alist,l,r):\n",
    "    if l>r:\n",
    "        return\n",
    "    p = partition(alist,l,r)\n",
    "    quickSort(alist,l,p-1)\n",
    "    quickSort(alist,p+1,r)\n",
    "    return alist\n",
    "\n",
    "# 在alist[l...r]中寻找j,使得alist[l...j] <= alist[l], alist[j+1...r] >alist[l]\n",
    "def partition(alist,l,r):\n",
    "    pos = randint(l,r)\n",
    "    alist[pos],alist[l] = alist[l],alist[pos]\n",
    "    v = alist[l]\n",
    "    j = l\n",
    "    i = l + 1\n",
    "    while i <= r:\n",
    "        if alist[i] <= v:\n",
    "            alist[j+1],alist[i] = alist[i],alist[j+1]   # 只要值小于 v，往 j+1 放\n",
    "            j += 1\n",
    "        i += 1\n",
    "    alist[l],alist[j] = alist[j],alist[l]   # 因为经过上面的形式后，列表成为 5,2,3,4,1,6,7,9,8  这样的形式，现在l=0，j=4\n",
    "    return j\n",
    "\n",
    "if __name__ == '__main__':\n",
    "    a = [2,9,5,8,3,4,6,1,7]\n",
    "    print(quickSort(a,0,len(a)-1))"
   ]
  },
  {
   "cell_type": "code",
   "execution_count": null,
   "id": "e3ceaa27",
   "metadata": {},
   "outputs": [],
   "source": []
  }
 ],
 "metadata": {
  "kernelspec": {
   "display_name": "Python 3",
   "language": "python",
   "name": "python3"
  },
  "language_info": {
   "codemirror_mode": {
    "name": "ipython",
    "version": 3
   },
   "file_extension": ".py",
   "mimetype": "text/x-python",
   "name": "python",
   "nbconvert_exporter": "python",
   "pygments_lexer": "ipython3",
   "version": "3.8.8"
  }
 },
 "nbformat": 4,
 "nbformat_minor": 5
}
