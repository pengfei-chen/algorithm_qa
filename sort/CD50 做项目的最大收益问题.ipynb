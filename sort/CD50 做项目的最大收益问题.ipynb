{
 "cells": [
  {
   "cell_type": "code",
   "execution_count": 1,
   "id": "42f072b1",
   "metadata": {},
   "outputs": [
    {
     "name": "stdout",
     "output_type": "stream",
     "text": [
      "4 3 2\n",
      "5 4 1 2 \n",
      "3 5 3 2\n",
      "11\n"
     ]
    }
   ],
   "source": [
    "import heapq  #该模块提供了堆排序算法的实现\n",
    "def compute():\n",
    "    N,W,K = list(map(int, input().split()))\n",
    "    costs = list(map(int, input().split()))\n",
    "    profits = list(map(int, input().split()))\n",
    "    h1, h2 = list(), list()\n",
    "    for i in range(N):\n",
    "        if costs[i]<=W: # 成本小于启动资金\n",
    "            h1.append(-profits[i])  # 堆顶的元素，其实是利润最大的元素\n",
    "        else:\n",
    "            h2.append((costs[i], profits[i]))  # 这里面有两个，进堆里面排序是怎么排的？\n",
    "    heapq.heapify(h1)  #heap.heapify(list)转换列表成为堆结构\n",
    "    heapq.heapify(h2)\n",
    "    res = W\n",
    "    while K>0 and h1:\n",
    "        while h2 and h2[0][0]<=res:  #成本小于启动资金\n",
    "            heapq.heappush(h1, -h2[0][1])  #利润的负值，填入 h1 堆\n",
    "            heapq.heappop(h2)\n",
    "        K-=1\n",
    "        res-=h1[0]   # 更新res，为一次项目后的资金\n",
    "        heapq.heappop(h1)\n",
    "    return res\n",
    "\n",
    "print(compute())"
   ]
  },
  {
   "cell_type": "markdown",
   "id": "76d890e8",
   "metadata": {},
   "source": [
    "说明：\n",
    "初始资金为3，最多做两个项目，每个项目的启动资金与利润见costs和profits。最优选择为：先做2号项目，做完之后资金增长到6,。然后做1号项目，做完之后资金增长到11。其他的任何选择都不会比这种选择好，所以返回11"
   ]
  },
  {
   "cell_type": "code",
   "execution_count": null,
   "id": "1f5a14ce",
   "metadata": {},
   "outputs": [],
   "source": []
  }
 ],
 "metadata": {
  "kernelspec": {
   "display_name": "Python 3",
   "language": "python",
   "name": "python3"
  },
  "language_info": {
   "codemirror_mode": {
    "name": "ipython",
    "version": 3
   },
   "file_extension": ".py",
   "mimetype": "text/x-python",
   "name": "python",
   "nbconvert_exporter": "python",
   "pygments_lexer": "ipython3",
   "version": "3.8.3"
  }
 },
 "nbformat": 4,
 "nbformat_minor": 5
}
