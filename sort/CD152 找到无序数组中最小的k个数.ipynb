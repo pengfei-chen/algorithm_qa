{
 "cells": [
  {
   "cell_type": "code",
   "execution_count": null,
   "id": "48773301",
   "metadata": {},
   "outputs": [],
   "source": [
    "# 这就是堆的思想啊\n",
    "\n",
    "import heapq\n",
    "\n",
    "n,k = list(map(int,input().split()))\n",
    "l = list(map(int,input().split()))\n",
    "\n",
    "heapq.heapify(l)\n",
    "ans = heapq.nsmallest(k,l)  #直接用堆的nsmallest方法\n",
    "print(*ans)"
   ]
  }
 ],
 "metadata": {
  "kernelspec": {
   "display_name": "Python 3",
   "language": "python",
   "name": "python3"
  },
  "language_info": {
   "codemirror_mode": {
    "name": "ipython",
    "version": 3
   },
   "file_extension": ".py",
   "mimetype": "text/x-python",
   "name": "python",
   "nbconvert_exporter": "python",
   "pygments_lexer": "ipython3",
   "version": "3.8.3"
  }
 },
 "nbformat": 4,
 "nbformat_minor": 5
}
