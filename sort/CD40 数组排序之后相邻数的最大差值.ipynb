{
 "cells": [
  {
   "cell_type": "code",
   "execution_count": null,
   "id": "dcf498a0",
   "metadata": {},
   "outputs": [],
   "source": [
    "n = int(input())\n",
    "l = list(map(int, input().split()))\n",
    "\n",
    "l.sort()\n",
    "Max = 0\n",
    "for i in range(1,n):\n",
    "    if l[i] - l[i-1] > Max:\n",
    "        Max = l[i] - l[i-1]\n",
    "print(Max)"
   ]
  }
 ],
 "metadata": {
  "kernelspec": {
   "display_name": "Python 3",
   "language": "python",
   "name": "python3"
  },
  "language_info": {
   "codemirror_mode": {
    "name": "ipython",
    "version": 3
   },
   "file_extension": ".py",
   "mimetype": "text/x-python",
   "name": "python",
   "nbconvert_exporter": "python",
   "pygments_lexer": "ipython3",
   "version": "3.8.3"
  }
 },
 "nbformat": 4,
 "nbformat_minor": 5
}
