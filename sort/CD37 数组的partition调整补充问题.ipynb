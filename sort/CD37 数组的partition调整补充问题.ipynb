{
 "cells": [
  {
   "cell_type": "code",
   "execution_count": null,
   "id": "038a0a0c",
   "metadata": {},
   "outputs": [],
   "source": [
    "n = int(input())\n",
    "l = list(map(int,input().split()))\n",
    "\n",
    "l1,l2,l3 = [],[],[]\n",
    "\n",
    "for x in l:\n",
    "    if x == 0:\n",
    "        l1.append(x)\n",
    "    elif x == 1:\n",
    "        l2.append(x)\n",
    "    else:\n",
    "        l3.append(x)\n",
    "ans = []\n",
    "ans.extend(l1)\n",
    "ans.extend(l2)\n",
    "ans.extend(l3)\n",
    "print(*ans)"
   ]
  }
 ],
 "metadata": {
  "kernelspec": {
   "display_name": "Python [conda env:root] *",
   "language": "python",
   "name": "conda-root-py"
  },
  "language_info": {
   "codemirror_mode": {
    "name": "ipython",
    "version": 3
   },
   "file_extension": ".py",
   "mimetype": "text/x-python",
   "name": "python",
   "nbconvert_exporter": "python",
   "pygments_lexer": "ipython3",
   "version": "3.8.3"
  }
 },
 "nbformat": 4,
 "nbformat_minor": 5
}
