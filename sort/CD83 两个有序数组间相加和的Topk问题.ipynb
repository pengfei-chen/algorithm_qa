{
 "cells": [
  {
   "cell_type": "code",
   "execution_count": 1,
   "id": "7f375b68",
   "metadata": {},
   "outputs": [
    {
     "name": "stdout",
     "output_type": "stream",
     "text": [
      "5 4\n",
      "1 2 3 4 5\n",
      "3 5 7 9 11\n",
      "16 15 14 14\n"
     ]
    }
   ],
   "source": [
    "import heapq\n",
    "def main():\n",
    "    n, k = list(map(int, input().split()))\n",
    "    arr1 = list(map(int, input().split()))\n",
    "    arr2 = list(map(int, input().split()))\n",
    "    i, j = n-1, n-1\n",
    "    heap = []\n",
    "    ans = []\n",
    "    used = set()\n",
    "    heapq.heappush(heap, [-arr1[i] - arr2[j], i, j])\n",
    "    while heap:\n",
    "        tmp = heapq.heappop(heap)\n",
    "        i, j = tmp[1], tmp[2]\n",
    "        ans.append(-tmp[0])   #有序数组，这就是最小值\n",
    "        if len(ans) == k:  # 这一步也很棒！\n",
    "            break\n",
    "        if i > 0 and (i - 1, j) not in used:\n",
    "            heapq.heappush(heap, [-arr1[i-1] - arr2[j], i - 1, j])\n",
    "            used.add((i - 1, j))\n",
    "        if j > 0 and (i, j - 1) not in used:\n",
    "            heapq.heappush(heap, [-arr1[i] - arr2[j-1], i, j - 1])\n",
    "            used.add((i, j - 1))\n",
    "    print(*ans)\n",
    "if __name__ == '__main__':\n",
    "    main()"
   ]
  },
  {
   "cell_type": "code",
   "execution_count": null,
   "id": "edd207e2",
   "metadata": {},
   "outputs": [],
   "source": []
  }
 ],
 "metadata": {
  "kernelspec": {
   "display_name": "Python 3",
   "language": "python",
   "name": "python3"
  },
  "language_info": {
   "codemirror_mode": {
    "name": "ipython",
    "version": 3
   },
   "file_extension": ".py",
   "mimetype": "text/x-python",
   "name": "python",
   "nbconvert_exporter": "python",
   "pygments_lexer": "ipython3",
   "version": "3.8.3"
  }
 },
 "nbformat": 4,
 "nbformat_minor": 5
}
