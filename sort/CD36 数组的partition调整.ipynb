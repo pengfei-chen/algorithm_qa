{
 "cells": [
  {
   "cell_type": "code",
   "execution_count": null,
   "id": "8d6d20ba",
   "metadata": {},
   "outputs": [],
   "source": [
    "n = int(input())\n",
    "l = list(map(int, input().split()))\n",
    "\n",
    "def sort_array(n,l):\n",
    "    i = 0\n",
    "    j = 1\n",
    "    while j < n and i < n-1:\n",
    "        if l[j] != l[i]:\n",
    "            l[i+1],l[j] = l[j],l[i+1]\n",
    "            i += 1\n",
    "        j += 1\n",
    "    return l\n",
    "\n",
    "ans = sort_array(n,l)\n",
    "print(*ans)"
   ]
  }
 ],
 "metadata": {
  "kernelspec": {
   "display_name": "Python 3",
   "language": "python",
   "name": "python3"
  },
  "language_info": {
   "codemirror_mode": {
    "name": "ipython",
    "version": 3
   },
   "file_extension": ".py",
   "mimetype": "text/x-python",
   "name": "python",
   "nbconvert_exporter": "python",
   "pygments_lexer": "ipython3",
   "version": "3.8.3"
  }
 },
 "nbformat": 4,
 "nbformat_minor": 5
}
