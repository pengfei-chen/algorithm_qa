{
 "cells": [
  {
   "cell_type": "code",
   "execution_count": null,
   "id": "c6c73604",
   "metadata": {},
   "outputs": [],
   "source": [
    "\"\"\"题目描述\n",
    "给定一个长度为N的整形数组arr，其中有N个互不相等的自然数1-N。请实现arr的排序，但是不要把下标0 \\sim N-10∼N−1位置上的数通过直接赋值的方式替换成1 \\sim N1∼N\n",
    "[要求]\n",
    "时间复杂度为O(n)O(n)，空间复杂度为O(1)O(1) \n",
    "备注：\n",
    "1≤N≤10^5\n",
    "\n",
    "输入描述：\n",
    "第一行有一个整数N。表示数组长度\n",
    "接下来一行有N个互不相等的自然数1-N。\n",
    "输出描述：\n",
    "输出N个整数表示排序后的结果\n",
    "示例1\n",
    "输入：\n",
    "5\n",
    "2 1 4 5 3\n",
    "输出：\n",
    "1 2 3 4 5 \n",
    "\n",
    "参考答案：\"\"\""
   ]
  },
  {
   "cell_type": "code",
   "execution_count": 1,
   "id": "759a659d",
   "metadata": {},
   "outputs": [
    {
     "name": "stdout",
     "output_type": "stream",
     "text": [
      "5\n",
      "2 1 4 5 3\n",
      "1 2 3 4 5\n"
     ]
    }
   ],
   "source": [
    "# 用快速排序\n",
    "import random\n",
    "\n",
    "def quickSort(alist,l,r):\n",
    "    if l > r:\n",
    "        return  \n",
    "    p = partition(alist, l, r) \n",
    "    quickSort(alist,l,p-1)\n",
    "    quickSort(alist,p+1,r)\n",
    "    return alist\n",
    "\n",
    "def partition(alist,l,r):\n",
    "    pos = random.randint(l,r)\n",
    "    alist[pos], alist[l] = alist[l], alist[pos]\n",
    "    v = alist[l]\n",
    "    j = l\n",
    "    i = l + 1\n",
    "    while i <= r:\n",
    "        if alist[i] <= v:\n",
    "            alist[j+1], alist[i] = alist[i],alist[j+1]\n",
    "            j += 1\n",
    "        i += 1\n",
    "\n",
    "    alist[l], alist[j] = alist[j], alist[l]\n",
    "    return j\n",
    "\n",
    "n = int(input())\n",
    "alist = list(map(int, input().split()))\n",
    "ans = quickSort(alist,0,n-1)\n",
    "print(*ans)"
   ]
  },
  {
   "cell_type": "code",
   "execution_count": null,
   "id": "20e3d539",
   "metadata": {},
   "outputs": [],
   "source": []
  }
 ],
 "metadata": {
  "kernelspec": {
   "display_name": "Python [conda env:root] *",
   "language": "python",
   "name": "conda-root-py"
  },
  "language_info": {
   "codemirror_mode": {
    "name": "ipython",
    "version": 3
   },
   "file_extension": ".py",
   "mimetype": "text/x-python",
   "name": "python",
   "nbconvert_exporter": "python",
   "pygments_lexer": "ipython3",
   "version": "3.8.3"
  }
 },
 "nbformat": 4,
 "nbformat_minor": 5
}
