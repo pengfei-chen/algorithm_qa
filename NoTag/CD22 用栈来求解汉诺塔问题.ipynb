{
 "cells": [
  {
   "cell_type": "code",
   "execution_count": null,
   "id": "18ae9fa8",
   "metadata": {},
   "outputs": [],
   "source": [
    "# 牛皮！\n",
    "N=int(input())\n",
    "res=0\n",
    "def move(n,left,right):\n",
    "    global res\n",
    "    if n==1:\n",
    "        print('Move 1 from '+left+' to mid')\n",
    "        print('Move 1 from mid to '+right)\n",
    "        res+=2\n",
    "    else:\n",
    "        move(n-1,left,right)\n",
    "        print('Move '+str(n)+' from '+left+' to mid')\n",
    "        move(n-1,right,left)\n",
    "        print('Move '+str(n)+' from mid to '+right)\n",
    "        move(n-1,left,right)\n",
    "        res+=2\n",
    "move(N,'left','right')\n",
    "print('It will move '+str(res)+' steps.')"
   ]
  }
 ],
 "metadata": {
  "kernelspec": {
   "display_name": "Python 3",
   "language": "python",
   "name": "python3"
  },
  "language_info": {
   "codemirror_mode": {
    "name": "ipython",
    "version": 3
   },
   "file_extension": ".py",
   "mimetype": "text/x-python",
   "name": "python",
   "nbconvert_exporter": "python",
   "pygments_lexer": "ipython3",
   "version": "3.8.8"
  }
 },
 "nbformat": 4,
 "nbformat_minor": 5
}
