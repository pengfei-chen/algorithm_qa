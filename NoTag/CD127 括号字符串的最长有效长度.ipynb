{
 "cells": [
  {
   "cell_type": "code",
   "execution_count": 1,
   "id": "3a6ce74d",
   "metadata": {},
   "outputs": [
    {
     "name": "stdout",
     "output_type": "stream",
     "text": [
      "(()())\n",
      "6\n"
     ]
    }
   ],
   "source": [
    "Str = input()\n",
    "\n",
    "def maxLength(Str):\n",
    "    if Str == None or len(Str) == 0:\n",
    "        return 0 \n",
    "    chas = list(Str)\n",
    "    dp = [0] * len(chas)\n",
    "    pre, res = 0,0 \n",
    "    for i in range(1,len(chas)):\n",
    "        if chas[i] == ')':\n",
    "            pre = i - dp[i-1] - 1 \n",
    "            if pre >= 0 and chas[pre] == '(':\n",
    "                dp[i] = dp[i-1] + 2 + (dp[pre-1] if pre > 0 else 0)\n",
    "        res = max(res,dp[i])\n",
    "    return res \n",
    "\n",
    "print(maxLength(Str))"
   ]
  },
  {
   "cell_type": "code",
   "execution_count": null,
   "id": "e2163802",
   "metadata": {},
   "outputs": [],
   "source": []
  }
 ],
 "metadata": {
  "kernelspec": {
   "display_name": "Python 3",
   "language": "python",
   "name": "python3"
  },
  "language_info": {
   "codemirror_mode": {
    "name": "ipython",
    "version": 3
   },
   "file_extension": ".py",
   "mimetype": "text/x-python",
   "name": "python",
   "nbconvert_exporter": "python",
   "pygments_lexer": "ipython3",
   "version": "3.8.8"
  }
 },
 "nbformat": 4,
 "nbformat_minor": 5
}
