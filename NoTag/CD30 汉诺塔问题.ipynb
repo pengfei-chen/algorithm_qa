{
 "cells": [
  {
   "cell_type": "markdown",
   "id": "0ab91411",
   "metadata": {},
   "source": [
    "### 递归写法"
   ]
  },
  {
   "cell_type": "code",
   "execution_count": null,
   "id": "bf21c111",
   "metadata": {},
   "outputs": [],
   "source": [
    "import sys\n",
    "sys.setrecursionlimit(10000000)\n",
    "\n",
    "def step1(arr):\n",
    "    if not arr or len(arr)==0:\n",
    "        return -1 \n",
    "    return process(arr,len(arr)-1,1,2,3)\n",
    "\n",
    "def process(arr, i, from_, mid, to):\n",
    "    if i==-1:\n",
    "        return 0 \n",
    "    if arr[i] != from_ and arr[i] != to:\n",
    "        return -1 \n",
    "    if arr[i]==from_:\n",
    "        return process(arr, i-1, from_, mid, to)\n",
    "    else:\n",
    "        rest = process(arr, i-1, from_, mid, to)\n",
    "        if rest == -1:\n",
    "            return -1 \n",
    "        return 1<<i + rest \n",
    "    \n",
    "n = int(input())\n",
    "arr = list(map(int,input().split()))\n",
    "print(step1(arr))"
   ]
  },
  {
   "cell_type": "markdown",
   "id": "b881f2b6",
   "metadata": {},
   "source": [
    "###  时间空间限制过不了"
   ]
  },
  {
   "cell_type": "markdown",
   "id": "f8e64d5d",
   "metadata": {},
   "source": [
    "##  为什么AC不了。。"
   ]
  },
  {
   "cell_type": "code",
   "execution_count": null,
   "id": "5040b0a9",
   "metadata": {},
   "outputs": [],
   "source": [
    "def step2(arr):\n",
    "    if not arr or len(arr)==0:\n",
    "        return -1 \n",
    "    from_,mid,to = 1,2,3\n",
    "    i = len(arr)-1 \n",
    "    res,tmp = 0,0 \n",
    "    while i>=0:\n",
    "        if arr[i] != from_ and arr[i] != to:\n",
    "            return -1 \n",
    "        if arr[i] == to: #第i个在to上面 \n",
    "            res += 2**i\n",
    "            from_,mid = mid,from_\n",
    "        else: # arr[i] == from\n",
    "            mid,to = to,mid  #交换中点和尾点的位置\n",
    "        i -= 1 \n",
    "    return res % 1000000007\n",
    "    \n",
    "n = int(input())\n",
    "arr = list(map(int,input().split()))\n",
    "print(step2(arr) % 1000000007)"
   ]
  },
  {
   "cell_type": "code",
   "execution_count": null,
   "id": "6d34ac36",
   "metadata": {},
   "outputs": [],
   "source": []
  },
  {
   "cell_type": "markdown",
   "id": "72863b97",
   "metadata": {},
   "source": [
    "### AC的答案"
   ]
  },
  {
   "cell_type": "code",
   "execution_count": null,
   "id": "d687b93e",
   "metadata": {},
   "outputs": [],
   "source": [
    "n = int(input())\n",
    "arr = list(map(int, input().split()))\n",
    "\n",
    "def checkhanoi(arr, left, mid, right):\n",
    "    lens = len(arr)\n",
    "    res = 0\n",
    "    help = [0 for i in range(lens)]\n",
    "    last = 1\n",
    "    for i in range(lens):\n",
    "        help[i] = last\n",
    "        last = (last << 1) % 1000000007\n",
    "    for i in range(lens)[::-1]:\n",
    "        if arr[i] == mid:\n",
    "            return -1\n",
    "        elif arr[i] == left: #最后一个在左边，中和右互换\n",
    "            mid,right = right,mid \n",
    "        else: #最后一个在右边，左和中互换位置 \n",
    "            res = res + help[i]\n",
    "            left,mid = mid,left \n",
    "    return res % 1000000007\n",
    "ans = checkhanoi(arr, 1, 2, 3)\n",
    "print(ans)"
   ]
  }
 ],
 "metadata": {
  "kernelspec": {
   "display_name": "Python 3",
   "language": "python",
   "name": "python3"
  },
  "language_info": {
   "codemirror_mode": {
    "name": "ipython",
    "version": 3
   },
   "file_extension": ".py",
   "mimetype": "text/x-python",
   "name": "python",
   "nbconvert_exporter": "python",
   "pygments_lexer": "ipython3",
   "version": "3.8.8"
  }
 },
 "nbformat": 4,
 "nbformat_minor": 5
}
