{
 "cells": [
  {
   "cell_type": "code",
   "execution_count": 1,
   "id": "b7c5713f",
   "metadata": {},
   "outputs": [
    {
     "name": "stdout",
     "output_type": "stream",
     "text": [
      "4\n",
      "1 2 3 4\n",
      "5\n",
      "1 2 3 5 6\n",
      "1 2 3\n"
     ]
    }
   ],
   "source": [
    "class Node:\n",
    "    def __init__(self,x):\n",
    "        self.v = x \n",
    "        self.next = None \n",
    "        \n",
    "n = int(input())\n",
    "arr1 = list(map(int,input().split()))\n",
    "m = int(input())\n",
    "arr2 = list(map(int,input().split()))\n",
    "# 构建链表\n",
    "node = Node(arr1[0])\n",
    "pHead1 =  node\n",
    "for i in range(1,n):\n",
    "    node.next = Node(arr1[i])\n",
    "    node = node.next\n",
    "node1 = Node(arr2[0])\n",
    "pHead2 =  node1\n",
    "for i in range(1,m):\n",
    "    node1.next = Node(arr2[i])\n",
    "    node1 = node1.next \n",
    "    \n",
    "def printCommonPart(head1,head2):\n",
    "    lst = [] \n",
    "    while head1 and head2:\n",
    "        if head1.v < head2.v:\n",
    "            head1 = head1.next \n",
    "        elif head1.v > head2.v:\n",
    "            head2 = head2.next \n",
    "        else:\n",
    "            lst.append(head1.v) \n",
    "            head1 = head1.next \n",
    "            head2 = head2.next \n",
    "    return lst \n",
    "\n",
    "ans = printCommonPart(pHead1,pHead2)\n",
    "print(*ans)"
   ]
  },
  {
   "cell_type": "code",
   "execution_count": null,
   "id": "666dd810",
   "metadata": {},
   "outputs": [],
   "source": []
  }
 ],
 "metadata": {
  "kernelspec": {
   "display_name": "Python 3",
   "language": "python",
   "name": "python3"
  },
  "language_info": {
   "codemirror_mode": {
    "name": "ipython",
    "version": 3
   },
   "file_extension": ".py",
   "mimetype": "text/x-python",
   "name": "python",
   "nbconvert_exporter": "python",
   "pygments_lexer": "ipython3",
   "version": "3.8.8"
  }
 },
 "nbformat": 4,
 "nbformat_minor": 5
}
