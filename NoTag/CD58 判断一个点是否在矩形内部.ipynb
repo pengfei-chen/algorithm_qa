{
 "cells": [
  {
   "cell_type": "code",
   "execution_count": null,
   "id": "c0a08866",
   "metadata": {},
   "outputs": [],
   "source": [
    "import math\n",
    "def is_inside(x1,y1,x4,y4,x,y):\n",
    "    if x <= x1:\n",
    "        return False\n",
    "    if x >= x4:\n",
    "        return False\n",
    "    if y >= y1:\n",
    "        return False\n",
    "    if y <= y4:\n",
    "        return False\n",
    "    return True \n",
    "\n",
    "def isInside(x1,y1,x2,y2,x3,y3,x4,y4,x,y):\n",
    "    if y1 == y2 : #最左边的点等于最上边的点 \n",
    "        ans = is_inside(x1=x1,y1=y1,x4=x4,y4=y4,x=x,y=y)\n",
    "    else:\n",
    "        #将矩形旋转\n",
    "        l = abs(y4 - y3)\n",
    "        k = abs(x4 - x3)\n",
    "        s = math.sqrt(k*k + l*l)\n",
    "        sin = l/s\n",
    "        cos = k/s\n",
    "        x1R = cos * x1 + sin *y1\n",
    "        y1R = -x1 * sin + y1*cos\n",
    "        x2R = cos * x2 + sin * y2\n",
    "        y2R = -x2 * sin + y2 * cos\n",
    "        x3R = cos * x3 + sin * y3\n",
    "        y3R = -x3 * sin + y3 * cos\n",
    "        x4R = cos * x4 + sin * y4\n",
    "        y4R = -x4 * sin + y4 * cos\n",
    "        xR = cos * x + sin * y\n",
    "        yR = -x * sin + y*cos\n",
    "        ans = is_inside(x1R,y1R,x4R,y4R,xR,yR)\n",
    "    return ans \n",
    "\n",
    "x1,y1 = map(float,input().split())\n",
    "x2,y2 = map(float,input().split())\n",
    "x3,y3 = map(float,input().split())\n",
    "x4,y4 = map(float,input().split())\n",
    "x,y = map(float,input().split())\n",
    "ans = isInside(x1,y1,x2,y2,x3,y3,x4,y4,x,y)\n",
    "print(\"Yes\" if ans else \"No\")"
   ]
  }
 ],
 "metadata": {
  "kernelspec": {
   "display_name": "Python 3",
   "language": "python",
   "name": "python3"
  },
  "language_info": {
   "codemirror_mode": {
    "name": "ipython",
    "version": 3
   },
   "file_extension": ".py",
   "mimetype": "text/x-python",
   "name": "python",
   "nbconvert_exporter": "python",
   "pygments_lexer": "ipython3",
   "version": "3.8.8"
  }
 },
 "nbformat": 4,
 "nbformat_minor": 5
}
