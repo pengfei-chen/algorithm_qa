{
 "cells": [
  {
   "cell_type": "code",
   "execution_count": 2,
   "id": "c12a5013",
   "metadata": {},
   "outputs": [
    {
     "name": "stdout",
     "output_type": "stream",
     "text": [
      "7\n",
      "1 qwer\n",
      "1 qwe\n",
      "3 qwer\n",
      "YES\n",
      "4 q\n",
      "2\n",
      "2 qwer\n",
      "3 qwer\n",
      "NO\n",
      "4 q\n",
      "1\n"
     ]
    }
   ],
   "source": [
    "# 写得很好！\n",
    "from collections import defaultdict\n",
    "\n",
    "IS_WORD = 'IS_WORD'\n",
    "COUNT = 'COUNT'\n",
    "\n",
    "\n",
    "class Trie:\n",
    "    def __init__(self):\n",
    "        self.root = defaultdict()\n",
    "\n",
    "    def delete(self, s):\n",
    "        p = self.root\n",
    "        for ch in s:\n",
    "            p = p[ch]\n",
    "            p[COUNT] -= 1\n",
    "        p[IS_WORD] -= 1\n",
    "\n",
    "    def search(self, s):\n",
    "        p = self.root\n",
    "        for ch in s:\n",
    "            if ch not in p:\n",
    "                return False\n",
    "            p = p[ch]\n",
    "        return IS_WORD in p and p[IS_WORD] > 0\n",
    "\n",
    "    def prefix_number(self, s):\n",
    "        p = self.root\n",
    "        ans = 0\n",
    "        for ch in s:\n",
    "            if ch not in p:\n",
    "                return 0\n",
    "            p = p[ch]\n",
    "            ans = p[COUNT]\n",
    "        return ans\n",
    "\n",
    "    def insert(self, s):\n",
    "        p = self.root\n",
    "        for ch in s:\n",
    "            if ch not in p:\n",
    "                p[ch] = defaultdict()\n",
    "            p = p[ch]\n",
    "            if COUNT not in p:\n",
    "                p[COUNT] = 0\n",
    "            p[COUNT] += 1\n",
    "        if IS_WORD not in p:\n",
    "            p[IS_WORD] = 0\n",
    "        p[IS_WORD] += 1\n",
    "\n",
    "\n",
    "n = int(input())\n",
    "trie = Trie()\n",
    "for i in range(n):\n",
    "    opt, word = input().split(' ')\n",
    "    opt = int(opt)\n",
    "    if opt == 1:\n",
    "        trie.insert(word)\n",
    "    elif opt == 2:\n",
    "        trie.delete(word)\n",
    "    elif opt == 3:\n",
    "        print('YES' if trie.search(word) else 'NO')\n",
    "    elif opt == 4:\n",
    "        print(trie.prefix_number(word))"
   ]
  },
  {
   "cell_type": "code",
   "execution_count": null,
   "id": "c0c2722e",
   "metadata": {},
   "outputs": [],
   "source": []
  }
 ],
 "metadata": {
  "kernelspec": {
   "display_name": "Python 3",
   "language": "python",
   "name": "python3"
  },
  "language_info": {
   "codemirror_mode": {
    "name": "ipython",
    "version": 3
   },
   "file_extension": ".py",
   "mimetype": "text/x-python",
   "name": "python",
   "nbconvert_exporter": "python",
   "pygments_lexer": "ipython3",
   "version": "3.8.8"
  }
 },
 "nbformat": 4,
 "nbformat_minor": 5
}
