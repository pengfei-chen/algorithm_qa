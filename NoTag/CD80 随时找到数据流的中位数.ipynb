{
 "cells": [
  {
   "cell_type": "code",
   "execution_count": 1,
   "id": "27282cd1",
   "metadata": {},
   "outputs": [
    {
     "name": "stdout",
     "output_type": "stream",
     "text": [
      "8\n",
      "1 5\n",
      "2\n",
      "5.0\n",
      "1 3\n",
      "2\n",
      "4.0\n",
      "1 6\n",
      "2\n",
      "5.0\n",
      "1 7\n",
      "2\n",
      "5.5\n"
     ]
    }
   ],
   "source": [
    "from bisect import insort_left \n",
    "n = int(input())\n",
    "l = []\n",
    "for i in range(n):\n",
    "    inp = list(map(int,input().split()))\n",
    "    if inp[0]==1:\n",
    "        insort_left(l, inp[1])\n",
    "    else:\n",
    "        half = len(l)//2 \n",
    "        if len(l) == 0:\n",
    "            print(-1)\n",
    "        elif len(l)%2==0:\n",
    "            print(\"%.1f\"%((l[half-1]+l[half])/2))\n",
    "        else:\n",
    "            print(\"%.1f\"%l[half])"
   ]
  },
  {
   "cell_type": "code",
   "execution_count": null,
   "id": "c5dbbdb0",
   "metadata": {},
   "outputs": [],
   "source": []
  }
 ],
 "metadata": {
  "kernelspec": {
   "display_name": "Python 3",
   "language": "python",
   "name": "python3"
  },
  "language_info": {
   "codemirror_mode": {
    "name": "ipython",
    "version": 3
   },
   "file_extension": ".py",
   "mimetype": "text/x-python",
   "name": "python",
   "nbconvert_exporter": "python",
   "pygments_lexer": "ipython3",
   "version": "3.8.8"
  }
 },
 "nbformat": 4,
 "nbformat_minor": 5
}
