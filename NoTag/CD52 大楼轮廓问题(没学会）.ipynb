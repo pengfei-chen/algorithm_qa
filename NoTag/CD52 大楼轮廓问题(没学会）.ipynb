{
 "cells": [
  {
   "cell_type": "markdown",
   "id": "2f3df115",
   "metadata": {},
   "source": [
    "bisect是python内置模块，用于有序序列的插入和查找。\n",
    "\n",
    "查找： bisect(array, item)\n",
    "\n",
    "插入： insort(array,item)"
   ]
  },
  {
   "cell_type": "code",
   "execution_count": null,
   "id": "9aa656cb",
   "metadata": {},
   "outputs": [],
   "source": [
    "def getSkylinePlus(buildings):\n",
    "    from bisect import bisect_left, insort_left\n",
    "    # 当前高度排序\n",
    "    sorted_list = [0]\n",
    "    points = []\n",
    "    for l, r, h in buildings:\n",
    "        points.append([l, -h])\n",
    "        points.append([r, h])\n",
    "    # 先sort x, 再sort h\n",
    "    points.sort()\n",
    "    res = []\n",
    "    temp = [1,0,0]  # 这个tmp的作用是什么\n",
    "    for x, h in points:\n",
    "        if h < 0:\n",
    "            insort_left(sorted_list, -h) # 将 -h插入到合适的位置 ，左边的值就插入进去\n",
    "        else:\n",
    "            idx = bisect_left(sorted_list, h) # 获得h的索引\n",
    "            sorted_list.pop(idx) #右边的值就删除掉 \n",
    "        maxHeight = sorted_list[-1] # 目前最高的高度\n",
    "        if temp[-1] != maxHeight:\n",
    "            if temp[-1] != 0:\n",
    "                temp[0] = temp[1]\n",
    "                temp[1] = x\n",
    "                res.append(temp)\n",
    "            temp = [temp[1], x, maxHeight] #中间的是，上一步的索引， 左边是temp本身上一步索引，右边是它最大高度\n",
    "    return res\n",
    "\n",
    "if __name__ == \"__main__\":\n",
    "    n = int(input())\n",
    "    buildings = []\n",
    "    for building in range(n):\n",
    "        buildings.append(list(map(int, input().split())))\n",
    "    ans = getSkylinePlus(buildings)\n",
    "    for item in ans:\n",
    "        print(' '.join(map(str, item)))"
   ]
  }
 ],
 "metadata": {
  "kernelspec": {
   "display_name": "Python 3",
   "language": "python",
   "name": "python3"
  },
  "language_info": {
   "codemirror_mode": {
    "name": "ipython",
    "version": 3
   },
   "file_extension": ".py",
   "mimetype": "text/x-python",
   "name": "python",
   "nbconvert_exporter": "python",
   "pygments_lexer": "ipython3",
   "version": "3.8.8"
  }
 },
 "nbformat": 4,
 "nbformat_minor": 5
}
