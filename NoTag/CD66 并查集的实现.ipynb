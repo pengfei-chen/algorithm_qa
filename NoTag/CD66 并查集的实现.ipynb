{
 "cells": [
  {
   "cell_type": "code",
   "execution_count": null,
   "id": "e520e98d",
   "metadata": {},
   "outputs": [],
   "source": [
    "class UnionFindSet:\n",
    "    def __init__(self, n):\n",
    "        self.stack = list(range(n+1))\n",
    "        self.size = [1]*(n+1)\n",
    "    def getValue(self, a):\n",
    "        if self.stack[a] == a:\n",
    "            return a \n",
    "        self.stack[a]=self.getValue(self.stack[a])\n",
    "        return self.stack[a]\n",
    "    def isSameSet(self, a, b):\n",
    "        return self.getValue(a)==self.getValue(b)\n",
    "    def union(self, a, b):\n",
    "        apos = self.getValue(a)\n",
    "        bpos = self.getValue(b)\n",
    "        if apos==bpos: return \n",
    "        if self.size[apos]<self.size[bpos]:\n",
    "            self.stack[apos] = bpos\n",
    "            self.size[bpos] = self.size[apos]+self.size[bpos]\n",
    "        else:\n",
    "            self.stack[bpos] = apos\n",
    "            self.size[apos] = self.size[apos]+self.size[bpos]\n",
    "\n",
    "# 原来 list变换也要消耗较多时间\n",
    "while True:\n",
    "    try:\n",
    "        n, m = map(int, input().split())\n",
    "        ufs = UnionFindSet(n)\n",
    "        res = []\n",
    "        for _ in range(m):\n",
    "            q, a, b = map(int, input().split())\n",
    "            if q==1:\n",
    "                res.append('Yes' if ufs.isSameSet(a, b) else 'No')\n",
    "            else:\n",
    "                ufs.union(a, b)\n",
    "        print('\\n'.join(res))\n",
    "    except:\n",
    "        break"
   ]
  }
 ],
 "metadata": {
  "kernelspec": {
   "display_name": "Python 3",
   "language": "python",
   "name": "python3"
  },
  "language_info": {
   "codemirror_mode": {
    "name": "ipython",
    "version": 3
   },
   "file_extension": ".py",
   "mimetype": "text/x-python",
   "name": "python",
   "nbconvert_exporter": "python",
   "pygments_lexer": "ipython3",
   "version": "3.8.8"
  }
 },
 "nbformat": 4,
 "nbformat_minor": 5
}
