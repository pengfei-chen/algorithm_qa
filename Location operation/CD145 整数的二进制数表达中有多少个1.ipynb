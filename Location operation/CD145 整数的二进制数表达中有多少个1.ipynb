{
 "cells": [
  {
   "cell_type": "markdown",
   "id": "a36b4573",
   "metadata": {},
   "source": [
    "### 超时做法"
   ]
  },
  {
   "cell_type": "code",
   "execution_count": 1,
   "id": "3be2437f",
   "metadata": {},
   "outputs": [
    {
     "name": "stdout",
     "output_type": "stream",
     "text": [
      "526\n",
      "4\n"
     ]
    }
   ],
   "source": [
    "n = int(input())\n",
    "\n",
    "def count1(n):\n",
    "    res = 0 \n",
    "    while n!=0:\n",
    "        res += n&1 \n",
    "        n >>=1\n",
    "    return res \n",
    "\n",
    "print(count1(n))"
   ]
  },
  {
   "cell_type": "markdown",
   "id": "80712026",
   "metadata": {},
   "source": [
    "###  通过的写法"
   ]
  },
  {
   "cell_type": "code",
   "execution_count": 4,
   "id": "180503de",
   "metadata": {},
   "outputs": [
    {
     "name": "stdout",
     "output_type": "stream",
     "text": [
      "199\n",
      "5\n"
     ]
    }
   ],
   "source": [
    "n=int(input())\n",
    "if n<0:\n",
    "    n=n&0xffffffff\n",
    "count=0\n",
    "while n!=0:\n",
    "    count+=1\n",
    "    n&=n-1  #这可以每次都去除原数n中，最右边一个0\n",
    "print(count)"
   ]
  },
  {
   "cell_type": "code",
   "execution_count": null,
   "id": "e50723b1",
   "metadata": {},
   "outputs": [],
   "source": []
  }
 ],
 "metadata": {
  "kernelspec": {
   "display_name": "Python 3",
   "language": "python",
   "name": "python3"
  },
  "language_info": {
   "codemirror_mode": {
    "name": "ipython",
    "version": 3
   },
   "file_extension": ".py",
   "mimetype": "text/x-python",
   "name": "python",
   "nbconvert_exporter": "python",
   "pygments_lexer": "ipython3",
   "version": "3.8.8"
  }
 },
 "nbformat": 4,
 "nbformat_minor": 5
}
