{
 "cells": [
  {
   "cell_type": "code",
   "execution_count": 2,
   "id": "c962340f",
   "metadata": {},
   "outputs": [
    {
     "name": "stdout",
     "output_type": "stream",
     "text": [
      "2 -5\n",
      "2\n"
     ]
    }
   ],
   "source": [
    "a,b = list(map(int,input().split()))\n",
    "\n",
    "def flip(n):\n",
    "    return n^1 \n",
    "\n",
    "def sign(n):\n",
    "    return flip(n>>31) & 1 \n",
    "\n",
    "def getMax1(a,b):\n",
    "    c = a- b\n",
    "    scA = sign(c)\n",
    "    scB = flip(scA) \n",
    "    return a*scA + b *scB \n",
    "\n",
    "print(getMax1(a,b))"
   ]
  },
  {
   "cell_type": "markdown",
   "id": "75d9b3fa",
   "metadata": {},
   "source": [
    "###  还有个要考虑空间溢出的问题。暂时没看。"
   ]
  },
  {
   "cell_type": "code",
   "execution_count": null,
   "id": "3cb5ef0b",
   "metadata": {},
   "outputs": [],
   "source": []
  }
 ],
 "metadata": {
  "kernelspec": {
   "display_name": "Python 3",
   "language": "python",
   "name": "python3"
  },
  "language_info": {
   "codemirror_mode": {
    "name": "ipython",
    "version": 3
   },
   "file_extension": ".py",
   "mimetype": "text/x-python",
   "name": "python",
   "nbconvert_exporter": "python",
   "pygments_lexer": "ipython3",
   "version": "3.8.8"
  }
 },
 "nbformat": 4,
 "nbformat_minor": 5
}
