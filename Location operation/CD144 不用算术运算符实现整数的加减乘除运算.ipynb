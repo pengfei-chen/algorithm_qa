{
 "cells": [
  {
   "cell_type": "markdown",
   "id": "2ab55205",
   "metadata": {},
   "source": [
    "###  参考答案"
   ]
  },
  {
   "cell_type": "code",
   "execution_count": null,
   "id": "5449631c",
   "metadata": {},
   "outputs": [],
   "source": [
    "# 加法 \n",
    "def add(a,b):\n",
    "    Sum = a \n",
    "    while b!=0:\n",
    "        Sum = a ^ b\n",
    "        b = (a&b) << 1\n",
    "        a = Sum \n",
    "    return Sum \n",
    "\n",
    "#减法 \n",
    "def negNum(n):\n",
    "    return add(~n ,1)\n",
    "def minus(a,b):\n",
    "    return add(a,negNum(b))\n",
    "\n",
    "# 乘法 \n",
    "def multi(a,b):\n",
    "    res = 0 \n",
    "    while b != 0:\n",
    "        if b & 1 != 0:\n",
    "            res = add(res,a) \n",
    "        a <<= 1 \n",
    "        b >>=1 \n",
    "    return res \n",
    "\n",
    "# 除法 \n",
    "def isNeg(n):\n",
    "    return n < 0 \n",
    "def div(a,b):\n",
    "    x = negNum(a) if isNeg(a) else a \n",
    "    y = negNum(b) if isNeg(b) else b \n",
    "    res = 0 \n",
    "    i = 31 \n",
    "    while i > -1:\n",
    "        if x>>i >= y:\n",
    "            res |= (1 <<i )\n",
    "            x = minus(x, y<<i)\n",
    "        i = minus(i,1)\n",
    "    return negNum(res) if isNeg(a)^isNeg(b) else res \n",
    "\n",
    "\n",
    "\n",
    "# 略去部分"
   ]
  },
  {
   "cell_type": "code",
   "execution_count": null,
   "id": "130c75ee",
   "metadata": {},
   "outputs": [],
   "source": []
  },
  {
   "cell_type": "markdown",
   "id": "b5a1e23b",
   "metadata": {},
   "source": [
    "### 部分AC答案"
   ]
  },
  {
   "cell_type": "code",
   "execution_count": 2,
   "id": "4116829c",
   "metadata": {},
   "outputs": [
    {
     "name": "stdout",
     "output_type": "stream",
     "text": [
      "7 + 8 \n",
      "15\n"
     ]
    }
   ],
   "source": [
    "def add(x,y):\n",
    "    while(y):\n",
    "        temp=x^y\n",
    "        y=(x&y)<<1\n",
    "        x=temp\n",
    "    return x\n",
    "\n",
    "def negative(x):\n",
    "    return add(~x,1)\n",
    "\n",
    "def subtraction(x,y):\n",
    "    if(x<y):\n",
    "        y=negative(y)\n",
    "        return add(x,y)\n",
    "    elif(x==y):\n",
    "        return 0\n",
    "    else:\n",
    "        x=negative(x)\n",
    "        return negative(add(x,y))\n",
    "\n",
    "def multiply(x,y):\n",
    "    c=1 if(x^y<0) else 0\n",
    "    x=negative(x) if(x<0) else x\n",
    "    y=negative(y) if(y<0) else y\n",
    "    temp=0\n",
    "    while(y):\n",
    "        if(y&1):\n",
    "            temp=add(temp,x)\n",
    "        x<<=1\n",
    "        y>>=1\n",
    "    temp=negative(temp) if(c) else temp\n",
    "    return temp\n",
    "\n",
    "def division(x,y):\n",
    "    if(x==0 and y!=0):\n",
    "        return 0\n",
    "    c=1 if(x^y<0) else 0\n",
    "    x=negative(x) if(x<0) else x\n",
    "    y=negative(y) if(y<0) else y\n",
    "    if(x<y and y!=0):\n",
    "        return 0\n",
    "    temp=0\n",
    "    while(x>=y):\n",
    "        trial=y\n",
    "        t=1\n",
    "        while((trial<<1)<=x and (trial<<1)>0):\n",
    "            t<<=1\n",
    "            trial<<=1\n",
    "        temp=add(temp,t)\n",
    "        x=subtraction(x,trial)\n",
    "    temp=negative(temp) if(c) else temp\n",
    "    return temp\n",
    "\n",
    "ls=input().strip().split()\n",
    "x=int(ls[0])\n",
    "y=int(ls[2])\n",
    "o=ls[1]\n",
    "if '+' in o:\n",
    "    print(add(x,y))\n",
    "elif '-' in o:\n",
    "    print(subtraction(x,y))\n",
    "elif '*' in o:\n",
    "    print(multiply(x,y))\n",
    "elif '/' in o or '\\\\' in o:\n",
    "    print(division(x,y))"
   ]
  },
  {
   "cell_type": "code",
   "execution_count": null,
   "id": "ed73e3ae",
   "metadata": {},
   "outputs": [],
   "source": []
  }
 ],
 "metadata": {
  "kernelspec": {
   "display_name": "Python 3",
   "language": "python",
   "name": "python3"
  },
  "language_info": {
   "codemirror_mode": {
    "name": "ipython",
    "version": 3
   },
   "file_extension": ".py",
   "mimetype": "text/x-python",
   "name": "python",
   "nbconvert_exporter": "python",
   "pygments_lexer": "ipython3",
   "version": "3.8.8"
  }
 },
 "nbformat": 4,
 "nbformat_minor": 5
}
