{
 "cells": [
  {
   "cell_type": "code",
   "execution_count": 1,
   "id": "8670cbe8",
   "metadata": {},
   "outputs": [
    {
     "name": "stdout",
     "output_type": "stream",
     "text": [
      "10 1\n",
      "1 2 3\n",
      "2 4 5\n",
      "4 8 9\n",
      "8 0 0\n",
      "9 0 0\n",
      "5 10 0\n",
      "10 0 0\n",
      "3 6 7\n",
      "6 0 0\n",
      "7 0 0\n",
      "4 2\n",
      "2 4 5\n",
      "5 0 0\n",
      "4 8 0\n",
      "8 0 0\n",
      "true\n"
     ]
    }
   ],
   "source": [
    "class Node:\n",
    "    def __init__(self,x):\n",
    "        self.v = x \n",
    "        self.left = None \n",
    "        self.right = None \n",
    "        \n",
    "\n",
    "def check(h,t2):\n",
    "    if not t2:\n",
    "        return True \n",
    "    if not h or h.v != t2.v:\n",
    "        return False \n",
    "    return check(h.left, t2.left) and check(h.right, t2.right)\n",
    "        \n",
    "def contains(t1,t2):\n",
    "    if not t1:\n",
    "        return False\n",
    "    return check(t1,t2) or contains(t1.left, t2) or contains(t1.right, t2)\n",
    "\n",
    "# 根据输入构造树 \n",
    "n,r = input().split(' ')\n",
    "root = Node(r) \n",
    "node_dict = dict()\n",
    "node_dict[r] = root \n",
    "for i in range(int(n)):\n",
    "    fa,lch,rch = input().split(' ')\n",
    "    if lch!='0':\n",
    "        node_dict[lch] = Node(lch)\n",
    "        node_dict[fa].left = node_dict[lch]\n",
    "    if rch !='0':\n",
    "        node_dict[rch] = Node(rch)\n",
    "        node_dict[fa].right = node_dict[rch]\n",
    "\n",
    "n2,r2 = input().split(' ')\n",
    "root2 = Node(r2) \n",
    "node_dict2 = dict()\n",
    "node_dict2[r2] = root2 \n",
    "for i in range(int(n2)):\n",
    "    fa,lch,rch = input().split(' ')\n",
    "    if lch!='0':\n",
    "        node_dict2[lch] = Node(lch)\n",
    "        node_dict2[fa].left = node_dict2[lch]\n",
    "    if rch !='0':\n",
    "        node_dict2[rch] = Node(rch)\n",
    "        node_dict2[fa].right = node_dict2[rch]\n",
    "        \n",
    "ans = contains(root,root2)\n",
    "print(\"true\" if ans else \"false\")"
   ]
  },
  {
   "cell_type": "code",
   "execution_count": null,
   "id": "b33fd255",
   "metadata": {},
   "outputs": [],
   "source": []
  }
 ],
 "metadata": {
  "kernelspec": {
   "display_name": "Python 3",
   "language": "python",
   "name": "python3"
  },
  "language_info": {
   "codemirror_mode": {
    "name": "ipython",
    "version": 3
   },
   "file_extension": ".py",
   "mimetype": "text/x-python",
   "name": "python",
   "nbconvert_exporter": "python",
   "pygments_lexer": "ipython3",
   "version": "3.8.3"
  }
 },
 "nbformat": 4,
 "nbformat_minor": 5
}
