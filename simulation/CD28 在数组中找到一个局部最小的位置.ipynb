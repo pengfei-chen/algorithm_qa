{
 "cells": [
  {
   "cell_type": "code",
   "execution_count": 1,
   "id": "b8e5e434",
   "metadata": {},
   "outputs": [
    {
     "name": "stdout",
     "output_type": "stream",
     "text": [
      "3\n",
      "2 1 3\n",
      "1\n"
     ]
    }
   ],
   "source": [
    "n = int(input())\n",
    "arr = list(map(int,input().split()))\n",
    "\n",
    "def findAreaMin(arr):\n",
    "    if not arr or len(arr)==0:\n",
    "        return -1 \n",
    "    if  len(arr) == 1:\n",
    "        return 0\n",
    "    if arr[0] < arr[1]:\n",
    "        return 0\n",
    "    if arr[len(arr)-1]<arr[len(arr)-1]:\n",
    "        return len(arr)-1 \n",
    "    left = 1 \n",
    "    right = len(arr)-2\n",
    "#     for i in range(1,len(arr)-1):\n",
    "#         if arr[i] < arr[i-1] and arr[i] < arr[i+1]:\n",
    "#             return i\n",
    "    # 改进后的写法\n",
    "    while left < right:\n",
    "        mid = (left + right)//2 \n",
    "        if arr[mid]>arr[mid-1]:\n",
    "            right = mid-1 \n",
    "        elif arr[mid]>arr[mid+1]:\n",
    "            left = mid + 1\n",
    "        else:\n",
    "            return mid \n",
    "    return left \n",
    "            \n",
    "ans = findAreaMin(arr)\n",
    "print(ans)"
   ]
  },
  {
   "cell_type": "code",
   "execution_count": null,
   "id": "bb8f1783",
   "metadata": {},
   "outputs": [],
   "source": []
  }
 ],
 "metadata": {
  "kernelspec": {
   "display_name": "Python 3",
   "language": "python",
   "name": "python3"
  },
  "language_info": {
   "codemirror_mode": {
    "name": "ipython",
    "version": 3
   },
   "file_extension": ".py",
   "mimetype": "text/x-python",
   "name": "python",
   "nbconvert_exporter": "python",
   "pygments_lexer": "ipython3",
   "version": "3.8.8"
  }
 },
 "nbformat": 4,
 "nbformat_minor": 5
}
