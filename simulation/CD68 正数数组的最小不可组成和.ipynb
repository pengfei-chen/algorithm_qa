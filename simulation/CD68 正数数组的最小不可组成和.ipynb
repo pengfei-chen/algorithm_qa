{
 "cells": [
  {
   "cell_type": "code",
   "execution_count": 1,
   "id": "ef3f2cb3",
   "metadata": {},
   "outputs": [
    {
     "name": "stdout",
     "output_type": "stream",
     "text": [
      "3\n",
      "2 3 9\n",
      "4\n"
     ]
    }
   ],
   "source": [
    "n = int(input())\n",
    "arr = list(map(int,input().split()))\n",
    "\n",
    "def process(arr, i, Sum, Set):\n",
    "    if i == len(arr):\n",
    "        Set[Sum] = 1\n",
    "        return \n",
    "    process(arr, i+1, Sum, Set) #包含当前数arr[i]的情况 \n",
    "    process(arr, i+1, Sum+arr[i], Set) #从后往前加的，思路很好！\n",
    "    \n",
    "\n",
    "def unformedSum1(arr):\n",
    "    if not arr or len(arr)==0:\n",
    "        return 1 \n",
    "    Set = dict()\n",
    "    process(arr, 0,0,Set) # 收集所有子集的和 \n",
    "    Min = 10**10\n",
    "    for i in range(len(arr)):\n",
    "        Min = min(Min, arr[i])\n",
    "    for i in range(Min+1, 10**10):\n",
    "        if i not in Set.keys():\n",
    "            return i \n",
    "    return 0 \n",
    "   \n",
    "ans = unformedSum1(arr)\n",
    "print(ans)"
   ]
  },
  {
   "cell_type": "markdown",
   "id": "b0ce91ba",
   "metadata": {},
   "source": [
    "### 动态规划方法"
   ]
  },
  {
   "cell_type": "code",
   "execution_count": 2,
   "id": "74259b9d",
   "metadata": {},
   "outputs": [
    {
     "name": "stdout",
     "output_type": "stream",
     "text": [
      "3\n",
      "2 3 9\n",
      "4\n"
     ]
    }
   ],
   "source": [
    "n = int(input())\n",
    "arr = list(map(int,input().split()))\n",
    "\n",
    "def process(arr, i, Sum, Set):\n",
    "    if i == len(arr):\n",
    "        Set[Sum] = 1\n",
    "        return \n",
    "    process(arr, i+1, Sum, Set) #包含当前数arr[i]的情况 \n",
    "    process(arr, i+1, Sum+arr[i], Set) #从后往前加的，思路很好！\n",
    "    \n",
    "\n",
    "# def unformedSum1(arr):\n",
    "#     if not arr or len(arr)==0:\n",
    "#         return 1 \n",
    "#     Set = dict()\n",
    "#     process(arr, 0,0,Set) # 收集所有子集的和 \n",
    "#     Min = 10**10\n",
    "#     for i in range(len(arr)):\n",
    "#         Min = min(Min, arr[i])\n",
    "#     for i in range(Min+1, 10**10):\n",
    "#         if i not in Set.keys():\n",
    "#             return i \n",
    "#     return 0 \n",
    "\n",
    "def unformedSum2(arr):\n",
    "    if not arr or len(arr)==0:\n",
    "        return 1 \n",
    "    Sum = 0 \n",
    "    Min = 10**10\n",
    "    for i in range(len(arr)):\n",
    "        Sum += arr[i]\n",
    "        Min = min(Min, arr[i])\n",
    "    dp = [False] * (Sum+1)\n",
    "    dp[0] = True \n",
    "    for i in range(len(arr)):\n",
    "        for j in range(Sum,arr[i]-1,-1):\n",
    "            dp[j] = True if dp[j-arr[i]] else dp[j]\n",
    "    for i in range(Min, len(dp)):\n",
    "        if not dp[i]:\n",
    "            return i \n",
    "    return Sum+1\n",
    "\n",
    "ans = unformedSum2(arr)\n",
    "print(ans)"
   ]
  },
  {
   "cell_type": "code",
   "execution_count": null,
   "id": "5cb7b447",
   "metadata": {},
   "outputs": [],
   "source": []
  }
 ],
 "metadata": {
  "kernelspec": {
   "display_name": "Python 3",
   "language": "python",
   "name": "python3"
  },
  "language_info": {
   "codemirror_mode": {
    "name": "ipython",
    "version": 3
   },
   "file_extension": ".py",
   "mimetype": "text/x-python",
   "name": "python",
   "nbconvert_exporter": "python",
   "pygments_lexer": "ipython3",
   "version": "3.8.3"
  }
 },
 "nbformat": 4,
 "nbformat_minor": 5
}
