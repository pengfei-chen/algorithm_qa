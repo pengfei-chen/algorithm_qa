{
 "cells": [
  {
   "cell_type": "markdown",
   "id": "6864e335",
   "metadata": {},
   "source": [
    "###  主要是思路不指点的话，会想不到"
   ]
  },
  {
   "cell_type": "code",
   "execution_count": 1,
   "id": "61b4ac8f",
   "metadata": {},
   "outputs": [
    {
     "name": "stdout",
     "output_type": "stream",
     "text": [
      "5 5\n",
      "abcde\n",
      "cdeab\n",
      "YES\n"
     ]
    }
   ],
   "source": [
    "n,m = list(map(int,input().split()))\n",
    "str1 = input()\n",
    "str2 = input()\n",
    "\n",
    "def isRotation(a, b):\n",
    "    if not a or not b or len(a)==0 or len(b)==0:\n",
    "        return False \n",
    "    if len(a) != len(b):\n",
    "        return False \n",
    "    b2 = b + b \n",
    "    if a in b2:\n",
    "        return True \n",
    "    else:\n",
    "        return False \n",
    "    \n",
    "ans = isRotation(str1, str2)\n",
    "print(\"YES\" if ans else \"NO\")"
   ]
  },
  {
   "cell_type": "code",
   "execution_count": null,
   "id": "e71e6f47",
   "metadata": {},
   "outputs": [],
   "source": []
  }
 ],
 "metadata": {
  "kernelspec": {
   "display_name": "Python 3",
   "language": "python",
   "name": "python3"
  },
  "language_info": {
   "codemirror_mode": {
    "name": "ipython",
    "version": 3
   },
   "file_extension": ".py",
   "mimetype": "text/x-python",
   "name": "python",
   "nbconvert_exporter": "python",
   "pygments_lexer": "ipython3",
   "version": "3.8.3"
  }
 },
 "nbformat": 4,
 "nbformat_minor": 5
}
