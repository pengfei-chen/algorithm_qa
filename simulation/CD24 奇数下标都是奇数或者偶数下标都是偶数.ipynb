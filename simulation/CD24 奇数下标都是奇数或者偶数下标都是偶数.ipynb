{
 "cells": [
  {
   "cell_type": "code",
   "execution_count": 1,
   "id": "995adf98",
   "metadata": {},
   "outputs": [
    {
     "name": "stdout",
     "output_type": "stream",
     "text": [
      "5\n",
      "1 2 3 4 5\n",
      "2 5 3 1 4\n"
     ]
    }
   ],
   "source": [
    "n = int(input())\n",
    "arr = list(map(int,input().split()))\n",
    "\n",
    "def modify(arr):\n",
    "    if not arr or len(arr)<2:\n",
    "        return \n",
    "    even,odd = 0,1 \n",
    "    end = len(arr) - 1\n",
    "    while (even <= end and odd <= end):\n",
    "        if (arr[end]%2==0): #偶数\n",
    "            arr[even],arr[end] = arr[end], arr[even]\n",
    "            even += 2\n",
    "        else:\n",
    "            arr[odd],arr[end] = arr[end],arr[odd] \n",
    "            odd += 2 \n",
    "\n",
    "modify(arr)\n",
    "print(*arr)"
   ]
  },
  {
   "cell_type": "code",
   "execution_count": null,
   "id": "0c7e358e",
   "metadata": {},
   "outputs": [],
   "source": []
  }
 ],
 "metadata": {
  "kernelspec": {
   "display_name": "Python 3",
   "language": "python",
   "name": "python3"
  },
  "language_info": {
   "codemirror_mode": {
    "name": "ipython",
    "version": 3
   },
   "file_extension": ".py",
   "mimetype": "text/x-python",
   "name": "python",
   "nbconvert_exporter": "python",
   "pygments_lexer": "ipython3",
   "version": "3.8.8"
  }
 },
 "nbformat": 4,
 "nbformat_minor": 5
}
