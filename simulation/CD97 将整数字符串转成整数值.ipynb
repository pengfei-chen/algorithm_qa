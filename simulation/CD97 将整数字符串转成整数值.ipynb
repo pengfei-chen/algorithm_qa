{
 "cells": [
  {
   "cell_type": "code",
   "execution_count": 1,
   "id": "41fde679",
   "metadata": {},
   "outputs": [
    {
     "data": {
      "text/plain": [
       "2147483648"
      ]
     },
     "execution_count": 1,
     "metadata": {},
     "output_type": "execute_result"
    }
   ],
   "source": [
    "a = '2147483648'\n",
    "int(a)"
   ]
  },
  {
   "cell_type": "code",
   "execution_count": 4,
   "id": "98d41c1f",
   "metadata": {},
   "outputs": [],
   "source": [
    "float??"
   ]
  },
  {
   "cell_type": "code",
   "execution_count": 11,
   "id": "05edbf45",
   "metadata": {},
   "outputs": [
    {
     "data": {
      "text/plain": [
       "-2147483648"
      ]
     },
     "execution_count": 11,
     "metadata": {},
     "output_type": "execute_result"
    }
   ],
   "source": [
    "-2**31"
   ]
  },
  {
   "cell_type": "code",
   "execution_count": null,
   "id": "f53045a2",
   "metadata": {},
   "outputs": [],
   "source": [
    "2147483648"
   ]
  },
  {
   "cell_type": "code",
   "execution_count": 12,
   "id": "bf2d3a81",
   "metadata": {},
   "outputs": [
    {
     "data": {
      "text/plain": [
       "2147483648"
      ]
     },
     "execution_count": 12,
     "metadata": {},
     "output_type": "execute_result"
    }
   ],
   "source": [
    "2**3"
   ]
  },
  {
   "cell_type": "markdown",
   "id": "b5e0f413",
   "metadata": {},
   "source": [
    "### 32位整数范围 数字范围  -2**31 到 2**31 - 1 "
   ]
  },
  {
   "cell_type": "code",
   "execution_count": 13,
   "id": "0b51e226",
   "metadata": {},
   "outputs": [
    {
     "name": "stdout",
     "output_type": "stream",
     "text": [
      "18y922\n",
      "0\n"
     ]
    }
   ],
   "source": [
    "str1 = input()\n",
    "\n",
    "def isValid(chas):\n",
    "    if chas[0] != '-' and (chas[0] < '0' or chas[0]>'9'):\n",
    "        return False \n",
    "    if chas[0]=='-' and (len(chas)==1 or chas[1]=='0'):\n",
    "        return False \n",
    "    if chas[0]=='0' and len(chas)>1:\n",
    "        return False \n",
    "    for i in range(1,len(chas)):\n",
    "        if chas[i] <'0' or chas[i] > '9':\n",
    "            return False \n",
    "    return True \n",
    "\n",
    "def trans(chas):\n",
    "    if not isValid(chas):\n",
    "        return 0 \n",
    "    try:\n",
    "        ans = int(chas)\n",
    "        if ans >= -2**31 and ans <= 2**31-1:\n",
    "            return ans \n",
    "    except:\n",
    "        return 0\n",
    "    return 0\n",
    "print(trans(str1))"
   ]
  },
  {
   "cell_type": "code",
   "execution_count": null,
   "id": "b3bae0fe",
   "metadata": {},
   "outputs": [],
   "source": []
  }
 ],
 "metadata": {
  "kernelspec": {
   "display_name": "Python 3",
   "language": "python",
   "name": "python3"
  },
  "language_info": {
   "codemirror_mode": {
    "name": "ipython",
    "version": 3
   },
   "file_extension": ".py",
   "mimetype": "text/x-python",
   "name": "python",
   "nbconvert_exporter": "python",
   "pygments_lexer": "ipython3",
   "version": "3.8.3"
  }
 },
 "nbformat": 4,
 "nbformat_minor": 5
}
