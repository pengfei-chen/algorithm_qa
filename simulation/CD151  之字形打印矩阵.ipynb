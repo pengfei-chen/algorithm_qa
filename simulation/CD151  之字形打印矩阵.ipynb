{
 "cells": [
  {
   "cell_type": "code",
   "execution_count": 2,
   "id": "6d1e9444",
   "metadata": {},
   "outputs": [
    {
     "name": "stdout",
     "output_type": "stream",
     "text": [
      "4 4\n",
      "1 2 3 4\n",
      "5 6 7 8\n",
      "9 10 11 12\n",
      "13 14 15 16\n",
      "1 2 5 9 6 3 4 7 10 13 14 11 8 12 15 16 "
     ]
    }
   ],
   "source": [
    "n,m = list(map(int,input().split()))\n",
    "arr = []\n",
    "for i in range(n):\n",
    "    a = list(map(int,input().split()))\n",
    "    arr.append(a)\n",
    "    \n",
    "def printLevel(m, tR,tC,dR,dC,f): #斜着打印一条线上的值\n",
    "    if f: #从右上往左下打印\n",
    "        while tR != dR + 1:\n",
    "            print(m[tR][tC], end=' ')\n",
    "            tR+=1 #行加一\n",
    "            tC-=1 #列减一\n",
    "    else:\n",
    "        while dR!=tR-1: #从左下往右上打印\n",
    "            print(m[dR][dC], end=' ')\n",
    "            dR-=1 #行减一\n",
    "            dC+=1 #列加一\n",
    "\n",
    "def printMatrixZigZag(matrix):\n",
    "    tR,tC,dR,dC = 0,0,0,0 \n",
    "    endR = len(matrix) - 1\n",
    "    endC = len(matrix[0])-1\n",
    "    f = False \n",
    "    while tR != endR + 1:\n",
    "        printLevel(matrix, tR,tC,dR,dC,f) #先从左上往右下打印\n",
    "        tR = tR+1 if tC==endC else tR  # 没有到最后一列，就向右移动\n",
    "        tC = tC if tC==endC else tC+1 \n",
    "        dC = dC + 1 if dR==endR else dC #没有到最后一行，就向下移动\n",
    "        dR = dR if dR==endR else dR + 1\n",
    "        f = not f\n",
    "printMatrixZigZag(arr)\n",
    "        "
   ]
  },
  {
   "cell_type": "code",
   "execution_count": null,
   "id": "5928e92c",
   "metadata": {},
   "outputs": [],
   "source": []
  }
 ],
 "metadata": {
  "kernelspec": {
   "display_name": "Python 3",
   "language": "python",
   "name": "python3"
  },
  "language_info": {
   "codemirror_mode": {
    "name": "ipython",
    "version": 3
   },
   "file_extension": ".py",
   "mimetype": "text/x-python",
   "name": "python",
   "nbconvert_exporter": "python",
   "pygments_lexer": "ipython3",
   "version": "3.8.3"
  }
 },
 "nbformat": 4,
 "nbformat_minor": 5
}
