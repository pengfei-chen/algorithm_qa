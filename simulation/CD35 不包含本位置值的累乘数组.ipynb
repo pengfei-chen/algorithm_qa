{
 "cells": [
  {
   "cell_type": "code",
   "execution_count": 1,
   "id": "91664f89",
   "metadata": {},
   "outputs": [
    {
     "name": "stdout",
     "output_type": "stream",
     "text": [
      "4 100000007\n",
      "2 3 1 4\n",
      "12 8 24 6\n"
     ]
    }
   ],
   "source": [
    "n,mod = list(map(int,input().split()))\n",
    "arr = list(map(int,input().split())) \n",
    "\n",
    "def product1(arr,mod):\n",
    "    if not arr or len(arr)<2:\n",
    "        return \n",
    "    count = 0 \n",
    "    All = 1\n",
    "    for i in range(len(arr)):\n",
    "        if arr[i] != 0:\n",
    "            All = All * arr[i] \n",
    "        else:\n",
    "            count += 1\n",
    "    res = [0] * len(arr)\n",
    "    if count == 0:\n",
    "        for i in range(len(arr)):\n",
    "            res[i] = All // arr[i]\n",
    "            res[i] = res[i] % mod\n",
    "    if count == 1:\n",
    "        for i in range(len(arr)):\n",
    "            if arr[i] == 0:\n",
    "                res[i] = All \n",
    "    return res \n",
    "\n",
    "ans = product1(arr,mod)\n",
    "print(*ans)"
   ]
  },
  {
   "cell_type": "code",
   "execution_count": 2,
   "id": "3f8a1a5a",
   "metadata": {},
   "outputs": [
    {
     "name": "stdout",
     "output_type": "stream",
     "text": [
      " 4 100000007\n",
      "2 3 1 4\n",
      "12 8 24 6\n"
     ]
    }
   ],
   "source": [
    "n,mod = list(map(int,input().split()))\n",
    "arr = list(map(int,input().split())) \n",
    "\n",
    "# def product1(arr,mod):\n",
    "#     if not arr or len(arr)<2:\n",
    "#         return \n",
    "#     count = 0 \n",
    "#     All = 1\n",
    "#     for i in range(len(arr)):\n",
    "#         if arr[i] != 0:\n",
    "#             All = All * arr[i] \n",
    "#         else:\n",
    "#             count += 1\n",
    "#     res = [0] * len(arr)\n",
    "#     if count == 0:\n",
    "#         for i in range(len(arr)):\n",
    "#             res[i] = All // arr[i]\n",
    "#             res[i] = res[i] % mod\n",
    "#     if count == 1:\n",
    "#         for i in range(len(arr)):\n",
    "#             if arr[i] == 0:\n",
    "#                 res[i] = All \n",
    "#     return res \n",
    "\n",
    "def product2(arr,mod):\n",
    "    if not arr or len(arr)<2:\n",
    "        return \n",
    "    res = [0] * len(arr)\n",
    "    res[0] = arr[0]\n",
    "    length = len(arr)\n",
    "    for i in range(1, length):\n",
    "        res[i] = (res[i-1] * arr[i] ) % mod\n",
    "    tmp = 1 #右边的连乘\n",
    "    for i in range(length-1, 0, -1):\n",
    "        res[i] = (res[i-1] * tmp ) % mod\n",
    "        tmp = (tmp * arr[i])  % mod  #居然是这里占用了很多时间。。\n",
    "    res[0] = tmp \n",
    "    return res \n",
    "    \n",
    "\n",
    "ans = product2(arr,mod)\n",
    "print(*ans)"
   ]
  },
  {
   "cell_type": "code",
   "execution_count": null,
   "id": "b60938d6",
   "metadata": {},
   "outputs": [],
   "source": []
  }
 ],
 "metadata": {
  "kernelspec": {
   "display_name": "Python 3",
   "language": "python",
   "name": "python3"
  },
  "language_info": {
   "codemirror_mode": {
    "name": "ipython",
    "version": 3
   },
   "file_extension": ".py",
   "mimetype": "text/x-python",
   "name": "python",
   "nbconvert_exporter": "python",
   "pygments_lexer": "ipython3",
   "version": "3.8.3"
  }
 },
 "nbformat": 4,
 "nbformat_minor": 5
}
