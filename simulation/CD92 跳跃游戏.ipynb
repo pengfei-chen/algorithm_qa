{
 "cells": [
  {
   "cell_type": "code",
   "execution_count": 1,
   "id": "17228fc6",
   "metadata": {},
   "outputs": [
    {
     "name": "stdout",
     "output_type": "stream",
     "text": [
      "6\n",
      "3 2 3 1 1 4\n",
      "2\n"
     ]
    }
   ],
   "source": [
    "n = int(input())\n",
    "arr = list(map(int,input().split()))\n",
    "\n",
    "def jump(arr):\n",
    "    if not arr or len(arr)==0:\n",
    "        return 0 \n",
    "    jump,cur,Next = 0 , 0, 0\n",
    "    i = 0\n",
    "    length = len(arr)\n",
    "    while i <length:\n",
    "        if cur < i:\n",
    "            jump += 1 \n",
    "            cur = Next \n",
    "        Next = max(Next, i+arr[i])\n",
    "        i += 1\n",
    "    return jump \n",
    "\n",
    "print(jump(arr))"
   ]
  },
  {
   "cell_type": "code",
   "execution_count": null,
   "id": "74eef29d",
   "metadata": {},
   "outputs": [],
   "source": []
  }
 ],
 "metadata": {
  "kernelspec": {
   "display_name": "Python 3",
   "language": "python",
   "name": "python3"
  },
  "language_info": {
   "codemirror_mode": {
    "name": "ipython",
    "version": 3
   },
   "file_extension": ".py",
   "mimetype": "text/x-python",
   "name": "python",
   "nbconvert_exporter": "python",
   "pygments_lexer": "ipython3",
   "version": "3.8.3"
  }
 },
 "nbformat": 4,
 "nbformat_minor": 5
}
