{
 "cells": [
  {
   "cell_type": "markdown",
   "id": "dffd2bd0",
   "metadata": {},
   "source": [
    "###  空间O（n）的解法，O（1）的暂时没想到"
   ]
  },
  {
   "cell_type": "code",
   "execution_count": 1,
   "id": "7e3f5180",
   "metadata": {},
   "outputs": [
    {
     "name": "stdout",
     "output_type": "stream",
     "text": [
      "7 3\n",
      "5 4 1 1 5 1 5\n",
      "4\n"
     ]
    }
   ],
   "source": [
    "n,k = list(map(int,input().split()))\n",
    "arr = list(map(int,input().split())) \n",
    "\n",
    "def findOnce(arr,n):\n",
    "    Dic = dict()\n",
    "    for i in arr:\n",
    "        if Dic.get(i,0) == 0:\n",
    "            Dic[i] = 1\n",
    "        else:\n",
    "            Dic[i] += 1\n",
    "    for k,v in Dic.items():\n",
    "        if v == 1:\n",
    "            return k \n",
    "        \n",
    "print(findOnce(arr,n))"
   ]
  },
  {
   "cell_type": "code",
   "execution_count": null,
   "id": "32058bdd",
   "metadata": {},
   "outputs": [],
   "source": []
  }
 ],
 "metadata": {
  "kernelspec": {
   "display_name": "Python 3",
   "language": "python",
   "name": "python3"
  },
  "language_info": {
   "codemirror_mode": {
    "name": "ipython",
    "version": 3
   },
   "file_extension": ".py",
   "mimetype": "text/x-python",
   "name": "python",
   "nbconvert_exporter": "python",
   "pygments_lexer": "ipython3",
   "version": "3.8.3"
  }
 },
 "nbformat": 4,
 "nbformat_minor": 5
}
