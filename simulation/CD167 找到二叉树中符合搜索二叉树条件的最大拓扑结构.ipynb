{
 "cells": [
  {
   "cell_type": "code",
   "execution_count": 1,
   "id": "794c259f",
   "metadata": {},
   "outputs": [
    {
     "name": "stdout",
     "output_type": "stream",
     "text": [
      "3 2\n",
      "2 1 3\n",
      "1 0 0\n",
      "3 0 0\n",
      "3\n"
     ]
    }
   ],
   "source": [
    "class Node:\n",
    "    def __init__(self,x):\n",
    "        self.v = x \n",
    "        self.left = None \n",
    "        self.right = None \n",
    "        \n",
    "# 根据输入构造二叉树 \n",
    "n,r = list(map(int,input().split()))\n",
    "root = Node(r)\n",
    "node_dict = dict()\n",
    "node_dict[r] = root \n",
    "for i in range(int(n)):\n",
    "    fa,lch,rch = list(map(int,input().split()))\n",
    "    if lch != 0:\n",
    "        node_dict[lch] = Node(lch)\n",
    "        node_dict[fa].left = node_dict[lch]\n",
    "    if rch != 0:\n",
    "        node_dict[rch] = Node(rch)\n",
    "        node_dict[fa].right = node_dict[rch]\n",
    "\n",
    "def isBSTNode(h, n, v):\n",
    "    if not h :\n",
    "        return False \n",
    "    if h==n:\n",
    "        return True \n",
    "    return isBSTNode(h.left if h.v > v else h.right , n, v)\n",
    "        \n",
    "def maxTopo(h,n):\n",
    "    if h and n and isBSTNode(h,n,n.v):\n",
    "        return maxTopo(h, n.left) + maxTopo(h, n.right) + 1\n",
    "    return 0\n",
    "        \n",
    "def bstTopoSize1(head):\n",
    "    if not head:\n",
    "        return 0\n",
    "    Max = maxTopo(head,head)\n",
    "    Max = max(bstTopoSize1(head.left), Max)\n",
    "    Max = max(bstTopoSize1(head.right), Max)\n",
    "    return Max\n",
    "\n",
    "print(bstTopoSize1(root))"
   ]
  },
  {
   "cell_type": "markdown",
   "id": "0417b434",
   "metadata": {},
   "source": [
    "### 目前状态，能看懂，但自己可能实现不出来。"
   ]
  },
  {
   "cell_type": "code",
   "execution_count": null,
   "id": "94e81950",
   "metadata": {},
   "outputs": [],
   "source": []
  }
 ],
 "metadata": {
  "kernelspec": {
   "display_name": "Python 3",
   "language": "python",
   "name": "python3"
  },
  "language_info": {
   "codemirror_mode": {
    "name": "ipython",
    "version": 3
   },
   "file_extension": ".py",
   "mimetype": "text/x-python",
   "name": "python",
   "nbconvert_exporter": "python",
   "pygments_lexer": "ipython3",
   "version": "3.8.8"
  }
 },
 "nbformat": 4,
 "nbformat_minor": 5
}
