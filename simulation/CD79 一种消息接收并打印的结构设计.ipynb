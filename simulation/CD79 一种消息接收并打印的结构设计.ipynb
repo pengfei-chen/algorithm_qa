{
 "cells": [
  {
   "cell_type": "code",
   "execution_count": 1,
   "id": "6a95c888",
   "metadata": {},
   "outputs": [
    {
     "name": "stdout",
     "output_type": "stream",
     "text": [
      "9\n",
      "2 1 4 5 7 3 9 8 6\n",
      "1 1\n",
      "2 1\n"
     ]
    }
   ],
   "source": [
    "class Node:\n",
    "    def __init__(self,num):\n",
    "        self.num = num \n",
    "        self.next = None \n",
    "        \n",
    "class MessageBox:\n",
    "    def __init__(self):\n",
    "        self.headMap = dict()\n",
    "        self.tailMap = dict()\n",
    "        self.lastPrint = 0 \n",
    "\n",
    "    def Print(self,lastPrint,headMap,tailMap):\n",
    "        lastPrint += 1 \n",
    "        node = headMap[lastPrint] \n",
    "        headMap.pop(lastPrint)\n",
    "        v = node.num  #当前打印时的 第一个元素\n",
    "        while node:\n",
    "            print(node.num, v)\n",
    "            node = node.next \n",
    "            lastPrint += 1 \n",
    "        lastPrint -= 1\n",
    "        tailMap.pop(lastPrint)\n",
    "\n",
    "    def receive(self,num):\n",
    "        if num < 1:\n",
    "            return \n",
    "        cur = Node(num)\n",
    "        self.headMap[num] = cur \n",
    "        self.tailMap[num] = cur \n",
    "        if (num-1) in self.tailMap.keys():\n",
    "            self.tailMap[num-1].next = cur \n",
    "            self.tailMap.pop(num-1)\n",
    "            self.headMap.pop(num) \n",
    "        if (num+1) in self.headMap.keys():\n",
    "            cur.next = self.headMap[num+1]\n",
    "            self.tailMap.pop(num) \n",
    "            self.headMap.pop(num+1)\n",
    "        if (self.lastPrint + 1) in self.headMap.keys():\n",
    "            self.Print(self.lastPrint, self.headMap, self.tailMap)\n",
    "    \n",
    "n = int(input())\n",
    "arr = list(map(int,input().split()))\n",
    "fun = MessageBox()\n",
    "for i in arr:\n",
    "    fun.receive(i)"
   ]
  },
  {
   "cell_type": "code",
   "execution_count": 2,
   "id": "640ba0ca",
   "metadata": {},
   "outputs": [
    {
     "name": "stdout",
     "output_type": "stream",
     "text": [
      "9\n",
      "2 1 4 5 7 3 9 8 6\n",
      "1 1\n",
      "2 1\n",
      "3 3\n",
      "4 3\n",
      "5 3\n",
      "6 6\n",
      "7 6\n",
      "8 6\n",
      "9 6\n"
     ]
    }
   ],
   "source": [
    "class Node:\n",
    "    def __init__(self,num):\n",
    "        self.num = num \n",
    "        self.next = None \n",
    "        \n",
    "class MessageBox:\n",
    "    def __init__(self):\n",
    "        self.headMap = dict()\n",
    "        self.tailMap = dict()\n",
    "        self.lastPrint = 0 \n",
    "\n",
    "    def Print(self):\n",
    "        self.lastPrint += 1 \n",
    "        node = self.headMap[self.lastPrint] \n",
    "        self.headMap.pop(self.lastPrint)\n",
    "        v = node.num  #当前打印时的 第一个元素\n",
    "        while node:\n",
    "            print(node.num, v)\n",
    "            node = node.next \n",
    "            self.lastPrint += 1 \n",
    "        self.lastPrint -= 1\n",
    "        self.tailMap.pop(self.lastPrint)\n",
    "\n",
    "    def receive(self,num):\n",
    "        if num < 1:\n",
    "            return \n",
    "        cur = Node(num)\n",
    "        self.headMap[num] = cur \n",
    "        self.tailMap[num] = cur \n",
    "        if (num-1) in self.tailMap.keys():\n",
    "            self.tailMap[num-1].next = cur \n",
    "            self.tailMap.pop(num-1)\n",
    "            self.headMap.pop(num) \n",
    "        if (num+1) in self.headMap.keys():\n",
    "            cur.next = self.headMap[num+1]\n",
    "            self.tailMap.pop(num) \n",
    "            self.headMap.pop(num+1)\n",
    "        if (self.lastPrint + 1) in self.headMap.keys():\n",
    "            self.Print()\n",
    "    \n",
    "    def getAns(self,arr):\n",
    "        i = 0\n",
    "        while i < len(arr):\n",
    "            self.receive(arr[i])\n",
    "            i += 1 \n",
    "        \n",
    "n = int(input())\n",
    "arr = list(map(int,input().split()))\n",
    "fun = MessageBox()\n",
    "fun.getAns(arr)"
   ]
  },
  {
   "cell_type": "markdown",
   "id": "93098cdc",
   "metadata": {},
   "source": [
    "###  教训，类方法里面，变量调用，不要传参数，统一用类方法。"
   ]
  },
  {
   "cell_type": "code",
   "execution_count": null,
   "id": "76243d1c",
   "metadata": {},
   "outputs": [],
   "source": []
  }
 ],
 "metadata": {
  "kernelspec": {
   "display_name": "Python 3",
   "language": "python",
   "name": "python3"
  },
  "language_info": {
   "codemirror_mode": {
    "name": "ipython",
    "version": 3
   },
   "file_extension": ".py",
   "mimetype": "text/x-python",
   "name": "python",
   "nbconvert_exporter": "python",
   "pygments_lexer": "ipython3",
   "version": "3.8.3"
  }
 },
 "nbformat": 4,
 "nbformat_minor": 5
}
