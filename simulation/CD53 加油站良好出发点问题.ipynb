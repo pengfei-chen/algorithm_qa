{
 "cells": [
  {
   "cell_type": "code",
   "execution_count": 1,
   "id": "3504b3d6",
   "metadata": {},
   "outputs": [
    {
     "name": "stdout",
     "output_type": "stream",
     "text": [
      "9\n",
      "4 2 0 4 5 2 3 6 2 \n",
      "6 1 3 1 6 4 1 1 6\n",
      "0 0 0 0 0 0 0 0 0\n"
     ]
    }
   ],
   "source": [
    "n = int(input())\n",
    "oil = list(map(int,input().split()))\n",
    "dil = list(map(int,input().split())) \n",
    "\n",
    "def judgeGoodStart(oil,dil):\n",
    "    a = [x-y for x,y in zip(oil,dil)]\n",
    "    if sum(a) < 0:\n",
    "        return [0] * len(oil)\n",
    "    if all(x>=0 for x in a):\n",
    "        return [1] * len(oil)\n",
    "    ret = [0] * len(oil) #默认为0，不满足则不改为1\n",
    "    start,total = 0,0 \n",
    "    for i in range(len(a)):\n",
    "        total += a[i]\n",
    "        if total < 0: #重置total\n",
    "            total = 0 \n",
    "            start = i + 1 #start点对应的点，其之前的total为0\n",
    "    total_2 = 0 \n",
    "    ret[start] = 1  # 上述计算后，起点处是可以的 \n",
    "    for i in range(1,len(a)):\n",
    "        total_2 += a[start-i] #从起点处往回退，\n",
    "#         if total_2 >=0 and a[start-i] >= 0: 这条命令是有一点问题的。\n",
    "        # a[start-i] >= 0  感觉并不需要 \n",
    "        if total_2 >=0:\n",
    "            #如果起点处可以走通，而你到起点处是可以走通的，那么你也可以走通。\n",
    "            ret[start-i] = 1 \n",
    "            total_2 = 0 \n",
    "    return ret\n",
    "\n",
    "ans = judgeGoodStart(oil,dil)\n",
    "print(*ans)"
   ]
  },
  {
   "cell_type": "code",
   "execution_count": null,
   "id": "06f1df11",
   "metadata": {},
   "outputs": [],
   "source": []
  }
 ],
 "metadata": {
  "kernelspec": {
   "display_name": "Python 3",
   "language": "python",
   "name": "python3"
  },
  "language_info": {
   "codemirror_mode": {
    "name": "ipython",
    "version": 3
   },
   "file_extension": ".py",
   "mimetype": "text/x-python",
   "name": "python",
   "nbconvert_exporter": "python",
   "pygments_lexer": "ipython3",
   "version": "3.8.3"
  }
 },
 "nbformat": 4,
 "nbformat_minor": 5
}
