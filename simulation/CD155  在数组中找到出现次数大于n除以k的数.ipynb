{
 "cells": [
  {
   "cell_type": "code",
   "execution_count": 2,
   "id": "877558d8",
   "metadata": {},
   "outputs": [
    {
     "data": {
      "text/plain": [
       "2"
      ]
     },
     "execution_count": 2,
     "metadata": {},
     "output_type": "execute_result"
    }
   ],
   "source": [
    "a = {1:1,2:2}\n",
    "len(a)"
   ]
  },
  {
   "cell_type": "code",
   "execution_count": 5,
   "id": "2c64bb08",
   "metadata": {},
   "outputs": [
    {
     "data": {
      "text/plain": [
       "177"
      ]
     },
     "execution_count": 5,
     "metadata": {},
     "output_type": "execute_result"
    }
   ],
   "source": [
    "7094 // 40"
   ]
  },
  {
   "cell_type": "code",
   "execution_count": 13,
   "id": "f6cb0fc2",
   "metadata": {},
   "outputs": [
    {
     "name": "stdout",
     "output_type": "stream",
     "text": [
      "7 7\n",
      "1 2 3 1 2 3 4\n",
      "1 2 3\n"
     ]
    }
   ],
   "source": [
    "n,k = list(map(int,input().split()))\n",
    "arr = list(map(int,input().split()))\n",
    "\n",
    "\n",
    "def allCandsMinusOne(Map):\n",
    "    # 会报这个错误 RuntimeError: dictionary changed size during iteration\n",
    "    removeList = []\n",
    "    for key,val in Map.items():\n",
    "        if val == 1:\n",
    "            removeList.append(key)\n",
    "        else:\n",
    "            Map[key] -= 1\n",
    "    for key in removeList:\n",
    "        Map.pop(key)\n",
    "\n",
    "def getReals(arr, cands):\n",
    "    reals = dict()\n",
    "    leng = len(arr)\n",
    "    for i in range(leng):\n",
    "        curNum = arr[i]\n",
    "        if curNum in cands.keys():\n",
    "            if curNum in reals.keys():\n",
    "                reals[curNum] += 1\n",
    "            else:\n",
    "                reals[curNum] = 1\n",
    "    return reals\n",
    "\n",
    "def printKMajor(arr,k):\n",
    "    cands = dict()\n",
    "    length = len(arr)\n",
    "    for i in range(length):\n",
    "        if arr[i] in cands.keys():\n",
    "            cands[arr[i]] += 1\n",
    "        else:\n",
    "            if len(cands) == k-1:\n",
    "                allCandsMinusOne(cands)\n",
    "            else:\n",
    "                cands[arr[i]] = 1 \n",
    "    reals = getReals(arr, cands)\n",
    "    hasPrint = False \n",
    "    ans = []\n",
    "    for key,val in cands.items():\n",
    "        if reals[key] > length / k:\n",
    "            hasPrint = True\n",
    "            ans.append(key)\n",
    "    return ans \n",
    "\n",
    "ans = printKMajor(arr,k)\n",
    "if len(ans) == 0:\n",
    "    print(\"-1\")\n",
    "else:\n",
    "    print(' '.join(str(i) for i in ans))  "
   ]
  },
  {
   "cell_type": "markdown",
   "id": "fc242250",
   "metadata": {},
   "source": [
    "### 常规字典方法"
   ]
  },
  {
   "cell_type": "code",
   "execution_count": null,
   "id": "1f57b4e8",
   "metadata": {},
   "outputs": [],
   "source": [
    "n,k = list(map(int,input().split()))\n",
    "arr = list(map(int,input().split()))\n",
    "\n",
    "def printKMajor(arr,n,k):\n",
    "    if k < 2:        # 这里是一步坑！\n",
    "        return [-1]\n",
    "    Dic = dict()\n",
    "    for i in arr:\n",
    "        if Dic.get(i,0) == 0:\n",
    "            Dic[i] = 1\n",
    "        else:\n",
    "            Dic[i] += 1\n",
    "    ans = []\n",
    "    for key,val in Dic.items():\n",
    "        if val > n//k:\n",
    "            ans.append(key)\n",
    "    return ans \n",
    "\n",
    "ans = printKMajor(arr,n,k)\n",
    "print(*ans)"
   ]
  },
  {
   "cell_type": "markdown",
   "id": "ba7ce88f",
   "metadata": {},
   "source": [
    "### 修改"
   ]
  },
  {
   "cell_type": "code",
   "execution_count": null,
   "id": "3fea5216",
   "metadata": {},
   "outputs": [],
   "source": [
    "n,k = list(map(int,input().split()))\n",
    "arr = list(map(int,input().split()))\n",
    "\n",
    "def printKMajor(arr,n,k):\n",
    "    Dic = dict()\n",
    "    length = len(arr)\n",
    "    for i in range(length):\n",
    "        if arr[i] not in Dic:\n",
    "            Dic[arr[i]] = 1\n",
    "        else:\n",
    "            Dic[arr[i]] += 1\n",
    "    ans = []\n",
    "    for key,val in Dic.items():\n",
    "        if val > n//k:\n",
    "            ans.append(key)\n",
    "    return ans \n",
    "\n",
    "ans = printKMajor(arr,n,k)\n",
    "print(*ans)"
   ]
  },
  {
   "cell_type": "code",
   "execution_count": 14,
   "id": "1caf680e",
   "metadata": {},
   "outputs": [
    {
     "data": {
      "text/plain": [
       "Counter({1: 1, 2: 1, 3: 1, 4: 1, 5: 1, 6: 1})"
      ]
     },
     "execution_count": 14,
     "metadata": {},
     "output_type": "execute_result"
    }
   ],
   "source": [
    "import collections\n",
    "\n",
    "a = [1,2,3,4,5,6]\n",
    "b = collections.Counter(a)\n",
    "b"
   ]
  },
  {
   "cell_type": "code",
   "execution_count": 15,
   "id": "6a1e98b9",
   "metadata": {},
   "outputs": [
    {
     "data": {
      "text/plain": [
       "collections.Counter"
      ]
     },
     "execution_count": 15,
     "metadata": {},
     "output_type": "execute_result"
    }
   ],
   "source": [
    "type(b)"
   ]
  },
  {
   "cell_type": "code",
   "execution_count": null,
   "id": "4d1f3074",
   "metadata": {},
   "outputs": [],
   "source": []
  }
 ],
 "metadata": {
  "kernelspec": {
   "display_name": "Python 3",
   "language": "python",
   "name": "python3"
  },
  "language_info": {
   "codemirror_mode": {
    "name": "ipython",
    "version": 3
   },
   "file_extension": ".py",
   "mimetype": "text/x-python",
   "name": "python",
   "nbconvert_exporter": "python",
   "pygments_lexer": "ipython3",
   "version": "3.8.3"
  }
 },
 "nbformat": 4,
 "nbformat_minor": 5
}
