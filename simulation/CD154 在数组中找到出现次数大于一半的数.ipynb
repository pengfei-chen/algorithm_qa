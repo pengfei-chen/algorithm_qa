{
 "cells": [
  {
   "cell_type": "code",
   "execution_count": 1,
   "id": "d1c3d00a",
   "metadata": {},
   "outputs": [
    {
     "name": "stdout",
     "output_type": "stream",
     "text": [
      "5\n",
      "11 7 5 7 7\n",
      "7\n"
     ]
    }
   ],
   "source": [
    "n = int(input())\n",
    "arr = list(map(int,input().split()))\n",
    "\n",
    "def printHalfMajor(arr):\n",
    "    cand, times = 0,0 \n",
    "    length = len(arr)\n",
    "    for i in range(length): # 每次筛除掉两个不同的数，牛皮的逻辑\n",
    "        if times == 0:\n",
    "            cand = arr[i]\n",
    "            times = 1 \n",
    "        elif arr[i]==cand:\n",
    "            times += 1\n",
    "        else:\n",
    "            times -= 1\n",
    "    times = 0\n",
    "    for i in range(length):  # 检验是否真的出现次数在一半以上，解决上一个 for循环中，对于1 2 3这样数据的缺陷\n",
    "        if arr[i]==cand:\n",
    "            times += 1\n",
    "    if times > length//2:\n",
    "        print(cand) \n",
    "    else:\n",
    "        print(\"-1\")\n",
    "        \n",
    "printHalfMajor(arr)"
   ]
  },
  {
   "cell_type": "code",
   "execution_count": null,
   "id": "ef0f98cd",
   "metadata": {},
   "outputs": [],
   "source": []
  }
 ],
 "metadata": {
  "kernelspec": {
   "display_name": "Python 3",
   "language": "python",
   "name": "python3"
  },
  "language_info": {
   "codemirror_mode": {
    "name": "ipython",
    "version": 3
   },
   "file_extension": ".py",
   "mimetype": "text/x-python",
   "name": "python",
   "nbconvert_exporter": "python",
   "pygments_lexer": "ipython3",
   "version": "3.8.3"
  }
 },
 "nbformat": 4,
 "nbformat_minor": 5
}
