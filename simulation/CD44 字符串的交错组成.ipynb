{
 "cells": [
  {
   "cell_type": "code",
   "execution_count": 1,
   "id": "6362e802",
   "metadata": {},
   "outputs": [
    {
     "name": "stdout",
     "output_type": "stream",
     "text": [
      "AB\n",
      "12\n",
      "1AB2\n",
      "YES\n"
     ]
    }
   ],
   "source": [
    "str1 = input()\n",
    "str2 = input()\n",
    "aim = input()\n",
    "flag1 = True\n",
    "i, j = 0, 0\n",
    "while j < len(str1):\n",
    "    if str1[j] == aim[i]:\n",
    "        i += 1\n",
    "        j += 1\n",
    "    else:\n",
    "        i += 1\n",
    "    if i == len(aim) and j < len(str1):\n",
    "        flag1 = False\n",
    "        break\n",
    "flag2 = True\n",
    "i, j = 0, 0\n",
    "while j < len(str2):\n",
    "    if str2[j] == aim[i]:\n",
    "        i += 1\n",
    "        j += 1\n",
    "    else:\n",
    "        i += 1\n",
    "    if i == len(aim) and j < len(str2):\n",
    "        flag2 = False\n",
    "        break\n",
    "if flag1 and flag2:\n",
    "    print('YES')\n",
    "else:\n",
    "    print('NO')"
   ]
  },
  {
   "cell_type": "code",
   "execution_count": null,
   "id": "e8a4888f",
   "metadata": {},
   "outputs": [],
   "source": [
    "str1 = input()\n",
    "str2 = input()\n",
    "aim = input()\n",
    "\n",
    "def judgeString(str1,str2,aim):\n",
    "    if len(str1) + len(str2) != len(aim):\n",
    "        print(\"NO\")\n",
    "        return  # 结束方法\n",
    "    flag1 = True \n",
    "    i,j = 0,0 \n",
    "    while j < len(str1):\n",
    "        if str1[j] == aim[i]:\n",
    "            i+=1\n",
    "            j+=1\n",
    "        else:\n",
    "            i+=1\n",
    "        if i==len(aim) and j < len(str1): # aim字符串已经走完了，str1还有字符不在aim里面\n",
    "            flag1 = False \n",
    "            break \n",
    "    flag2 = True \n",
    "    i,j = 0,0 \n",
    "    while j < len(str2):\n",
    "        if str2[j] == aim[i]:\n",
    "            i += 1\n",
    "            j += 1\n",
    "        else:\n",
    "            i += 1\n",
    "        if i == len(aim) and j < len(str2):\n",
    "            flag2 = False \n",
    "            break \n",
    "    if flag1 and flag2:\n",
    "        print(\"YES\")\n",
    "    else:\n",
    "        print(\"NO\")\n",
    "        \n",
    "judgeString(str1,str2,aim)"
   ]
  }
 ],
 "metadata": {
  "kernelspec": {
   "display_name": "Python 3",
   "language": "python",
   "name": "python3"
  },
  "language_info": {
   "codemirror_mode": {
    "name": "ipython",
    "version": 3
   },
   "file_extension": ".py",
   "mimetype": "text/x-python",
   "name": "python",
   "nbconvert_exporter": "python",
   "pygments_lexer": "ipython3",
   "version": "3.8.3"
  }
 },
 "nbformat": 4,
 "nbformat_minor": 5
}
