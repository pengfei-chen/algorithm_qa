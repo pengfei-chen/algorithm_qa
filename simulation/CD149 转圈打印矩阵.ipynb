{
 "cells": [
  {
   "cell_type": "code",
   "execution_count": 1,
   "id": "fbc90450",
   "metadata": {},
   "outputs": [
    {
     "name": "stdout",
     "output_type": "stream",
     "text": [
      "4 4\n",
      "1 2 3 4\n",
      "5 6 7 8\n",
      "9 10 11 12\n",
      "13 14 15 16\n",
      "1 2 3 4 8 12 16 15 14 13 9 5 6 7 11 10\n"
     ]
    }
   ],
   "source": [
    "n,m = list(map(int,input().split()))\n",
    "arr = []\n",
    "for i in range(n):\n",
    "    a = list(map(int,input().split()))\n",
    "    arr.append(a)\n",
    "    \n",
    "def spiralOrderPrint(arr):\n",
    "    if len(arr)==0 or  len(arr[0])==0:\n",
    "        print(arr)\n",
    "    left,right = 0,len(arr[0])-1 \n",
    "    top,bottom = 0,len(arr)-1 \n",
    "    res = []\n",
    "    while left<=right and top<=bottom:\n",
    "        for i in range(left,right+1):\n",
    "            res.append(arr[top][i])\n",
    "        for j in range(top+1,bottom+1):\n",
    "            res.append(arr[j][right])\n",
    "        if top!=bottom:\n",
    "            for k in range(right-1,left-1,-1):\n",
    "                res.append(arr[bottom][k])\n",
    "        if left != right:\n",
    "            for l in range(bottom-1,top,-1):\n",
    "                res.append(arr[l][left])\n",
    "        left+=1\n",
    "        right-=1\n",
    "        top+=1\n",
    "        bottom-=1 \n",
    "    print(' '.join(str(i) for i in res))\n",
    "    \n",
    "spiralOrderPrint(arr)"
   ]
  },
  {
   "cell_type": "code",
   "execution_count": null,
   "id": "5b01633d",
   "metadata": {},
   "outputs": [],
   "source": []
  }
 ],
 "metadata": {
  "kernelspec": {
   "display_name": "Python 3",
   "language": "python",
   "name": "python3"
  },
  "language_info": {
   "codemirror_mode": {
    "name": "ipython",
    "version": 3
   },
   "file_extension": ".py",
   "mimetype": "text/x-python",
   "name": "python",
   "nbconvert_exporter": "python",
   "pygments_lexer": "ipython3",
   "version": "3.8.3"
  }
 },
 "nbformat": 4,
 "nbformat_minor": 5
}
