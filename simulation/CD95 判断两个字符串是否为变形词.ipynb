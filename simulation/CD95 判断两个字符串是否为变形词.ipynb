{
 "cells": [
  {
   "cell_type": "code",
   "execution_count": 1,
   "id": "e04fd2f7",
   "metadata": {},
   "outputs": [
    {
     "data": {
      "text/plain": [
       "{'1', '2', '3'}"
      ]
     },
     "execution_count": 1,
     "metadata": {},
     "output_type": "execute_result"
    }
   ],
   "source": [
    "a = '2331'\n",
    "set(a)"
   ]
  },
  {
   "cell_type": "code",
   "execution_count": 2,
   "id": "9df6592b",
   "metadata": {},
   "outputs": [
    {
     "name": "stdout",
     "output_type": "stream",
     "text": [
      "3 4\n",
      "123\n",
      "1221\n",
      "false\n"
     ]
    }
   ],
   "source": [
    "n,m = list(map(int,input().split()))\n",
    "str1 = input()\n",
    "str2 = input()\n",
    "\n",
    "def judge(str1,str2):\n",
    "    Dic = dict()\n",
    "    for i in str1:\n",
    "        if Dic.get(i,0) == 0:\n",
    "            Dic[i] = 1\n",
    "        else:\n",
    "            Dic[i] += 1\n",
    "    for j in str2:\n",
    "        if Dic.get(j,0) >= 1:\n",
    "            Dic[j] -= 1\n",
    "            if Dic[j] == 0:\n",
    "                Dic.pop(j)\n",
    "        else:\n",
    "            return False \n",
    "    if len(Dic.keys()) >0:  # 可能 str1 大于 str2 的情况 \n",
    "        return False\n",
    "    return True \n",
    "            \n",
    "ans = judge(str1,str2)\n",
    "print(\"true\" if ans else \"false\")"
   ]
  },
  {
   "cell_type": "code",
   "execution_count": null,
   "id": "30a479d3",
   "metadata": {},
   "outputs": [],
   "source": []
  }
 ],
 "metadata": {
  "kernelspec": {
   "display_name": "Python 3",
   "language": "python",
   "name": "python3"
  },
  "language_info": {
   "codemirror_mode": {
    "name": "ipython",
    "version": 3
   },
   "file_extension": ".py",
   "mimetype": "text/x-python",
   "name": "python",
   "nbconvert_exporter": "python",
   "pygments_lexer": "ipython3",
   "version": "3.8.3"
  }
 },
 "nbformat": 4,
 "nbformat_minor": 5
}
