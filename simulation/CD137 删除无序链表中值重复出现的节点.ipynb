{
 "cells": [
  {
   "cell_type": "code",
   "execution_count": 28,
   "id": "c5e93d51",
   "metadata": {},
   "outputs": [],
   "source": [
    "a = set()"
   ]
  },
  {
   "cell_type": "code",
   "execution_count": 33,
   "id": "346cba01",
   "metadata": {},
   "outputs": [],
   "source": [
    "a.add('1')"
   ]
  },
  {
   "cell_type": "code",
   "execution_count": 32,
   "id": "e5c9232c",
   "metadata": {},
   "outputs": [],
   "source": [
    "a.add('3')"
   ]
  },
  {
   "cell_type": "code",
   "execution_count": 31,
   "id": "47cacc9d",
   "metadata": {},
   "outputs": [],
   "source": [
    "a.add('2')"
   ]
  },
  {
   "cell_type": "code",
   "execution_count": 34,
   "id": "20a56c86",
   "metadata": {},
   "outputs": [
    {
     "data": {
      "text/plain": [
       "{'1', '2', '3'}"
      ]
     },
     "execution_count": 34,
     "metadata": {},
     "output_type": "execute_result"
    }
   ],
   "source": [
    "a"
   ]
  },
  {
   "cell_type": "code",
   "execution_count": 35,
   "id": "a27d83ec",
   "metadata": {},
   "outputs": [
    {
     "data": {
      "text/plain": [
       "True"
      ]
     },
     "execution_count": 35,
     "metadata": {},
     "output_type": "execute_result"
    }
   ],
   "source": [
    "'1' in a"
   ]
  },
  {
   "cell_type": "code",
   "execution_count": 13,
   "id": "f394a4b6",
   "metadata": {},
   "outputs": [
    {
     "data": {
      "text/plain": [
       "2"
      ]
     },
     "execution_count": 13,
     "metadata": {},
     "output_type": "execute_result"
    }
   ],
   "source": [
    "len(a)"
   ]
  },
  {
   "cell_type": "code",
   "execution_count": 15,
   "id": "616087c5",
   "metadata": {},
   "outputs": [
    {
     "data": {
      "text/plain": [
       "[2, 1]"
      ]
     },
     "execution_count": 15,
     "metadata": {},
     "output_type": "execute_result"
    }
   ],
   "source": [
    "list(a)[::-1]"
   ]
  },
  {
   "cell_type": "markdown",
   "id": "d09902dc",
   "metadata": {},
   "source": [
    "###  这里我有点没搞明白，为啥直接打印 s 里面的值不行，而需要打印更新后的链表"
   ]
  },
  {
   "cell_type": "code",
   "execution_count": 38,
   "id": "ec35f243",
   "metadata": {},
   "outputs": [
    {
     "name": "stdout",
     "output_type": "stream",
     "text": [
      "5\n",
      "1 3 2 3 1\n",
      "1 3 2 "
     ]
    }
   ],
   "source": [
    "n = int(input())\n",
    "arr = list(map(int,input().split()))\n",
    "\n",
    "class Node:\n",
    "    def __init__(self,v):\n",
    "        self.v = v \n",
    "        self.next = None \n",
    "        \n",
    "node = Node(arr[0])\n",
    "head = node \n",
    "for i in range(1,n):\n",
    "    node.next = Node(arr[i])\n",
    "    node = node.next \n",
    "    \n",
    "s = set()\n",
    "pre = head\n",
    "s.add(pre.v)\n",
    "cur = head.next\n",
    "while cur:\n",
    "    if cur.v in s:\n",
    "        pre.next = cur.next \n",
    "    else:\n",
    "        s.add(cur.v)\n",
    "        pre = cur \n",
    "    cur = cur.next \n",
    "\n",
    "while head:\n",
    "    print(head.v, end=' ')\n",
    "    head = head.next"
   ]
  },
  {
   "cell_type": "markdown",
   "id": "4dcd08b6",
   "metadata": {},
   "source": [
    "### 下面这里为什么会这样？"
   ]
  },
  {
   "cell_type": "code",
   "execution_count": 39,
   "id": "ee958efd",
   "metadata": {},
   "outputs": [
    {
     "name": "stdout",
     "output_type": "stream",
     "text": [
      "5\n",
      "1 3 2 3 1\n",
      "{1, 2, 3}\n"
     ]
    }
   ],
   "source": [
    "n = int(input())\n",
    "arr = list(map(int,input().split()))\n",
    "\n",
    "class Node:\n",
    "    def __init__(self,v):\n",
    "        self.v = v \n",
    "        self.next = None \n",
    "        \n",
    "node = Node(arr[0])\n",
    "head = node \n",
    "for i in range(1,n):\n",
    "    node.next = Node(arr[i])\n",
    "    node = node.next \n",
    "    \n",
    "s = set()\n",
    "pre = head\n",
    "s.add(pre.v)\n",
    "cur = head.next\n",
    "while cur:\n",
    "    if cur.v in s:\n",
    "        pre.next = cur.next \n",
    "    else:\n",
    "        s.add(cur.v)\n",
    "        pre = cur \n",
    "    cur = cur.next \n",
    "    \n",
    "print(s)"
   ]
  },
  {
   "cell_type": "code",
   "execution_count": null,
   "id": "b66bcfd7",
   "metadata": {},
   "outputs": [],
   "source": []
  }
 ],
 "metadata": {
  "kernelspec": {
   "display_name": "Python 3",
   "language": "python",
   "name": "python3"
  },
  "language_info": {
   "codemirror_mode": {
    "name": "ipython",
    "version": 3
   },
   "file_extension": ".py",
   "mimetype": "text/x-python",
   "name": "python",
   "nbconvert_exporter": "python",
   "pygments_lexer": "ipython3",
   "version": "3.8.3"
  }
 },
 "nbformat": 4,
 "nbformat_minor": 5
}
