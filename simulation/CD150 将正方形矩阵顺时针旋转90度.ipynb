{
 "cells": [
  {
   "cell_type": "code",
   "execution_count": 5,
   "id": "398fb3fa",
   "metadata": {},
   "outputs": [
    {
     "name": "stdout",
     "output_type": "stream",
     "text": [
      "[(1, 5), (2, 6), (3, 7), (4, 8)]\n"
     ]
    }
   ],
   "source": [
    "a = [1,2,3,4]\n",
    "b = [5,6,7,8]\n",
    "z = zip(a,b)\n",
    "print(list(z))"
   ]
  },
  {
   "cell_type": "code",
   "execution_count": 4,
   "id": "2f59d145",
   "metadata": {},
   "outputs": [
    {
     "name": "stdout",
     "output_type": "stream",
     "text": [
      "[(1,), (2,), (3,)]\n"
     ]
    }
   ],
   "source": [
    "a=[1,2,3]\n",
    "zz=zip(a)\n",
    "print(list(zz))"
   ]
  },
  {
   "cell_type": "code",
   "execution_count": 6,
   "id": "90a438db",
   "metadata": {},
   "outputs": [
    {
     "name": "stdout",
     "output_type": "stream",
     "text": [
      "4\n",
      "1 2 3 4\n",
      "5 6 7 8\n",
      "9 10 11 12\n",
      "13 14 15 16\n",
      "13 9 5 1\n",
      "14 10 6 2\n",
      "15 11 7 3\n",
      "16 12 8 4\n"
     ]
    }
   ],
   "source": [
    "n = int(input())\n",
    "arr = []\n",
    "for i in range(n):\n",
    "    a = list(map(int,input().split()))\n",
    "    arr.append(a)\n",
    "    \n",
    "# * 一个迭代器的用法，太棒了！\n",
    "ans = list(zip(*arr))\n",
    "for item in ans:\n",
    "    a = item[::-1]\n",
    "    print(*a)"
   ]
  },
  {
   "cell_type": "code",
   "execution_count": 7,
   "id": "449c3c6e",
   "metadata": {},
   "outputs": [
    {
     "name": "stdout",
     "output_type": "stream",
     "text": [
      "4\n",
      "1 2 3 4\n",
      "5 6 7 8\n",
      "9 10 11 12\n",
      "13 14 15 16\n",
      "13 9 5 1\n",
      "14 10 6 2\n",
      "15 11 7 3\n",
      "16 12 8 4\n"
     ]
    }
   ],
   "source": [
    "n = int(input())\n",
    "arr = []\n",
    "for i in range(n):\n",
    "    a = list(map(int,input().split()))\n",
    "    arr.append(a)\n",
    "    \n",
    "# * 一个迭代器的用法，太棒了！\n",
    "# ans = list(zip(*arr))\n",
    "for item in zip(*arr):\n",
    "    a = item[::-1]\n",
    "    print(*a)"
   ]
  },
  {
   "cell_type": "code",
   "execution_count": null,
   "id": "ea168302",
   "metadata": {},
   "outputs": [],
   "source": []
  }
 ],
 "metadata": {
  "kernelspec": {
   "display_name": "Python 3",
   "language": "python",
   "name": "python3"
  },
  "language_info": {
   "codemirror_mode": {
    "name": "ipython",
    "version": 3
   },
   "file_extension": ".py",
   "mimetype": "text/x-python",
   "name": "python",
   "nbconvert_exporter": "python",
   "pygments_lexer": "ipython3",
   "version": "3.8.3"
  }
 },
 "nbformat": 4,
 "nbformat_minor": 5
}
