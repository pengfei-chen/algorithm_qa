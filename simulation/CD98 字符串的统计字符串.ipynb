{
 "cells": [
  {
   "cell_type": "code",
   "execution_count": 1,
   "id": "747dc294",
   "metadata": {},
   "outputs": [
    {
     "name": "stdout",
     "output_type": "stream",
     "text": [
      "offerofferzainaliiiiii\n",
      "o_1_f_2_e_1_r_1_o_1_f_2_e_1_r_1_z_1_a_1_i_1_n_1_a_1_l_1_i_6\n"
     ]
    }
   ],
   "source": [
    "str1 = input()\n",
    "\n",
    "def getCountString(str1):\n",
    "    if not str1 or len(str1)==0:\n",
    "        return ''\n",
    "    chs = list(str1)\n",
    "    res = chs[0]\n",
    "    num = 1 \n",
    "    for i in range(1,len(chs)):\n",
    "        if chs[i] != chs[i-1]:\n",
    "            res += '_' + str(num) + '_' + chs[i]\n",
    "            num = 1 \n",
    "        else:\n",
    "            num += 1 \n",
    "    res += '_' + str(num) \n",
    "    return res \n",
    "print(getCountString(str1))"
   ]
  },
  {
   "cell_type": "code",
   "execution_count": null,
   "id": "a3d01f7b",
   "metadata": {},
   "outputs": [],
   "source": []
  }
 ],
 "metadata": {
  "kernelspec": {
   "display_name": "Python 3",
   "language": "python",
   "name": "python3"
  },
  "language_info": {
   "codemirror_mode": {
    "name": "ipython",
    "version": 3
   },
   "file_extension": ".py",
   "mimetype": "text/x-python",
   "name": "python",
   "nbconvert_exporter": "python",
   "pygments_lexer": "ipython3",
   "version": "3.8.3"
  }
 },
 "nbformat": 4,
 "nbformat_minor": 5
}
