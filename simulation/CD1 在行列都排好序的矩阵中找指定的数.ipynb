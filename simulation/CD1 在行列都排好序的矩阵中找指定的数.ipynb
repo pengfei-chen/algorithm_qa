{
 "cells": [
  {
   "cell_type": "markdown",
   "id": "c230af42",
   "metadata": {},
   "source": [
    "### 纯自己写出来的"
   ]
  },
  {
   "cell_type": "code",
   "execution_count": 1,
   "id": "3ba227cc",
   "metadata": {},
   "outputs": [
    {
     "name": "stdout",
     "output_type": "stream",
     "text": [
      "2 4 233\n",
      "1 2 3 4\n",
      "2 4 5 6\n",
      "No\n"
     ]
    }
   ],
   "source": [
    "n,m,k = list(map(int,input().split()))\n",
    "arr = []\n",
    "for i in range(n):\n",
    "    a = list(map(int,input().split()))\n",
    "    arr.append(a)\n",
    "    \n",
    "def isKInMatrix(arr, k):\n",
    "    for lst in arr:\n",
    "        se,le = lst[0],lst[-1]\n",
    "        if k>le or k<se:\n",
    "            continue \n",
    "        if k==le or k == se:\n",
    "            return True \n",
    "        if k>se and k < le:\n",
    "            for i in range(len(lst)):\n",
    "                if lst[i] == k:\n",
    "                    return True \n",
    "    return False \n",
    "ans = isKInMatrix(arr, k)\n",
    "print(\"Yes\" if ans else \"No\")"
   ]
  },
  {
   "cell_type": "code",
   "execution_count": null,
   "id": "8d30607e",
   "metadata": {},
   "outputs": [],
   "source": []
  }
 ],
 "metadata": {
  "kernelspec": {
   "display_name": "Python 3",
   "language": "python",
   "name": "python3"
  },
  "language_info": {
   "codemirror_mode": {
    "name": "ipython",
    "version": 3
   },
   "file_extension": ".py",
   "mimetype": "text/x-python",
   "name": "python",
   "nbconvert_exporter": "python",
   "pygments_lexer": "ipython3",
   "version": "3.8.8"
  }
 },
 "nbformat": 4,
 "nbformat_minor": 5
}
