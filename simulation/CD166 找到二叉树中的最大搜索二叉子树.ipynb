{
 "cells": [
  {
   "cell_type": "code",
   "execution_count": 1,
   "id": "392e9274",
   "metadata": {},
   "outputs": [
    {
     "data": {
      "text/plain": [
       "True"
      ]
     },
     "execution_count": 1,
     "metadata": {},
     "output_type": "execute_result"
    }
   ],
   "source": [
    "'1' < '2'"
   ]
  },
  {
   "cell_type": "code",
   "execution_count": 5,
   "id": "c9f667bb",
   "metadata": {},
   "outputs": [
    {
     "data": {
      "text/plain": [
       "False"
      ]
     },
     "execution_count": 5,
     "metadata": {},
     "output_type": "execute_result"
    }
   ],
   "source": [
    "'-4' < '-2'"
   ]
  },
  {
   "cell_type": "code",
   "execution_count": 17,
   "id": "fbc0ea86",
   "metadata": {},
   "outputs": [
    {
     "data": {
      "text/plain": [
       "'0'"
      ]
     },
     "execution_count": 17,
     "metadata": {},
     "output_type": "execute_result"
    }
   ],
   "source": [
    "max('-1','0')"
   ]
  },
  {
   "cell_type": "code",
   "execution_count": 18,
   "id": "bc577900",
   "metadata": {},
   "outputs": [],
   "source": [
    "def min(a,b):\n",
    "    if int(a) > int(b):\n",
    "        return b \n",
    "    return a"
   ]
  },
  {
   "cell_type": "code",
   "execution_count": 25,
   "id": "506853e5",
   "metadata": {},
   "outputs": [
    {
     "name": "stdout",
     "output_type": "stream",
     "text": [
      "2\n",
      "<class 'str'>\n",
      "1\n",
      "2-1\n"
     ]
    },
    {
     "data": {
      "text/plain": [
       "1"
      ]
     },
     "execution_count": 25,
     "metadata": {},
     "output_type": "execute_result"
    }
   ],
   "source": [
    "a = '2'\n",
    "b = '1'\n",
    "com = a + '-' + b\n",
    "print(a),print(type(a))\n",
    "print(b)\n",
    "print(com)\n",
    "eval(com)"
   ]
  },
  {
   "cell_type": "code",
   "execution_count": 23,
   "id": "8a90ca11",
   "metadata": {},
   "outputs": [
    {
     "data": {
      "text/plain": [
       "'2'"
      ]
     },
     "execution_count": 23,
     "metadata": {},
     "output_type": "execute_result"
    }
   ],
   "source": [
    "a"
   ]
  },
  {
   "cell_type": "code",
   "execution_count": 19,
   "id": "0f1c7fb6",
   "metadata": {},
   "outputs": [
    {
     "data": {
      "text/plain": [
       "'-1'"
      ]
     },
     "execution_count": 19,
     "metadata": {},
     "output_type": "execute_result"
    }
   ],
   "source": [
    "min('-1','0')"
   ]
  },
  {
   "cell_type": "code",
   "execution_count": 8,
   "id": "b0c7f0f2",
   "metadata": {},
   "outputs": [],
   "source": [
    "min??"
   ]
  },
  {
   "cell_type": "code",
   "execution_count": 29,
   "id": "933e66ae",
   "metadata": {},
   "outputs": [
    {
     "name": "stdout",
     "output_type": "stream",
     "text": [
      "3 2\n",
      "2 1 3\n",
      "1 0 0\n",
      "3 0 0\n",
      "3\n"
     ]
    }
   ],
   "source": [
    "class Node:\n",
    "    def __init__(self,x):\n",
    "        self.v = x \n",
    "        self.left = None \n",
    "        self.right = None \n",
    "        \n",
    "# 根据输入构造二叉树 \n",
    "n,r = list(map(int,input().split()))\n",
    "root = Node(r)\n",
    "node_dict = dict()\n",
    "node_dict[r] = root \n",
    "for i in range(int(n)):\n",
    "    fa,lch,rch = list(map(int,input().split()))\n",
    "    if lch != 0:\n",
    "        node_dict[lch] = Node(lch)\n",
    "        node_dict[fa].left = node_dict[lch]\n",
    "    if rch != 0:\n",
    "        node_dict[rch] = Node(rch)\n",
    "        node_dict[fa].right = node_dict[rch]\n",
    "        \n",
    "class ReturnType:\n",
    "    def __init__(self, maxBSTHead, maxBSTSize, Min, Max):\n",
    "        self.maxBSTHead = maxBSTHead \n",
    "        self.maxBSTSize = maxBSTSize\n",
    "        self.Min = Min \n",
    "        self.Max = Max\n",
    "        \n",
    "def process(x):\n",
    "    # 如果子树为空 \n",
    "    if x==None:\n",
    "        return ReturnType(None, 0, 10**10, -10**10)\n",
    "    # 默认直接得到左树全部信息 \n",
    "    lData = process(x.left)\n",
    "    # 默认直接得到右树全部信息 \n",
    "    rData = process(x.right)\n",
    "    # 以下为信息整合 \n",
    "    # 以x为头结点的子树的最小值为：左树最小，右树最小，及x的值三者中的最小值 \n",
    "    Min= min(x.v, min(lData.Min, rData.Min))\n",
    "    Max = max(x.v, max(lData.Max, rData.Max))\n",
    "    # 如果只考虑可能性一和可能性二，则以x为头节点的子树的最大搜索二叉树大小 \n",
    "    maxBSTSize = max(lData.maxBSTSize, rData.maxBSTSize)\n",
    "    # 如果只考虑可能性一和可能性二，则以x为头节点的子树的最大搜索二叉树头节点\n",
    "    maxBSTHead = lData.maxBSTHead if (lData.maxBSTSize >= rData.maxBSTSize) else rData.maxBSTHead \n",
    "    # 利用收集的信息，判断是否存在第三种可能 \n",
    "    if (lData.maxBSTHead == x.left) and (rData.maxBSTHead == x.right) and  (x.v>lData.Max) and (x.v<rData.Min):\n",
    "        maxBSTSize = lData.maxBSTSize + rData.maxBSTSize + 1 \n",
    "        maxBSTHead = x  \n",
    "    return ReturnType(maxBSTHead, maxBSTSize, Min, Max)\n",
    "        \n",
    "def getMaxBST(head):\n",
    "    return process(head).maxBSTSize \n",
    "    \n",
    "ans = getMaxBST(root)\n",
    "print(ans)"
   ]
  },
  {
   "cell_type": "markdown",
   "id": "cd58e793",
   "metadata": {},
   "source": [
    "###  AC不了，python 的性能有点差！"
   ]
  },
  {
   "cell_type": "code",
   "execution_count": null,
   "id": "b83f2f22",
   "metadata": {},
   "outputs": [],
   "source": []
  },
  {
   "cell_type": "markdown",
   "id": "3667c563",
   "metadata": {},
   "source": [
    "### 通过的代码如下"
   ]
  },
  {
   "cell_type": "code",
   "execution_count": 31,
   "id": "2f22943b",
   "metadata": {},
   "outputs": [
    {
     "name": "stdout",
     "output_type": "stream",
     "text": [
      "3 2\n",
      "2 1 3\n",
      "1 0 0\n",
      "3 0 0\n",
      "3\n"
     ]
    }
   ],
   "source": [
    "n, root = list(map(int, input().split()))\n",
    "tree = {}\n",
    "for i in range(n):\n",
    "    node, left, right = list(map(int, input().split()))\n",
    "    tree[node] = (left, right)\n",
    "\n",
    "class Info:\n",
    "    ''' '''\n",
    "    isBST = None\n",
    "    maxBST = None\n",
    "    maxValue = None\n",
    "    minValue = None\n",
    "    def __init__(self, isBST, maxBST, maxV, minV):\n",
    "        self.isBST = isBST\n",
    "        self.maxBST = maxBST  # max BST size\n",
    "        self.maxValue = maxV\n",
    "        self.minValue = minV\n",
    "        return\n",
    "    \n",
    "def p(x):\n",
    "    if not x:\n",
    "        dummyMax = 0\n",
    "        dummyMin = 1000001\n",
    "        return Info(True, 0, dummyMax, dummyMin)\n",
    "    \n",
    "    # node x的情况取决于左右子树\n",
    "    leftInfo = p(tree[x][0])\n",
    "    rightInfo = p(tree[x][1])\n",
    "    \n",
    "    # 如果需要考虑节点x\n",
    "    if leftInfo.isBST and rightInfo.isBST and leftInfo.maxValue < x and rightInfo.minValue > x:\n",
    "        isBST = True\n",
    "        maxBST = leftInfo.maxBST + rightInfo.maxBST + 1\n",
    "        maxValue = max(x, rightInfo.maxValue) # max 是为了left node，没有真实的最大最小子树值\n",
    "        minValue = min(x, leftInfo.minValue)  # \n",
    "        info = Info(isBST, maxBST, maxValue, minValue)\n",
    "        return info\n",
    "    \n",
    "    # 如果不需要考虑节点x\n",
    "    isBST = False\n",
    "    maxBST = max(1, leftInfo.maxBST, rightInfo.maxBST) \n",
    "    info = Info(isBST, maxBST, None, None) # x节点已经不是BST， 最大最小值没有意义了。\n",
    "    \n",
    "    return info\n",
    "\n",
    "print(p(root).maxBST)"
   ]
  },
  {
   "cell_type": "code",
   "execution_count": null,
   "id": "d4810b7f",
   "metadata": {},
   "outputs": [],
   "source": []
  }
 ],
 "metadata": {
  "kernelspec": {
   "display_name": "Python 3",
   "language": "python",
   "name": "python3"
  },
  "language_info": {
   "codemirror_mode": {
    "name": "ipython",
    "version": 3
   },
   "file_extension": ".py",
   "mimetype": "text/x-python",
   "name": "python",
   "nbconvert_exporter": "python",
   "pygments_lexer": "ipython3",
   "version": "3.8.8"
  }
 },
 "nbformat": 4,
 "nbformat_minor": 5
}
