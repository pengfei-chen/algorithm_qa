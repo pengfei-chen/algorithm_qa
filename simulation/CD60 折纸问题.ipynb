{
 "cells": [
  {
   "cell_type": "code",
   "execution_count": 1,
   "id": "a5ce7a03",
   "metadata": {},
   "outputs": [
    {
     "name": "stdout",
     "output_type": "stream",
     "text": [
      "2\n",
      "down\n",
      "down\n",
      "up\n"
     ]
    }
   ],
   "source": [
    "n = int(input())\n",
    "\n",
    "def printProcess(i,N,down):\n",
    "    if i > N:\n",
    "        return \n",
    "    printProcess(i+1, N, True)  #先右\n",
    "    print(\"down\" if down else \"up\") #再中\n",
    "    printProcess(i+1, N, False) #最后左\n",
    "\n",
    "def printAllFolds(N):\n",
    "    printProcess(1,N,True)\n",
    "    \n",
    "printAllFolds(n)"
   ]
  },
  {
   "cell_type": "code",
   "execution_count": null,
   "id": "be1d19b8",
   "metadata": {},
   "outputs": [],
   "source": []
  }
 ],
 "metadata": {
  "kernelspec": {
   "display_name": "Python 3",
   "language": "python",
   "name": "python3"
  },
  "language_info": {
   "codemirror_mode": {
    "name": "ipython",
    "version": 3
   },
   "file_extension": ".py",
   "mimetype": "text/x-python",
   "name": "python",
   "nbconvert_exporter": "python",
   "pygments_lexer": "ipython3",
   "version": "3.8.3"
  }
 },
 "nbformat": 4,
 "nbformat_minor": 5
}
