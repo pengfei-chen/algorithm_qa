{
 "cells": [
  {
   "cell_type": "markdown",
   "id": "614f7a99",
   "metadata": {},
   "source": [
    "### 思路:观察规律就是，如果是有序的数组，那么只要每隔两个数进行交换，那就可以了"
   ]
  },
  {
   "cell_type": "code",
   "execution_count": 1,
   "id": "d09d47a6",
   "metadata": {},
   "outputs": [
    {
     "name": "stdout",
     "output_type": "stream",
     "text": [
      "6\n",
      "1 2 3 4 5 6\n",
      "1 3 2 5 4 6\n"
     ]
    }
   ],
   "source": [
    "n = int(input())\n",
    "arr = list(map(int,input().split()))\n",
    "arr.sort()\n",
    "if n % 2==0:\n",
    "    end = n-2\n",
    "else:\n",
    "    end = n-1 \n",
    "for i in range(1,end,2):\n",
    "    arr[i],arr[i+1] = arr[i+1],arr[i]\n",
    "print(' '.join(list(map(str,arr))))"
   ]
  }
 ],
 "metadata": {
  "kernelspec": {
   "display_name": "Python 3",
   "language": "python",
   "name": "python3"
  },
  "language_info": {
   "codemirror_mode": {
    "name": "ipython",
    "version": 3
   },
   "file_extension": ".py",
   "mimetype": "text/x-python",
   "name": "python",
   "nbconvert_exporter": "python",
   "pygments_lexer": "ipython3",
   "version": "3.8.3"
  }
 },
 "nbformat": 4,
 "nbformat_minor": 5
}
