{
 "cells": [
  {
   "cell_type": "code",
   "execution_count": 1,
   "id": "314e2e10",
   "metadata": {},
   "outputs": [
    {
     "name": "stdout",
     "output_type": "stream",
     "text": [
      "121\n",
      "Yes\n"
     ]
    }
   ],
   "source": [
    "n = int(input())\n",
    "\n",
    "def judge(n):\n",
    "    n = abs(n)\n",
    "    s = str(n)\n",
    "    s1 = ''.join(list(s)[::-1])\n",
    "    if s == s1:\n",
    "        print(\"Yes\")\n",
    "    else:\n",
    "        print(\"No\")\n",
    "        \n",
    "judge(n)"
   ]
  },
  {
   "cell_type": "code",
   "execution_count": null,
   "id": "c9116616",
   "metadata": {},
   "outputs": [],
   "source": []
  }
 ],
 "metadata": {
  "kernelspec": {
   "display_name": "Python 3",
   "language": "python",
   "name": "python3"
  },
  "language_info": {
   "codemirror_mode": {
    "name": "ipython",
    "version": 3
   },
   "file_extension": ".py",
   "mimetype": "text/x-python",
   "name": "python",
   "nbconvert_exporter": "python",
   "pygments_lexer": "ipython3",
   "version": "3.8.3"
  }
 },
 "nbformat": 4,
 "nbformat_minor": 5
}
