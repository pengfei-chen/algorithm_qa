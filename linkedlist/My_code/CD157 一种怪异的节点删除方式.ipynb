{
 "cells": [
  {
   "cell_type": "code",
   "execution_count": 1,
   "id": "0fa5865e",
   "metadata": {},
   "outputs": [
    {
     "name": "stdout",
     "output_type": "stream",
     "text": [
      "5\n",
      "1 2 3 4 5\n",
      "3\n",
      "1 2 4 5 "
     ]
    }
   ],
   "source": [
    "class Node:\n",
    "    def __init__(self,x):\n",
    "        self.v = x \n",
    "        self.next = None \n",
    "    \n",
    "n = int(input())\n",
    "arr = list(map(int,input().split()))\n",
    "k = int(input())  \n",
    "\n",
    "node = Node(arr[0])\n",
    "head = node \n",
    "for i in range(1,len(arr)):\n",
    "    node.next = Node(arr[i])\n",
    "    node = node.next \n",
    "    if i+1 == k: # 这一步需要注意\n",
    "        node_del = node\n",
    "    \n",
    "def removeNodeWired(node):\n",
    "    if not node:\n",
    "        return \n",
    "    Next = node.next \n",
    "    if Next ==  None:\n",
    "        return \n",
    "    node.v = Next.v \n",
    "    node.next = Next.next \n",
    "    \n",
    "removeNodeWired(node_del) \n",
    "p = head\n",
    "while p :\n",
    "    print(p.v, end=' ')\n",
    "    p = p.next "
   ]
  },
  {
   "cell_type": "code",
   "execution_count": null,
   "id": "685d4a17",
   "metadata": {},
   "outputs": [],
   "source": []
  }
 ],
 "metadata": {
  "kernelspec": {
   "display_name": "Python 3",
   "language": "python",
   "name": "python3"
  },
  "language_info": {
   "codemirror_mode": {
    "name": "ipython",
    "version": 3
   },
   "file_extension": ".py",
   "mimetype": "text/x-python",
   "name": "python",
   "nbconvert_exporter": "python",
   "pygments_lexer": "ipython3",
   "version": "3.8.3"
  }
 },
 "nbformat": 4,
 "nbformat_minor": 5
}
