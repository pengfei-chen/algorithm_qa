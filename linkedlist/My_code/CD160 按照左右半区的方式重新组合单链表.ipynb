{
 "cells": [
  {
   "cell_type": "code",
   "execution_count": 2,
   "id": "0b07a7f1",
   "metadata": {},
   "outputs": [],
   "source": [
    "from collections import deque"
   ]
  },
  {
   "cell_type": "code",
   "execution_count": 4,
   "id": "9de96c29",
   "metadata": {},
   "outputs": [
    {
     "data": {
      "text/plain": [
       "2"
      ]
     },
     "execution_count": 4,
     "metadata": {},
     "output_type": "execute_result"
    }
   ],
   "source": [
    "queue = deque()\n",
    "queue.append(1)\n",
    "queue.append(2)\n",
    "len(queue)"
   ]
  },
  {
   "cell_type": "code",
   "execution_count": 5,
   "id": "c584d49f",
   "metadata": {},
   "outputs": [
    {
     "name": "stdout",
     "output_type": "stream",
     "text": [
      "6\n",
      "1 2 3 4 5 6\n",
      "1 4 2 5 3 6 "
     ]
    }
   ],
   "source": [
    "class Node:\n",
    "    def __init__(self, x):\n",
    "        self.v = x \n",
    "        self.next = None \n",
    "        \n",
    "n = int(input())\n",
    "arr = list(map(int,input().split()))\n",
    "\n",
    "node = Node(arr[0])\n",
    "head = node \n",
    "for i in range(1,n):\n",
    "    node.next = Node(arr[i])\n",
    "    node = node.next   \n",
    "    \n",
    "from collections import deque\n",
    " \n",
    "def devide(head):\n",
    "    # 链表分两半的一个方式，双指针，一个走一步一个走两步 \n",
    "    p1 = head \n",
    "    p2 = head \n",
    "    while p2.next and p2.next.next:\n",
    "        p1 = p1.next \n",
    "        p2 = p2.next.next \n",
    "    # 这里要分奇数还是偶数 \n",
    "    if p2.next:  #链表数为偶数\n",
    "        head1 = head \n",
    "        head2 = p1.next \n",
    "    else: #链表数为奇数\n",
    "        head1 = head \n",
    "        head2 = p1  \n",
    "    queue1 = deque()\n",
    "    queue2 = deque()\n",
    "    cur1 = head1 \n",
    "    cur2 = head2 \n",
    "    while cur1 and cur2: # 奇数时这么做会多append一个进去\n",
    "        if cur1 == head2:\n",
    "            break \n",
    "        queue1.append(cur1)\n",
    "        cur1 = cur1.next \n",
    "        queue2.append(cur2)\n",
    "        cur2 = cur2.next \n",
    "    if cur2:  #无论奇数偶数，右半部分都不会少于左半部分，错误写法\n",
    "        queue2.append(cur2)\n",
    "        cur2 = cur2.next\n",
    "    return queue1,queue2 \n",
    "\n",
    "def reshapeLinkedList(head):\n",
    "    queue1,queue2  = devide(head) \n",
    "    pHead = queue1.popleft()\n",
    "    cur = queue2.popleft()\n",
    "    pHead.next = cur \n",
    "    while len(queue1) > 0:\n",
    "        node1 = queue1.popleft()\n",
    "        node2 = queue2.popleft()\n",
    "        cur.next = node1 \n",
    "        node1.next = node2 \n",
    "        cur = node2 \n",
    "    if len(queue2) > 0:\n",
    "        node2 = queue2.popleft()\n",
    "        cur.next = node2 \n",
    "        cur = node2 \n",
    "    return pHead \n",
    "\n",
    "p = reshapeLinkedList(head)\n",
    "while p :\n",
    "    print(p.v, end=' ')\n",
    "    p = p.next "
   ]
  },
  {
   "cell_type": "markdown",
   "id": "8c03c5f7",
   "metadata": {},
   "source": [
    "###  十几分钟写出主要框架，修复细节漏洞花了差不多一个小时。。"
   ]
  },
  {
   "cell_type": "code",
   "execution_count": null,
   "id": "2e0828dd",
   "metadata": {},
   "outputs": [],
   "source": []
  }
 ],
 "metadata": {
  "kernelspec": {
   "display_name": "Python 3",
   "language": "python",
   "name": "python3"
  },
  "language_info": {
   "codemirror_mode": {
    "name": "ipython",
    "version": 3
   },
   "file_extension": ".py",
   "mimetype": "text/x-python",
   "name": "python",
   "nbconvert_exporter": "python",
   "pygments_lexer": "ipython3",
   "version": "3.8.8"
  }
 },
 "nbformat": 4,
 "nbformat_minor": 5
}
