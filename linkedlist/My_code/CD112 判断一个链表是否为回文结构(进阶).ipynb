{
 "cells": [
  {
   "cell_type": "markdown",
   "id": "8e224681",
   "metadata": {},
   "source": [
    "### python支持不够友好，过不了"
   ]
  },
  {
   "cell_type": "code",
   "execution_count": 1,
   "id": "635d12d6",
   "metadata": {},
   "outputs": [
    {
     "name": "stdout",
     "output_type": "stream",
     "text": [
      "5\n",
      "1 2 3 2 1\n",
      "true\n"
     ]
    }
   ],
   "source": [
    "class Node:\n",
    "    def __init__(self,x):\n",
    "        self.v = x\n",
    "        self.next = None \n",
    "        \n",
    "n = int(input())\n",
    "arr = list(map(int,input().split()))\n",
    "\n",
    "node = Node(arr[0])\n",
    "head = node \n",
    "for i in range(1,n):\n",
    "    node.next = Node(arr[i])\n",
    "    node = node.next  \n",
    "    \n",
    "def isPalindrome3(head):\n",
    "    if not head or not head.next:\n",
    "        return True \n",
    "    n1 = head \n",
    "    n2 = head \n",
    "    while (n2.next and n2.next.next): #一步和两步指正，查找中间节点\n",
    "        n1 = n1.next  #n1停在中间节点\n",
    "        n2 = n2.next  #n2停在结尾 \n",
    "    n2 = n1.next  #n2,右半部分第一个节点 \n",
    "    n1.next = None  # 中间节点指向空\n",
    "    n3 = None \n",
    "    while n2: #右半区反转\n",
    "        n3 = n2.next #n3保存下一个节点 \n",
    "        n2.next = n1 \n",
    "        n1 = n2 \n",
    "        n2 = n3 \n",
    "    n3 = n1  #不赋值的话 n3为空 ，赋值后n3为最后一个节点 \n",
    "    n2 = head #n2左边第一个节点 \n",
    "    res = True \n",
    "    while n1 and n2:\n",
    "        if n1.v != n2.v:\n",
    "            res = False \n",
    "            break \n",
    "        n1 = n1.next  #从右边到中间节点\n",
    "        n2 = n2.next  #从左边到中间节点 \n",
    "    # 恢复列表 \n",
    "    n1 = n3.next #n1成为原来的导数第二个节点 \n",
    "    n3.next = None  #原最后一个节点指向空 \n",
    "    while n1:\n",
    "        n2 = n1.next \n",
    "        n1.next = n3 \n",
    "        n3 = n1  #当前节点成为新的n3 \n",
    "        n1 = n2 \n",
    "    return res\n",
    "    \n",
    "ans = isPalindrome3(head)\n",
    "print(\"true\" if ans else \"false\")"
   ]
  },
  {
   "cell_type": "code",
   "execution_count": null,
   "id": "475b997c",
   "metadata": {},
   "outputs": [],
   "source": []
  }
 ],
 "metadata": {
  "kernelspec": {
   "display_name": "Python 3",
   "language": "python",
   "name": "python3"
  },
  "language_info": {
   "codemirror_mode": {
    "name": "ipython",
    "version": 3
   },
   "file_extension": ".py",
   "mimetype": "text/x-python",
   "name": "python",
   "nbconvert_exporter": "python",
   "pygments_lexer": "ipython3",
   "version": "3.8.3"
  }
 },
 "nbformat": 4,
 "nbformat_minor": 5
}
