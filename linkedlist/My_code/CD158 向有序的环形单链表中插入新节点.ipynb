{
 "cells": [
  {
   "cell_type": "markdown",
   "id": "c2366e1a",
   "metadata": {},
   "source": [
    "###  完全自己写出来的"
   ]
  },
  {
   "cell_type": "code",
   "execution_count": 1,
   "id": "263d24bc",
   "metadata": {},
   "outputs": [
    {
     "name": "stdout",
     "output_type": "stream",
     "text": [
      "5\n",
      "1 2 3 4 5\n",
      "6\n",
      "1 2 3 4 5 6 "
     ]
    }
   ],
   "source": [
    "class Node:\n",
    "    def __init__(self, x):\n",
    "        self.v = x \n",
    "        self.next = None \n",
    "        \n",
    "n = int(input())\n",
    "arr = list(map(int,input().split()))\n",
    "k = int(input()) \n",
    "\n",
    "node = Node(arr[0])\n",
    "head = node \n",
    "for i in range(1,n):\n",
    "    node.next = Node(arr[i])\n",
    "    node = node.next \n",
    "    \n",
    "node.next = head #尾节点指向头节点 \n",
    "\n",
    "def insert(head, k, node):\n",
    "    cur = head \n",
    "    pre = node \n",
    "    while cur:\n",
    "        if cur.v > k:\n",
    "            node_i = Node(k) \n",
    "            pre.next = node_i \n",
    "            node_i.next = cur \n",
    "            break \n",
    "        if cur == node: # 遍历到最后一个节点，插入节点数值比前面的都大 \n",
    "            node_i = Node(k) \n",
    "            node.next = node_i \n",
    "            node_i.next = head \n",
    "            node = node_i\n",
    "            break \n",
    "        pre = cur \n",
    "        cur = cur.next \n",
    "    return head \n",
    "\n",
    "p = insert(head, k, node) \n",
    "while p:\n",
    "    print(p.v, end=' ')\n",
    "    p = p.next \n",
    "    if p == head:\n",
    "        break \n",
    "    "
   ]
  },
  {
   "cell_type": "code",
   "execution_count": null,
   "id": "3b3200ba",
   "metadata": {},
   "outputs": [],
   "source": []
  }
 ],
 "metadata": {
  "kernelspec": {
   "display_name": "Python 3",
   "language": "python",
   "name": "python3"
  },
  "language_info": {
   "codemirror_mode": {
    "name": "ipython",
    "version": 3
   },
   "file_extension": ".py",
   "mimetype": "text/x-python",
   "name": "python",
   "nbconvert_exporter": "python",
   "pygments_lexer": "ipython3",
   "version": "3.8.8"
  }
 },
 "nbformat": 4,
 "nbformat_minor": 5
}
