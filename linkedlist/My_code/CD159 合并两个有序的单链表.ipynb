{
 "cells": [
  {
   "cell_type": "markdown",
   "id": "e53d84db",
   "metadata": {},
   "source": [
    "### 完全自己写出来的"
   ]
  },
  {
   "cell_type": "code",
   "execution_count": 1,
   "id": "337e99e3",
   "metadata": {},
   "outputs": [
    {
     "name": "stdout",
     "output_type": "stream",
     "text": [
      "5\n",
      "1 2 3 4 5\n",
      "6\n",
      "7 8 9 10 11 12\n",
      "1 2 3 4 5 7 8 9 10 11 12 "
     ]
    }
   ],
   "source": [
    "class Node:\n",
    "    def __init__(self, x):\n",
    "        self.v = x \n",
    "        self.next = None \n",
    "        \n",
    "n1 = int(input())\n",
    "arr1 = list(map(int,input().split()))\n",
    "n2 = int(input())\n",
    "arr2 = list(map(int,input().split()))\n",
    "\n",
    "node1 = Node(arr1[0])\n",
    "head1 = node1 \n",
    "for i in range(1,n1):\n",
    "    node1.next = Node(arr1[i])\n",
    "    node1 = node1.next  \n",
    "    \n",
    "node2 = Node(arr2[0])\n",
    "head2 = node2 \n",
    "for i in range(1,n2):\n",
    "    node2.next = Node(arr2[i])\n",
    "    node2 = node2.next  \n",
    "    \n",
    "def mergeLinkedList(head1, head2):\n",
    "    pHead = head1 if head1.v < head2.v else head2 \n",
    "    cur = pHead\n",
    "    cur1 = head1 if pHead==head2 else head1.next \n",
    "    cur2 = head2 if pHead==head1 else head2.next  \n",
    "    while cur1 and cur2:\n",
    "        if cur1.v < cur2.v:\n",
    "            cur.next = cur1 \n",
    "            cur = cur1 \n",
    "            cur1 = cur1.next \n",
    "        else:\n",
    "            cur.next = cur2 \n",
    "            cur = cur2\n",
    "            cur2 = cur2.next \n",
    "    if cur1:\n",
    "        cur.next = cur1\n",
    "        cur = cur1 \n",
    "        cur1 = cur1.next \n",
    "    if cur2:\n",
    "        cur.next = cur2\n",
    "        cur = cur2 \n",
    "        cur2 = cur2.next \n",
    "    return pHead \n",
    "\n",
    "p = mergeLinkedList(head1, head2) \n",
    "while p:\n",
    "    print(p.v, end=' ')\n",
    "    p = p.next "
   ]
  },
  {
   "cell_type": "code",
   "execution_count": null,
   "id": "37de2c03",
   "metadata": {},
   "outputs": [],
   "source": []
  }
 ],
 "metadata": {
  "kernelspec": {
   "display_name": "Python 3",
   "language": "python",
   "name": "python3"
  },
  "language_info": {
   "codemirror_mode": {
    "name": "ipython",
    "version": 3
   },
   "file_extension": ".py",
   "mimetype": "text/x-python",
   "name": "python",
   "nbconvert_exporter": "python",
   "pygments_lexer": "ipython3",
   "version": "3.8.8"
  }
 },
 "nbformat": 4,
 "nbformat_minor": 5
}
