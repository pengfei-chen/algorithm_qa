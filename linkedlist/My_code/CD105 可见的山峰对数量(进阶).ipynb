{
 "cells": [
  {
   "cell_type": "markdown",
   "id": "fb157548",
   "metadata": {},
   "source": [
    "###  解析、思路详情参见书P36"
   ]
  },
  {
   "cell_type": "code",
   "execution_count": 1,
   "id": "c98480d4",
   "metadata": {},
   "outputs": [
    {
     "name": "stdout",
     "output_type": "stream",
     "text": [
      "5\n",
      "3 1 2 4 5\n",
      "7\n"
     ]
    }
   ],
   "source": [
    "class Record:\n",
    "    def __init__(self,x):\n",
    "        self.v = x \n",
    "        self.times = 1 \n",
    "        \n",
    "        \n",
    "n = int(input())\n",
    "arr = list(map(int,input().split()))\n",
    "\n",
    "def getInternalSum(k):\n",
    "    return 0 if k==1 else (k*(k-1)//2)\n",
    "\n",
    "def nextIndex(i, size):\n",
    "    return i +1 if ( i<(size-1) ) else 0 \n",
    "\n",
    "def getVisibleNum(arr):\n",
    "    if not arr or len(arr)<2:\n",
    "        return 0 \n",
    "    size = len(arr)\n",
    "    maxIndex = 0 \n",
    "    for i in range(size):\n",
    "        maxIndex = i if arr[maxIndex] < arr[i] else maxIndex \n",
    "    stack = []\n",
    "    stack.append(Record(arr[maxIndex]))\n",
    "    index = nextIndex(maxIndex, size)\n",
    "    res = 0 \n",
    "    while index!=maxIndex:\n",
    "        while stack[-1].v < arr[index]:\n",
    "            k = stack.pop().times\n",
    "            res += getInternalSum(k) + 2*k \n",
    "        if stack[-1].v == arr[index]:\n",
    "            stack[-1].times += 1 \n",
    "        else:\n",
    "            stack.append(Record(arr[index]))\n",
    "        index = nextIndex(index,size) \n",
    "    while len(stack) > 2:\n",
    "        times = stack.pop().times \n",
    "        res += getInternalSum(times) + 2*times \n",
    "    if len(stack) ==2:\n",
    "        times = stack.pop().times \n",
    "        res += getInternalSum(times) +(times if \n",
    "                                       stack[-1].times==1 else 2*times)\n",
    "    res += getInternalSum(stack.pop().times)\n",
    "    return res \n",
    "\n",
    "print(getVisibleNum(arr))"
   ]
  },
  {
   "cell_type": "code",
   "execution_count": null,
   "id": "20df5c5e",
   "metadata": {},
   "outputs": [],
   "source": []
  }
 ],
 "metadata": {
  "kernelspec": {
   "display_name": "Python 3",
   "language": "python",
   "name": "python3"
  },
  "language_info": {
   "codemirror_mode": {
    "name": "ipython",
    "version": 3
   },
   "file_extension": ".py",
   "mimetype": "text/x-python",
   "name": "python",
   "nbconvert_exporter": "python",
   "pygments_lexer": "ipython3",
   "version": "3.8.8"
  }
 },
 "nbformat": 4,
 "nbformat_minor": 5
}
