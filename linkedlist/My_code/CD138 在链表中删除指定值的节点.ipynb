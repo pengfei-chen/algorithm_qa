{
 "cells": [
  {
   "cell_type": "code",
   "execution_count": 1,
   "id": "1665b96f",
   "metadata": {},
   "outputs": [
    {
     "name": "stdout",
     "output_type": "stream",
     "text": [
      "4\n",
      "1 2 3 4\n",
      "3\n",
      "1 2 4 "
     ]
    }
   ],
   "source": [
    "class Node:\n",
    "    def __init__(self,x):\n",
    "        self.v = x \n",
    "        self.next = None \n",
    "    \n",
    "n = int(input())\n",
    "arr = list(map(int,input().split()))\n",
    "num = int(input())  \n",
    "\n",
    "node = Node(arr[0])\n",
    "head = node \n",
    "for i in range(1,len(arr)):\n",
    "    node.next = Node(arr[i])\n",
    "    node = node.next \n",
    "    \n",
    "def removeValue(head, num):\n",
    "    while head: # 找到第一个值不等于num的点 \n",
    "        if head.v != num:\n",
    "            break \n",
    "        head = head.next \n",
    "    pre = head \n",
    "    cur = head \n",
    "    while cur:\n",
    "        if cur.v == num:\n",
    "            pre.next = cur.next #删除了当前节点 \n",
    "        else:\n",
    "            pre = cur \n",
    "        cur = cur.next \n",
    "    return head \n",
    "\n",
    "p = removeValue(head, num)\n",
    "while p :\n",
    "    print(p.v, end=' ')\n",
    "    p = p.next "
   ]
  },
  {
   "cell_type": "code",
   "execution_count": null,
   "id": "a623a39e",
   "metadata": {},
   "outputs": [],
   "source": []
  }
 ],
 "metadata": {
  "kernelspec": {
   "display_name": "Python 3",
   "language": "python",
   "name": "python3"
  },
  "language_info": {
   "codemirror_mode": {
    "name": "ipython",
    "version": 3
   },
   "file_extension": ".py",
   "mimetype": "text/x-python",
   "name": "python",
   "nbconvert_exporter": "python",
   "pygments_lexer": "ipython3",
   "version": "3.8.3"
  }
 },
 "nbformat": 4,
 "nbformat_minor": 5
}
