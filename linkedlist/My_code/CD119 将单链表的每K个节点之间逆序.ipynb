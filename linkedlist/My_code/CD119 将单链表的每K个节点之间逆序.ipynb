{
 "cells": [
  {
   "cell_type": "code",
   "execution_count": 1,
   "id": "8e90dc30",
   "metadata": {},
   "outputs": [
    {
     "name": "stdout",
     "output_type": "stream",
     "text": [
      "5\n",
      "1 2 3 4 5\n",
      "3\n",
      "3 2 1 4 5 "
     ]
    }
   ],
   "source": [
    "class Node:\n",
    "    def __init__(self,x):\n",
    "        self.v = x \n",
    "        self.next = None \n",
    "    \n",
    "n = int(input())\n",
    "arr = list(map(int,input().split()))\n",
    "k = int(input())  \n",
    "\n",
    "node = Node(arr[0])\n",
    "head = node \n",
    "for i in range(1,len(arr)):\n",
    "    node.next = Node(arr[i])\n",
    "    node = node.next \n",
    "    \n",
    "    \n",
    "def resign1(stack, left, right):\n",
    "    cur = stack.pop()\n",
    "    if left: # left是上一次倒序的最后一个节点\n",
    "        left.next = cur \n",
    "    Next = None \n",
    "    while len(stack) > 0: #反转链表\n",
    "        Next = stack.pop()\n",
    "        cur.next =  Next\n",
    "        cur = Next\n",
    "    cur.next = right  \n",
    "    return cur \n",
    "\n",
    "    \n",
    "def reverseKNodes(head, k):\n",
    "    if k < 2:\n",
    "        return head \n",
    "    stack = []\n",
    "    newHead = head \n",
    "    cur = head \n",
    "    pre = None \n",
    "    Next = None \n",
    "    while cur:\n",
    "        Next = cur.next \n",
    "        stack.append(cur)\n",
    "        if len(stack) == k :\n",
    "            pre = resign1(stack,pre,Next) # 上一轮的最后一个节点\n",
    "            newHead = cur if newHead==head else newHead  #只会被替代一次 \n",
    "        cur = Next \n",
    "    return newHead \n",
    "\n",
    "p = reverseKNodes(head, k)\n",
    "while p :\n",
    "    print(p.v,end = ' ')\n",
    "    p = p.next "
   ]
  },
  {
   "cell_type": "code",
   "execution_count": null,
   "id": "4c5bdd09",
   "metadata": {},
   "outputs": [],
   "source": []
  }
 ],
 "metadata": {
  "kernelspec": {
   "display_name": "Python 3",
   "language": "python",
   "name": "python3"
  },
  "language_info": {
   "codemirror_mode": {
    "name": "ipython",
    "version": 3
   },
   "file_extension": ".py",
   "mimetype": "text/x-python",
   "name": "python",
   "nbconvert_exporter": "python",
   "pygments_lexer": "ipython3",
   "version": "3.8.3"
  }
 },
 "nbformat": 4,
 "nbformat_minor": 5
}
