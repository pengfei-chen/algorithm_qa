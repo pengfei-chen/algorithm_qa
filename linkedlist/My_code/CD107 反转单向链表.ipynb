{
 "cells": [
  {
   "cell_type": "code",
   "execution_count": 8,
   "id": "d55080ab",
   "metadata": {},
   "outputs": [
    {
     "name": "stdout",
     "output_type": "stream",
     "text": [
      "3\n",
      "1 2 3\n",
      "4 \n",
      "1 2 3 4\n",
      "3 2 1 \n",
      "4 3 2 1 "
     ]
    }
   ],
   "source": [
    "class Node:\n",
    "    def __init__(self,x):\n",
    "        self.v = x\n",
    "        self.next = None \n",
    "        \n",
    "def reverseLinked(head):\n",
    "    pre = None \n",
    "    Next = None \n",
    "    while head:\n",
    "        Next = head.next\n",
    "        head.next = pre #每个节点开始反向\n",
    "        pre = head #当前节点作为后面节点的上一个节点 \n",
    "        head = Next \n",
    "    return pre \n",
    "    \n",
    "# while True:\n",
    "#     try:\n",
    "#         n = int(input())\n",
    "#         arr = list(map(int,input().split()))\n",
    "#         node = Node(arr[-1])\n",
    "#         head = None\n",
    "#         for i in range(n-1,-1,-1):\n",
    "#             node = Node(arr[i])\n",
    "#             node.next = head \n",
    "#             head = node\n",
    "#         p = reverseLinked(head)\n",
    "#         while p:\n",
    "#             print(p.v, end=' ')\n",
    "#             p = p.next \n",
    "#     except:\n",
    "#         break\n",
    "# head 就是链表头结点,链表构建完成 \n",
    "    \n",
    "    \n",
    "\n",
    "n = int(input())\n",
    "arr = list(map(int,input().split()))\n",
    "node = Node(arr[-1])\n",
    "head = None\n",
    "for i in range(n-1,-1,-1):\n",
    "    node = Node(arr[i])\n",
    "    node.next = head \n",
    "    head = node\n",
    "    \n",
    "n1 = int(input())\n",
    "arr1 = list(map(int,input().split()))\n",
    "node1 = Node(arr1[-1])\n",
    "head1 = None\n",
    "for i in range(n1-1,-1,-1):\n",
    "    node1 = Node(arr1[i])\n",
    "    node1.next = head1 \n",
    "    head1 = node1\n",
    "\n",
    "p = reverseLinked(head)\n",
    "p1 = reverseLinked(head1)\n",
    "while p:\n",
    "    print(p.v, end=' ')\n",
    "    p = p.next \n",
    "print(end='\\n')\n",
    "while p1:\n",
    "    print(p1.v, end=' ')\n",
    "    p1 = p1.next \n",
    "    "
   ]
  },
  {
   "cell_type": "markdown",
   "id": "6c1dbdea",
   "metadata": {},
   "source": []
  }
 ],
 "metadata": {
  "kernelspec": {
   "display_name": "Python 3",
   "language": "python",
   "name": "python3"
  },
  "language_info": {
   "codemirror_mode": {
    "name": "ipython",
    "version": 3
   },
   "file_extension": ".py",
   "mimetype": "text/x-python",
   "name": "python",
   "nbconvert_exporter": "python",
   "pygments_lexer": "ipython3",
   "version": "3.8.3"
  }
 },
 "nbformat": 4,
 "nbformat_minor": 5
}
