{
 "cells": [
  {
   "cell_type": "code",
   "execution_count": 1,
   "id": "7e71c6c0",
   "metadata": {},
   "outputs": [
    {
     "name": "stdout",
     "output_type": "stream",
     "text": [
      "3 2\n",
      "9 3 7\n",
      "6 3\n",
      "1 0 0 0 "
     ]
    }
   ],
   "source": [
    "class Node:\n",
    "    def __init__(self,x):\n",
    "        self.v = x\n",
    "        self.next = None \n",
    "        \n",
    "n,m = list(map(int,input().split()))\n",
    "arr1 = list(map(int,input().split()))\n",
    "arr2 = list(map(int,input().split()))\n",
    "\n",
    "node1 = Node(arr1[0])\n",
    "head1 = node1 \n",
    "for i in range(1,n):\n",
    "    node1.next = Node(arr1[i])\n",
    "    node1 = node1.next  \n",
    "    \n",
    "node2 = Node(arr2[0])\n",
    "head2 = node2 \n",
    "for i in range(1,m):\n",
    "    node2.next = Node(arr2[i])\n",
    "    node2 = node2.next \n",
    "    \n",
    "def reverseList(head):\n",
    "    cur = head \n",
    "    pre = None \n",
    "    Next = None\n",
    "    while cur:\n",
    "        Next = cur.next \n",
    "        cur.next = pre \n",
    "        pre = cur \n",
    "        cur = Next \n",
    "    return pre \n",
    "    \n",
    "def addLists2(head1,head2):\n",
    "    head1 = reverseList(head1)\n",
    "    head2 = reverseList(head2)\n",
    "    ca,n1,n2,n = 0,0,0,0 \n",
    "    c1,c2,node,pre = head1,head2,None,None \n",
    "    while c1 or c2:\n",
    "        n1 = c1.v if c1 else 0 \n",
    "        n2 = c2.v if c2 else 0\n",
    "        n = n1 + n2 + ca \n",
    "        pre = node # pre用来记录低位数\n",
    "        node = Node(n % 10 ) #新增加的位数\n",
    "        node.next = pre \n",
    "        ca = n // 10 \n",
    "        c1 = c1.next if c1 else None \n",
    "        c2 = c2.next if c2 else None \n",
    "    if ca == 1: # 如果加完后还余下一个进位，则增加一位 \n",
    "        pre = node \n",
    "        node = Node(1)\n",
    "        node.next = pre \n",
    "    reverseList(head1)\n",
    "    reverseList(head2)\n",
    "    return node  # node 是最高位\n",
    "\n",
    "ans = addLists2(head1,head2)\n",
    "while ans:\n",
    "    print(ans.v, end=' ')\n",
    "    ans = ans.next "
   ]
  },
  {
   "cell_type": "code",
   "execution_count": null,
   "id": "6e8b7320",
   "metadata": {},
   "outputs": [],
   "source": []
  }
 ],
 "metadata": {
  "kernelspec": {
   "display_name": "Python 3",
   "language": "python",
   "name": "python3"
  },
  "language_info": {
   "codemirror_mode": {
    "name": "ipython",
    "version": 3
   },
   "file_extension": ".py",
   "mimetype": "text/x-python",
   "name": "python",
   "nbconvert_exporter": "python",
   "pygments_lexer": "ipython3",
   "version": "3.8.3"
  }
 },
 "nbformat": 4,
 "nbformat_minor": 5
}
