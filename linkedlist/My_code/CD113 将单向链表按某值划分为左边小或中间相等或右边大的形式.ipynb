{
 "cells": [
  {
   "cell_type": "markdown",
   "id": "77a4f9a9",
   "metadata": {},
   "source": [
    "###  书中解法也是先放进列表，然后再将满足题意的结果，转成链表然后输出。"
   ]
  },
  {
   "cell_type": "code",
   "execution_count": 2,
   "id": "b1e3f5d5",
   "metadata": {},
   "outputs": [
    {
     "name": "stdout",
     "output_type": "stream",
     "text": [
      "5 3\n",
      "9 0 4 5 1\n",
      "0 1 9 4 5\n"
     ]
    }
   ],
   "source": [
    "n, pivot = map(int, input().split())\n",
    "lst = list(map(int, input().split()))\n",
    "l, m, r = [], [], []\n",
    "for i in lst:\n",
    "    if i>pivot: r.append(i)\n",
    "    elif i==pivot: m.append(i)\n",
    "    else: l.append(i)\n",
    "print(\" \".join(map(str, l+m+r)))"
   ]
  },
  {
   "cell_type": "code",
   "execution_count": null,
   "id": "5522bfdc",
   "metadata": {},
   "outputs": [],
   "source": []
  }
 ],
 "metadata": {
  "kernelspec": {
   "display_name": "Python 3",
   "language": "python",
   "name": "python3"
  },
  "language_info": {
   "codemirror_mode": {
    "name": "ipython",
    "version": 3
   },
   "file_extension": ".py",
   "mimetype": "text/x-python",
   "name": "python",
   "nbconvert_exporter": "python",
   "pygments_lexer": "ipython3",
   "version": "3.8.3"
  }
 },
 "nbformat": 4,
 "nbformat_minor": 5
}
