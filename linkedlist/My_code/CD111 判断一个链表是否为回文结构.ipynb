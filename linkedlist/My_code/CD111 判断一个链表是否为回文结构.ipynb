{
 "cells": [
  {
   "cell_type": "code",
   "execution_count": 1,
   "id": "afefd6b4",
   "metadata": {},
   "outputs": [
    {
     "name": "stdout",
     "output_type": "stream",
     "text": [
      "4\n",
      "1 2 2 1\n",
      "true\n"
     ]
    }
   ],
   "source": [
    "class Node:\n",
    "    def __init__(self,x):\n",
    "        self.v = x\n",
    "        self.next = None \n",
    "        \n",
    "n = int(input())\n",
    "arr = list(map(int,input().split()))\n",
    "\n",
    "node = Node(arr[0])\n",
    "head = node \n",
    "for i in range(1,n):\n",
    "    node.next = Node(arr[i])\n",
    "    node = node.next  \n",
    "    \n",
    "def isPalindromel(head):\n",
    "    stack = []\n",
    "    cur = head \n",
    "    while cur != None:\n",
    "        stack.append(cur)\n",
    "        cur = cur.next \n",
    "    while head:\n",
    "        if head.v != stack.pop().v: #栈里面内容是逆序的，顺序和逆序能对应上，则是回文字符串\n",
    "            return False \n",
    "        head = head.next \n",
    "    return True \n",
    "\n",
    "ans = isPalindromel(head)\n",
    "print(\"true\" if ans else \"false\")"
   ]
  },
  {
   "cell_type": "code",
   "execution_count": null,
   "id": "73a4eb16",
   "metadata": {},
   "outputs": [],
   "source": []
  }
 ],
 "metadata": {
  "kernelspec": {
   "display_name": "Python 3",
   "language": "python",
   "name": "python3"
  },
  "language_info": {
   "codemirror_mode": {
    "name": "ipython",
    "version": 3
   },
   "file_extension": ".py",
   "mimetype": "text/x-python",
   "name": "python",
   "nbconvert_exporter": "python",
   "pygments_lexer": "ipython3",
   "version": "3.8.3"
  }
 },
 "nbformat": 4,
 "nbformat_minor": 5
}
