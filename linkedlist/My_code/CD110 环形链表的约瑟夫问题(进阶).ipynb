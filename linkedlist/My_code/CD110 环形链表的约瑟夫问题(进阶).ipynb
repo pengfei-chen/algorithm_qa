{
 "cells": [
  {
   "cell_type": "markdown",
   "id": "48bfefd0",
   "metadata": {},
   "source": [
    "### 时间复杂度超了"
   ]
  },
  {
   "cell_type": "code",
   "execution_count": 1,
   "id": "033a3ffb",
   "metadata": {},
   "outputs": [
    {
     "name": "stdout",
     "output_type": "stream",
     "text": [
      "5 2\n",
      "3\n"
     ]
    }
   ],
   "source": [
    "n,m = list(map(int,input().split()))\n",
    "\n",
    "class Node:\n",
    "    def __init__(self,x):\n",
    "        self.v = x \n",
    "        self.next = None \n",
    "        \n",
    "        \n",
    "node = Node(1)\n",
    "head = node\n",
    "for i in range(2,n+1):\n",
    "    node.next = Node(i)\n",
    "    node = node.next \n",
    "node.next = head \n",
    "# 环形链表构建完成 \n",
    "\n",
    "# def josephusKill1(head,m):\n",
    "#     if  not head or head.next==head or m<1:\n",
    "#         return head \n",
    "#     last = head \n",
    "#     while (last.next != head):\n",
    "#         last = last.next  # last 到达最后一个 \n",
    "#     count = 0 \n",
    "#     while head!= last:\n",
    "#         count += 1 \n",
    "#         if count == m:\n",
    "#             last.next = head.next \n",
    "#             count = 0 \n",
    "#         else:\n",
    "#             last = last.next \n",
    "#         head = last.next  # 这一步太妙了！count 不断累加\n",
    "#     return head \n",
    "\n",
    "import sys   \n",
    "sys.setrecursionlimit(1000000) # 要加大递归深度\n",
    "\n",
    "def getLive(i, m):\n",
    "    if i==1:\n",
    "        return 1 \n",
    "    return (getLive(i-1, m) + m-1) % i + 1  # getLive(i-1, m) 新的环形链表\n",
    " \n",
    "def josephusKill2(head,m):\n",
    "    if  not head or head.next==head or m<1:\n",
    "        return head \n",
    "    cur = head.next \n",
    "    tmp = 1  # list size  环形链表长度\n",
    "    while cur!=head:\n",
    "        tmp += 1\n",
    "        cur = cur.next \n",
    "    tmp = getLive(tmp, m) # tmp, 活下来节点的位置 ，是在原链表里面的位置\n",
    "    tmp -= 1 \n",
    "    while tmp!= 0:\n",
    "        head = head.next \n",
    "        tmp -= 1 \n",
    "#     head.next = head  # 这一步可以省略\n",
    "    return head \n",
    "\n",
    "p = josephusKill2(head,m) \n",
    "print(p.v)"
   ]
  },
  {
   "cell_type": "code",
   "execution_count": null,
   "id": "07b0c90b",
   "metadata": {},
   "outputs": [],
   "source": []
  }
 ],
 "metadata": {
  "kernelspec": {
   "display_name": "Python 3",
   "language": "python",
   "name": "python3"
  },
  "language_info": {
   "codemirror_mode": {
    "name": "ipython",
    "version": 3
   },
   "file_extension": ".py",
   "mimetype": "text/x-python",
   "name": "python",
   "nbconvert_exporter": "python",
   "pygments_lexer": "ipython3",
   "version": "3.8.3"
  }
 },
 "nbformat": 4,
 "nbformat_minor": 5
}
