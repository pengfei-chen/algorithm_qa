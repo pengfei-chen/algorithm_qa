{
 "cells": [
  {
   "cell_type": "markdown",
   "id": "3896b35b",
   "metadata": {},
   "source": [
    "### python 效率比较低，过不了"
   ]
  },
  {
   "cell_type": "code",
   "execution_count": null,
   "id": "76a15f5b",
   "metadata": {},
   "outputs": [],
   "source": [
    "class Node:\n",
    "    def __init__(self,x):\n",
    "        self.v = x \n",
    "        self.next = None \n",
    "        \n",
    "n,k = list(map(int,input().split()))\n",
    "arr = input().split(' ')\n",
    "\n",
    "node = ListNode(arr[0])\n",
    "pHead = node\n",
    "for i in range(1, n):\n",
    "    node.next = ListNode(arr[i])\n",
    "    node = node.next\n",
    "    \n",
    "def removeKNode(head, k):\n",
    "    a = 0 \n",
    "    while a < k-2:\n",
    "        head = head.next \n",
    "        a+=1 \n",
    "    head.next = head.next.next \n",
    "\n",
    "removeKNode(head, k)\n",
    "p = head \n",
    "while p:\n",
    "    print(p.v, end=' ')\n",
    "    p = p.next "
   ]
  },
  {
   "cell_type": "markdown",
   "id": "d9151df3",
   "metadata": {},
   "source": [
    "### 启发，下面是效率比较高的建立链表的方式"
   ]
  },
  {
   "cell_type": "code",
   "execution_count": null,
   "id": "46d7c064",
   "metadata": {},
   "outputs": [],
   "source": [
    "node = Node(arr[0])\n",
    "head = node\n",
    "for i in range(1, n):\n",
    "    node.next = Node(arr[i])\n",
    "    node = node.next"
   ]
  },
  {
   "cell_type": "code",
   "execution_count": null,
   "id": "a2501972",
   "metadata": {},
   "outputs": [],
   "source": []
  },
  {
   "cell_type": "markdown",
   "id": "fe2ca805",
   "metadata": {},
   "source": [
    "### 通过的答案"
   ]
  },
  {
   "cell_type": "code",
   "execution_count": null,
   "id": "5e87ed7e",
   "metadata": {},
   "outputs": [],
   "source": [
    "class ListNode(object):\n",
    "    def __init__(self, value):\n",
    "        self.val = value\n",
    "        self.next = None\n",
    "\n",
    "def delete(pHead, k):\n",
    "    cur = pHead\n",
    "    while k > 2:\n",
    "        cur = cur.next\n",
    "        k -= 1\n",
    "    cur.next = cur.next.next\n",
    "    return pHead\n",
    "\n",
    "\n",
    "n, m = map(int, input().split())\n",
    "arr = list(map(int,input().split()))\n",
    "node = ListNode(arr[0])\n",
    "pHead = node\n",
    "for i in range(1, n):\n",
    "    node.next = ListNode(arr[i])\n",
    "    node = node.next\n",
    "node1 = delete(pHead, m)\n",
    "while node1:\n",
    "    print(node1.val, end=' ')\n",
    "    node1 = node1.next"
   ]
  },
  {
   "cell_type": "code",
   "execution_count": null,
   "id": "d870acb9",
   "metadata": {},
   "outputs": [],
   "source": []
  },
  {
   "cell_type": "code",
   "execution_count": null,
   "id": "6e32d125",
   "metadata": {},
   "outputs": [],
   "source": []
  },
  {
   "cell_type": "code",
   "execution_count": null,
   "id": "3567ebbe",
   "metadata": {},
   "outputs": [],
   "source": []
  }
 ],
 "metadata": {
  "kernelspec": {
   "display_name": "Python 3",
   "language": "python",
   "name": "python3"
  },
  "language_info": {
   "codemirror_mode": {
    "name": "ipython",
    "version": 3
   },
   "file_extension": ".py",
   "mimetype": "text/x-python",
   "name": "python",
   "nbconvert_exporter": "python",
   "pygments_lexer": "ipython3",
   "version": "3.8.8"
  }
 },
 "nbformat": 4,
 "nbformat_minor": 5
}
