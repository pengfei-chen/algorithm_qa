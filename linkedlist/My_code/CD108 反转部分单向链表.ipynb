{
 "cells": [
  {
   "cell_type": "code",
   "execution_count": 1,
   "id": "793105b8",
   "metadata": {},
   "outputs": [
    {
     "name": "stdout",
     "output_type": "stream",
     "text": [
      "5\n",
      "1 2 3 4 5\n",
      "1 3\n",
      "3 2 1 4 5 "
     ]
    }
   ],
   "source": [
    "n = int(input())\n",
    "arr = list(map(int,input().split()))\n",
    "l,r = list(map(int,input().split())) \n",
    "\n",
    "class Node:\n",
    "    def __init__(self,x):\n",
    "        self.v = x \n",
    "        self.next = None \n",
    "        \n",
    "\n",
    "node = Node(arr[0])\n",
    "head = node\n",
    "for i in range(1,n):\n",
    "    node.next = Node(arr[i])\n",
    "    node = node.next \n",
    "\n",
    "def reversePart(head, l, r):\n",
    "    Len = 0 \n",
    "    node1 = head \n",
    "    fPre = None \n",
    "    tPos = None \n",
    "    while (node1 != None):\n",
    "        Len += 1 \n",
    "        fPre = node1 if Len == l-1 else fPre #找到要反转的前一个点 ,记录一次之后就没变过了\n",
    "        tPos = node1 if Len == r+1 else tPos #找到要反转的后一个点\n",
    "        node1 = node1.next \n",
    "    if (l>r or l<1 or r>Len): #不符合反转条件，直接返回 \n",
    "        return head \n",
    "    node1 = head if fPre==None else fPre.next  #fPre==None说明从第一个节点开始反转\n",
    "    node2 = node1.next \n",
    "    node1.next = tPos #node1是反转部分第一个点，反转后最后一个点，指向tPos \n",
    "    Next = None \n",
    "    while node2 != tPos:\n",
    "        Next = node2.next \n",
    "        node2.next = node1 \n",
    "        node1 = node2\n",
    "        node2 = Next\n",
    "    if fPre != None:\n",
    "        fPre.next = node1  #node1是反转后的第一个节点\n",
    "        return head \n",
    "    return node1 \n",
    "    \n",
    "    \n",
    "p = reversePart(head, l, r)\n",
    "while p:\n",
    "    print(p.v, end=' ')\n",
    "    p = p.next \n",
    "    "
   ]
  },
  {
   "cell_type": "code",
   "execution_count": null,
   "id": "1eba445b",
   "metadata": {},
   "outputs": [],
   "source": []
  }
 ],
 "metadata": {
  "kernelspec": {
   "display_name": "Python 3",
   "language": "python",
   "name": "python3"
  },
  "language_info": {
   "codemirror_mode": {
    "name": "ipython",
    "version": 3
   },
   "file_extension": ".py",
   "mimetype": "text/x-python",
   "name": "python",
   "nbconvert_exporter": "python",
   "pygments_lexer": "ipython3",
   "version": "3.8.3"
  }
 },
 "nbformat": 4,
 "nbformat_minor": 5
}
