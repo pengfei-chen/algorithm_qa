{
 "cells": [
  {
   "cell_type": "code",
   "execution_count": 1,
   "id": "f9b3b055",
   "metadata": {},
   "outputs": [
    {
     "name": "stdout",
     "output_type": "stream",
     "text": [
      "13 169\n",
      "13\n"
     ]
    }
   ],
   "source": [
    "m,n=map(int,input().split()) \n",
    "# 牛皮的思路！\n",
    "if m<n:\n",
    "    m,n=n,m\n",
    "while m%n!=0:\n",
    "    m,n=n,m%n\n",
    "print(n)"
   ]
  },
  {
   "cell_type": "code",
   "execution_count": null,
   "id": "2bdf92e5",
   "metadata": {},
   "outputs": [],
   "source": []
  }
 ],
 "metadata": {
  "kernelspec": {
   "display_name": "Python 3",
   "language": "python",
   "name": "python3"
  },
  "language_info": {
   "codemirror_mode": {
    "name": "ipython",
    "version": 3
   },
   "file_extension": ".py",
   "mimetype": "text/x-python",
   "name": "python",
   "nbconvert_exporter": "python",
   "pygments_lexer": "ipython3",
   "version": "3.8.3"
  }
 },
 "nbformat": 4,
 "nbformat_minor": 5
}
