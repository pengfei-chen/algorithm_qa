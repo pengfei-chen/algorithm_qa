{
 "cells": [
  {
   "cell_type": "code",
   "execution_count": 1,
   "id": "373dcaff",
   "metadata": {},
   "outputs": [
    {
     "name": "stdout",
     "output_type": "stream",
     "text": [
      "100\n",
      "24\n"
     ]
    }
   ],
   "source": [
    "def numOfZero(n):\n",
    "    num, i = 0, 5\n",
    "    while i <= n:\n",
    "        num += n // i \n",
    "        i *= 5 \n",
    "    return num\n",
    "n = int(input())\n",
    "print(numOfZero(n))"
   ]
  },
  {
   "cell_type": "markdown",
   "id": "b29ec48e",
   "metadata": {},
   "source": [
    "每一对（2,5）就会产生一个0，将问题转换为：n!有多少对（2,5）\n",
    "\n",
    "进一步将问题简化为：n!拆分成的因子中有多少个5（为什么是5，不是2，是因为2出现的频率比5高）"
   ]
  },
  {
   "cell_type": "code",
   "execution_count": null,
   "id": "895fd6a2",
   "metadata": {},
   "outputs": [],
   "source": []
  }
 ],
 "metadata": {
  "kernelspec": {
   "display_name": "Python 3",
   "language": "python",
   "name": "python3"
  },
  "language_info": {
   "codemirror_mode": {
    "name": "ipython",
    "version": 3
   },
   "file_extension": ".py",
   "mimetype": "text/x-python",
   "name": "python",
   "nbconvert_exporter": "python",
   "pygments_lexer": "ipython3",
   "version": "3.8.8"
  }
 },
 "nbformat": 4,
 "nbformat_minor": 5
}
