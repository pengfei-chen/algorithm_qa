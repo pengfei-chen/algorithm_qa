{
 "cells": [
  {
   "cell_type": "code",
   "execution_count": 1,
   "id": "5851110a",
   "metadata": {},
   "outputs": [
    {
     "name": "stdout",
     "output_type": "stream",
     "text": [
      "-1 0\n",
      "1.5 3.5\n",
      "2.73 -3.12\n",
      "2333.33 233333.33\n",
      "No\n"
     ]
    }
   ],
   "source": [
    "x1,y1 = list(map(float,input().split()))\n",
    "x2,y2 = list(map(float,input().split()))\n",
    "x3,y3 = list(map(float,input().split()))\n",
    "x,y = list(map(float,input().split()))\n",
    "\n",
    "def crossProduct(x1,y1,x2,y2):\n",
    "    return x1*y2 - x2*y1 \n",
    "\n",
    "def isInside2(x1,y1,x2,y2,x3,y3,x,y):\n",
    "    # 如果三角形的点不是逆时针输入，改变一下顺序 \n",
    "    if  crossProduct(x3-x1, y3-y1, x2-x, y2-y1) >= 0:\n",
    "        x2,y2,x3,y3 = x3,y3 ,x2,y2 \n",
    "    if crossProduct(x2-x1, y2-y1, x-x1, y-y1) < 0:\n",
    "        return False \n",
    "    if crossProduct(x3-x2, y3-y2, x-x2, y-y2) < 0:\n",
    "        return False \n",
    "    if crossProduct(x1-x3, y1-y3, x-x3, y-y3) < 0:\n",
    "        return False \n",
    "    return True \n",
    "\n",
    "ans = isInside2(x1,y1,x2,y2,x3,y3,x,y) \n",
    "print (\"Yes\" if ans else \"No\")"
   ]
  },
  {
   "cell_type": "code",
   "execution_count": null,
   "id": "8d556319",
   "metadata": {},
   "outputs": [],
   "source": []
  }
 ],
 "metadata": {
  "kernelspec": {
   "display_name": "Python 3",
   "language": "python",
   "name": "python3"
  },
  "language_info": {
   "codemirror_mode": {
    "name": "ipython",
    "version": 3
   },
   "file_extension": ".py",
   "mimetype": "text/x-python",
   "name": "python",
   "nbconvert_exporter": "python",
   "pygments_lexer": "ipython3",
   "version": "3.8.8"
  }
 },
 "nbformat": 4,
 "nbformat_minor": 5
}
