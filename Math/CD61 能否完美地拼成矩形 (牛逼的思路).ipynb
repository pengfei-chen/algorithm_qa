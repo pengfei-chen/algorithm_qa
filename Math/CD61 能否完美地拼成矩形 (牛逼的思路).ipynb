{
 "cells": [
  {
   "cell_type": "code",
   "execution_count": 1,
   "id": "08b16a87",
   "metadata": {},
   "outputs": [
    {
     "name": "stdout",
     "output_type": "stream",
     "text": [
      "5\n",
      "1 1 3 3\n",
      "3 1 4 2\n",
      "3 2 4 4\n",
      "1 3 2 4\n",
      "2 3 3 4\n",
      "{(1, 1): 1, (4, 1): 1, (4, 4): 1, (1, 4): 1}\n"
     ]
    }
   ],
   "source": [
    "N=int(input())\n",
    "d={}\n",
    "def popOrAdd(a):\n",
    "    if a in d:\n",
    "        d.pop(a)\n",
    "    else:\n",
    "        d[a]=1\n",
    "for i in range(N):\n",
    "    l=(list(map(int,input().split())))\n",
    "    popOrAdd((l[0],l[1]))\n",
    "    popOrAdd((l[2],l[3]))\n",
    "    popOrAdd((l[0],l[3]))\n",
    "    popOrAdd((l[2],l[1]))\n",
    "# if len(d)==4:\n",
    "#     print('Yes')\n",
    "# else:\n",
    "#     print('No')\n",
    "\n",
    "print(d)"
   ]
  },
  {
   "cell_type": "code",
   "execution_count": null,
   "id": "14ec533d",
   "metadata": {},
   "outputs": [],
   "source": []
  }
 ],
 "metadata": {
  "kernelspec": {
   "display_name": "Python 3",
   "language": "python",
   "name": "python3"
  },
  "language_info": {
   "codemirror_mode": {
    "name": "ipython",
    "version": 3
   },
   "file_extension": ".py",
   "mimetype": "text/x-python",
   "name": "python",
   "nbconvert_exporter": "python",
   "pygments_lexer": "ipython3",
   "version": "3.8.8"
  }
 },
 "nbformat": 4,
 "nbformat_minor": 5
}
