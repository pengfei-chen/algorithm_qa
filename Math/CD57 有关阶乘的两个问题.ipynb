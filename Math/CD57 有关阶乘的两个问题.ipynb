{
 "cells": [
  {
   "cell_type": "code",
   "execution_count": 2,
   "id": "de05fc73",
   "metadata": {},
   "outputs": [
    {
     "name": "stdout",
     "output_type": "stream",
     "text": [
      "1000\n",
      "994\n"
     ]
    }
   ],
   "source": [
    "num = int(input())\n",
    "\n",
    "# def rightOne(num):\n",
    "#     if num < 1:\n",
    "#         return -1 \n",
    "#     res = 0 \n",
    "#     while num != 0 :\n",
    "#         num  = num >> 1 \n",
    "#         res += num \n",
    "#     return res \n",
    "\n",
    "def rightOne2(num):\n",
    "    if num < 1:\n",
    "        return -1  \n",
    "    ones = 0 \n",
    "    tmp = num \n",
    "    while tmp != 0:\n",
    "        res = 1 if tmp & 1 !=0 else 0 \n",
    "        ones += res \n",
    "        tmp = tmp >>1 \n",
    "    return num - ones \n",
    "\n",
    "print(rightOne2(num))"
   ]
  },
  {
   "cell_type": "code",
   "execution_count": null,
   "id": "d7f68acd",
   "metadata": {},
   "outputs": [],
   "source": []
  }
 ],
 "metadata": {
  "kernelspec": {
   "display_name": "Python 3",
   "language": "python",
   "name": "python3"
  },
  "language_info": {
   "codemirror_mode": {
    "name": "ipython",
    "version": 3
   },
   "file_extension": ".py",
   "mimetype": "text/x-python",
   "name": "python",
   "nbconvert_exporter": "python",
   "pygments_lexer": "ipython3",
   "version": "3.8.8"
  }
 },
 "nbformat": 4,
 "nbformat_minor": 5
}
