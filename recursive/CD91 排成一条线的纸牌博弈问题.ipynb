{
 "cells": [
  {
   "cell_type": "code",
   "execution_count": 3,
   "id": "33037ac3",
   "metadata": {},
   "outputs": [
    {
     "name": "stdout",
     "output_type": "stream",
     "text": [
      "4\n",
      "1 2 100 4\n"
     ]
    }
   ],
   "source": [
    "n = int(input())\n",
    "arr = list(map(int,input().split()))"
   ]
  },
  {
   "cell_type": "code",
   "execution_count": 6,
   "id": "b962c9d2",
   "metadata": {},
   "outputs": [
    {
     "name": "stdout",
     "output_type": "stream",
     "text": [
      "4\n",
      "1 2 100 4\n",
      "101\n"
     ]
    }
   ],
   "source": [
    "n = int(input())\n",
    "arr = list(map(int,input().split(' ')))\n",
    "# 方法一，暴力递归\n",
    "# def f(arr,i,j):\n",
    "#     if i ==j:\n",
    "#         return arr[i]\n",
    "#     return max(arr[i]+s(arr,i+1,j), arr[j]+s(arr,i,j-1))\n",
    "# def s(arr,i,j):\n",
    "#     if i == j:\n",
    "#         return 0\n",
    "#     return min(f(arr,i+1,j),f(arr,i,j-1))\n",
    "# def win1(arr): \n",
    "#     if not arr or len(arr) == 0:\n",
    "#         return 0\n",
    "#     return max(f(arr,0,n-1), s(arr,0,n-1))\n",
    "# ans = win1(arr)\n",
    "# print(ans)\n",
    "\n",
    "# 方法二\n",
    "def win2(arr,n):\n",
    "    if not arr or len(arr)==0:\n",
    "        return 0 \n",
    "    f = [[0] * n] * n\n",
    "    s = [[0] * n] * n\n",
    "    for j in range(n):\n",
    "        f[j][j] == arr[j]\n",
    "        for i in range(j-1,-1,-1):\n",
    "            f[i][j] = max(arr[i]+s[i+1][j], arr[j] + s[i][j-1])\n",
    "            s[i][j] = min(f[i+1][j], f[i][j-1])\n",
    "    return max(f[0][n-1] , s[0][n-1])\n",
    "\n",
    "ans = win2(arr,n)\n",
    "print(ans)\n",
    "\n"
   ]
  },
  {
   "cell_type": "code",
   "execution_count": null,
   "id": "8c593b77",
   "metadata": {},
   "outputs": [],
   "source": []
  }
 ],
 "metadata": {
  "kernelspec": {
   "display_name": "Python 3",
   "language": "python",
   "name": "python3"
  },
  "language_info": {
   "codemirror_mode": {
    "name": "ipython",
    "version": 3
   },
   "file_extension": ".py",
   "mimetype": "text/x-python",
   "name": "python",
   "nbconvert_exporter": "python",
   "pygments_lexer": "ipython3",
   "version": "3.8.3"
  }
 },
 "nbformat": 4,
 "nbformat_minor": 5
}
