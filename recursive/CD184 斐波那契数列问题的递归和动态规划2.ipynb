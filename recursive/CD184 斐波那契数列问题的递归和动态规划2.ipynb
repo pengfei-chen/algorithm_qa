{
 "cells": [
  {
   "cell_type": "markdown",
   "id": "f13ffef4",
   "metadata": {},
   "source": [
    "### 太难了，这个题目不会。。"
   ]
  },
  {
   "cell_type": "markdown",
   "id": "e38be839",
   "metadata": {},
   "source": [
    "###  时间复杂度要求 O(logN)"
   ]
  },
  {
   "cell_type": "code",
   "execution_count": null,
   "id": "9a10e89b",
   "metadata": {},
   "outputs": [],
   "source": [
    "import sys\n",
    "n=int(sys.stdin.readline().strip())\n",
    "m=int(1e9+7)\n",
    " \n",
    "def matrix_power(a,b):#矩阵乘法\n",
    "    temp=[[0]*len(b[0]) for _ in range(len(a))]\n",
    "    for i in range(len(a)):\n",
    "        for j in range(len(b[0])):\n",
    "            for k in range(len(b)):\n",
    "                temp[i][j]=(temp[i][j]+a[i][k]*b[k][j])%m\n",
    "    return temp\n",
    " \n",
    "def fast_power(base,n):\n",
    "    sum=[[1 if i==j else 0 for i in range(len(base[0]))] for j in range(len(base))]\n",
    "    while n!=0:\n",
    "        if n&1!=0:#如果是奇数，n与1进行按二进制位求交，所以看n最后是否为1，是的话多×一次\n",
    "            sum=matrix_power(sum, base)\n",
    "        n=n>>1#将n的二进制向右移移位，低位自动消失\n",
    "        base=matrix_power(base, base)#base的2次，4次，8次。。。\n",
    "    return sum\n",
    " \n",
    "if n==1:\n",
    "    d=n\n",
    "else:\n",
    "    base=[[1,1],[1,0]]\n",
    "    res=fast_power(base, n-1)\n",
    "    d=res[0][0]+res[0][1]\n",
    "print(d%m)"
   ]
  }
 ],
 "metadata": {
  "kernelspec": {
   "display_name": "Python 3",
   "language": "python",
   "name": "python3"
  },
  "language_info": {
   "codemirror_mode": {
    "name": "ipython",
    "version": 3
   },
   "file_extension": ".py",
   "mimetype": "text/x-python",
   "name": "python",
   "nbconvert_exporter": "python",
   "pygments_lexer": "ipython3",
   "version": "3.8.3"
  }
 },
 "nbformat": 4,
 "nbformat_minor": 5
}
