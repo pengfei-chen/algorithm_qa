{
 "cells": [
  {
   "cell_type": "code",
   "execution_count": 2,
   "id": "f82348b2",
   "metadata": {},
   "outputs": [
    {
     "data": {
      "text/plain": [
       "['1', '2', '1', '2', '3']"
      ]
     },
     "execution_count": 2,
     "metadata": {},
     "output_type": "execute_result"
    }
   ],
   "source": [
    "a = '12123'\n",
    "list(a)"
   ]
  },
  {
   "cell_type": "code",
   "execution_count": 3,
   "id": "5b118438",
   "metadata": {},
   "outputs": [
    {
     "name": "stdout",
     "output_type": "stream",
     "text": [
      "4 5\n",
      "10111\n",
      "10101\n",
      "11101\n",
      "00001\n",
      "12\n"
     ]
    }
   ],
   "source": [
    "# -*- coding: utf-8 -*-\n",
    "# !/usr/bin/python3\n",
    "# 解题思路，利用广度优先搜索（BFS）进行遍历，从00到mn位置最少需要几层，就是最短路径的长度\n",
    "# 判断每层的条件：下标合法不越界，数组中值为1，并且没有被遍历过\n",
    "# BFS将每层可遍历的元素保存到一个集合中，将该集合作为下次遍历的对象，寻找下一层\n",
    "# 只到找到mn位置为止，如果找不到就是-1\n",
    "\n",
    "def bfs(arr, m, n):\n",
    "    if arr[0][0] == 0:\n",
    "        return -1\n",
    "    vst = [[0]*n for _ in range(m)] # 记录是否已经访问\n",
    "    qe, steps, vst[0][0] = {(0, 0)}, 1, 1\n",
    "    while qe: # 要的是这个循环, 这里不能是 while True\n",
    "        tmp = set()\n",
    "        for x, y in qe:\n",
    "            if (x, y) == (m - 1, n - 1):\n",
    "                return steps\n",
    "            for k, l in ((x - 1, y), (x, y + 1), (x + 1, y), (x, y - 1)): #上，右，下，左\n",
    "                if 0 <= k < m and 0 <= l < n and arr[k][l] == 1 and vst[k][l] == 0:\n",
    "                    tmp.add((k, l))\n",
    "                    vst[k][l] = 1\n",
    "        steps += 1\n",
    "        qe = tmp\n",
    "    return -1\n",
    "\n",
    "m,n = map(int,input().split())\n",
    "arr = []\n",
    "for i in range(m):\n",
    "    a = list(map(int,list(input())))\n",
    "    arr.append(a)\n",
    "    \n",
    "print(bfs(arr, m, n))"
   ]
  },
  {
   "cell_type": "code",
   "execution_count": null,
   "id": "de76fbd7",
   "metadata": {},
   "outputs": [],
   "source": []
  }
 ],
 "metadata": {
  "kernelspec": {
   "display_name": "Python 3",
   "language": "python",
   "name": "python3"
  },
  "language_info": {
   "codemirror_mode": {
    "name": "ipython",
    "version": 3
   },
   "file_extension": ".py",
   "mimetype": "text/x-python",
   "name": "python",
   "nbconvert_exporter": "python",
   "pygments_lexer": "ipython3",
   "version": "3.8.3"
  }
 },
 "nbformat": 4,
 "nbformat_minor": 5
}
