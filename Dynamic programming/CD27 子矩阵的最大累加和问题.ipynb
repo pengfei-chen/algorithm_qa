{
 "cells": [
  {
   "cell_type": "markdown",
   "id": "7d9be495",
   "metadata": {},
   "source": [
    "###  很厉害的思路"
   ]
  },
  {
   "cell_type": "code",
   "execution_count": 3,
   "id": "80fa008b",
   "metadata": {},
   "outputs": [
    {
     "name": "stdout",
     "output_type": "stream",
     "text": [
      "3 3\n",
      "-90 48 78\n",
      "64 -40 64\n",
      "-81 -7 66\n",
      "209\n"
     ]
    }
   ],
   "source": [
    "n,m = list(map(int,input().split()))\n",
    "arr = []\n",
    "for i in range(n):\n",
    "    a = list(map(int,input().split()))\n",
    "    arr.append(a)\n",
    "    \n",
    "def maxSum(arr):\n",
    "    if arr is None or len(arr)==0 or len(arr[0])==0:\n",
    "        return 0\n",
    "    Max = -10**10\n",
    "    cur = 0\n",
    "    s = []\n",
    "    for i in range(len(arr)):\n",
    "        s = [0] * len(arr[0])\n",
    "        for j in range(i, len(arr)):  # 从第j行开始往下\n",
    "            cur = 0 \n",
    "            for k in range(len(s)):\n",
    "                s[k] += arr[j][k]\n",
    "                cur += s[k]\n",
    "                Max = max(Max, cur)\n",
    "                cur = cur if cur >=0 else 0\n",
    "    return Max\n",
    "\n",
    "print(maxSum(arr))"
   ]
  },
  {
   "cell_type": "code",
   "execution_count": null,
   "id": "90948497",
   "metadata": {},
   "outputs": [],
   "source": []
  }
 ],
 "metadata": {
  "kernelspec": {
   "display_name": "Python 3",
   "language": "python",
   "name": "python3"
  },
  "language_info": {
   "codemirror_mode": {
    "name": "ipython",
    "version": 3
   },
   "file_extension": ".py",
   "mimetype": "text/x-python",
   "name": "python",
   "nbconvert_exporter": "python",
   "pygments_lexer": "ipython3",
   "version": "3.8.3"
  }
 },
 "nbformat": 4,
 "nbformat_minor": 5
}
