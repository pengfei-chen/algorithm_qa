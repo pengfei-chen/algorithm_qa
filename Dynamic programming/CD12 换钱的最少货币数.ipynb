{
 "cells": [
  {
   "cell_type": "code",
   "execution_count": 1,
   "id": "b5c60d2b",
   "metadata": {},
   "outputs": [
    {
     "name": "stdout",
     "output_type": "stream",
     "text": [
      "3 20\n",
      "5 2 3 \n",
      "4\n"
     ]
    }
   ],
   "source": [
    "n, aim = list(map(int,input().split()))\n",
    "arr = list(map(int,input().split()))\n",
    "\n",
    "# 暴力递归解法   # 这个思路其实很好！\n",
    "def process(arr, i, rest): # rest,余下的货币\n",
    "    if i == len(arr):\n",
    "        return 0 if rest == 0 else -1\n",
    "    res = -1 #最小张数\n",
    "    k = 0\n",
    "    while k * arr[i] <= rest:\n",
    "        Next = process(arr, i+1,rest-k*arr[i])\n",
    "        if (Next != -1):\n",
    "            if res == -1:\n",
    "                res = Next + k\n",
    "            else:\n",
    "                res = min(res, Next + k)\n",
    "        k += 1\n",
    "    return res\n",
    "def minCoins1(arr, aim):\n",
    "    if not arr or len(arr)==0 or aim <0:\n",
    "        return -1\n",
    "    return process(arr, 0, aim)\n",
    "\n",
    "print(minCoins1(arr, aim))\n"
   ]
  },
  {
   "cell_type": "code",
   "execution_count": 2,
   "id": "393b5a84",
   "metadata": {},
   "outputs": [
    {
     "data": {
      "text/plain": [
       "[[0, 0], [0, 0], [0, 0]]"
      ]
     },
     "execution_count": 2,
     "metadata": {},
     "output_type": "execute_result"
    }
   ],
   "source": [
    "[[0] * 2] * 3"
   ]
  },
  {
   "cell_type": "code",
   "execution_count": 3,
   "id": "99e10abe",
   "metadata": {},
   "outputs": [
    {
     "data": {
      "text/plain": [
       "[0, -1, -1, -1]"
      ]
     },
     "execution_count": 3,
     "metadata": {},
     "output_type": "execute_result"
    }
   ],
   "source": [
    "[0] + [-1] * 3"
   ]
  },
  {
   "cell_type": "code",
   "execution_count": 31,
   "id": "950094fd",
   "metadata": {},
   "outputs": [
    {
     "data": {
      "text/plain": [
       "[[0, 0, 0], [0, 0, 0], [0, 0, 0], [0, 0, 0]]"
      ]
     },
     "execution_count": 31,
     "metadata": {},
     "output_type": "execute_result"
    }
   ],
   "source": [
    "dp = [[0] * (2 +1) ] * (3 + 1)\n",
    "dp"
   ]
  },
  {
   "cell_type": "code",
   "execution_count": 32,
   "id": "f1ed6d59",
   "metadata": {},
   "outputs": [],
   "source": [
    "from copy import deepcopy"
   ]
  },
  {
   "cell_type": "code",
   "execution_count": 33,
   "id": "786dc54d",
   "metadata": {},
   "outputs": [],
   "source": [
    "dp_1 = deepcopy(dp) "
   ]
  },
  {
   "cell_type": "code",
   "execution_count": 34,
   "id": "1810073c",
   "metadata": {},
   "outputs": [
    {
     "data": {
      "text/plain": [
       "[[1, 0, 0], [1, 0, 0], [1, 0, 0], [1, 0, 0]]"
      ]
     },
     "execution_count": 34,
     "metadata": {},
     "output_type": "execute_result"
    }
   ],
   "source": [
    "dp_1[3][0] = 1\n",
    "dp_1"
   ]
  },
  {
   "cell_type": "code",
   "execution_count": 13,
   "id": "7491d3d0",
   "metadata": {},
   "outputs": [
    {
     "data": {
      "text/plain": [
       "[[0, 0, 0], [0, 0, 0], [0, 0, 0], [0, -1, -1]]"
      ]
     },
     "execution_count": 13,
     "metadata": {},
     "output_type": "execute_result"
    }
   ],
   "source": [
    "dp[3] = [0] + [-1] * 2\n",
    "dp"
   ]
  },
  {
   "cell_type": "code",
   "execution_count": 11,
   "id": "f360e895",
   "metadata": {},
   "outputs": [
    {
     "data": {
      "text/plain": [
       "[[0, -1, -1], [0, -1, -1], [0, -1, -1], [0, -1, -1]]"
      ]
     },
     "execution_count": 11,
     "metadata": {},
     "output_type": "execute_result"
    }
   ],
   "source": [
    "dp = [[0] * (2 +1) ] * (3 + 1)\n",
    "for i in range(1,2+1):\n",
    "    dp[3][i] = -1   # 最下面一行\n",
    "    \n",
    "dp"
   ]
  },
  {
   "cell_type": "markdown",
   "id": "2d6632bc",
   "metadata": {},
   "source": [
    "##  感动，跑通过的答案如下"
   ]
  },
  {
   "cell_type": "code",
   "execution_count": null,
   "id": "8da92695",
   "metadata": {},
   "outputs": [],
   "source": [
    "n, aim = list(map(int,input().split()))\n",
    "arr = list(map(int,input().split()))\n",
    "import copy\n",
    "def minCoins2(arr, aim):\n",
    "    if not arr or len(arr)==0 or aim <0:\n",
    "        return -1\n",
    "    N = len(arr)\n",
    "    \n",
    "    dp = []\n",
    "    for i in range(N+1):   # 真的是坑！\n",
    "        dp_help = [0] * (aim +1)  # 避免深拷贝的问题\n",
    "        dp.append(dp_help)\n",
    "#     for i in range(1,aim+1):\n",
    "#         dp[N][i] = -1   # 最下面一行，\n",
    "    dp[N] = [0] + [-1] * aim\n",
    "    for i in range(N-1, -1, -1): #从底往上计算每一行\n",
    "        for rest in range(0,aim+1):\n",
    "            dp[i][rest] = -1 # 初始时，设置dp[i][rest] 的值无效\n",
    "            if dp[i+1][rest] != -1: # 下面的值如果有效\n",
    "                dp[i][rest] = dp[i+1][rest]\n",
    "            if (rest - arr[i] >= 0 and dp[i][rest-arr[i]] != -1 ):\n",
    "                # 如果之前下面的值无效\n",
    "                if dp[i][rest] == -1:  # 因为默认这里是 -1， 之前无效则没变\n",
    "                    dp[i][rest] = dp[i][rest-arr[i]] + 1\n",
    "                # 如果之前下面的值有效，则取两者中最小的\n",
    "                else:\n",
    "                    dp[i][rest] = min(dp[i][rest], dp[i][rest-arr[i]] + 1)\n",
    "    return dp[0][aim]\n",
    "    \n",
    "print(minCoins2(arr, aim))"
   ]
  }
 ],
 "metadata": {
  "kernelspec": {
   "display_name": "Python 3",
   "language": "python",
   "name": "python3"
  },
  "language_info": {
   "codemirror_mode": {
    "name": "ipython",
    "version": 3
   },
   "file_extension": ".py",
   "mimetype": "text/x-python",
   "name": "python",
   "nbconvert_exporter": "python",
   "pygments_lexer": "ipython3",
   "version": "3.8.8"
  }
 },
 "nbformat": 4,
 "nbformat_minor": 5
}
