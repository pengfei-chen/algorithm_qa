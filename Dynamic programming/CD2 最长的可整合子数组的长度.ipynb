{
 "cells": [
  {
   "cell_type": "code",
   "execution_count": 5,
   "id": "176d7895",
   "metadata": {},
   "outputs": [
    {
     "data": {
      "text/plain": [
       "{1}"
      ]
     },
     "execution_count": 5,
     "metadata": {},
     "output_type": "execute_result"
    }
   ],
   "source": [
    "Set = set()\n",
    "Set.add(1)\n",
    "Set"
   ]
  },
  {
   "cell_type": "code",
   "execution_count": 7,
   "id": "f6a84d4c",
   "metadata": {},
   "outputs": [
    {
     "data": {
      "text/plain": [
       "set()"
      ]
     },
     "execution_count": 7,
     "metadata": {},
     "output_type": "execute_result"
    }
   ],
   "source": [
    "Set.clear()\n",
    "Set"
   ]
  },
  {
   "cell_type": "markdown",
   "id": "3d866bab",
   "metadata": {},
   "source": [
    "###  原书中解法，超时了。。"
   ]
  },
  {
   "cell_type": "code",
   "execution_count": null,
   "id": "f8694770",
   "metadata": {},
   "outputs": [],
   "source": [
    "n = int(input())\n",
    "arr = list(map(int, input().split()))\n",
    "\n",
    "def getLIL2(arr, n):\n",
    "    if not arr or len(arr)==0:\n",
    "        return 0\n",
    "    length = 0\n",
    "    Max = 0\n",
    "    Min = 0\n",
    "    Set = set()\n",
    "    for i in range(n):\n",
    "        Max = -10**10\n",
    "        Min = 10**10\n",
    "        for j in range(i,n):\n",
    "            if arr[j] in Set:\n",
    "                break\n",
    "            Set.add(arr[j])\n",
    "            Max = max(Max, arr[j])\n",
    "            Min = min(Min, arr[j])\n",
    "            if Max - Min == j - i:\n",
    "                length = max(length, j - i + 1)\n",
    "        Set.clear()  # 这一步清空，别忘了\n",
    "    return length\n",
    "\n",
    "print(getLIL2(arr, n))"
   ]
  },
  {
   "cell_type": "markdown",
   "id": "82f1697b",
   "metadata": {},
   "source": [
    "###  讨论中，时间最快的解法"
   ]
  },
  {
   "cell_type": "code",
   "execution_count": null,
   "id": "17428694",
   "metadata": {},
   "outputs": [],
   "source": [
    "while True:\n",
    "    try:\n",
    "        n = int(input())\n",
    "        l = list(map(int, input().split()))\n",
    "        if n==5:   # 这里根据测试用例，开了透视眼。。\n",
    "            print(1)\n",
    "            break\n",
    "        l = sorted(list(set(l)))\n",
    "        tmp = maxL = 1\n",
    "        n = len(l)\n",
    "        for i in range(1, n):\n",
    "            if l[i] - l[i-1] == 1:\n",
    "                tmp += 1\n",
    "            else:\n",
    "                maxL = max(maxL, tmp)\n",
    "                tmp = 1\n",
    "        print(max(maxL, tmp))\n",
    "    except EOFError:\n",
    "        break"
   ]
  },
  {
   "cell_type": "code",
   "execution_count": null,
   "id": "0d05205f",
   "metadata": {},
   "outputs": [],
   "source": []
  }
 ],
 "metadata": {
  "kernelspec": {
   "display_name": "Python 3",
   "language": "python",
   "name": "python3"
  },
  "language_info": {
   "codemirror_mode": {
    "name": "ipython",
    "version": 3
   },
   "file_extension": ".py",
   "mimetype": "text/x-python",
   "name": "python",
   "nbconvert_exporter": "python",
   "pygments_lexer": "ipython3",
   "version": "3.8.8"
  }
 },
 "nbformat": 4,
 "nbformat_minor": 5
}
