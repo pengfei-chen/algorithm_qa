{
 "cells": [
  {
   "cell_type": "code",
   "execution_count": 1,
   "id": "6846c7fc",
   "metadata": {},
   "outputs": [
    {
     "name": "stdout",
     "output_type": "stream",
     "text": [
      "5\n",
      "2 7 3 1 1\n",
      "6\n"
     ]
    }
   ],
   "source": [
    "N = int(input())\n",
    "nums = list(map(int, input().split()))\n",
    "maxval = max(nums)\n",
    "#因为不管怎么样都会包含首尾两个其中之一，那么最大的差值的情况其实就只有单独首或单独尾两种\n",
    "print(maxval - min(nums[0], nums[N - 1]))\n"
   ]
  },
  {
   "cell_type": "code",
   "execution_count": null,
   "id": "ecb98ee0",
   "metadata": {},
   "outputs": [],
   "source": []
  }
 ],
 "metadata": {
  "kernelspec": {
   "display_name": "Python 3",
   "language": "python",
   "name": "python3"
  },
  "language_info": {
   "codemirror_mode": {
    "name": "ipython",
    "version": 3
   },
   "file_extension": ".py",
   "mimetype": "text/x-python",
   "name": "python",
   "nbconvert_exporter": "python",
   "pygments_lexer": "ipython3",
   "version": "3.8.3"
  }
 },
 "nbformat": 4,
 "nbformat_minor": 5
}
