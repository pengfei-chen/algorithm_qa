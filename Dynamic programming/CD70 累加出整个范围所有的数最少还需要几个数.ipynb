{
 "cells": [
  {
   "cell_type": "code",
   "execution_count": 1,
   "id": "4eb22a32",
   "metadata": {},
   "outputs": [
    {
     "name": "stdout",
     "output_type": "stream",
     "text": [
      "9 18\n",
      "18 15 8 17 16 19 5 16 17\n",
      "3\n"
     ]
    }
   ],
   "source": [
    "n,range_ = list(map(int,input().split()))\n",
    "arr = list(map(int,input().split()))\n",
    "arr.sort()  # 坑爹、这里还要先排序一次，原书中是有序数组。\n",
    "\n",
    "def minNeeds(arr, range_):\n",
    "    needs = 0\n",
    "    touch = 0\n",
    "    for i in range(len(arr)):\n",
    "        while arr[i] > (touch+1):  # 注意这里和下面的区别\n",
    "            touch = touch+ touch +1\n",
    "            needs += 1\n",
    "            if touch >= range_:\n",
    "                return needs \n",
    "        touch += arr[i] \n",
    "        if touch >= range_:\n",
    "            return needs \n",
    "    while range_ >= touch+1:   # 注意这里和上面的区别\n",
    "        touch = touch+ touch +1\n",
    "        needs += 1\n",
    "    return  needs \n",
    "\n",
    "print(minNeeds(arr, range_))"
   ]
  },
  {
   "cell_type": "code",
   "execution_count": null,
   "id": "b2f69d3d",
   "metadata": {},
   "outputs": [],
   "source": []
  }
 ],
 "metadata": {
  "kernelspec": {
   "display_name": "Python 3",
   "language": "python",
   "name": "python3"
  },
  "language_info": {
   "codemirror_mode": {
    "name": "ipython",
    "version": 3
   },
   "file_extension": ".py",
   "mimetype": "text/x-python",
   "name": "python",
   "nbconvert_exporter": "python",
   "pygments_lexer": "ipython3",
   "version": "3.8.8"
  }
 },
 "nbformat": 4,
 "nbformat_minor": 5
}
