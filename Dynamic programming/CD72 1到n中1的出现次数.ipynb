{
 "cells": [
  {
   "cell_type": "code",
   "execution_count": 1,
   "id": "e678e858",
   "metadata": {},
   "outputs": [
    {
     "data": {
      "text/plain": [
       "0"
      ]
     },
     "execution_count": 1,
     "metadata": {},
     "output_type": "execute_result"
    }
   ],
   "source": [
    "2 //10"
   ]
  },
  {
   "cell_type": "code",
   "execution_count": 2,
   "id": "0465103b",
   "metadata": {},
   "outputs": [
    {
     "name": "stdout",
     "output_type": "stream",
     "text": [
      "2345\n",
      "1775\n"
     ]
    }
   ],
   "source": [
    "num = int(input())\n",
    "\n",
    "def get1Nums(num):\n",
    "    res = 0\n",
    "    while num != 0:\n",
    "        if num %10 == 1:\n",
    "            res += 1\n",
    "        num = num // 10\n",
    "    return res\n",
    "\n",
    "def solution1(num):\n",
    "    if num < 1:\n",
    "        return 0\n",
    "    count = 0\n",
    "    for i in range(1,num+1):\n",
    "        count += get1Nums(i)\n",
    "    return count\n",
    "\n",
    "print(solution1(num))"
   ]
  },
  {
   "cell_type": "markdown",
   "id": "5f1f3f84",
   "metadata": {},
   "source": [
    "### 通过代码"
   ]
  },
  {
   "cell_type": "code",
   "execution_count": 3,
   "id": "68b7d5ec",
   "metadata": {},
   "outputs": [
    {
     "name": "stdout",
     "output_type": "stream",
     "text": [
      "2345\n",
      "1775\n"
     ]
    }
   ],
   "source": [
    "num = int(input())\n",
    "\n",
    "def solution2(num):\n",
    "    if num < 1:\n",
    "        return 0\n",
    "    Len = len(str(num))\n",
    "    if Len == 1:\n",
    "        return 1\n",
    "    tmp1 = 10**(Len-1)\n",
    "    first = num // tmp1 \n",
    "    firstOneNum = num%tmp1 +1 if first==1 else tmp1   #如果大于等于2，则包含所有tmp1个数\n",
    "    otherOneNum = first * (Len-1) *(tmp1//10)\n",
    "    return firstOneNum + otherOneNum + solution2(num % tmp1)\n",
    "\n",
    "print(solution2(num))"
   ]
  },
  {
   "cell_type": "markdown",
   "id": "0949046e",
   "metadata": {},
   "source": [
    "### 详情解析，请参见书P496"
   ]
  },
  {
   "cell_type": "code",
   "execution_count": null,
   "id": "a87a653b",
   "metadata": {},
   "outputs": [],
   "source": []
  }
 ],
 "metadata": {
  "kernelspec": {
   "display_name": "Python 3",
   "language": "python",
   "name": "python3"
  },
  "language_info": {
   "codemirror_mode": {
    "name": "ipython",
    "version": 3
   },
   "file_extension": ".py",
   "mimetype": "text/x-python",
   "name": "python",
   "nbconvert_exporter": "python",
   "pygments_lexer": "ipython3",
   "version": "3.8.8"
  }
 },
 "nbformat": 4,
 "nbformat_minor": 5
}
