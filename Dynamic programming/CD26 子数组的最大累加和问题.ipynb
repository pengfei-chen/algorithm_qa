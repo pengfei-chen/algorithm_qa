{
 "cells": [
  {
   "cell_type": "markdown",
   "id": "00d5799c",
   "metadata": {},
   "source": [
    "### 终于第一次，自己完全写出答案~"
   ]
  },
  {
   "cell_type": "code",
   "execution_count": 1,
   "id": "e770546a",
   "metadata": {},
   "outputs": [
    {
     "name": "stdout",
     "output_type": "stream",
     "text": [
      "7\n",
      "1 -2 3 5 -2 6 -1 \n",
      "12\n"
     ]
    }
   ],
   "source": [
    "n = int(input())\n",
    "arr = list(map(int,input().split()))\n",
    "\n",
    "def maxSum(arr,n):\n",
    "    dp = [0] * n \n",
    "    dp[0] = arr[0]\n",
    "    Max = -10**10\n",
    "    for i in range(1,n):\n",
    "        dp[i] = max(arr[i], dp[i-1]+arr[i])\n",
    "        if dp[i] > Max:\n",
    "            Max = dp[i]\n",
    "    return Max\n",
    "\n",
    "print(maxSum(arr,n)) "
   ]
  },
  {
   "cell_type": "code",
   "execution_count": null,
   "id": "e0506e8b",
   "metadata": {},
   "outputs": [],
   "source": []
  }
 ],
 "metadata": {
  "kernelspec": {
   "display_name": "Python 3",
   "language": "python",
   "name": "python3"
  },
  "language_info": {
   "codemirror_mode": {
    "name": "ipython",
    "version": 3
   },
   "file_extension": ".py",
   "mimetype": "text/x-python",
   "name": "python",
   "nbconvert_exporter": "python",
   "pygments_lexer": "ipython3",
   "version": "3.8.8"
  }
 },
 "nbformat": 4,
 "nbformat_minor": 5
}
