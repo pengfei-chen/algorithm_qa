{
 "cells": [
  {
   "cell_type": "code",
   "execution_count": null,
   "id": "7baa870b",
   "metadata": {},
   "outputs": [],
   "source": [
    "n = int(input())\n",
    "arr = list(map(int, input().split()))\n",
    "\n",
    "def maxLength(arr, k=0):\n",
    "    if not arr or len(arr)==0:\n",
    "        return 0\n",
    "    Map = {}\n",
    "    Map[0] = -1  # 这一步很重要\n",
    "    Len = 0\n",
    "    Sum = 0\n",
    "    for i  in range(len(arr)):\n",
    "        if arr[i] == 0:   # 转换\n",
    "            arr[i] = -1\n",
    "        Sum += arr[i]\n",
    "        if Sum - k in Map:\n",
    "            Len = max(i-Map[Sum-k], Len)\n",
    "        if Sum not in Map:\n",
    "            Map[Sum] = i \n",
    "    return Len\n",
    "    \n",
    "print(maxLength(arr, k=0))"
   ]
  }
 ],
 "metadata": {
  "kernelspec": {
   "display_name": "Python 3",
   "language": "python",
   "name": "python3"
  },
  "language_info": {
   "codemirror_mode": {
    "name": "ipython",
    "version": 3
   },
   "file_extension": ".py",
   "mimetype": "text/x-python",
   "name": "python",
   "nbconvert_exporter": "python",
   "pygments_lexer": "ipython3",
   "version": "3.8.8"
  }
 },
 "nbformat": 4,
 "nbformat_minor": 5
}
