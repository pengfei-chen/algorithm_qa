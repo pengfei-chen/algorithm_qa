{
 "cells": [
  {
   "cell_type": "code",
   "execution_count": 8,
   "id": "6775aceb",
   "metadata": {},
   "outputs": [
    {
     "name": "stdout",
     "output_type": "stream",
     "text": [
      "abc\n",
      "adc\n",
      "5 3 2\n",
      "2\n"
     ]
    }
   ],
   "source": [
    "str1 = input()\n",
    "str2 = input()\n",
    "ic,dc,rc = list(map(int,input().split()))\n",
    "\n",
    "def minCost1(str1, str2,ic,dc,rc):\n",
    "    if str1 is None or str2 is None:\n",
    "        return 0\n",
    "    m = len(str1)\n",
    "    n = len(str2)\n",
    "    row = m + 1\n",
    "    col = n + 1\n",
    "    dp = []\n",
    "    for i in range(row):\n",
    "        a = [0] * col\n",
    "        dp.append(a)\n",
    "    for i in range(1,row):\n",
    "        dp[i][0] = dc * i # 第一列\n",
    "    for j in range(1,col):\n",
    "        dp[0][j] = ic * j\n",
    "    for i in range(1,row):\n",
    "        for j in range(1,col):\n",
    "            if str1[i-1] == str2[j-1]:\n",
    "                dp[i][j] = dp[i-1][j-1]\n",
    "            else:\n",
    "                dp[i][j] = dp[i-1][j-1] + rc \n",
    "            dp[i][j] = min(dp[i][j], dp[i][j-1]+ic)\n",
    "            dp[i][j] = min(dp[i][j], dp[i-1][j]+dc)\n",
    "    return dp[row-1][col-1]\n",
    "\n",
    "print(minCost1(str1, str2,ic,dc,rc))"
   ]
  },
  {
   "cell_type": "code",
   "execution_count": 11,
   "id": "5dd9734c",
   "metadata": {},
   "outputs": [
    {
     "name": "stdout",
     "output_type": "stream",
     "text": [
      "abc\n",
      "adc\n",
      "5 3 2\n",
      "2\n"
     ]
    }
   ],
   "source": [
    "str1 = input()\n",
    "str2 = input()\n",
    "ic,dc,rc = list(map(int,input().split()))\n",
    "\n",
    "# def minCost1(str1, str2,ic,dc,rc):\n",
    "#     if str1 is None or str2 is None:\n",
    "#         return 0\n",
    "#     m = len(str1)\n",
    "#     n = len(str2)\n",
    "#     row = m + 1\n",
    "#     col = n + 1\n",
    "#     dp = []\n",
    "#     for i in range(row):\n",
    "#         a = [0] * col\n",
    "#         dp.append(a)\n",
    "#     for i in range(1,row):\n",
    "#         dp[i][0] = dc * i # 第一列\n",
    "#     for j in range(1,col):\n",
    "#         dp[0][j] = ic * j\n",
    "#     for i in range(1,row):\n",
    "#         for j in range(1,col):\n",
    "#             if str1[i-1] == str2[j-1]:\n",
    "#                 dp[i][j] = dp[i-1][j-1]\n",
    "#             else:\n",
    "#                 dp[i][j] = dp[i-1][j-1] + rc \n",
    "#             dp[i][j] = min(dp[i][j], dp[i][j-1]+ic)\n",
    "#             dp[i][j] = min(dp[i][j], dp[i-1][j]+dc)\n",
    "#     return dp[row-1][col-1]\n",
    "\n",
    "def minCost2(str1, str2,ic,dc,rc):\n",
    "    if str1 is None or str2 is None:\n",
    "        return 0\n",
    "    m = len(str1)\n",
    "    n = len(str2)\n",
    "    longs = str1 if m>=n else str2 \n",
    "    shorts = str1 if m < n else str2 \n",
    "    if m < n:\n",
    "        ic, dc = dc,ic \n",
    "    dp = [0] *( len(shorts) + 1)\n",
    "    for i in range(1,len(shorts)+1):\n",
    "        dp[i] = ic * i \n",
    "    for i in range(1,len(longs)+1):\n",
    "        pre = dp[0]  # pre表示左上角的值\n",
    "        dp[0] = dc * i \n",
    "        for j in range(1,len(shorts)+1):\n",
    "            tmp = dp[j]  # dp[j]没更新前先保存下来\n",
    "            if longs[i-1] == shorts[j-1]:\n",
    "                dp[j] = pre \n",
    "            else:\n",
    "                dp[j] = pre + rc \n",
    "            dp[j] = min(dp[j], dp[j-1] + rc)\n",
    "            dp[j] = min(dp[j], tmp + dc)\n",
    "            pre = tmp \n",
    "    return dp[n]\n",
    "\n",
    "print(minCost2(str1, str2,ic,dc,rc))"
   ]
  },
  {
   "cell_type": "code",
   "execution_count": null,
   "id": "dce50d97",
   "metadata": {},
   "outputs": [],
   "source": []
  }
 ],
 "metadata": {
  "kernelspec": {
   "display_name": "Python 3",
   "language": "python",
   "name": "python3"
  },
  "language_info": {
   "codemirror_mode": {
    "name": "ipython",
    "version": 3
   },
   "file_extension": ".py",
   "mimetype": "text/x-python",
   "name": "python",
   "nbconvert_exporter": "python",
   "pygments_lexer": "ipython3",
   "version": "3.8.8"
  }
 },
 "nbformat": 4,
 "nbformat_minor": 5
}
