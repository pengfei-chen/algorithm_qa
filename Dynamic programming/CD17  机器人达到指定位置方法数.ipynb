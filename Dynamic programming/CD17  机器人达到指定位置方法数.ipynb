{
 "cells": [
  {
   "cell_type": "code",
   "execution_count": null,
   "id": "7bed87bf",
   "metadata": {},
   "outputs": [
    {
     "name": "stdout",
     "output_type": "stream",
     "text": [
      "5 2 3 3\n"
     ]
    }
   ],
   "source": [
    "# N,cur,rest,P = list(map(int,input().split()))\n",
    "\n",
    "# def walk(N, cur,rest,P):\n",
    "#     if rest == 0:\n",
    "#         ans = 1 if cur == P else 0\n",
    "#         return ans\n",
    "#     if cur == 1:\n",
    "#         return walk(N,2,rest-1, P)\n",
    "#     if cur == N:\n",
    "#         return walk(N, N-1, rest-1, P)\n",
    "#     return walk(N,cur-1,rest-1,P) + walk(N,cur+1,rest+1,P)\n",
    "\n",
    "# def ways1(N, cur, rest, P):\n",
    "#     if (N<2 or rest<1 or cur>N or P<1 or P>N):\n",
    "#         return 0\n",
    "#     return walk(N, cur,rest,P)\n",
    "\n",
    "# print(ways1(N, cur, rest, P))\n",
    "\n",
    "# 内核直接挂掉。。"
   ]
  },
  {
   "cell_type": "markdown",
   "id": "47684942",
   "metadata": {},
   "source": [
    "### O(n * k ), 空间也是O(n * k )"
   ]
  },
  {
   "cell_type": "code",
   "execution_count": null,
   "id": "ad5f29b1",
   "metadata": {},
   "outputs": [],
   "source": [
    "N,cur,rest,P = list(map(int,input().split()))\n",
    "\n",
    "\n",
    "\n",
    "def ways2(N, cur, rest, P):\n",
    "    if (N<2 or rest<1 or cur <1 or cur>N or P<1 or P>N):\n",
    "        return 0\n",
    "    dp = []\n",
    "    for i in range(rest+1):\n",
    "        a = [0] * (N + 1)\n",
    "        dp.append(a)\n",
    "    dp[0][P] = 1\n",
    "    for i in range(1,rest+1):\n",
    "        for j in range(1,N+1):\n",
    "            if j == 1:\n",
    "                dp[i][j] = dp[i-1][2]\n",
    "            elif j == N:\n",
    "                dp[i][j] = dp[i-1][j-1]\n",
    "            else:\n",
    "                dp[i][j] = dp[i-1][j-1] + dp[i-1][j+1]\n",
    "    return dp[rest][cur]\n",
    "\n",
    "print(ways2(N, cur, rest, P))"
   ]
  },
  {
   "cell_type": "markdown",
   "id": "dcb0e588",
   "metadata": {},
   "source": [
    "### 时间复杂度O(n*k) ,空间复杂度O(N)。"
   ]
  },
  {
   "cell_type": "code",
   "execution_count": null,
   "id": "19a70035",
   "metadata": {},
   "outputs": [],
   "source": [
    "N,cur,rest,P = list(map(int,input().split()))\n",
    "\n",
    "\n",
    "\n",
    "def ways3(N, cur, rest, P):\n",
    "    if (N<2 or rest<1 or cur <1 or cur>N or P<1 or P>N):\n",
    "        return 0\n",
    "    dp = [0] * (N+1)\n",
    "    dp[P] = 1\n",
    "    for i in range(1,rest+1):\n",
    "        leftUp = dp[1]  # 左上角的值\n",
    "        for j in range(1,N+1):\n",
    "            tmp = dp[j]\n",
    "            if j==1:\n",
    "                dp[j] = dp[j+1]\n",
    "            elif j == N:\n",
    "                dp[j] = leftUp  #其实就是当前步上一步的值\n",
    "            else:\n",
    "                dp[j]  = leftUp + dp[j+1]\n",
    "            leftUp = tmp \n",
    "            \n",
    "    return dp[cur]\n",
    "\n",
    "print(ways3(N, cur, rest, P) % 100000007)"
   ]
  },
  {
   "cell_type": "code",
   "execution_count": null,
   "id": "5ffae097",
   "metadata": {},
   "outputs": [],
   "source": []
  }
 ],
 "metadata": {
  "kernelspec": {
   "display_name": "Python 3",
   "language": "python",
   "name": "python3"
  },
  "language_info": {
   "codemirror_mode": {
    "name": "ipython",
    "version": 3
   },
   "file_extension": ".py",
   "mimetype": "text/x-python",
   "name": "python",
   "nbconvert_exporter": "python",
   "pygments_lexer": "ipython3",
   "version": "3.8.8"
  }
 },
 "nbformat": 4,
 "nbformat_minor": 5
}
