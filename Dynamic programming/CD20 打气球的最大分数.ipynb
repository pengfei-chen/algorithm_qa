{
 "cells": [
  {
   "cell_type": "markdown",
   "id": "e90ad1b8",
   "metadata": {},
   "source": [
    "### 最开始方法"
   ]
  },
  {
   "cell_type": "code",
   "execution_count": 2,
   "id": "0aaf1545",
   "metadata": {},
   "outputs": [
    {
     "name": "stdout",
     "output_type": "stream",
     "text": [
      "3\n",
      "3 2 5\n",
      "50\n"
     ]
    }
   ],
   "source": [
    "\n",
    "\n",
    "n = int(input())\n",
    "arr = list(map(int,input().split()))\n",
    "\n",
    "# 尝试方法\n",
    "def process(arr,L,R):\n",
    "    if L == R:\n",
    "        return arr[L-1]*arr[L]*arr[R+1]\n",
    "    Max = max( #最后打爆arr[L] 的方案和打爆arr[R]的方案对比一下\n",
    "        arr[L-1]*arr[L]*arr[R+1] + process(arr, L+1, R),\n",
    "        arr[L-1]*arr[R]*arr[R+1] + process(arr, L, R-1))\n",
    "    # 尝试中间位置的气球最后被打爆的每一种方案\n",
    "    i = L+1\n",
    "    while i < R:\n",
    "        Max = max(Max,\n",
    "                 arr[L-1]*arr[i]*arr[R+1] + \n",
    "                  process(arr, L, i-1)+ process(arr, i+1, R))\n",
    "        i += 1\n",
    "    return Max\n",
    "\n",
    "def maxCoins1(arr):\n",
    "    if arr is None or len(arr) == 0:\n",
    "        return 0\n",
    "    if len(arr) == 1:\n",
    "        return arr[0]\n",
    "    N = len(arr)\n",
    "    Help = [0] * (N+2)\n",
    "    Help[0] = 1\n",
    "    Help[N+1] = 1\n",
    "    for i in range(0,N):\n",
    "        Help[i+1] = arr[i]\n",
    "    return process(Help,1,N)\n",
    "\n",
    "print(maxCoins1(arr))"
   ]
  },
  {
   "cell_type": "markdown",
   "id": "31e6ab8a",
   "metadata": {},
   "source": [
    "### 最优解"
   ]
  },
  {
   "cell_type": "code",
   "execution_count": 4,
   "id": "3fdbc835",
   "metadata": {},
   "outputs": [
    {
     "name": "stdout",
     "output_type": "stream",
     "text": [
      "3\n",
      "3 2 5\n",
      "50\n"
     ]
    }
   ],
   "source": [
    "n = int(input())\n",
    "arr = list(map(int,input().split()))\n",
    "\n",
    "# 尝试方法\n",
    "# def process(arr,L,R):\n",
    "#     if L == R:\n",
    "#         return arr[L-1]*arr[L]*arr[R+1]\n",
    "#     Max = max( #最后打爆arr[L] 的方案和打爆arr[R]的方案对比一下\n",
    "#         arr[L-1]*arr[L]*arr[R+1] + process(arr, L+1, R),\n",
    "#         arr[L-1]*arr[R]*arr[R+1] + process(arr, L, R-1))\n",
    "#     # 尝试中间位置的气球最后被打爆的每一种方案\n",
    "#     i = L+1\n",
    "#     while i < R:\n",
    "#         Max = max(Max,\n",
    "#                  arr[L-1]*arr[i]*arr[R+1] + \n",
    "#                   process(arr, L, i-1)+ process(arr, i+1, R))\n",
    "#           i +=1\n",
    "#     return Max\n",
    "\n",
    "def maxCoins2(arr):\n",
    "    if arr is None or len(arr) == 0:\n",
    "        return 0\n",
    "    if len(arr) == 1:\n",
    "        return arr[0]\n",
    "    N = len(arr)\n",
    "    Help = [0] * (N+2)\n",
    "    Help[0] = 1\n",
    "    Help[N+1] = 1\n",
    "    for i in range(0,N):\n",
    "        Help[i+1] = arr[i]\n",
    "    # 初始化矩阵\n",
    "    dp = []\n",
    "    for i in range(N+2):\n",
    "        dp.append([0]* (N+2))\n",
    "    for i in range(N+1):\n",
    "        dp[i][i] = Help[i-1]*Help[i]*Help[i+1]\n",
    "    for L in range(N,0,-1):\n",
    "        for R in range(L+1, N+1):\n",
    "            finalL = Help[L-1]*Help[L]*Help[R+1] + dp[L+1][R]\n",
    "            finalR = Help[L-1]*Help[R]*Help[R+1] + dp[L][R-1]\n",
    "            dp[L][R] = max(finalL, finalR)\n",
    "            i = L+1\n",
    "            while i < R:\n",
    "                dp[L][R] = max(dp[L][R],\n",
    "                          Help[L-1]*Help[i]*Help[R+1] + \n",
    "                          dp[L][i-1]+ dp[i+1][R])\n",
    "                i +=1\n",
    "    return dp[1][N]\n",
    "\n",
    "print(maxCoins2(arr))"
   ]
  },
  {
   "cell_type": "code",
   "execution_count": null,
   "id": "c29d4685",
   "metadata": {},
   "outputs": [],
   "source": []
  }
 ],
 "metadata": {
  "kernelspec": {
   "display_name": "Python 3",
   "language": "python",
   "name": "python3"
  },
  "language_info": {
   "codemirror_mode": {
    "name": "ipython",
    "version": 3
   },
   "file_extension": ".py",
   "mimetype": "text/x-python",
   "name": "python",
   "nbconvert_exporter": "python",
   "pygments_lexer": "ipython3",
   "version": "3.8.8"
  }
 },
 "nbformat": 4,
 "nbformat_minor": 5
}
