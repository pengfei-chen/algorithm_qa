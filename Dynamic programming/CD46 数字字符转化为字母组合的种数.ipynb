{
 "cells": [
  {
   "cell_type": "code",
   "execution_count": 8,
   "id": "04f1157d",
   "metadata": {},
   "outputs": [
    {
     "name": "stdout",
     "output_type": "stream",
     "text": [
      "1111\n",
      "5\n"
     ]
    }
   ],
   "source": [
    "str1 = input()\n",
    "\n",
    "def process(chs, i):\n",
    "    if i == len(str1):\n",
    "        return 1 \n",
    "    if chs[i] == '0':\n",
    "        return 0\n",
    "    res = process(chs,i+1)\n",
    "    if (i+1<len(chs) and (int(chs[i]))*10 + int(chs[i+1])< 27):\n",
    "        res += process(chs, i+2)\n",
    "    return res\n",
    "\n",
    "def num1(str1):\n",
    "    if str1 is None or len(str1)==0:\n",
    "        return 0\n",
    "    return process(str1, 0)\n",
    "\n",
    "\n",
    "ans = num1(str1)\n",
    "print(ans % 1000000007)"
   ]
  },
  {
   "cell_type": "code",
   "execution_count": 9,
   "id": "37510c63",
   "metadata": {},
   "outputs": [
    {
     "name": "stdout",
     "output_type": "stream",
     "text": [
      "1111\n",
      "5\n"
     ]
    }
   ],
   "source": [
    "str1 = input()\n",
    "\n",
    "def num2(str1):\n",
    "    if str1 is None or len(str1)==0:\n",
    "        return 0\n",
    "    cur = 0 if str1[len(str1)-1]=='0' else 1\n",
    "    Next = 1\n",
    "    tmp = 0\n",
    "    for i in range(len(str1)-2, -1,-1):\n",
    "        if str1[i]=='0':\n",
    "            Next = cur\n",
    "            cur = 0 \n",
    "        else:\n",
    "            tmp = cur \n",
    "            if (int(str1[i]))*10 + int(str1[i+1])< 27:\n",
    "                cur += Next\n",
    "            Next = tmp \n",
    "    return cur \n",
    "\n",
    "ans = num2(str1)\n",
    "print(ans % 1000000007)"
   ]
  },
  {
   "cell_type": "code",
   "execution_count": null,
   "id": "f9b6db99",
   "metadata": {},
   "outputs": [],
   "source": []
  }
 ],
 "metadata": {
  "kernelspec": {
   "display_name": "Python 3",
   "language": "python",
   "name": "python3"
  },
  "language_info": {
   "codemirror_mode": {
    "name": "ipython",
    "version": 3
   },
   "file_extension": ".py",
   "mimetype": "text/x-python",
   "name": "python",
   "nbconvert_exporter": "python",
   "pygments_lexer": "ipython3",
   "version": "3.8.3"
  }
 },
 "nbformat": 4,
 "nbformat_minor": 5
}
