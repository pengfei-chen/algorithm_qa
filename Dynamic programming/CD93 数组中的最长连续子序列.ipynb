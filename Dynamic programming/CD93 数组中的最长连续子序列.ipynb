{
 "cells": [
  {
   "cell_type": "code",
   "execution_count": 2,
   "id": "69b07bac",
   "metadata": {},
   "outputs": [
    {
     "name": "stdout",
     "output_type": "stream",
     "text": [
      "5\n",
      "100 4 200 1 3 2\n",
      "4\n"
     ]
    }
   ],
   "source": [
    "n = int(input())\n",
    "arr = list(map(int,input().split()))\n",
    "\n",
    "def findMaxNum(arr):\n",
    "    arr.sort()\n",
    "    Num = 1\n",
    "    Max = 1\n",
    "    for i in range(1,len(arr)):\n",
    "        if arr[i] == arr[i-1]:  #如果两者相等，则跳过本次\n",
    "            continue\n",
    "        else:\n",
    "            if arr[i] - arr[i-1] == 1:\n",
    "                Num += 1\n",
    "                Max = max(Max, Num)\n",
    "            else:\n",
    "                Num = 1 \n",
    "    return Max \n",
    "\n",
    "print(findMaxNum(arr))"
   ]
  },
  {
   "cell_type": "markdown",
   "id": "821a967e",
   "metadata": {},
   "source": [
    "**上面是自己写出来的方法。**"
   ]
  },
  {
   "cell_type": "code",
   "execution_count": null,
   "id": "c7b81037",
   "metadata": {},
   "outputs": [],
   "source": []
  },
  {
   "cell_type": "markdown",
   "id": "35103c22",
   "metadata": {},
   "source": [
    "###  书上最优方法"
   ]
  },
  {
   "cell_type": "code",
   "execution_count": 3,
   "id": "1e964fb9",
   "metadata": {},
   "outputs": [
    {
     "name": "stdout",
     "output_type": "stream",
     "text": [
      "6\n",
      "100 4 200 1 3 2\n",
      "4\n"
     ]
    }
   ],
   "source": [
    "n = int(input())\n",
    "arr = list(map(int,input().split()))\n",
    "\n",
    "def merge(Map, less, more):\n",
    "    left = less - Map[less] + 1  # less这个长度的起点位置\n",
    "    right = more + Map[more] - 1  # more 这个长度的终点位置   -1（上面其实也是），因为索引位置以0开始\n",
    "    Len = right - left + 1\n",
    "    Map[left] = Len  # 记录、更新当前 left 和 right所在位置的Len长度\n",
    "    Map[right] = Len\n",
    "    return Len\n",
    "\n",
    "def longestNum(arr):\n",
    "    if arr is None or len(arr)==0:\n",
    "        return 0\n",
    "    Max = 1 \n",
    "    Map = {}\n",
    "    for i in range(len(arr)):\n",
    "        if arr[i] not in Map.keys():\n",
    "            Map[arr[i]] = 1\n",
    "            if arr[i]-1 in Map.keys():\n",
    "                Max = max(Max, merge(Map, arr[i]-1, arr[i])) \n",
    "            if arr[i]+1 in Map.keys():\n",
    "                Max = max(Max, merge(Map, arr[i], arr[i]+1)) \n",
    "    return Max \n",
    "\n",
    "print(longestNum(arr))"
   ]
  },
  {
   "cell_type": "code",
   "execution_count": null,
   "id": "cdb4e024",
   "metadata": {},
   "outputs": [],
   "source": []
  }
 ],
 "metadata": {
  "kernelspec": {
   "display_name": "Python 3",
   "language": "python",
   "name": "python3"
  },
  "language_info": {
   "codemirror_mode": {
    "name": "ipython",
    "version": 3
   },
   "file_extension": ".py",
   "mimetype": "text/x-python",
   "name": "python",
   "nbconvert_exporter": "python",
   "pygments_lexer": "ipython3",
   "version": "3.8.3"
  }
 },
 "nbformat": 4,
 "nbformat_minor": 5
}
