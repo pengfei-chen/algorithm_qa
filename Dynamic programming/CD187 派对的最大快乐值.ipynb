{
 "cells": [
  {
   "cell_type": "code",
   "execution_count": 6,
   "id": "41d87b61",
   "metadata": {},
   "outputs": [
    {
     "name": "stdout",
     "output_type": "stream",
     "text": [
      "3 1\n",
      "5 1 1\n",
      "1 2\n",
      "1 3\n",
      "\n",
      "{1: [2, 3]}\n"
     ]
    }
   ],
   "source": [
    "n,root = list(map(int,input().split()))\n",
    "arr = list(map(int,input().split())) \n",
    "\n",
    "Dic = dict()\n",
    "\n",
    "while True:\n",
    "    try:\n",
    "        a,b = list(map(int,input().split())) \n",
    "        if a not in Dic.keys():\n",
    "            Dic[a] = [b] \n",
    "        else:\n",
    "            Dic[a].append(b)\n",
    "    except:\n",
    "        break\n",
    "\n",
    "print(Dic)"
   ]
  },
  {
   "cell_type": "markdown",
   "id": "6b6966c0",
   "metadata": {},
   "source": [
    "###  dfs威力这么强大！"
   ]
  },
  {
   "cell_type": "code",
   "execution_count": 7,
   "id": "0d073e37",
   "metadata": {},
   "outputs": [
    {
     "name": "stdout",
     "output_type": "stream",
     "text": [
      "3 1\n",
      "5 1 1\n",
      "1 2\n",
      "1 3\n",
      "\n",
      "5\n"
     ]
    }
   ],
   "source": [
    "n,root = list(map(int,input().split()))\n",
    "happy = [0] + list(map(int,input().split())) \n",
    "\n",
    "Dic = dict()\n",
    "while True:\n",
    "    try:\n",
    "        a,b = list(map(int,input().split())) \n",
    "        if a not in Dic.keys():\n",
    "            Dic[a] = [b] \n",
    "        else:\n",
    "            Dic[a].append(b)\n",
    "    except:\n",
    "        break\n",
    "        \n",
    "def dfs(cur):\n",
    "    if cur not in Dic.keys():  # cur没有下属\n",
    "        return happy[cur], 0\n",
    "    come, not_come = happy[cur], 0\n",
    "    for c in Dic[cur]:  # 遍历当前节点下属\n",
    "        cm, nc = dfs(c)\n",
    "        come += nc  # 当前节点来了，他下属就不来了\n",
    "        not_come += max(cm, nc) # 当前节点不来，加上他下属来或者不来的最大快乐值\n",
    "    return come, not_come\n",
    "print(max(dfs(root)))"
   ]
  },
  {
   "cell_type": "code",
   "execution_count": null,
   "id": "925e89f2",
   "metadata": {},
   "outputs": [],
   "source": []
  }
 ],
 "metadata": {
  "kernelspec": {
   "display_name": "Python 3",
   "language": "python",
   "name": "python3"
  },
  "language_info": {
   "codemirror_mode": {
    "name": "ipython",
    "version": 3
   },
   "file_extension": ".py",
   "mimetype": "text/x-python",
   "name": "python",
   "nbconvert_exporter": "python",
   "pygments_lexer": "ipython3",
   "version": "3.8.8"
  }
 },
 "nbformat": 4,
 "nbformat_minor": 5
}
