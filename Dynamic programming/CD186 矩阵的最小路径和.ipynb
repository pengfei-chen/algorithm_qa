{
 "cells": [
  {
   "cell_type": "markdown",
   "id": "b8dc2617",
   "metadata": {},
   "source": [
    "###  常规空间复杂度方法"
   ]
  },
  {
   "cell_type": "code",
   "execution_count": null,
   "id": "cb02193c",
   "metadata": {},
   "outputs": [],
   "source": [
    "n,m = list(map(int,input().split()))\n",
    "arr = []\n",
    "for i in range(n):\n",
    "    a = list(map(int,input().split()))\n",
    "    arr.append(a)\n",
    "    \n",
    "def minPathSum(arr):\n",
    "    if arr is None or arr[0] is None or len(arr)==0 or len(arr[0])==0:\n",
    "        return 0\n",
    "    row = len(arr)\n",
    "    col = len(arr[0])\n",
    "    dp = [ [0]*col for i in range(row) ]\n",
    "    dp[0][0] = arr[0][0]\n",
    "    for i in range(1,row):\n",
    "        dp[i][0] = dp[i-1][0] + arr[i][0]\n",
    "    for i in range(1,col):\n",
    "        dp[0][i] = dp[0][i-1] + arr[0][i]\n",
    "    for i in range(1,row):\n",
    "        for j in range(1,col):\n",
    "            dp[i][j] = min(dp[i-1][j],dp[i][j-1]) + arr[i][j]\n",
    "    return dp[row-1][col-1]\n",
    "\n",
    "print(minPathSum(arr))"
   ]
  },
  {
   "cell_type": "markdown",
   "id": "290a2e8f",
   "metadata": {},
   "source": [
    "###  压缩空间后的方法  （运算还是加上括号吧，不然容易错！）"
   ]
  },
  {
   "cell_type": "code",
   "execution_count": null,
   "id": "be2a7adc",
   "metadata": {},
   "outputs": [],
   "source": [
    "n,m = list(map(int,input().split()))\n",
    "arr = []\n",
    "for i in range(n):\n",
    "    a = list(map(int,input().split()))\n",
    "    arr.append(a)\n",
    "\n",
    "def minPathSum2(arr):\n",
    "    if arr is None or arr[0] is None or len(arr)==0 or len(arr[0])==0:\n",
    "        return 0\n",
    "    more = max(len(arr), len(arr[0]))\n",
    "    less = min(len(arr), len(arr[0]))\n",
    "    rowmore = True if more == len(arr) else False\n",
    "    use = [0] * less\n",
    "    use[0] = arr[0][0]\n",
    "    for i in range(1,less):\n",
    "        use[i] = use[i-1] + (arr[0][i] if rowmore else arr[i][0]) #向右加\n",
    "    \n",
    "    for i in range(1,more):\n",
    "        use[0] = use[0] +  (arr[i][0] if rowmore else arr[0][i]) #向下加\n",
    "        for j in range(1,less):\n",
    "            use[j] = min(use[j-1],use[j]) + (arr[i][j] if rowmore else arr[j][i])\n",
    "    return use[less-1]\n",
    "    \n",
    "print(minPathSum2(arr))"
   ]
  }
 ],
 "metadata": {
  "kernelspec": {
   "display_name": "Python 3",
   "language": "python",
   "name": "python3"
  },
  "language_info": {
   "codemirror_mode": {
    "name": "ipython",
    "version": 3
   },
   "file_extension": ".py",
   "mimetype": "text/x-python",
   "name": "python",
   "nbconvert_exporter": "python",
   "pygments_lexer": "ipython3",
   "version": "3.8.8"
  }
 },
 "nbformat": 4,
 "nbformat_minor": 5
}
