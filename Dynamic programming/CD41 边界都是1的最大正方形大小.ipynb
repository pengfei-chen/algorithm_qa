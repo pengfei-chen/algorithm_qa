{
 "cells": [
  {
   "cell_type": "code",
   "execution_count": 2,
   "id": "b26ac350",
   "metadata": {},
   "outputs": [
    {
     "name": "stdout",
     "output_type": "stream",
     "text": [
      "5\n",
      "0 1 1 1 1\n",
      "0 1 0 0 1\n",
      "0 1 0 0 1\n",
      "0 1 1 1 1\n",
      "0 1 0 1 1\n",
      "4\n"
     ]
    }
   ],
   "source": [
    "n = int(input())\n",
    "m = []\n",
    "for i in range(n):\n",
    "    a = list(map(int, input().split()))\n",
    "    m.append(a)\n",
    "    \n",
    "def setBorderMap(m,right,down):\n",
    "    r = len(m)\n",
    "    c = len(m[0])\n",
    "    if m[r-1][c-1] == 1:\n",
    "        right[r-1][c-1] == 1\n",
    "        down[r-1][c-1] == 1 \n",
    "    for i in range(r-2,-1,-1):  # 最右边一列\n",
    "        if m[i][c-1] == 1:\n",
    "            right[i][c-1] = 1\n",
    "            down[i][c-1] = down[i+1][c-1] + 1\n",
    "    for i in range(c-2,-1,-1):\n",
    "        if m[r-1][i] == 1:   #最后一行\n",
    "            right[r-1][i] = right[r-1][i+1] + 1\n",
    "            down[r-1][i] = 1 \n",
    "    for i in range(r-2,-1,-1):\n",
    "        for j in range(c-2,-1,-1):\n",
    "            if m[i][j] == 1:\n",
    "                right[i][j] = right[i][j+1] + 1\n",
    "                down[i][j] = down[i+1][j] + 1\n",
    "            \n",
    "def hasSizeOfBorder(size, right,down):\n",
    "    for i in range(0, len(right)-size+1):\n",
    "        for j in range(0, len(right[0])-size+1):\n",
    "            if (right[i][j] >= size and down[i][j]>=size\n",
    "                and right[i+size-1][j] >=size\n",
    "                and down[i][j+size-1] >= size):\n",
    "                    return True\n",
    "    return False \n",
    "\n",
    "def getMaxSize(m):\n",
    "    right = []\n",
    "    for i in range(len(m)):\n",
    "        a = [0] * len(m[0])\n",
    "        right.append(a)\n",
    "    down = []\n",
    "    for i in range(len(m)):\n",
    "        b = [0] * len(m[0])\n",
    "        down.append(b)\n",
    "    setBorderMap(m,right,down)\n",
    "    size = min(len(m), len(m[0]))\n",
    "    while size > 0:\n",
    "        if hasSizeOfBorder(size, right,down):\n",
    "            return size \n",
    "        size -= 1\n",
    "    return 0\n",
    "\n",
    "print(getMaxSize(m))"
   ]
  },
  {
   "cell_type": "markdown",
   "id": "197a215b",
   "metadata": {},
   "source": [
    "###  详细的逻辑，请看原书"
   ]
  },
  {
   "cell_type": "code",
   "execution_count": null,
   "id": "5482add2",
   "metadata": {},
   "outputs": [],
   "source": []
  }
 ],
 "metadata": {
  "kernelspec": {
   "display_name": "Python 3",
   "language": "python",
   "name": "python3"
  },
  "language_info": {
   "codemirror_mode": {
    "name": "ipython",
    "version": 3
   },
   "file_extension": ".py",
   "mimetype": "text/x-python",
   "name": "python",
   "nbconvert_exporter": "python",
   "pygments_lexer": "ipython3",
   "version": "3.8.3"
  }
 },
 "nbformat": 4,
 "nbformat_minor": 5
}
