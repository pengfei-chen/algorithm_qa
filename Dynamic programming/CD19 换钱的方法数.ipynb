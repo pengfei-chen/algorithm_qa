{
 "cells": [
  {
   "cell_type": "code",
   "execution_count": 1,
   "id": "c7883f59",
   "metadata": {},
   "outputs": [
    {
     "name": "stdout",
     "output_type": "stream",
     "text": [
      "4 15\n",
      "5 10 25 1\n",
      "6\n"
     ]
    }
   ],
   "source": [
    "# 暴力递归方法\n",
    "n,aim = list(map(int,input().split()))\n",
    "arr = list(map(int,input().split()))\n",
    "\n",
    "def process1(arr,index,aim):\n",
    "    res = 0\n",
    "    if index == len(arr):\n",
    "        res = 1 if aim == 0 else 0\n",
    "    else:\n",
    "        i = 0\n",
    "        while arr[index]*i <= aim:\n",
    "            res += process1(arr, index+1, aim-arr[index]*i)\n",
    "            i += 1\n",
    "    return res\n",
    "\n",
    "def coins1(arr, aim):\n",
    "    if arr is None or len(arr)==0 or aim<0:\n",
    "        return 0\n",
    "    return process1(arr, 0 , aim)\n",
    "\n",
    "print(coins1(arr, aim))"
   ]
  },
  {
   "cell_type": "markdown",
   "id": "599ab981",
   "metadata": {},
   "source": [
    "### 记忆化搜索优化"
   ]
  },
  {
   "cell_type": "code",
   "execution_count": 2,
   "id": "8e17f8e5",
   "metadata": {},
   "outputs": [
    {
     "name": "stdout",
     "output_type": "stream",
     "text": [
      "4 15\n",
      "5 10 25 1\n",
      "6\n"
     ]
    }
   ],
   "source": [
    "# 记忆化搜索优化\n",
    "n,aim = list(map(int,input().split()))\n",
    "arr = list(map(int,input().split()))\n",
    "\n",
    "def process2(arr,index,aim,Map):\n",
    "    res = 0\n",
    "    if index == len(arr):\n",
    "        res = 1 if aim==0 else 0\n",
    "    else:\n",
    "        mapValue = 0\n",
    "        i = 0\n",
    "        while arr[index] * i <= aim:\n",
    "            mapValue = Map[index+1][aim - arr[index]*i]\n",
    "            if mapValue  != 0:\n",
    "                ans = 0 if mapValue ==-1 else mapValue  # -1表示运算过，但运算结果为0\n",
    "                res += ans\n",
    "            else:\n",
    "                ans = process2(arr, index+1, aim-arr[index]*i, Map)\n",
    "                res += ans \n",
    "            i += 1\n",
    "    a = -1 if res == 0 else res\n",
    "    Map[index][aim] = a\n",
    "    return res\n",
    "\n",
    "def coins2(arr, aim):\n",
    "    if arr is None or len(arr)==0 or aim<0:\n",
    "        return 0\n",
    "    Map = []\n",
    "    for i in range(len(arr)+1):\n",
    "        Map.append([0]*(aim+1))\n",
    "    return process2(arr, 0 , aim, Map)\n",
    "\n",
    "print(coins2(arr, aim))"
   ]
  },
  {
   "cell_type": "markdown",
   "id": "b5268743",
   "metadata": {},
   "source": [
    "###  普通动态规划的方法"
   ]
  },
  {
   "cell_type": "code",
   "execution_count": 3,
   "id": "ae83dd38",
   "metadata": {},
   "outputs": [
    {
     "name": "stdout",
     "output_type": "stream",
     "text": [
      "4 15\n",
      "5 10 25 1\n",
      "6\n"
     ]
    }
   ],
   "source": [
    "# 普通动态规划的方法\n",
    "n,aim = list(map(int,input().split()))\n",
    "arr = list(map(int,input().split()))\n",
    "\n",
    "def coins3(arr, aim):\n",
    "    if arr is None or len(arr)==0 or aim<0:\n",
    "        return 0\n",
    "    dp = []\n",
    "    for i in range(len(arr)):\n",
    "        dp.append([0]*(aim+1))\n",
    "    for i in range(len(arr)):\n",
    "        dp[i][0] = 1  # 第一列，值全都为0\n",
    "    j = 1\n",
    "    while arr[0] * j <= aim:\n",
    "        dp[0][arr[0]*j] = 1\n",
    "        j+=1\n",
    "    num = 0\n",
    "    for i in range(1,len(arr)):\n",
    "        for j in range(1,aim+1):\n",
    "            num = 0\n",
    "            k = 0\n",
    "            while j -arr[i]*k >= 0:\n",
    "                num += dp[i-1][j-arr[i]*k]\n",
    "                k +=1\n",
    "            dp[i][j] = num\n",
    "    \n",
    "    return dp[len(arr)-1][aim]\n",
    "\n",
    "print(coins3(arr, aim))"
   ]
  },
  {
   "cell_type": "markdown",
   "id": "d9a75110",
   "metadata": {},
   "source": [
    "### 时间复杂度为O(N*aim) 的方法"
   ]
  },
  {
   "cell_type": "code",
   "execution_count": 5,
   "id": "d1b96a15",
   "metadata": {},
   "outputs": [
    {
     "name": "stdout",
     "output_type": "stream",
     "text": [
      "4 15\n",
      "5 10 25 1\n",
      "6\n"
     ]
    }
   ],
   "source": [
    "n,aim = list(map(int,input().split()))\n",
    "arr = list(map(int,input().split()))\n",
    "\n",
    "def coins4(arr, aim):\n",
    "    if arr is None or len(arr)==0 or aim<0:\n",
    "        return 0\n",
    "    dp = []\n",
    "    for i in range(len(arr)):\n",
    "        dp.append([0]*(aim+1))\n",
    "    for i in range(len(arr)):\n",
    "        dp[i][0] = 1  # 第一列，值全都为0\n",
    "    j = 1\n",
    "    while arr[0] * j <= aim:\n",
    "        dp[0][arr[0]*j] = 1\n",
    "        j+=1\n",
    "    num = 0\n",
    "    for i in range(1,len(arr)):\n",
    "        for j in range(1,aim+1):\n",
    "            dp[i][j] = dp[i-1][j]\n",
    "            res = dp[i][j-arr[i]] if j>=arr[i] else 0\n",
    "            dp[i][j] += res\n",
    "    return dp[len(arr)-1][aim]\n",
    "\n",
    "print(coins4(arr, aim))"
   ]
  },
  {
   "cell_type": "markdown",
   "id": "d4e5cda1",
   "metadata": {},
   "source": [
    "###  时间复杂度为O(N*aim) , 空间复杂度O(aim)的方法"
   ]
  },
  {
   "cell_type": "code",
   "execution_count": 6,
   "id": "991f7d8e",
   "metadata": {},
   "outputs": [
    {
     "name": "stdout",
     "output_type": "stream",
     "text": [
      "4 15\n",
      "5 10 25 1\n",
      "6\n"
     ]
    }
   ],
   "source": [
    "n,aim = list(map(int,input().split()))\n",
    "arr = list(map(int,input().split()))\n",
    "\n",
    "def coins5(arr, aim):\n",
    "    if arr is None or len(arr)==0 or aim<0:\n",
    "        return 0\n",
    "    # 优化空间\n",
    "    dp = [0] * (aim+1)\n",
    "    j = 0\n",
    "    while arr[0] * j <= aim:\n",
    "        dp[arr[0]*j] = 1\n",
    "        j+=1\n",
    "    for i in range(1,len(arr)):\n",
    "        for j in range(1,aim+1):\n",
    "            res = dp[j-arr[i]] if j>=arr[i] else 0\n",
    "            dp[j] += res\n",
    "    return dp[aim]\n",
    "\n",
    "print(coins5(arr, aim) % 1000000007)"
   ]
  },
  {
   "cell_type": "code",
   "execution_count": null,
   "id": "0ef7d18e",
   "metadata": {},
   "outputs": [],
   "source": []
  }
 ],
 "metadata": {
  "kernelspec": {
   "display_name": "Python 3",
   "language": "python",
   "name": "python3"
  },
  "language_info": {
   "codemirror_mode": {
    "name": "ipython",
    "version": 3
   },
   "file_extension": ".py",
   "mimetype": "text/x-python",
   "name": "python",
   "nbconvert_exporter": "python",
   "pygments_lexer": "ipython3",
   "version": "3.8.8"
  }
 },
 "nbformat": 4,
 "nbformat_minor": 5
}
