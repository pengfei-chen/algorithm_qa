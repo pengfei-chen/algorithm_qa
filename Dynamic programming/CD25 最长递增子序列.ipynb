{
 "cells": [
  {
   "cell_type": "markdown",
   "id": "b82d2713",
   "metadata": {},
   "source": [
    "### 最开始方法"
   ]
  },
  {
   "cell_type": "code",
   "execution_count": null,
   "id": "381b9b0f",
   "metadata": {},
   "outputs": [],
   "source": [
    "n = int(input())\n",
    "arr = list(map(int,input().split()))\n",
    "\n",
    "def getdp1(arr):\n",
    "    dp = [0] * len(arr)\n",
    "    for i in range(len(arr)):\n",
    "        dp[i] = 1\n",
    "        for j in range(i):\n",
    "            if arr[i] > arr[j]:\n",
    "                dp[i] = max(dp[i], dp[j]+1)\n",
    "    return dp\n",
    "\n",
    "def generateLIS(arr, dp):\n",
    "    length = 0\n",
    "    index = 0\n",
    "    for i in range(len(dp)):\n",
    "        if dp[i] > length:\n",
    "            length = dp[i]\n",
    "            index = i \n",
    "    lis = [0] * length  #最长的答案，列表的长度\n",
    "    length -= 1\n",
    "    lis[length] = arr[index]  # 最右边的数\n",
    "    for i in range(index, -1,-1):\n",
    "        if arr[i]<arr[index] and dp[index]-dp[i]==1:\n",
    "            length -= 1\n",
    "            lis[length] = arr[i]\n",
    "            index = i\n",
    "    return lis\n",
    "\n",
    "def lis1(arr):\n",
    "    dp = getdp1(arr)\n",
    "    ans = generateLIS(arr, dp)\n",
    "    return ans\n",
    "\n",
    "print(*lis1(arr))"
   ]
  },
  {
   "cell_type": "markdown",
   "id": "4adfd584",
   "metadata": {},
   "source": [
    "###  优化后的方法"
   ]
  },
  {
   "cell_type": "code",
   "execution_count": 9,
   "id": "c97bbfca",
   "metadata": {},
   "outputs": [
    {
     "name": "stdout",
     "output_type": "stream",
     "text": [
      "5\n",
      "1 2 8 6 4\n",
      "[1, 2, 3, 3, 3]\n",
      "1 2 4\n"
     ]
    }
   ],
   "source": [
    "n = int(input())\n",
    "arr = list(map(int,input().split()))\n",
    "\n",
    "#最开始获得dp的方法\n",
    "# def getdp1(arr):\n",
    "#     dp = [0] * len(arr)\n",
    "#     for i in range(len(arr)):\n",
    "#         dp[i] = 1\n",
    "#         for j in range(i):\n",
    "#             if arr[i] > arr[j]:\n",
    "#                 dp[i] = max(dp[i], dp[j]+1)\n",
    "#     return dp\n",
    "\n",
    "def getdp2(arr):\n",
    "    dp = [0] * len(arr)\n",
    "    ends = [0] * len(arr)\n",
    "    ends[0] = arr[0]\n",
    "    dp[0] = 1\n",
    "    right = 0\n",
    "    l,r,m = 0,0,0\n",
    "    for i in range(1,len(arr)):\n",
    "        l=0\n",
    "        r = right\n",
    "        while l<=r:\n",
    "            m = (l+r)//2\n",
    "            if arr[i] > ends[m]:\n",
    "                l = m+1\n",
    "            else:\n",
    "                r = m-1\n",
    "        right = max(right, l )  #right一直是递增的\n",
    "        ends[l] = arr[i]  #这一步更新，有两种情况。这里的 l 非常巧妙。\n",
    "        dp[i] = l+1  #这里加1 ,是因为列表以0为第一个数，l是索引，长度要索引+1\n",
    "    print(dp)\n",
    "    return dp \n",
    "\n",
    "def generateLIS(arr, dp):\n",
    "    length = 0\n",
    "    index = 0\n",
    "    for i in range(len(dp)):\n",
    "        if dp[i] >= length:   # 修改原书中，这里的错误点。\n",
    "            length = dp[i]\n",
    "            index = i \n",
    "    lis = [0] * length  #最长的答案，列表的长度\n",
    "    length -= 1\n",
    "    lis[length] = arr[index]  # 最右边的数，如果前面不相等，这里就取不到最右边的数\n",
    "    for i in range(index, -1,-1):\n",
    "        if (arr[i]<arr[index]) and (dp[i] == dp[index]-1):\n",
    "            length -= 1\n",
    "            lis[length] = arr[i]\n",
    "            index = i\n",
    "    return lis\n",
    "\n",
    "def lis1(arr):\n",
    "    if arr is None or len(arr)==0:\n",
    "        return None\n",
    "    dp = getdp2(arr)\n",
    "    ans = generateLIS(arr, dp)\n",
    "    return ans\n",
    "\n",
    "ans = lis1(arr)\n",
    "ans = ' '.join(str(i) for i in ans)\n",
    "print(ans)"
   ]
  },
  {
   "cell_type": "code",
   "execution_count": null,
   "id": "a0662dbb",
   "metadata": {},
   "outputs": [],
   "source": []
  }
 ],
 "metadata": {
  "kernelspec": {
   "display_name": "Python 3",
   "language": "python",
   "name": "python3"
  },
  "language_info": {
   "codemirror_mode": {
    "name": "ipython",
    "version": 3
   },
   "file_extension": ".py",
   "mimetype": "text/x-python",
   "name": "python",
   "nbconvert_exporter": "python",
   "pygments_lexer": "ipython3",
   "version": "3.8.8"
  }
 },
 "nbformat": 4,
 "nbformat_minor": 5
}
