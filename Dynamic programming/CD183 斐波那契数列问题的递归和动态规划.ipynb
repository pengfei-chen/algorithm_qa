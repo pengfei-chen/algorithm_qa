{
 "cells": [
  {
   "cell_type": "code",
   "execution_count": 8,
   "id": "3dc41a2f",
   "metadata": {},
   "outputs": [
    {
     "name": "stdout",
     "output_type": "stream",
     "text": [
      "10000\n",
      "271496360\n"
     ]
    }
   ],
   "source": [
    "#斐波那契数列，时间复杂度O(logn)\n",
    "n = int(input())\n",
    "t = int(1e9 + 7)\n",
    "#矩阵乘法\n",
    "def matrix_power(a,b):\n",
    "    temp = [[0] * len(b[0]) for i in range(len(a))]\n",
    "    for i in range(len(a)):\n",
    "        for j in range(len(b[0])):\n",
    "            for k in range(len(b)):\n",
    "                temp[i][j] = (temp[i][j] + a[i][k] * b[k][j]) % t\n",
    "    return temp\n",
    "                \n",
    "#快速幂\n",
    "def fast_power(base, n):\n",
    "    s = [[1 if i == j else 0 for i in range(len(base[0]))] for j in range(len(base))]\n",
    "    # s = [[1, 0], [0, 1]]\n",
    "    while n != 0:\n",
    "        if n & 1 != 0:\n",
    "            s = matrix_power(s ,base)\n",
    "        n = n >> 1    \n",
    "        base = matrix_power(base, base)\n",
    "    return s\n",
    "\n",
    "#动态转移方程式：f(n) = f(n - 1) + f(n - 2)\n",
    "#动态转移矩阵：f(n) = f(n - 1) + f(n - 2)\n",
    "#            f(n - 1) = f(n - 1) + 0 * f(n - 2)\n",
    "# [[1,1],[1,0]]\n",
    "\n",
    "if n == 1 or n == 2:\n",
    "    d = 1\n",
    "else:\n",
    "    base = [[1,1],[1,0]]\n",
    "    temp = fast_power(base,n - 2)\n",
    "    d = (temp[0][0] + temp[1][0]) % t\n",
    "print(d)\n"
   ]
  },
  {
   "cell_type": "code",
   "execution_count": 6,
   "id": "f34b3f93",
   "metadata": {},
   "outputs": [
    {
     "data": {
      "text/plain": [
       "[[1, 0], [0, 1]]"
      ]
     },
     "execution_count": 6,
     "metadata": {},
     "output_type": "execute_result"
    }
   ],
   "source": [
    "base = [[1,1],[1,0]]\n",
    "s = [[1 if i == j else 0 for i in range(len(base[0]))] for j in range(len(base))]\n",
    "s"
   ]
  },
  {
   "cell_type": "code",
   "execution_count": null,
   "id": "830ac571",
   "metadata": {},
   "outputs": [],
   "source": []
  }
 ],
 "metadata": {
  "kernelspec": {
   "display_name": "Python 3",
   "language": "python",
   "name": "python3"
  },
  "language_info": {
   "codemirror_mode": {
    "name": "ipython",
    "version": 3
   },
   "file_extension": ".py",
   "mimetype": "text/x-python",
   "name": "python",
   "nbconvert_exporter": "python",
   "pygments_lexer": "ipython3",
   "version": "3.8.8"
  }
 },
 "nbformat": 4,
 "nbformat_minor": 5
}
