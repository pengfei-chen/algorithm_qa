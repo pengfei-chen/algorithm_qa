{
 "cells": [
  {
   "cell_type": "markdown",
   "id": "df088745",
   "metadata": {},
   "source": [
    "###  常规动态规划方法"
   ]
  },
  {
   "cell_type": "code",
   "execution_count": 4,
   "id": "91509314",
   "metadata": {},
   "outputs": [
    {
     "name": "stdout",
     "output_type": "stream",
     "text": [
      "1AB2345CD\n",
      "12345EF\n",
      "2345\n"
     ]
    }
   ],
   "source": [
    "str1 = input()\n",
    "str2 = input()\n",
    "\n",
    "def getdp(str1,str2):\n",
    "    dp = []\n",
    "    for i in range(len(str1)):\n",
    "        a = [0]*len(str2)\n",
    "        dp.append(a)\n",
    "    for i in range(len(str1)):\n",
    "        if str1[i] == str2[0]:\n",
    "            dp[i][0] = 1\n",
    "    for j in range(len(str2)):\n",
    "        if str2[j] == str1[0]:\n",
    "            dp[0][j] = 1\n",
    "    for i in range(1,len(str1)):\n",
    "        for j in range(1,len(str2)):\n",
    "            if str1[i] == str2[j]:\n",
    "                dp[i][j] = dp[i-1][j-1] + 1\n",
    "    return dp\n",
    "\n",
    "def lcst1(str1, str2):\n",
    "    if str1 is None or str2 is None or len(str1)==0 or len(str2)==0:\n",
    "        return ''\n",
    "    m = len(str1)\n",
    "    n = len(str2)\n",
    "    dp = getdp(str1, str2)\n",
    "    end = 0\n",
    "    Max = 0\n",
    "    for i in range(m):\n",
    "        for j in range(n):\n",
    "            if dp[i][j] > Max:\n",
    "                end = i \n",
    "                Max = dp[i][j]\n",
    "    return str1[end-Max+1:end+1]\n",
    "\n",
    "print(lcst1(str1, str2))"
   ]
  },
  {
   "cell_type": "markdown",
   "id": "a62b6a68",
   "metadata": {},
   "source": [
    "### 空间复杂度为 0（1）的方法"
   ]
  },
  {
   "cell_type": "code",
   "execution_count": 5,
   "id": "01f0a092",
   "metadata": {},
   "outputs": [
    {
     "name": "stdout",
     "output_type": "stream",
     "text": [
      "1AB2345CD\n",
      "12345EF\n",
      "2345\n"
     ]
    }
   ],
   "source": [
    "str1 = input()\n",
    "str2 = input()\n",
    "\n",
    "def getdp(str1,str2):\n",
    "    dp = []\n",
    "    for i in range(len(str1)):\n",
    "        a = [0]*len(str2)\n",
    "        dp.append(a)\n",
    "    for i in range(len(str1)):\n",
    "        if str1[i] == str2[0]:\n",
    "            dp[i][0] = 1\n",
    "    for j in range(len(str2)):\n",
    "        if str2[j] == str1[0]:\n",
    "            dp[0][j] = 1\n",
    "    for i in range(1,len(str1)):\n",
    "        for j in range(1,len(str2)):\n",
    "            if str1[i] == str2[j]:\n",
    "                dp[i][j] = dp[i-1][j-1] + 1\n",
    "    return dp\n",
    "\n",
    "\n",
    "def lcst2(str1, str2):\n",
    "    if str1 is None or str2 is None or len(str1)==0 or len(str2)==0:\n",
    "        return ''\n",
    "    m = len(str1)\n",
    "    n = len(str2)\n",
    "    dp = getdp(str1, str2)\n",
    "    row = 0  #斜线开始位置的行\n",
    "    col = n - 1 #斜线开始位置的列   #这里从最右上角的斜线开始\n",
    "    Max = 0\n",
    "    end = 0\n",
    "    while row < m:\n",
    "        i = row\n",
    "        j = col\n",
    "        Len = 0\n",
    "        # 从i, j开始往右下方遍历 \n",
    "        while i<m and j<n:\n",
    "            if str1[i]!=str2[j]:\n",
    "                Len = 0\n",
    "            else:\n",
    "                Len +=1\n",
    "            if Len > Max:\n",
    "                end = i\n",
    "                Max = Len \n",
    "            i += 1\n",
    "            j += 1\n",
    "        if col > 0:\n",
    "            col -=1\n",
    "        else:\n",
    "            row +=1\n",
    "    return str1[end -Max +1:end+1]\n",
    "    \n",
    "print(lcst2(str1, str2))"
   ]
  },
  {
   "cell_type": "code",
   "execution_count": null,
   "id": "628cd137",
   "metadata": {},
   "outputs": [],
   "source": []
  }
 ],
 "metadata": {
  "kernelspec": {
   "display_name": "Python 3",
   "language": "python",
   "name": "python3"
  },
  "language_info": {
   "codemirror_mode": {
    "name": "ipython",
    "version": 3
   },
   "file_extension": ".py",
   "mimetype": "text/x-python",
   "name": "python",
   "nbconvert_exporter": "python",
   "pygments_lexer": "ipython3",
   "version": "3.8.3"
  }
 },
 "nbformat": 4,
 "nbformat_minor": 5
}
