{
 "cells": [
  {
   "cell_type": "code",
   "execution_count": 1,
   "id": "6bb0a2a1",
   "metadata": {},
   "outputs": [
    {
     "name": "stdout",
     "output_type": "stream",
     "text": [
      "10 10\n",
      "-8 -4 -3 0 1 2 4 5 8 9\n",
      "1 9\n",
      "2 8\n"
     ]
    }
   ],
   "source": [
    "n,k = list(map(int,input().split()))\n",
    "arr = list(map(int,input().split()))\n",
    "\n",
    "def printPair(arr,k):\n",
    "    if not arr or len(arr)<2:\n",
    "        return \n",
    "    left = 0 \n",
    "    right = len(arr)-1 \n",
    "    while left < right:\n",
    "        s = arr[left] + arr[right]\n",
    "        if s < k:\n",
    "            left += 1\n",
    "        elif s == k:\n",
    "            # 这个 if 条件，容易被忽略掉！\n",
    "            if left == 0 or arr[left-1] != arr[left]:\n",
    "                print(arr[left],arr[right])\n",
    "            left += 1\n",
    "            right -= 1\n",
    "        elif s >k:\n",
    "            right -= 1\n",
    "\n",
    "printPair(arr,k)"
   ]
  },
  {
   "cell_type": "code",
   "execution_count": null,
   "id": "ffcd45bd",
   "metadata": {},
   "outputs": [],
   "source": []
  }
 ],
 "metadata": {
  "kernelspec": {
   "display_name": "Python 3",
   "language": "python",
   "name": "python3"
  },
  "language_info": {
   "codemirror_mode": {
    "name": "ipython",
    "version": 3
   },
   "file_extension": ".py",
   "mimetype": "text/x-python",
   "name": "python",
   "nbconvert_exporter": "python",
   "pygments_lexer": "ipython3",
   "version": "3.8.3"
  }
 },
 "nbformat": 4,
 "nbformat_minor": 5
}
