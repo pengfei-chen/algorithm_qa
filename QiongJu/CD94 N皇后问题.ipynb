{
 "cells": [
  {
   "cell_type": "code",
   "execution_count": 5,
   "id": "da893ed0",
   "metadata": {},
   "outputs": [
    {
     "name": "stdout",
     "output_type": "stream",
     "text": [
      "12\n",
      "14200\n"
     ]
    }
   ],
   "source": [
    "n = int(input())\n",
    "\n",
    "def num1(n):\n",
    "    if n < 1:\n",
    "        return 0 \n",
    "    record = [0] * n   # 记录record[i]的值表示第i行皇后所在的列数\n",
    "    return process1(0,record, n) \n",
    "\n",
    "def process1(i, record, n):\n",
    "    if i == n:\n",
    "        return 1 \n",
    "    res = 0 \n",
    "    for j in range(n):\n",
    "        if isValid(record, i, j):\n",
    "            record[i] = j \n",
    "            res += process1(i+1, record, n) \n",
    "    return res \n",
    "\n",
    "def isValid(record, i,j):\n",
    "    for k in range(i):\n",
    "        # 是否是已经放置过的列，以及，是否是在斜列上面\n",
    "        if j==record[k] or abs(record[k]-j) == abs(i-k):\n",
    "            return False \n",
    "    return True \n",
    "\n",
    "print(num1(n))"
   ]
  },
  {
   "cell_type": "markdown",
   "id": "c3da4689",
   "metadata": {},
   "source": [
    "### 优化后解法"
   ]
  },
  {
   "cell_type": "markdown",
   "id": "55451650",
   "metadata": {},
   "source": [
    "**优化得不够。。**"
   ]
  },
  {
   "cell_type": "code",
   "execution_count": 1,
   "id": "ffa751d5",
   "metadata": {},
   "outputs": [
    {
     "name": "stdout",
     "output_type": "stream",
     "text": [
      "1\n"
     ]
    },
    {
     "ename": "RecursionError",
     "evalue": "maximum recursion depth exceeded in comparison",
     "output_type": "error",
     "traceback": [
      "\u001b[1;31m---------------------------------------------------------------------------\u001b[0m",
      "\u001b[1;31mRecursionError\u001b[0m                            Traceback (most recent call last)",
      "\u001b[1;32m<ipython-input-1-69424ef9fb8f>\u001b[0m in \u001b[0;36m<module>\u001b[1;34m\u001b[0m\n\u001b[0;32m     47\u001b[0m     \u001b[1;32mreturn\u001b[0m \u001b[0mres\u001b[0m\u001b[1;33m\u001b[0m\u001b[1;33m\u001b[0m\u001b[0m\n\u001b[0;32m     48\u001b[0m \u001b[1;33m\u001b[0m\u001b[0m\n\u001b[1;32m---> 49\u001b[1;33m \u001b[0mprint\u001b[0m\u001b[1;33m(\u001b[0m\u001b[0mnum2\u001b[0m\u001b[1;33m(\u001b[0m\u001b[0mn\u001b[0m\u001b[1;33m)\u001b[0m\u001b[1;33m)\u001b[0m\u001b[1;33m\u001b[0m\u001b[1;33m\u001b[0m\u001b[0m\n\u001b[0m",
      "\u001b[1;32m<ipython-input-1-69424ef9fb8f>\u001b[0m in \u001b[0;36mnum2\u001b[1;34m(n)\u001b[0m\n\u001b[0;32m     32\u001b[0m         \u001b[1;32mreturn\u001b[0m \u001b[1;36m0\u001b[0m\u001b[1;33m\u001b[0m\u001b[1;33m\u001b[0m\u001b[0m\n\u001b[0;32m     33\u001b[0m     \u001b[0mupperLim\u001b[0m \u001b[1;33m=\u001b[0m \u001b[1;33m-\u001b[0m\u001b[1;36m1\u001b[0m \u001b[1;32mif\u001b[0m \u001b[0mn\u001b[0m\u001b[1;33m==\u001b[0m\u001b[1;36m32\u001b[0m \u001b[1;32melse\u001b[0m \u001b[1;36m2\u001b[0m\u001b[1;33m**\u001b[0m\u001b[1;33m(\u001b[0m\u001b[0mn\u001b[0m\u001b[1;33m)\u001b[0m \u001b[1;33m-\u001b[0m\u001b[1;36m1\u001b[0m\u001b[1;33m\u001b[0m\u001b[1;33m\u001b[0m\u001b[0m\n\u001b[1;32m---> 34\u001b[1;33m     \u001b[1;32mreturn\u001b[0m \u001b[0mprocess2\u001b[0m\u001b[1;33m(\u001b[0m\u001b[0mupperLim\u001b[0m\u001b[1;33m,\u001b[0m \u001b[1;36m0\u001b[0m\u001b[1;33m,\u001b[0m\u001b[1;36m0\u001b[0m\u001b[1;33m,\u001b[0m\u001b[1;36m0\u001b[0m\u001b[1;33m)\u001b[0m\u001b[1;33m\u001b[0m\u001b[1;33m\u001b[0m\u001b[0m\n\u001b[0m\u001b[0;32m     35\u001b[0m \u001b[1;33m\u001b[0m\u001b[0m\n\u001b[0;32m     36\u001b[0m \u001b[1;32mdef\u001b[0m \u001b[0mprocess2\u001b[0m\u001b[1;33m(\u001b[0m\u001b[0mupperLim\u001b[0m\u001b[1;33m,\u001b[0m \u001b[0mcolLim\u001b[0m\u001b[1;33m,\u001b[0m \u001b[0mleftDiaLim\u001b[0m\u001b[1;33m,\u001b[0m \u001b[0mrightDiaLim\u001b[0m\u001b[1;33m)\u001b[0m\u001b[1;33m:\u001b[0m\u001b[1;33m\u001b[0m\u001b[1;33m\u001b[0m\u001b[0m\n",
      "\u001b[1;32m<ipython-input-1-69424ef9fb8f>\u001b[0m in \u001b[0;36mprocess2\u001b[1;34m(upperLim, colLim, leftDiaLim, rightDiaLim)\u001b[0m\n\u001b[0;32m     44\u001b[0m         \u001b[0mmostRightOne\u001b[0m \u001b[1;33m=\u001b[0m \u001b[0mpos\u001b[0m \u001b[1;32mand\u001b[0m \u001b[1;33m(\u001b[0m\u001b[1;32mnot\u001b[0m \u001b[0mpos\u001b[0m \u001b[1;33m+\u001b[0m\u001b[1;36m1\u001b[0m\u001b[1;33m)\u001b[0m\u001b[1;33m\u001b[0m\u001b[1;33m\u001b[0m\u001b[0m\n\u001b[0;32m     45\u001b[0m         \u001b[0mpos\u001b[0m \u001b[1;33m=\u001b[0m \u001b[0mpos\u001b[0m \u001b[1;33m-\u001b[0m \u001b[0mmostRightOne\u001b[0m\u001b[1;33m\u001b[0m\u001b[1;33m\u001b[0m\u001b[0m\n\u001b[1;32m---> 46\u001b[1;33m         \u001b[0mres\u001b[0m \u001b[1;33m+=\u001b[0m \u001b[0mprocess2\u001b[0m\u001b[1;33m(\u001b[0m\u001b[0mupperLim\u001b[0m\u001b[1;33m,\u001b[0m \u001b[0mcolLim\u001b[0m \u001b[1;32mor\u001b[0m \u001b[0mmostRightOne\u001b[0m\u001b[1;33m,\u001b[0m \u001b[1;33m(\u001b[0m\u001b[0mleftDiaLim\u001b[0m \u001b[1;32mor\u001b[0m \u001b[0mmostRightOne\u001b[0m\u001b[1;33m)\u001b[0m \u001b[1;33m//\u001b[0m \u001b[1;36m2\u001b[0m\u001b[1;33m,\u001b[0m \u001b[1;33m(\u001b[0m\u001b[0mrightDiaLim\u001b[0m \u001b[1;32mor\u001b[0m \u001b[0mmostRightOne\u001b[0m\u001b[1;33m)\u001b[0m\u001b[1;33m//\u001b[0m\u001b[1;36m4\u001b[0m \u001b[1;33m)\u001b[0m\u001b[1;33m\u001b[0m\u001b[1;33m\u001b[0m\u001b[0m\n\u001b[0m\u001b[0;32m     47\u001b[0m     \u001b[1;32mreturn\u001b[0m \u001b[0mres\u001b[0m\u001b[1;33m\u001b[0m\u001b[1;33m\u001b[0m\u001b[0m\n\u001b[0;32m     48\u001b[0m \u001b[1;33m\u001b[0m\u001b[0m\n",
      "... last 1 frames repeated, from the frame below ...\n",
      "\u001b[1;32m<ipython-input-1-69424ef9fb8f>\u001b[0m in \u001b[0;36mprocess2\u001b[1;34m(upperLim, colLim, leftDiaLim, rightDiaLim)\u001b[0m\n\u001b[0;32m     44\u001b[0m         \u001b[0mmostRightOne\u001b[0m \u001b[1;33m=\u001b[0m \u001b[0mpos\u001b[0m \u001b[1;32mand\u001b[0m \u001b[1;33m(\u001b[0m\u001b[1;32mnot\u001b[0m \u001b[0mpos\u001b[0m \u001b[1;33m+\u001b[0m\u001b[1;36m1\u001b[0m\u001b[1;33m)\u001b[0m\u001b[1;33m\u001b[0m\u001b[1;33m\u001b[0m\u001b[0m\n\u001b[0;32m     45\u001b[0m         \u001b[0mpos\u001b[0m \u001b[1;33m=\u001b[0m \u001b[0mpos\u001b[0m \u001b[1;33m-\u001b[0m \u001b[0mmostRightOne\u001b[0m\u001b[1;33m\u001b[0m\u001b[1;33m\u001b[0m\u001b[0m\n\u001b[1;32m---> 46\u001b[1;33m         \u001b[0mres\u001b[0m \u001b[1;33m+=\u001b[0m \u001b[0mprocess2\u001b[0m\u001b[1;33m(\u001b[0m\u001b[0mupperLim\u001b[0m\u001b[1;33m,\u001b[0m \u001b[0mcolLim\u001b[0m \u001b[1;32mor\u001b[0m \u001b[0mmostRightOne\u001b[0m\u001b[1;33m,\u001b[0m \u001b[1;33m(\u001b[0m\u001b[0mleftDiaLim\u001b[0m \u001b[1;32mor\u001b[0m \u001b[0mmostRightOne\u001b[0m\u001b[1;33m)\u001b[0m \u001b[1;33m//\u001b[0m \u001b[1;36m2\u001b[0m\u001b[1;33m,\u001b[0m \u001b[1;33m(\u001b[0m\u001b[0mrightDiaLim\u001b[0m \u001b[1;32mor\u001b[0m \u001b[0mmostRightOne\u001b[0m\u001b[1;33m)\u001b[0m\u001b[1;33m//\u001b[0m\u001b[1;36m4\u001b[0m \u001b[1;33m)\u001b[0m\u001b[1;33m\u001b[0m\u001b[1;33m\u001b[0m\u001b[0m\n\u001b[0m\u001b[0;32m     47\u001b[0m     \u001b[1;32mreturn\u001b[0m \u001b[0mres\u001b[0m\u001b[1;33m\u001b[0m\u001b[1;33m\u001b[0m\u001b[0m\n\u001b[0;32m     48\u001b[0m \u001b[1;33m\u001b[0m\u001b[0m\n",
      "\u001b[1;31mRecursionError\u001b[0m: maximum recursion depth exceeded in comparison"
     ]
    }
   ],
   "source": [
    "n = int(input())\n",
    "\n",
    "# def num1(n):\n",
    "#     if n < 1:\n",
    "#         return 0 \n",
    "#     record = [0] * n   # 记录record[i]的值表示第i行皇后所在的列数\n",
    "#     return process1(0,record, n) \n",
    "\n",
    "import sys \n",
    "sys.setrecursionlimit(1000)\n",
    "\n",
    "def process1(i, record, n):\n",
    "    if i == n:\n",
    "        return 1 \n",
    "    res = 0 \n",
    "    for j in range(n):\n",
    "        if isValid(record, i, j):\n",
    "            record[i] = j \n",
    "            res += process1(i+1, record, n) \n",
    "    return res \n",
    "\n",
    "def isValid(record, i,j):\n",
    "    for k in range(i):\n",
    "        # 是否是已经放置过的列，以及，是否是在斜列上面\n",
    "        if j==record[k] or abs(record[k]-j) == abs(i-k):\n",
    "            return False \n",
    "    return True \n",
    "\n",
    "def num2(n):\n",
    "    # 本方法只能算1-32皇后问题\n",
    "    if n<1 or n > 32:\n",
    "        return 0 \n",
    "    upperLim = -1 if n==32 else 2**(n) -1\n",
    "    return process2(upperLim, 0,0,0) \n",
    "\n",
    "def process2(upperLim, colLim, leftDiaLim, rightDiaLim):\n",
    "    if colLim == upperLim:\n",
    "        return 1 \n",
    "    pos = 0 \n",
    "    mostRightOne = 0 \n",
    "    pos  =  upperLim and (not (colLim or leftDiaLim or rightDiaLim))\n",
    "    res = 0 \n",
    "    while pos != 0:\n",
    "        mostRightOne = pos and (not pos +1)\n",
    "        pos = pos - mostRightOne \n",
    "        res += process2(upperLim, colLim or mostRightOne, (leftDiaLim or mostRightOne) // 2, (rightDiaLim or mostRightOne)//4 )\n",
    "    return res \n",
    "\n",
    "print(num2(n))"
   ]
  },
  {
   "cell_type": "code",
   "execution_count": null,
   "id": "cfd1d0b6",
   "metadata": {},
   "outputs": [],
   "source": []
  }
 ],
 "metadata": {
  "kernelspec": {
   "display_name": "Python 3",
   "language": "python",
   "name": "python3"
  },
  "language_info": {
   "codemirror_mode": {
    "name": "ipython",
    "version": 3
   },
   "file_extension": ".py",
   "mimetype": "text/x-python",
   "name": "python",
   "nbconvert_exporter": "python",
   "pygments_lexer": "ipython3",
   "version": "3.8.3"
  }
 },
 "nbformat": 4,
 "nbformat_minor": 5
}
