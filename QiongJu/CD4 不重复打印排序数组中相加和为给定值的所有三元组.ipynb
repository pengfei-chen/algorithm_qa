{
 "cells": [
  {
   "cell_type": "code",
   "execution_count": null,
   "id": "3a768013",
   "metadata": {},
   "outputs": [],
   "source": [
    "n,k = list(map(int,input().split()))\n",
    "arr = list(map(int,input().split())) \n",
    "\n",
    "def printRest(arr, f,l,r,k):\n",
    "    while l < r:\n",
    "        s = arr[l]+arr[r]\n",
    "        if s < k:\n",
    "            l += 1\n",
    "        elif s>k:\n",
    "            r -= 1\n",
    "        elif s == k:\n",
    "            print(arr[f],arr[l],arr[r])\n",
    "            if arr[l+1] == arr[l]:\n",
    "                l +=1 \n",
    "            if arr[r-1]==arr[r]:\n",
    "                r -=1\n",
    "            l += 1\n",
    "            r -= 1\n",
    "        \n",
    "\n",
    "def printPair(arr,k):\n",
    "    for i in range(len(arr)-2):\n",
    "        if arr[i+1]==arr[i]:\n",
    "            i+=1\n",
    "        printRest(arr,i,i+1,len(arr)-1,k-arr[i])\n",
    "            \n",
    "printPair(arr,k)"
   ]
  },
  {
   "cell_type": "markdown",
   "id": "e91a0983",
   "metadata": {},
   "source": [
    "###  为什么上面代码AC不了"
   ]
  },
  {
   "cell_type": "code",
   "execution_count": null,
   "id": "80b5440a",
   "metadata": {},
   "outputs": [],
   "source": []
  },
  {
   "cell_type": "markdown",
   "id": "cd1183d5",
   "metadata": {},
   "source": [
    "### 修改后AC的代码"
   ]
  },
  {
   "cell_type": "code",
   "execution_count": 1,
   "id": "0d96a26d",
   "metadata": {},
   "outputs": [
    {
     "name": "stdout",
     "output_type": "stream",
     "text": [
      "10 10\n",
      "-8 -4 -3 0 1 2 4 5 8 9\n",
      "-4 5 9\n",
      "-3 4 9\n",
      "-3 5 8\n",
      "0 1 9\n",
      "0 2 8\n",
      "1 4 5\n"
     ]
    }
   ],
   "source": [
    "n,k = list(map(int,input().split()))\n",
    "arr = list(map(int,input().split())) \n",
    "\n",
    "def printRest(arr, f,l,r,k):\n",
    "    while l < r:\n",
    "        s = arr[l]+arr[r]\n",
    "        if s < k:\n",
    "            l += 1\n",
    "        elif s>k:\n",
    "            r -= 1\n",
    "        elif s == k:\n",
    "            print(arr[f],arr[l],arr[r])\n",
    "            if arr[l+1] == arr[l]:\n",
    "                l +=1 \n",
    "            if arr[r-1]==arr[r]:\n",
    "                r -=1\n",
    "            l += 1\n",
    "            r -= 1\n",
    "        \n",
    "\n",
    "def printPair(arr,k):\n",
    "    if not arr or len(arr)<3:\n",
    "        return \n",
    "    for i in range(len(arr)-2):\n",
    "        if arr[i+1]==arr[i]:\n",
    "            i+=1\n",
    "            continue # 这里要加一步，直接跳过后面的计算\n",
    "        printRest(arr,i,i+1,len(arr)-1,k-arr[i])\n",
    "            \n",
    "printPair(arr,k)"
   ]
  },
  {
   "cell_type": "code",
   "execution_count": null,
   "id": "8aa81157",
   "metadata": {},
   "outputs": [],
   "source": []
  }
 ],
 "metadata": {
  "kernelspec": {
   "display_name": "Python 3",
   "language": "python",
   "name": "python3"
  },
  "language_info": {
   "codemirror_mode": {
    "name": "ipython",
    "version": 3
   },
   "file_extension": ".py",
   "mimetype": "text/x-python",
   "name": "python",
   "nbconvert_exporter": "python",
   "pygments_lexer": "ipython3",
   "version": "3.8.3"
  }
 },
 "nbformat": 4,
 "nbformat_minor": 5
}
