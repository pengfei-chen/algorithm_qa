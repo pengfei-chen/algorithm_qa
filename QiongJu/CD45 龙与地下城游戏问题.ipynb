{
 "cells": [
  {
   "cell_type": "markdown",
   "id": "80332b5b",
   "metadata": {},
   "source": [
    "### 时间复杂度O(n * m),额外空间复杂度O(n * m)"
   ]
  },
  {
   "cell_type": "code",
   "execution_count": 1,
   "id": "58d19cf3",
   "metadata": {},
   "outputs": [
    {
     "name": "stdout",
     "output_type": "stream",
     "text": [
      "2 2 \n",
      "1 1\n",
      "1 1\n",
      "1\n"
     ]
    }
   ],
   "source": [
    "n,m = list(map(int,input().split()))\n",
    "arr = []\n",
    "for i in range(n):\n",
    "    a = list(map(int,input().split()))\n",
    "    arr.append(a)\n",
    "    \n",
    "def minHP1(m):\n",
    "    if not m or len(m)==0 or len(m[0])==0:\n",
    "        return 1 \n",
    "    row = len(m)\n",
    "    col = len(m[0])\n",
    "    dp = [ [0]*col for i in range(row) ]\n",
    "    col -= 1\n",
    "    row -= 1\n",
    "    dp[row][col] = 1 if m[row][col] > 0 else -m[row][col]+1 \n",
    "    for j in range(col-1,-1,-1):\n",
    "        dp[row][j] = max(dp[row][j+1]-m[row][j], 1)\n",
    "    right,down = 0,0\n",
    "    for i in range(row-1,-1,-1):\n",
    "        dp[i][col] = max(dp[i+1][col]-m[i][col], 1)\n",
    "        for j in range(col-1,-1,-1):\n",
    "            right = max(dp[i][j+1]-m[i][j],1)\n",
    "            down = max(dp[i+1][j]-m[i][j],1)\n",
    "            dp[i][j] = min(right,down)\n",
    "    return dp[0][0]\n",
    "\n",
    "ans = minHP1(arr)\n",
    "print(ans)\n",
    "    "
   ]
  },
  {
   "cell_type": "code",
   "execution_count": null,
   "id": "339c4f05",
   "metadata": {},
   "outputs": [],
   "source": []
  },
  {
   "cell_type": "markdown",
   "id": "0f13006d",
   "metadata": {},
   "source": [
    "### 解法2： 时间复杂度O(n*m),额外空间复杂度O(min(n,m))"
   ]
  },
  {
   "cell_type": "code",
   "execution_count": 2,
   "id": "e8b23c68",
   "metadata": {},
   "outputs": [
    {
     "name": "stdout",
     "output_type": "stream",
     "text": [
      "3 3\n",
      "-2 -3 3\n",
      "-5 -10 1\n",
      "0 30 -5\n",
      "7\n"
     ]
    }
   ],
   "source": [
    "n,m = list(map(int,input().split()))\n",
    "arr = []\n",
    "for i in range(n):\n",
    "    a = list(map(int,input().split()))\n",
    "    arr.append(a)\n",
    "    \n",
    "\n",
    "def minHP2(m):\n",
    "    if not m or len(m)==0 or len(m[0])==0:\n",
    "        return 1 \n",
    "    more = max(len(m), len(m[0]))\n",
    "    less = min(len(m), len(m[0]))\n",
    "    rowmore = True if more==len(m) else False \n",
    "    dp = [0] * less \n",
    "    row = len(m)\n",
    "    col = len(m[0])\n",
    "    tmp = m[row-1][col-1]\n",
    "    dp[less-1] = 1 if tmp>0 else -tmp+1 \n",
    "    row,col = 0,0 \n",
    "    for j in range(less-2, -1,-1):\n",
    "        row = more-1 if rowmore else j \n",
    "        col = j if rowmore else more-1 \n",
    "        dp[j] = max(dp[j+1]-m[row][col],1)\n",
    "    choosen1, choosen2 = 0,0 \n",
    "    for i in range(more-2,-1,-1):\n",
    "        row = i if rowmore else less-1 \n",
    "        col = less-1 if rowmore else i \n",
    "        dp[less-1] = max(dp[less-1]-m[row][col],1)\n",
    "        for j in range(less-2,-1,-1):\n",
    "            row = i if rowmore else j \n",
    "            col = j if rowmore else i \n",
    "            choosen1 = max(dp[j]-m[row][col],1)\n",
    "            choosen2 = max(dp[j+1]-m[row][col], 1)\n",
    "            dp[j] = min(choosen1,choosen2)\n",
    "    return dp[0]\n",
    "\n",
    "print(minHP2(arr))"
   ]
  },
  {
   "cell_type": "markdown",
   "id": "b2428607",
   "metadata": {},
   "source": [
    "###  压缩空间这个方法有点绕！"
   ]
  },
  {
   "cell_type": "code",
   "execution_count": null,
   "id": "410667f5",
   "metadata": {},
   "outputs": [],
   "source": []
  }
 ],
 "metadata": {
  "kernelspec": {
   "display_name": "Python 3",
   "language": "python",
   "name": "python3"
  },
  "language_info": {
   "codemirror_mode": {
    "name": "ipython",
    "version": 3
   },
   "file_extension": ".py",
   "mimetype": "text/x-python",
   "name": "python",
   "nbconvert_exporter": "python",
   "pygments_lexer": "ipython3",
   "version": "3.8.3"
  }
 },
 "nbformat": 4,
 "nbformat_minor": 5
}
