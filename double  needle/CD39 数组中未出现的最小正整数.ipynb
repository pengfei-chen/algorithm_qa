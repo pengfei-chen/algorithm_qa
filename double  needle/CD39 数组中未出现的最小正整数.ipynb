{
 "cells": [
  {
   "cell_type": "code",
   "execution_count": 2,
   "id": "4f34f8df",
   "metadata": {},
   "outputs": [
    {
     "name": "stdout",
     "output_type": "stream",
     "text": [
      "4\n",
      "-1 2 3 4\n",
      "1\n"
     ]
    }
   ],
   "source": [
    "n = int(input())\n",
    "arr = list(map(int,input().split()))\n",
    "\n",
    "def missNum(arr):\n",
    "    l = 0 \n",
    "    r = len(arr)\n",
    "    while l<r:\n",
    "        if arr[l] == l+1:\n",
    "            l+=1\n",
    "        elif arr[l] <= l or arr[l]>r or arr[arr[l]-1] == arr[l]:  # 在 l 位置的数，已经等于它 应该在arr中出现的位置 \n",
    "             # 小于已经出现过的数，大于应该最大的数，重复出现的数，都会导致右边少一个数。\n",
    "            r -= 1\n",
    "            arr[l] = arr[r]\n",
    "        else:\n",
    "            temp = arr[l]-1  # 这一步在交换的时候，不能结合到下一行代码中去！\n",
    "            arr[l], arr[temp] = arr[temp],arr[l]  #把这个出现的数，放到正确的位置上去\n",
    "    return l+1\n",
    "\n",
    "print(missNum(arr))"
   ]
  },
  {
   "cell_type": "code",
   "execution_count": null,
   "id": "80ff0021",
   "metadata": {},
   "outputs": [],
   "source": []
  }
 ],
 "metadata": {
  "kernelspec": {
   "display_name": "Python 3",
   "language": "python",
   "name": "python3"
  },
  "language_info": {
   "codemirror_mode": {
    "name": "ipython",
    "version": 3
   },
   "file_extension": ".py",
   "mimetype": "text/x-python",
   "name": "python",
   "nbconvert_exporter": "python",
   "pygments_lexer": "ipython3",
   "version": "3.8.3"
  }
 },
 "nbformat": 4,
 "nbformat_minor": 5
}
