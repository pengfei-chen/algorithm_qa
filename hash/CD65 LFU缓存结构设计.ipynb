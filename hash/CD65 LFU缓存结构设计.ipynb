{
 "cells": [
  {
   "cell_type": "code",
   "execution_count": 1,
   "id": "1a2d9413",
   "metadata": {},
   "outputs": [
    {
     "name": "stdout",
     "output_type": "stream",
     "text": [
      "8 3\n",
      "1 1 1\n",
      "1 2 2 \n",
      "1 3 2\n",
      "1 2 4\n",
      "1 3 5\n",
      "2 2\n",
      "4\n",
      "1 4 4\n",
      "2 1\n",
      "-1\n"
     ]
    }
   ],
   "source": [
    "N,K = map(int,input().split())\n",
    "dic = {}\n",
    "for _ in range(N):\n",
    "    option = list(map(int,input().split()))\n",
    "    if option[0]==1:\n",
    "        k,v = option[1],option[2]\n",
    "        if k not in dic.keys():\n",
    "            if len(dic)<K:\n",
    "                dic[k] = [v,1]  #这里就很灵性！\n",
    "            else:\n",
    "                dic.pop(min(dic,key=lambda x:dic[x][1]))\n",
    "                # 这里关于 min 的使用方法，精彩！\n",
    "                dic[k] = [v,1]\n",
    "        else:\n",
    "            dic[k][0] = v\n",
    "            dic[k][1] += 1 \n",
    "    elif option[0]==2:\n",
    "        k = option[1]\n",
    "        if k in dic.keys():\n",
    "            print(dic[k][0])\n",
    "            dic[k][1] += 1 \n",
    "        else:\n",
    "            print(-1)"
   ]
  },
  {
   "cell_type": "markdown",
   "id": "dd84bfb9",
   "metadata": {},
   "source": [
    "### min 里面指定 key 的方法，真的精彩！"
   ]
  },
  {
   "cell_type": "code",
   "execution_count": null,
   "id": "2c30d9b9",
   "metadata": {},
   "outputs": [],
   "source": [
    "min(dic,key=lambda x:dic[x][1])\n",
    "\n",
    "返回的是字典的 key "
   ]
  }
 ],
 "metadata": {
  "kernelspec": {
   "display_name": "Python 3",
   "language": "python",
   "name": "python3"
  },
  "language_info": {
   "codemirror_mode": {
    "name": "ipython",
    "version": 3
   },
   "file_extension": ".py",
   "mimetype": "text/x-python",
   "name": "python",
   "nbconvert_exporter": "python",
   "pygments_lexer": "ipython3",
   "version": "3.8.3"
  }
 },
 "nbformat": 4,
 "nbformat_minor": 5
}
