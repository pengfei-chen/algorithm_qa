{
 "cells": [
  {
   "cell_type": "code",
   "execution_count": 1,
   "id": "92a66fe5",
   "metadata": {},
   "outputs": [
    {
     "data": {
      "text/plain": [
       "{'a': 1, 'b': 2}"
      ]
     },
     "execution_count": 1,
     "metadata": {},
     "output_type": "execute_result"
    }
   ],
   "source": [
    "a = dict()\n",
    "a['a'] = 1\n",
    "a['b'] = 2 \n",
    "a"
   ]
  },
  {
   "cell_type": "code",
   "execution_count": 6,
   "id": "26d73b30",
   "metadata": {},
   "outputs": [
    {
     "data": {
      "text/plain": [
       "dict_values([1, 2])"
      ]
     },
     "execution_count": 6,
     "metadata": {},
     "output_type": "execute_result"
    }
   ],
   "source": [
    "a.values()"
   ]
  },
  {
   "cell_type": "code",
   "execution_count": 3,
   "id": "d234d97d",
   "metadata": {},
   "outputs": [
    {
     "ename": "AttributeError",
     "evalue": "'dict' object attribute 'values' is read-only",
     "output_type": "error",
     "traceback": [
      "\u001b[1;31m---------------------------------------------------------------------------\u001b[0m",
      "\u001b[1;31mAttributeError\u001b[0m                            Traceback (most recent call last)",
      "\u001b[1;32m<ipython-input-3-c908c5650172>\u001b[0m in \u001b[0;36m<module>\u001b[1;34m\u001b[0m\n\u001b[1;32m----> 1\u001b[1;33m \u001b[0ma\u001b[0m\u001b[1;33m.\u001b[0m\u001b[0mvalues\u001b[0m \u001b[1;33m=\u001b[0m \u001b[1;36m3\u001b[0m\u001b[1;33m\u001b[0m\u001b[1;33m\u001b[0m\u001b[0m\n\u001b[0m\u001b[0;32m      2\u001b[0m \u001b[0ma\u001b[0m\u001b[1;33m\u001b[0m\u001b[1;33m\u001b[0m\u001b[0m\n",
      "\u001b[1;31mAttributeError\u001b[0m: 'dict' object attribute 'values' is read-only"
     ]
    }
   ],
   "source": [
    "a.values = 3\n",
    "a"
   ]
  },
  {
   "cell_type": "code",
   "execution_count": 8,
   "id": "228fd880",
   "metadata": {},
   "outputs": [
    {
     "name": "stdout",
     "output_type": "stream",
     "text": [
      "6\n",
      "1 1 2\n",
      "2 1\n",
      "2\n",
      "2 2\n",
      "-1\n",
      "3 4\n",
      "2 1\n",
      "4\n",
      "2 2\n",
      "-1\n"
     ]
    }
   ],
   "source": [
    "class MyValue:\n",
    "    def __init__(self, v,t):\n",
    "        self.v = v \n",
    "        self.t = t \n",
    "        \n",
    "    def getValue(self):\n",
    "        return self.v \n",
    "    \n",
    "    def getTime(self):\n",
    "        return self.t \n",
    "    \n",
    "class MyHashMap:\n",
    "    def __init__(self):\n",
    "        self.baseMap = {} \n",
    "        self.t = 0 \n",
    "        self.setAll = MyValue(None, -1)\n",
    "        \n",
    "    def containsKey(self,key):\n",
    "        return key in self.baseMap\n",
    "    \n",
    "    def put(self, key, value):\n",
    "        self.baseMap[key] = MyValue(value, self.t)\n",
    "        self.t += 1\n",
    "        \n",
    "    def setAll_(self, value): # 方法和属性名，避免重复 \n",
    "        self.setAll = MyValue(value, self.t)\n",
    "        self.t += 1\n",
    "    \n",
    "    def get(self, key):\n",
    "        if self.containsKey(key):\n",
    "            if self.baseMap[key].getTime() < self.setAll.getTime():\n",
    "                return self.setAll.getValue() \n",
    "            else:\n",
    "                return self.baseMap[key].getValue()\n",
    "        else:\n",
    "            return None \n",
    "\n",
    "myhashmap = MyHashMap()\n",
    "n = eval(input())\n",
    "for i in range(n):\n",
    "    line = list(map(int, input().split()))\n",
    "    opt = line[0]\n",
    "    if opt == 1:\n",
    "        myhashmap.put(line[1], line[2])\n",
    "    elif opt == 2:\n",
    "        if myhashmap.containsKey(line[1]):\n",
    "            print(myhashmap.get(line[1]))\n",
    "        else:\n",
    "            print(-1)\n",
    "    else:\n",
    "        myhashmap.setAll_(line[1])\n"
   ]
  },
  {
   "cell_type": "code",
   "execution_count": null,
   "id": "389356a5",
   "metadata": {},
   "outputs": [],
   "source": []
  }
 ],
 "metadata": {
  "kernelspec": {
   "display_name": "Python 3",
   "language": "python",
   "name": "python3"
  },
  "language_info": {
   "codemirror_mode": {
    "name": "ipython",
    "version": 3
   },
   "file_extension": ".py",
   "mimetype": "text/x-python",
   "name": "python",
   "nbconvert_exporter": "python",
   "pygments_lexer": "ipython3",
   "version": "3.8.3"
  }
 },
 "nbformat": 4,
 "nbformat_minor": 5
}
