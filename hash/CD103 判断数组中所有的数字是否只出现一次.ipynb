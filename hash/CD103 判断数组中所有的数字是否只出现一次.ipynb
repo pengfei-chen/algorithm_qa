{
 "cells": [
  {
   "cell_type": "code",
   "execution_count": 1,
   "id": "57a0edb3",
   "metadata": {},
   "outputs": [
    {
     "name": "stdout",
     "output_type": "stream",
     "text": [
      "3\n",
      "1 2 3\n",
      "YES\n"
     ]
    }
   ],
   "source": [
    "n = int(input())\n",
    "arr = input().split()\n",
    "\n",
    "if len(set(arr)) == n:\n",
    "    print(\"YES\")\n",
    "else:\n",
    "    print(\"NO\")"
   ]
  },
  {
   "cell_type": "markdown",
   "id": "8c7a5257",
   "metadata": {},
   "source": [
    "###  问题中，额外空间复杂度 O(1)的方法，没去想怎么实现。"
   ]
  },
  {
   "cell_type": "code",
   "execution_count": null,
   "id": "fc2a6133",
   "metadata": {},
   "outputs": [],
   "source": []
  }
 ],
 "metadata": {
  "kernelspec": {
   "display_name": "Python 3",
   "language": "python",
   "name": "python3"
  },
  "language_info": {
   "codemirror_mode": {
    "name": "ipython",
    "version": 3
   },
   "file_extension": ".py",
   "mimetype": "text/x-python",
   "name": "python",
   "nbconvert_exporter": "python",
   "pygments_lexer": "ipython3",
   "version": "3.8.3"
  }
 },
 "nbformat": 4,
 "nbformat_minor": 5
}
