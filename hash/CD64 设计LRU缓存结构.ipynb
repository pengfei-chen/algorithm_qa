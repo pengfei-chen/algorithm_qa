{
 "cells": [
  {
   "cell_type": "code",
   "execution_count": 1,
   "id": "66e0e519",
   "metadata": {},
   "outputs": [
    {
     "data": {
      "text/plain": [
       "[1, 3]"
      ]
     },
     "execution_count": 1,
     "metadata": {},
     "output_type": "execute_result"
    }
   ],
   "source": [
    "a = [1,2,3]\n",
    "a.remove(2)\n",
    "a"
   ]
  },
  {
   "cell_type": "code",
   "execution_count": 2,
   "id": "524b7bfb",
   "metadata": {},
   "outputs": [
    {
     "name": "stdout",
     "output_type": "stream",
     "text": [
      "6 3\n",
      "1 1 1\n",
      "1 2 2 \n",
      "1 3 2\n",
      "2 1\n",
      "1\n",
      "1 4 4\n",
      "2 2\n",
      "-1\n"
     ]
    }
   ],
   "source": [
    "def solve():\n",
    "    n,k = list(map(int,input().split()))\n",
    "    data, dic = [], {}\n",
    "    for i in range(n):\n",
    "        line = list(map(int,input().split())) \n",
    "        if line[0] == 1:\n",
    "            if len(data) < k:\n",
    "                dic[line[1]] = line[2]\n",
    "                data.append(line[1])\n",
    "            else:\n",
    "                key = data.pop(0)  #把最久远的拿出来，删除掉\n",
    "                dic.pop(key)\n",
    "                data.append(line[1])\n",
    "                dic[line[1]] = line[2]\n",
    "        else:\n",
    "            if line[1] not in dic.keys():\n",
    "                print(-1)\n",
    "            else:\n",
    "                data.remove(line[1]) # 移除其在之前的位置\n",
    "                data.append(line[1]) # 放在列表末尾作为最常使用 \n",
    "                print(dic[line[1]])\n",
    "                \n",
    "solve()"
   ]
  },
  {
   "cell_type": "code",
   "execution_count": null,
   "id": "dd209b21",
   "metadata": {},
   "outputs": [],
   "source": []
  }
 ],
 "metadata": {
  "kernelspec": {
   "display_name": "Python 3",
   "language": "python",
   "name": "python3"
  },
  "language_info": {
   "codemirror_mode": {
    "name": "ipython",
    "version": 3
   },
   "file_extension": ".py",
   "mimetype": "text/x-python",
   "name": "python",
   "nbconvert_exporter": "python",
   "pygments_lexer": "ipython3",
   "version": "3.8.3"
  }
 },
 "nbformat": 4,
 "nbformat_minor": 5
}
