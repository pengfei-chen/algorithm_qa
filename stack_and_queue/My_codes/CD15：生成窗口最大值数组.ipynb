{
 "cells": [
  {
   "cell_type": "code",
   "execution_count": null,
   "id": "2e0c1b27",
   "metadata": {},
   "outputs": [],
   "source": [
    "\"\"\"\n",
    "第一想法，用切片去做，遍历一次，用max找最大值\n",
    "\"\"\"\n",
    "\n",
    "def find_win_max(n,w,arr):\n",
    "    ans = []\n",
    "    for i in range(n-w+1):\n",
    "        check = arr[i:i+w]\n",
    "        res = max(check)\n",
    "        ans.append(res)\n",
    "    return ' '.join(map(str,ans))\n",
    "\n",
    "if __name__ == '__main__':\n",
    "    n,w = map(int,input().split())\n",
    "    arr = list(map(int,input().split()))\n",
    "    print(find_win_max(n, w, arr))\n",
    "    "
   ]
  },
  {
   "cell_type": "markdown",
   "id": "ea59571c",
   "metadata": {},
   "source": [
    "###  没跑通，算法复杂度太大？"
   ]
  },
  {
   "cell_type": "code",
   "execution_count": null,
   "id": "6db1ffc0",
   "metadata": {},
   "outputs": [],
   "source": []
  },
  {
   "cell_type": "code",
   "execution_count": null,
   "id": "43f71388",
   "metadata": {},
   "outputs": [],
   "source": [
    "\"\"\"\n",
    "思路：借助双端队列来保存上一个滑动窗口的值状态\n",
    "\"\"\"\n",
    "\n",
    "def get_max_values(n, w, arr):\n",
    "        if len(arr) == 0 or w < 1 or len(arr) < w:\n",
    "            return None\n",
    "        index = 0\n",
    "        deque = list()   # 这里 deque[0] 存的是 已经遍历的arr里面的最大值的索引\n",
    "        # 并且，deque 里面的arr索引对应的值， 是从大到小排序的\n",
    "        max_values = list()     # len(max_values) = len(arr) - window + 1\n",
    "        while index < n:\n",
    "            while len(deque) > 0 and arr[deque[-1]] <= arr[index]:\n",
    "                deque.pop()\n",
    "            deque.append(index)\n",
    "            if deque[-1] - deque[0] == w:   # 窗口已经过去 之前窗口中最大值的位置了，\n",
    "                deque.pop(0)   # 去除前最大值\n",
    "            if index >= w - 1:\n",
    "                max_values.append(arr[deque[0]])\n",
    "            index += 1\n",
    "        return  ' '.join(map(str,max_values))\n",
    "    \n",
    "\n",
    "if __name__ == '__main__':\n",
    "    n,w = map(int,input().split())\n",
    "    arr = list(map(int,input().split()))\n",
    "    print(get_max_values(n, w, arr))"
   ]
  }
 ],
 "metadata": {
  "kernelspec": {
   "display_name": "Python [conda env:root] *",
   "language": "python",
   "name": "conda-root-py"
  },
  "language_info": {
   "codemirror_mode": {
    "name": "ipython",
    "version": 3
   },
   "file_extension": ".py",
   "mimetype": "text/x-python",
   "name": "python",
   "nbconvert_exporter": "python",
   "pygments_lexer": "ipython3",
   "version": "3.8.8"
  }
 },
 "nbformat": 4,
 "nbformat_minor": 5
}
