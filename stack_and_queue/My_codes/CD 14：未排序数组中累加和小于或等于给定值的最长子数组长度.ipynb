{
 "cells": [
  {
   "cell_type": "code",
   "execution_count": 1,
   "id": "fa1064ac",
   "metadata": {},
   "outputs": [
    {
     "name": "stdout",
     "output_type": "stream",
     "text": [
      "5\n",
      "4\n",
      "3\n",
      "2\n",
      "1\n",
      "0\n"
     ]
    }
   ],
   "source": [
    " for i in range(5,-1,-1):\n",
    "        print(i)"
   ]
  },
  {
   "cell_type": "code",
   "execution_count": null,
   "id": "1f40c012",
   "metadata": {},
   "outputs": [],
   "source": [
    "\"\"\"\n",
    "这个方案非常巧妙（我指实际代码实现的过程中，变量的更新控制很有意思）。\n",
    "相较于前一种方案的从前往后扫描生成求和数组sum[n]，这种方案使用了两个辅助数组：\n",
    "1）h[n]从后往前扫描计算对应位置i的最小累加和；\n",
    "2）ends[n]，用来记录当前位置所对应的累加和的结束位置；   这里用字典表示\n",
    "首先，对数组arr[n]进行第一遍扫描，填满h[n]和ends[n]。\n",
    "接着从左往右，根据arr[n]，ends[n]和arr[n]结算和寻找最长的子数组，\n",
    "原则很简单，相邻两端的和小于就继续，否则中断，进行长度比对，然后继续，直到end或i等于n。\n",
    "\n",
    "最后：看不懂就一步步调试代码慢慢看！\n",
    "\"\"\"\n",
    "\n",
    "def maxlens(n,k,arr):\n",
    "    help = [0 for i in range(n)] # 从后往前扫描计算对应位置i的最小累加和；\n",
    "    help[-1] = arr[-1]\n",
    "    dict = {}   # 记录当前位置所对应的累加和的结束位置\n",
    "    dict[n-1] = n-1\n",
    "    # 计算从右边到i的刚刚大于0的和and位置\n",
    "    for i in range(n-2, -1, -1):\n",
    "        if help[i+1] <= 0:\n",
    "            help[i] = help[i+1] + arr[i]\n",
    "            dict[i] = dict[i+1]\n",
    "        else:\n",
    "            help[i] = arr[i]\n",
    "            dict[i] = i \n",
    "            \n",
    "    # 从左到右计算累加和的数组长度\n",
    "    sums,end,maxlen = 0,0,0# 子数组累加和，子数组右边的边界，数组最大长度\n",
    "    for i in range(n):\n",
    "        while end < n and sums + help[end] <= k:\n",
    "            sums += help[end]\n",
    "            end = dict[end] + 1\n",
    "        # 此时数组累加和是大于k的\n",
    "        maxlen = max(maxlen,end-i)\n",
    "        # 数组左边界向前移动\n",
    "        sums -= arr[i]\n",
    "    return maxlen\n",
    "\n",
    "if __name__ == \"__main__\":\n",
    "    n,k = map(int,input().split())\n",
    "    arr = list(map(int,input().split()))\n",
    "    print(maxlens(n,k,arr))"
   ]
  }
 ],
 "metadata": {
  "kernelspec": {
   "display_name": "Python [conda env:root] *",
   "language": "python",
   "name": "conda-root-py"
  },
  "language_info": {
   "codemirror_mode": {
    "name": "ipython",
    "version": 3
   },
   "file_extension": ".py",
   "mimetype": "text/x-python",
   "name": "python",
   "nbconvert_exporter": "python",
   "pygments_lexer": "ipython3",
   "version": "3.8.8"
  }
 },
 "nbformat": 4,
 "nbformat_minor": 5
}
