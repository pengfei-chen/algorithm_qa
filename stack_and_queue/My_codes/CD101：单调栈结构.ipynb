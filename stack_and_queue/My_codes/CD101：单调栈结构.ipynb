{
 "cells": [
  {
   "cell_type": "code",
   "execution_count": 1,
   "id": "5f9c9d07",
   "metadata": {},
   "outputs": [
    {
     "name": "stdout",
     "output_type": "stream",
     "text": [
      "7\n",
      "3 4 1 5 6 2 7 \n",
      "-1 2\n",
      "0 2\n",
      "-1 -1\n",
      "2 5\n",
      "3 5\n",
      "2 -1\n",
      "5 -1\n"
     ]
    }
   ],
   "source": [
    "n = int(input())\n",
    "arr = input().split()\n",
    "arr = list(map(int,arr))\n",
    "\n",
    "stack = []\n",
    "index_list = [[] for i in range(n)]\n",
    "for i in range(len(arr)):\n",
    "    if not stack:\n",
    "        stack.append(i)\n",
    "    else:\n",
    "        while stack and arr[stack[-1]] > arr[i]:\n",
    "            current_index = stack.pop()\n",
    "            if stack:\n",
    "                index_list[current_index] = [stack[-1],i]\n",
    "            else:\n",
    "                index_list[current_index] = [-1,i]\n",
    "        stack.append(i)   # 上一步while不符合，则填入stack里面的索引，对应的值一定比倒数第二个大\n",
    "\n",
    "while stack:   # 现有栈里面，每个元素，在列表里面的值，其后面都没有比他小的元素了。所以右边统统填入-1\n",
    "    current_index = stack.pop()\n",
    "    if stack:\n",
    "        index_list[current_index] = [stack[-1],-1]\n",
    "    else:\n",
    "        index_list[current_index] = [-1,-1]\n",
    "\n",
    "for i in index_list:\n",
    "    print(i[0],i[1])"
   ]
  },
  {
   "cell_type": "code",
   "execution_count": null,
   "id": "7d43c97e",
   "metadata": {},
   "outputs": [],
   "source": []
  }
 ],
 "metadata": {
  "kernelspec": {
   "display_name": "Python [conda env:root] *",
   "language": "python",
   "name": "conda-root-py"
  },
  "language_info": {
   "codemirror_mode": {
    "name": "ipython",
    "version": 3
   },
   "file_extension": ".py",
   "mimetype": "text/x-python",
   "name": "python",
   "nbconvert_exporter": "python",
   "pygments_lexer": "ipython3",
   "version": "3.8.3"
  }
 },
 "nbformat": 4,
 "nbformat_minor": 5
}
