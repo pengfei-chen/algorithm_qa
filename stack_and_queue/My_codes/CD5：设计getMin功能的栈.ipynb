{
 "cells": [
  {
   "cell_type": "code",
   "execution_count": 7,
   "id": "1bfec359",
   "metadata": {},
   "outputs": [
    {
     "name": "stdout",
     "output_type": "stream",
     "text": [
      "6\n",
      "push 3\n",
      "push 2\n",
      "push 1\n",
      "getMin\n",
      "1\n",
      "pop\n",
      "getMin\n",
      "2\n"
     ]
    }
   ],
   "source": [
    "class Mystack:\n",
    "    def __init__(self):\n",
    "        self.datastack = list()\n",
    "        self.minstack = list()\n",
    "        \n",
    "    def push(self, value):\n",
    "        length = len(self.minstack)\n",
    "        if length == 0:\n",
    "            self.minstack.append(value)\n",
    "        else:\n",
    "            if value <= self.minstack[-1]:\n",
    "                self.minstack.append(value)\n",
    "                \n",
    "        self.datastack.append(value)\n",
    "        \n",
    "    def pop(self):\n",
    "        if len(self.datastack) == 0:\n",
    "            raise RuntimeError(\"the stack is empty\")\n",
    "        i = self.datastack.pop()\n",
    "        if i == self.get_min():\n",
    "            self.minstack.pop()\n",
    "        return i \n",
    "\n",
    "    def get_min(self):\n",
    "        if len(self.datastack) == 0:\n",
    "            raise RuntimeError(\"the stack is empty\")\n",
    "        return self.minstack[-1]\n",
    "\n",
    "stack = Mystack()\n",
    "n = int(input())\n",
    "for i in range(n):\n",
    "    x = input().split()\n",
    "    if x[0] == 'push':\n",
    "        stack.push(x[1])\n",
    "    if x[0] == 'pop':\n",
    "        stack.pop()\n",
    "    if x[0] == 'getMin':\n",
    "        ans = stack.get_min()\n",
    "        print(ans)\n",
    "        \n",
    "        "
   ]
  },
  {
   "cell_type": "markdown",
   "id": "e5953f5e",
   "metadata": {},
   "source": [
    "###  最后通过提交：这个模式下，异常是不会报错的。。也不会出现异常的测试用例"
   ]
  },
  {
   "cell_type": "code",
   "execution_count": null,
   "id": "1399df22",
   "metadata": {},
   "outputs": [],
   "source": [
    "class Mystack:\n",
    "    def __init__(self):\n",
    "        self.datastack = list()\n",
    "        self.minstack = list()\n",
    "        \n",
    "    def push(self, value):\n",
    "        length = len(self.minstack)\n",
    "        if length == 0:\n",
    "            self.minstack.append(value)\n",
    "        else:\n",
    "            if value <= self.minstack[-1]:\n",
    "                self.minstack.append(value)\n",
    "                \n",
    "        self.datastack.append(value)\n",
    "        \n",
    "    def pop(self):\n",
    "#         if len(self.datastack) == 0:\n",
    "#             raise RuntimeError(\"the stack is empty\")\n",
    "        i = self.datastack.pop()\n",
    "        if i == self.get_min():\n",
    "            self.minstack.pop()\n",
    "        return i \n",
    "\n",
    "    def get_min(self):\n",
    "#         if len(self.datastack) == 0:\n",
    "#             raise RuntimeError(\"the stack is empty\")\n",
    "        return self.minstack[-1]\n",
    "\n",
    "stack = Mystack()\n",
    "n = int(input())\n",
    "for i in range(n):\n",
    "    x = input().split()\n",
    "    if x[0] == 'push':\n",
    "        stack.push(int(x[1]))\n",
    "    if x[0] == 'pop':\n",
    "        stack.pop()\n",
    "    if x[0] == 'getMin':\n",
    "        ans = stack.get_min()\n",
    "        print(ans)\n",
    "        \n"
   ]
  }
 ],
 "metadata": {
  "kernelspec": {
   "display_name": "Python [conda env:root] *",
   "language": "python",
   "name": "conda-root-py"
  },
  "language_info": {
   "codemirror_mode": {
    "name": "ipython",
    "version": 3
   },
   "file_extension": ".py",
   "mimetype": "text/x-python",
   "name": "python",
   "nbconvert_exporter": "python",
   "pygments_lexer": "ipython3",
   "version": "3.8.8"
  }
 },
 "nbformat": 4,
 "nbformat_minor": 5
}
