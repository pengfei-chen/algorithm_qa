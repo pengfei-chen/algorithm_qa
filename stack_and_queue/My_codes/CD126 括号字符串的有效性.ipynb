{
 "cells": [
  {
   "cell_type": "code",
   "execution_count": 1,
   "id": "08111884",
   "metadata": {},
   "outputs": [
    {
     "name": "stdout",
     "output_type": "stream",
     "text": [
      "(())\n",
      "YES\n"
     ]
    }
   ],
   "source": [
    "line = input()\n",
    "\n",
    "cnt = 0\n",
    "for s in line:\n",
    "    if s == '(':\n",
    "        cnt += 1\n",
    "    elif s == ')':\n",
    "        cnt -= 1\n",
    "    else:\n",
    "        cnt += 1\n",
    "    if cnt < 0:\n",
    "        break\n",
    "if cnt == 0:\n",
    "    print('YES')\n",
    "else:\n",
    "    print('NO')"
   ]
  },
  {
   "cell_type": "code",
   "execution_count": null,
   "id": "ddfa7832",
   "metadata": {},
   "outputs": [],
   "source": []
  }
 ],
 "metadata": {
  "kernelspec": {
   "display_name": "Python [conda env:root] *",
   "language": "python",
   "name": "conda-root-py"
  },
  "language_info": {
   "codemirror_mode": {
    "name": "ipython",
    "version": 3
   },
   "file_extension": ".py",
   "mimetype": "text/x-python",
   "name": "python",
   "nbconvert_exporter": "python",
   "pygments_lexer": "ipython3",
   "version": "3.8.3"
  }
 },
 "nbformat": 4,
 "nbformat_minor": 5
}
