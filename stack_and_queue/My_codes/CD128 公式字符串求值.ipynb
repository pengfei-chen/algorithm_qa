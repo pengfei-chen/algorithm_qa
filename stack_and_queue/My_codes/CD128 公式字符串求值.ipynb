{
 "cells": [
  {
   "cell_type": "code",
   "execution_count": null,
   "id": "90f94951",
   "metadata": {},
   "outputs": [],
   "source": [
    "def addnums(stack):\n",
    "    flag=True\n",
    "    res=0\n",
    "    while stack!=[]:\n",
    "        cur=stack.pop(0)\n",
    "        if cur=='+':\n",
    "            flag=True\n",
    "        elif cur=='-':\n",
    "            flag=False\n",
    "        else:\n",
    "            res+=int(cur) if flag else -int(cur)\n",
    "    return res\n",
    "def mutiplynums(stack,pre):\n",
    "    if stack:\n",
    "        top=stack.pop()\n",
    "        if top in '+-':\n",
    "            stack.append(top)\n",
    "        else:\n",
    "            cur=int(stack.pop())\n",
    "            pre=cur*pre if top=='*' else cur/pre\n",
    "    stack.append(pre)\n",
    "    \n",
    "def value(s,i):\n",
    "    stack=[]\n",
    "    pre=0\n",
    "    while i<len(s) and s[i]!=')':\n",
    "        if ord(s[i])>=ord('0') and ord(s[i])<=ord('9'):\n",
    "            pre=pre*10+int(s[i])\n",
    "            i+=1\n",
    "        elif s[i]!='(':\n",
    "            mutiplynums(stack,pre)\n",
    "            stack.append(s[i])\n",
    "            i+=1\n",
    "            pre=0\n",
    "        else:\n",
    "            res=value(s,i+1)\n",
    "            pre=res[0]\n",
    "            i=res[1]+1\n",
    "    mutiplynums(stack, pre)\n",
    "    return [addnums(stack),i]\n",
    "\n",
    "def getValue(s):\n",
    "    return value(s,0)[0]\n",
    "\n",
    "s=input()\n",
    "print(getValue(s))"
   ]
  }
 ],
 "metadata": {
  "kernelspec": {
   "display_name": "Python [conda env:root] *",
   "language": "python",
   "name": "conda-root-py"
  },
  "language_info": {
   "codemirror_mode": {
    "name": "ipython",
    "version": 3
   },
   "file_extension": ".py",
   "mimetype": "text/x-python",
   "name": "python",
   "nbconvert_exporter": "python",
   "pygments_lexer": "ipython3",
   "version": "3.8.3"
  }
 },
 "nbformat": 4,
 "nbformat_minor": 5
}
