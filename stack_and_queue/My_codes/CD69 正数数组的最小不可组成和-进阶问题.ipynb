{
 "cells": [
  {
   "cell_type": "code",
   "execution_count": 2,
   "id": "45f3ceae",
   "metadata": {},
   "outputs": [
    {
     "name": "stdout",
     "output_type": "stream",
     "text": [
      "4\n",
      "3 2 1 8\n",
      "7\n"
     ]
    }
   ],
   "source": [
    "n = int(input())\n",
    "arr = list(map(int,input().split()))\n",
    "\n",
    "def unformedSum3(arr,n):\n",
    "    if not arr or len(arr)==0:\n",
    "        return 0 \n",
    "    arr.sort()\n",
    "    r = 0 \n",
    "    for i in range(n):\n",
    "        if arr[i] > r + 1:\n",
    "            return r+1 \n",
    "        else:\n",
    "            r += arr[i]\n",
    "    return r + 1 \n",
    "\n",
    "print(unformedSum3(arr,n))"
   ]
  },
  {
   "cell_type": "code",
   "execution_count": null,
   "id": "c3e16313",
   "metadata": {},
   "outputs": [],
   "source": []
  }
 ],
 "metadata": {
  "kernelspec": {
   "display_name": "Python 3",
   "language": "python",
   "name": "python3"
  },
  "language_info": {
   "codemirror_mode": {
    "name": "ipython",
    "version": 3
   },
   "file_extension": ".py",
   "mimetype": "text/x-python",
   "name": "python",
   "nbconvert_exporter": "python",
   "pygments_lexer": "ipython3",
   "version": "3.8.3"
  }
 },
 "nbformat": 4,
 "nbformat_minor": 5
}
