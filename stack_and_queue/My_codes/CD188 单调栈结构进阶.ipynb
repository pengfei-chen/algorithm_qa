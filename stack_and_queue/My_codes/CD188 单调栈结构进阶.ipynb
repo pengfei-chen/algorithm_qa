{
 "cells": [
  {
   "cell_type": "code",
   "execution_count": null,
   "id": "7f3912eb",
   "metadata": {},
   "outputs": [],
   "source": [
    "def func():\n",
    "    n = int(input())\n",
    "    arr = list(map(int, input().split()))\n",
    "    left = [-1] * n\n",
    "    right = [-1] * n\n",
    "    L = [0]\n",
    "    R = [n - 1]\n",
    "    for i in range(1, n):\n",
    "        while L and arr[L[-1]] >= arr[i]:  \n",
    "            L.pop()\n",
    "        left[i] = L[-1] if L else -1  # 当前列表里面的已经比 arr[i] 要小了\n",
    "        L.append(i)  #当前索引对应的值比列表里面的值都要大\n",
    "    for i in range(n - 2, -1, -1):  # 这里 i 是可以到 0 的\n",
    "        while R and arr[R[-1]] >= arr[i]:\n",
    "            R.pop()\n",
    "        right[i] = R[-1] if R else -1\n",
    "        R.append(i)\n",
    "    return list(zip(left, right))\n",
    "\n",
    "for c in func():\n",
    "    print(*c)   # 这样的表达方式，学习了\n"
   ]
  },
  {
   "cell_type": "code",
   "execution_count": null,
   "id": "c70278c3",
   "metadata": {},
   "outputs": [],
   "source": []
  }
 ],
 "metadata": {
  "kernelspec": {
   "display_name": "Python [conda env:root] *",
   "language": "python",
   "name": "conda-root-py"
  },
  "language_info": {
   "codemirror_mode": {
    "name": "ipython",
    "version": 3
   },
   "file_extension": ".py",
   "mimetype": "text/x-python",
   "name": "python",
   "nbconvert_exporter": "python",
   "pygments_lexer": "ipython3",
   "version": "3.8.3"
  }
 },
 "nbformat": 4,
 "nbformat_minor": 5
}
