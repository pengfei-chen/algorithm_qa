{
 "cells": [
  {
   "cell_type": "code",
   "execution_count": null,
   "id": "f536ca4c",
   "metadata": {},
   "outputs": [],
   "source": [
    "\"\"\"\n",
    "连续子数组\n",
    "\"\"\"\n",
    "\n",
    "def slideWindows(k,arr):\n",
    "    sums = 0\n",
    "    starts = 0\n",
    "    length = 0\n",
    "    for i in range(len(arr)):\n",
    "        sums = sums + arr[i]\n",
    "        while sums > k:\n",
    "            sums = sums - arr[starts]   # 往后面推动\n",
    "            starts += 1\n",
    "        if sums == k:\n",
    "            length = max(length, i-starts+1)  #遍历，选出长度最大的\n",
    "    return length\n",
    "    \n",
    "    \n",
    "    \n",
    "while True:\n",
    "    try:\n",
    "        n,k = map(int, input().split())\n",
    "        arr = list(map(int,input().split()))\n",
    "        print(slideWindows(k, arr))\n",
    "    except:\n",
    "        break"
   ]
  }
 ],
 "metadata": {
  "kernelspec": {
   "display_name": "Python [conda env:root] *",
   "language": "python",
   "name": "conda-root-py"
  },
  "language_info": {
   "codemirror_mode": {
    "name": "ipython",
    "version": 3
   },
   "file_extension": ".py",
   "mimetype": "text/x-python",
   "name": "python",
   "nbconvert_exporter": "python",
   "pygments_lexer": "ipython3",
   "version": "3.8.8"
  }
 },
 "nbformat": 4,
 "nbformat_minor": 5
}
