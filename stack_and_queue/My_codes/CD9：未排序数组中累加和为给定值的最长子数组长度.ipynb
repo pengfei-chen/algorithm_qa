{
 "cells": [
  {
   "cell_type": "code",
   "execution_count": null,
   "id": "b30e633b",
   "metadata": {},
   "outputs": [],
   "source": [
    "def slideWindows(k,arr):\n",
    "    sums = 0\n",
    "    res = 0\n",
    "    dict = {0:-1}\n",
    "    for i in range(len(arr)):\n",
    "        sums = sums + arr[i]\n",
    "        if sums not in dict:\n",
    "            dict[sums] = i   # 出现过这个值的最小 索引\n",
    "        if sums-k in dict:   # sums - (sums - k )  从sums-k位置 到 现在的位置i 的和就是 k\n",
    "            res = max(res, i-dict[sums-k])  #遍历，选出长度最大的\n",
    "    return res\n",
    "    \n",
    "\n",
    "while True:\n",
    "    try:\n",
    "        n,k = map(int, input().split())\n",
    "        arr = list(map(int,input().split()))\n",
    "        ans = slideWindows(k, arr)\n",
    "        print(ans)\n",
    "    except:\n",
    "        break"
   ]
  }
 ],
 "metadata": {
  "kernelspec": {
   "display_name": "Python [conda env:root] *",
   "language": "python",
   "name": "conda-root-py"
  },
  "language_info": {
   "codemirror_mode": {
    "name": "ipython",
    "version": 3
   },
   "file_extension": ".py",
   "mimetype": "text/x-python",
   "name": "python",
   "nbconvert_exporter": "python",
   "pygments_lexer": "ipython3",
   "version": "3.8.8"
  }
 },
 "nbformat": 4,
 "nbformat_minor": 5
}
