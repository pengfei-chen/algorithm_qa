{
 "cells": [
  {
   "cell_type": "code",
   "execution_count": 1,
   "id": "833399af",
   "metadata": {},
   "outputs": [
    {
     "name": "stdout",
     "output_type": "stream",
     "text": [
      "[3, 2, 1]\n"
     ]
    }
   ],
   "source": [
    "\"\"\"\n",
    "问题描述：一个栈依次压入1、2、3、4、5，那么从栈顶到栈底分别为5、4、3、2、1。将这个栈\n",
    "转置后，从栈顶到栈底为1、2、3、4、5，也就是实现栈中元素的逆序，要求：\n",
    "只能用递归函数来实现和初始栈，不能使用其他数据结构，\n",
    "\n",
    "思路：首先使用一个递归函数获取到栈底元素，再构造另外一个递归函数来进行reverse操作\n",
    "\"\"\"\n",
    "\n",
    "\"\"\"\n",
    "classmethod 修饰符对应的函数不需要实例化，不需要 self 参数，\n",
    "但第一个参数需要是表示自身类的 cls 参数，可以来调用类的属性，类的方法，实例化对象等。\n",
    "\"\"\"\n",
    "\n",
    "\n",
    "class ReverseTool:\n",
    "    # 第一个递归：用来返回栈底的最后一个元素   # 即去除列表中的第一个元素, 并且返回这个元素\n",
    "    @classmethod\n",
    "    def get_stack_bottom(cls, stack):\n",
    "        i = stack.pop()\n",
    "        if len(stack) == 0:\n",
    "            return i\n",
    "        else:\n",
    "            last = cls.get_stack_bottom(stack)\n",
    "            stack.append(i)\n",
    "            return last\n",
    "\n",
    "    # 第二个递归： 用来把元素从最后一个重新压到栈里\n",
    "    @classmethod\n",
    "    def reverse(cls, stack):\n",
    "        if len(stack) == 0:\n",
    "            return\n",
    "        else:\n",
    "            i = cls.get_stack_bottom(stack)\n",
    "            cls.reverse(stack)\n",
    "            stack.append(i)\n",
    "\n",
    "if __name__ == '__main__':\n",
    "    my_stack = [1, 2, 3]\n",
    "    ReverseTool.reverse(my_stack)\n",
    "    print(my_stack)\n"
   ]
  },
  {
   "cell_type": "code",
   "execution_count": 6,
   "id": "2fa4f3b5",
   "metadata": {},
   "outputs": [
    {
     "name": "stdout",
     "output_type": "stream",
     "text": [
      "1\n",
      "[2, 3]\n"
     ]
    }
   ],
   "source": [
    "my_stack = [1, 2, 3]\n",
    "i = ReverseTool.get_stack_bottom(my_stack)\n",
    "print(i)\n",
    "print(my_stack)"
   ]
  },
  {
   "cell_type": "code",
   "execution_count": 8,
   "id": "30069af4",
   "metadata": {},
   "outputs": [
    {
     "name": "stdout",
     "output_type": "stream",
     "text": [
      "2\n",
      "[3]\n"
     ]
    }
   ],
   "source": [
    "my_stack = [ 2, 3]\n",
    "i = ReverseTool.get_stack_bottom(my_stack)\n",
    "print(i)\n",
    "print(my_stack)"
   ]
  },
  {
   "cell_type": "code",
   "execution_count": 5,
   "id": "2743e26e",
   "metadata": {},
   "outputs": [
    {
     "name": "stdout",
     "output_type": "stream",
     "text": [
      "[]\n"
     ]
    }
   ],
   "source": [
    "my_stack = [3]\n",
    "ReverseTool.get_stack_bottom(my_stack)\n",
    "print(my_stack)"
   ]
  },
  {
   "cell_type": "code",
   "execution_count": 10,
   "id": "fc858d66",
   "metadata": {},
   "outputs": [
    {
     "data": {
      "text/plain": [
       "'1 2 3'"
      ]
     },
     "execution_count": 10,
     "metadata": {},
     "output_type": "execute_result"
    }
   ],
   "source": [
    "' '.join(str(i) for i in [1,2,3])"
   ]
  },
  {
   "cell_type": "code",
   "execution_count": null,
   "id": "5003e91d",
   "metadata": {},
   "outputs": [],
   "source": [
    "if __name__ == '__main__':\n",
    "    n = int(input())\n",
    "    stack = [int(i) for i in input().split()]\n",
    "    reverse_ = ReverseTool()\n",
    "    reverse_.reverse(stack)\n",
    "    ans = ' '.join(str(i) for i in stack)\n",
    "    print(ans)"
   ]
  },
  {
   "cell_type": "markdown",
   "id": "e3e8cdd7",
   "metadata": {},
   "source": [
    "###  最终答案"
   ]
  },
  {
   "cell_type": "code",
   "execution_count": null,
   "id": "80aeddc9",
   "metadata": {},
   "outputs": [],
   "source": [
    "import sys\n",
    "sys.setrecursionlimit(2000)\n",
    "\"\"\"\n",
    "增加递归深度，可以跑通。。。\n",
    "\"\"\"\n",
    "\n",
    "class ReverseTool:\n",
    "    # 第一个递归：用来返回栈底的最后一个元素\n",
    "    @classmethod\n",
    "    def get_stack_bottom(cls, stack):\n",
    "        i = stack.pop()\n",
    "        if len(stack) == 0:\n",
    "            return i\n",
    "        else:\n",
    "            last = cls.get_stack_bottom(stack)\n",
    "            stack.append(i)\n",
    "            return last\n",
    "\n",
    "    # 第二个递归： 用来把元素从最后一个重新压到栈里\n",
    "    @classmethod\n",
    "    def reverse(cls, stack):\n",
    "        if len(stack) == 0:\n",
    "            return\n",
    "        else:\n",
    "            i = cls.get_stack_bottom(stack)\n",
    "            cls.reverse(stack)\n",
    "            stack.append(i)\n",
    "\n",
    "if __name__ == '__main__':\n",
    "    n = int(input())\n",
    "    stack = [int(i) for i in input().split()]\n",
    "    reverse_ = ReverseTool()\n",
    "    reverse_.reverse(stack)\n",
    "    ans = ' '.join(str(i) for i in stack)\n",
    "    print(ans)"
   ]
  }
 ],
 "metadata": {
  "kernelspec": {
   "display_name": "Python [conda env:root] *",
   "language": "python",
   "name": "conda-root-py"
  },
  "language_info": {
   "codemirror_mode": {
    "name": "ipython",
    "version": 3
   },
   "file_extension": ".py",
   "mimetype": "text/x-python",
   "name": "python",
   "nbconvert_exporter": "python",
   "pygments_lexer": "ipython3",
   "version": "3.8.8"
  }
 },
 "nbformat": 4,
 "nbformat_minor": 5
}
