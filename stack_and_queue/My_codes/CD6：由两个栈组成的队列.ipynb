{
 "cells": [
  {
   "cell_type": "code",
   "execution_count": 2,
   "id": "8284710d",
   "metadata": {},
   "outputs": [],
   "source": [
    "class StackQueue:\n",
    "    def __init__(self):\n",
    "        self.stack_in = list()\n",
    "        self.stack_out = list()\n",
    "        \n",
    "    def add(self, value):\n",
    "        self.stack_in.append(value)\n",
    "        \n",
    "    def poll(self):\n",
    "        if len(self.stack_out) == 0:\n",
    "            if (self.stack_in) == 0:\n",
    "                raise RuntimeError(\"the queue is empty\")\n",
    "            while len(self.stack_in) > 0:\n",
    "                self.stack_out.append(self.stack_in.pop())\n",
    "        self.stack_out.pop()\n",
    "#         return self.stack_out.pop()\n",
    "        \n",
    "        \n",
    "    def peek(self):\n",
    "        if len(self.stack_out) == 0:\n",
    "            if len(self.stack_in) == 0:\n",
    "                raise RuntimeError(\"the queue is empty\")\n",
    "            while len(self.stack_in) > 0:\n",
    "                self.stack_out.append(self.stack_in.pop())\n",
    "        return self.stack_out[-1]\n",
    "    \n",
    "\n",
    "queue = StackQueue()\n",
    "n = int(input())\n",
    "for i in range(n):\n",
    "    x = input().split()\n",
    "    if x[0] == 'add':\n",
    "        queue.add(int(x[1]))\n",
    "    if x[0] == 'poll':\n",
    "        queue.poll()\n",
    "    if x[0] == 'peek':\n",
    "        ans = queue.peek()\n",
    "        print(ans)\n"
   ]
  },
  {
   "cell_type": "code",
   "execution_count": null,
   "id": "ee7ffa81",
   "metadata": {},
   "outputs": [],
   "source": []
  }
 ],
 "metadata": {
  "kernelspec": {
   "display_name": "Python [conda env:root] *",
   "language": "python",
   "name": "conda-root-py"
  },
  "language_info": {
   "codemirror_mode": {
    "name": "ipython",
    "version": 3
   },
   "file_extension": ".py",
   "mimetype": "text/x-python",
   "name": "python",
   "nbconvert_exporter": "python",
   "pygments_lexer": "ipython3",
   "version": "3.8.8"
  }
 },
 "nbformat": 4,
 "nbformat_minor": 5
}
