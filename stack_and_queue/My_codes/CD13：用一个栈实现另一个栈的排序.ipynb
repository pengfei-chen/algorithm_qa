{
 "cells": [
  {
   "cell_type": "code",
   "execution_count": null,
   "id": "197087ef",
   "metadata": {},
   "outputs": [],
   "source": [
    "\"\"\"\n",
    "问题描述：一个栈中元素的类型为整型，现在想将该栈从顶到底按从大到小的顺序排序，只许\n",
    "额外申请一个栈。除此之外，可以申请新的变量，但不能申请额外的数据结构。如何完成排序？\n",
    "\n",
    "思路：将要排序的栈记为stack，申请的辅助栈记为help。在stack上执行pop操作，弹出的\n",
    "元素记为cur.\n",
    "1)如果cur小于或等于help的栈顶元素，则将cur直接压入help\n",
    "2)如果cur大于help的栈顶元素，则将help的元素逐一弹出，逐一压入stack，直到cur小于\n",
    "或等于help的栈顶元素，再将cur压入help\n",
    "3)将help的所有元素压入stack\n",
    "\"\"\""
   ]
  },
  {
   "cell_type": "code",
   "execution_count": 3,
   "id": "adad6387",
   "metadata": {},
   "outputs": [],
   "source": [
    "class SortedStack:\n",
    "    def __init__(self):\n",
    "        self.stack = list()\n",
    "        self.help = list()\n",
    "        \n",
    "    def push(self,value):\n",
    "        self.stack.append(value)\n",
    "        \n",
    "    def sort_stack(self):\n",
    "        if len(self.stack) == 0:\n",
    "            return self.stack\n",
    "        while len(self.stack)>0:\n",
    "            cur = self.stack.pop()\n",
    "            while len(self.help) >0 and cur > self.help[-1]:\n",
    "                help_top = self.help.pop()\n",
    "                self.stack.append(help_top)\n",
    "            self.help.append(cur)\n",
    "            \n",
    "        while len(self.help) > 0:\n",
    "            self.stack.append(self.help.pop())"
   ]
  },
  {
   "cell_type": "code",
   "execution_count": 10,
   "id": "a9a74d9d",
   "metadata": {},
   "outputs": [
    {
     "name": "stdout",
     "output_type": "stream",
     "text": [
      "5\n",
      "4 3 5 6 8 \n",
      "8 6 5 4 3\n"
     ]
    }
   ],
   "source": [
    "n = int(input())\n",
    "lst = list(map(int,input().split()))\n",
    "sortStack = SortedStack()\n",
    "for i in lst:\n",
    "    sortStack.push(i)\n",
    "sortStack.sort_stack()\n",
    "print(' '.join(map(str,sortStack.stack[::-1])))"
   ]
  },
  {
   "cell_type": "code",
   "execution_count": null,
   "id": "43f77fec",
   "metadata": {},
   "outputs": [],
   "source": []
  },
  {
   "cell_type": "code",
   "execution_count": null,
   "id": "21ca478a",
   "metadata": {},
   "outputs": [],
   "source": []
  }
 ],
 "metadata": {
  "kernelspec": {
   "display_name": "Python [conda env:root] *",
   "language": "python",
   "name": "conda-root-py"
  },
  "language_info": {
   "codemirror_mode": {
    "name": "ipython",
    "version": 3
   },
   "file_extension": ".py",
   "mimetype": "text/x-python",
   "name": "python",
   "nbconvert_exporter": "python",
   "pygments_lexer": "ipython3",
   "version": "3.8.8"
  }
 },
 "nbformat": 4,
 "nbformat_minor": 5
}
