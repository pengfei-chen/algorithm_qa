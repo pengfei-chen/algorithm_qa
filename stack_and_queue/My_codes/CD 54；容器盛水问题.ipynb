{
 "cells": [
  {
   "cell_type": "code",
   "execution_count": null,
   "id": "7a697631",
   "metadata": {},
   "outputs": [],
   "source": [
    "def solve(nums):\n",
    "    ans = 0\n",
    "    left, right = 0, len(nums) - 1\n",
    "    left_max = right_max = 0\n",
    "    while left < right:\n",
    "        if nums[left] <= nums[right]:   #右边比左边大，减少肯定是安全的\n",
    "            if nums[left] >= left_max: # 替换最大值\n",
    "                left_max = nums[left]\n",
    "            else:\n",
    "                ans += left_max - nums[left]\n",
    "            left += 1\n",
    "        else:   #左边比右边大，减少肯定是安全的\n",
    "            if nums[right] >= right_max:  # 替换最大值\n",
    "                right_max = nums[right]\n",
    "            else:\n",
    "                ans += right_max - nums[right]\n",
    "            right -= 1\n",
    "    return ans\n",
    " \n",
    "n = int(input())\n",
    "arr = list(map(int, input().split()))\n",
    "print(solve(arr))"
   ]
  }
 ],
 "metadata": {
  "kernelspec": {
   "display_name": "Python [conda env:root] *",
   "language": "python",
   "name": "conda-root-py"
  },
  "language_info": {
   "codemirror_mode": {
    "name": "ipython",
    "version": 3
   },
   "file_extension": ".py",
   "mimetype": "text/x-python",
   "name": "python",
   "nbconvert_exporter": "python",
   "pygments_lexer": "ipython3",
   "version": "3.8.8"
  }
 },
 "nbformat": 4,
 "nbformat_minor": 5
}
