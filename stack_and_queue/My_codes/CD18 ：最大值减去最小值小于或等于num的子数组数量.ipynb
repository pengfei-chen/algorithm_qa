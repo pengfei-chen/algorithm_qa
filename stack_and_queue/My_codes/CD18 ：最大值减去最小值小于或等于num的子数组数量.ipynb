{
 "cells": [
  {
   "cell_type": "code",
   "execution_count": null,
   "id": "fe41c68a",
   "metadata": {},
   "outputs": [],
   "source": [
    "\"\"\"\n",
    "问题描述：给定数组arr和整数num，共返回有多少个子数组满足如下情况：\n",
    "max(arr[i...j])-max(arr[i...j]) <= num\n",
    "max(arr[i...j])表示子数组arr[i..j]中的最大值，min(arr[i..j])\n",
    "表示子数组中的最小值。\n",
    "\n",
    "要求：如果数组长度为N，实现时间复杂度为O(N)的解法。\n",
    "\n",
    "思路：双向队列模拟动态窗口（单调队列），qmax单调递减，而qmin单调递增。\n",
    "从i=0,j=0开始，j往后扩，直到不能扩为止，arr[i,j-1]肯定是满足需求的，\n",
    "这时候再让i+1，再让j继续往后扩\n",
    "\"\"\""
   ]
  },
  {
   "cell_type": "code",
   "execution_count": 2,
   "id": "5be07243",
   "metadata": {},
   "outputs": [],
   "source": [
    "class MaxNumOfSubArr:\n",
    "    @classmethod\n",
    "    def get_num_of_sub_arr(cls,arr,num):\n",
    "        if len(arr) == 0:\n",
    "            return 0 \n",
    "        \n",
    "        qmin = list()\n",
    "        qmax = list()\n",
    "        j = 0\n",
    "        res = 0\n",
    "        \n",
    "        for index,value in enumerate(arr):\n",
    "            while j < len(arr):\n",
    "                while len(qmin) != 0 and arr[qmin[-1]] >= arr[j]:   # 把最小的填入 qmin 的最前面\n",
    "                    qmin.pop()\n",
    "                qmin.append(j)\n",
    "                \n",
    "                while len(qmax) != 0 and arr[qmax[-1]] <= arr[j]:   # 把最大的填入 qmax 的最前面\n",
    "                    qmax.pop()\n",
    "                qmax.append(j)\n",
    "                \n",
    "                if arr[qmax[0]] - arr[qmin[0]] > num:   # 此时则不符合条件，跳出本次循环到下一次\n",
    "                    break\n",
    "                j+=1  \n",
    "                \n",
    "            if len(qmin) > 0 and qmin[0] == index:\n",
    "                qmin.pop(0)\n",
    "            if len(qmax) > 0 and qmax[0] == index:\n",
    "                qmax.pop(0)\n",
    "            res += ( j - index)\n",
    "        \n",
    "        return res"
   ]
  },
  {
   "cell_type": "code",
   "execution_count": 5,
   "id": "f00a3a69",
   "metadata": {},
   "outputs": [
    {
     "name": "stdout",
     "output_type": "stream",
     "text": [
      "5 2\n",
      "1 2 3 4 5 \n",
      "12\n"
     ]
    }
   ],
   "source": [
    "if __name__ == '__main__':\n",
    "    n, num = list(map(int, input().split()))\n",
    "    arr = list(map(int, input().split()))\n",
    "    maxnum = MaxNumOfSubArr()\n",
    "    ans = maxnum.get_num_of_sub_arr(arr, num)\n",
    "    print(ans)"
   ]
  },
  {
   "cell_type": "code",
   "execution_count": null,
   "id": "eb448f61",
   "metadata": {},
   "outputs": [],
   "source": []
  }
 ],
 "metadata": {
  "kernelspec": {
   "display_name": "Python [conda env:root] *",
   "language": "python",
   "name": "conda-root-py"
  },
  "language_info": {
   "codemirror_mode": {
    "name": "ipython",
    "version": 3
   },
   "file_extension": ".py",
   "mimetype": "text/x-python",
   "name": "python",
   "nbconvert_exporter": "python",
   "pygments_lexer": "ipython3",
   "version": "3.8.8"
  }
 },
 "nbformat": 4,
 "nbformat_minor": 5
}
