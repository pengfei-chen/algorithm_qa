{
 "cells": [
  {
   "cell_type": "code",
   "execution_count": 5,
   "id": "e8705913",
   "metadata": {},
   "outputs": [
    {
     "name": "stdout",
     "output_type": "stream",
     "text": [
      "7 \n",
      "-2.5 4 0 3 0.5 8 -1\n",
      "12.00\n"
     ]
    }
   ],
   "source": [
    "n = int(input())\n",
    "arr = list(map(float,input().split()))\n",
    "\n",
    "def maxProduct(arr):\n",
    "    if not arr or len(arr) == 0:\n",
    "        return 0\n",
    "    Max = arr[0]\n",
    "    Min = arr[0]\n",
    "    res = arr[0]\n",
    "    maxEnd = 0.0\n",
    "    minEnd = 0.0\n",
    "    for i in range(1,n):\n",
    "        maxEnd = Max * arr[i]\n",
    "        minEnd = Min * arr[i]\n",
    "        Max = max(max(maxEnd,minEnd), arr[i])\n",
    "        Min = min(min(maxEnd,minEnd), arr[i])\n",
    "        res = max(res,Max)\n",
    "    return res\n",
    "\n",
    "res = maxProduct(arr)\n",
    "res = \"%.2f\" % res\n",
    "print(res)"
   ]
  },
  {
   "cell_type": "code",
   "execution_count": null,
   "id": "b7ad4b07",
   "metadata": {},
   "outputs": [],
   "source": []
  }
 ],
 "metadata": {
  "kernelspec": {
   "display_name": "Python 3",
   "language": "python",
   "name": "python3"
  },
  "language_info": {
   "codemirror_mode": {
    "name": "ipython",
    "version": 3
   },
   "file_extension": ".py",
   "mimetype": "text/x-python",
   "name": "python",
   "nbconvert_exporter": "python",
   "pygments_lexer": "ipython3",
   "version": "3.8.3"
  }
 },
 "nbformat": 4,
 "nbformat_minor": 5
}
