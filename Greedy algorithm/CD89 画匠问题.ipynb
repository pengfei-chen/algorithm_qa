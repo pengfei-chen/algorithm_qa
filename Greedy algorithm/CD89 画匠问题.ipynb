{
 "cells": [
  {
   "cell_type": "code",
   "execution_count": null,
   "id": "fda6b065",
   "metadata": {},
   "outputs": [],
   "source": [
    "# 方法一\n",
    "\n",
    "n,k = list(map(int,input().split()))\n",
    "arr = list(map(int,input().split()))\n",
    "\n",
    "def solution(arr,k):  #k个画家\n",
    "    if not arr or len(arr) == 0 or k < 1:\n",
    "        return \n",
    "    sumArr = [0] * n \n",
    "    Map = [0] * n \n",
    "    sumArr[0] = arr[0]\n",
    "    Map[0] = arr[0]\n",
    "    for i in range(n):\n",
    "        sumArr[i] = sumArr[i-1] + arr[i]\n",
    "        Map[i] = sumArr[i]\n",
    "    for i in range(k):\n",
    "        for j in range(n-1,i-1,-1):\n",
    "            Min = 10**10\n",
    "            for h in range(i-1,j):\n",
    "                cur = max(Map[h], sumArr[j]-sumArr[h])\n",
    "                Min = min(Min, cur)\n",
    "            Map[j] = Min\n",
    "    return Map[n-1]\n",
    "\n",
    "print(solution(arr,k))"
   ]
  },
  {
   "cell_type": "code",
   "execution_count": null,
   "id": "836c471e",
   "metadata": {},
   "outputs": [],
   "source": []
  }
 ],
 "metadata": {
  "kernelspec": {
   "display_name": "Python 3",
   "language": "python",
   "name": "python3"
  },
  "language_info": {
   "codemirror_mode": {
    "name": "ipython",
    "version": 3
   },
   "file_extension": ".py",
   "mimetype": "text/x-python",
   "name": "python",
   "nbconvert_exporter": "python",
   "pygments_lexer": "ipython3",
   "version": "3.8.3"
  }
 },
 "nbformat": 4,
 "nbformat_minor": 5
}
