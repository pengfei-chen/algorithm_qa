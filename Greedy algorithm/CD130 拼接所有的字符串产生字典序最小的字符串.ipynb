{
 "cells": [
  {
   "cell_type": "code",
   "execution_count": 4,
   "id": "02469310",
   "metadata": {},
   "outputs": [
    {
     "name": "stdout",
     "output_type": "stream",
     "text": [
      "2\n",
      "a\n",
      "b\n",
      "\n",
      "['a', 'b']\n"
     ]
    }
   ],
   "source": [
    "n = int(input())\n",
    "l = []\n",
    "while True:\n",
    "    lst = input()\n",
    "    if len(lst) == 0:\n",
    "        break\n",
    "    l.append(lst)\n",
    "print(l)"
   ]
  },
  {
   "cell_type": "code",
   "execution_count": null,
   "id": "c6e7e794",
   "metadata": {},
   "outputs": [],
   "source": [
    "n = int(input())\n",
    "l = []\n",
    "while True:\n",
    "    try:\n",
    "        lst = input()  # ACM模式中，没有下一行时，input() 就会报错\n",
    "#         if len(lst) == 0:\n",
    "#             break\n",
    "        l.append(lst)\n",
    "    except:\n",
    "        break\n",
    "    \n",
    "from functools import cmp_to_key\n",
    "def lowerString(l):\n",
    "    l.sort(key=cmp_to_key(lambda x,y:-1 if x+y < y+x else 1))\n",
    "    return l\n",
    "\n",
    "ans = lowerString(l)\n",
    "ans = ''.join(i for i in l)\n",
    "print(ans)"
   ]
  }
 ],
 "metadata": {
  "kernelspec": {
   "display_name": "Python 3",
   "language": "python",
   "name": "python3"
  },
  "language_info": {
   "codemirror_mode": {
    "name": "ipython",
    "version": 3
   },
   "file_extension": ".py",
   "mimetype": "text/x-python",
   "name": "python",
   "nbconvert_exporter": "python",
   "pygments_lexer": "ipython3",
   "version": "3.8.3"
  }
 },
 "nbformat": 4,
 "nbformat_minor": 5
}
