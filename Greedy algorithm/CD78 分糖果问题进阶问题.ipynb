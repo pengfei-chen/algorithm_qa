{
 "cells": [
  {
   "cell_type": "code",
   "execution_count": null,
   "id": "56d2c1d3",
   "metadata": {},
   "outputs": [],
   "source": [
    "N = int(input())\n",
    "rating = list(map(int, input().split()))\n",
    "\n",
    "candy = [1]*N\n",
    "for i in range(1, N):  #一遍正的，让顺序满足约束\n",
    "    if rating[i] > rating[i-1]:\n",
    "        candy[i] = candy[i-1] + 1\n",
    "for i in range(N-1, 0, -1):\n",
    "    if rating[i-1] > rating[i]:  #一遍反的，让逆序满足约束\n",
    "        candy[i-1] = max(candy[i-1], candy[i]+1)\n",
    "for i in range(N-1, 0, -1):\n",
    "    if rating[i-1] == rating[i]:  #一遍反的，让逆序满足约束\n",
    "        candy[i-1] = max(candy[i-1], candy[i]+1)\n",
    "        candy[i] = candy[i-1]\n",
    "print(sum(candy))"
   ]
  }
 ],
 "metadata": {
  "kernelspec": {
   "display_name": "Python 3",
   "language": "python",
   "name": "python3"
  },
  "language_info": {
   "codemirror_mode": {
    "name": "ipython",
    "version": 3
   },
   "file_extension": ".py",
   "mimetype": "text/x-python",
   "name": "python",
   "nbconvert_exporter": "python",
   "pygments_lexer": "ipython3",
   "version": "3.8.3"
  }
 },
 "nbformat": 4,
 "nbformat_minor": 5
}
