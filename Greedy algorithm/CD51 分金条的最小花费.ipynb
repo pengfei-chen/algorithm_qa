{
 "cells": [
  {
   "cell_type": "code",
   "execution_count": 1,
   "id": "aea6f8a5",
   "metadata": {},
   "outputs": [
    {
     "name": "stdout",
     "output_type": "stream",
     "text": [
      "3\n",
      "10 30 20\n",
      "90\n"
     ]
    }
   ],
   "source": [
    "n = int(input())\n",
    "arr = list(map(int,input().split()))\n",
    "\n",
    "import heapq\n",
    "def getMinSplitCount(arr):\n",
    "    if not arr or len(arr) < 2:\n",
    "        return 0\n",
    "    heapq.heapify(arr)  # 改变列表为堆结构，默认是小根堆\n",
    "    ans = 0 \n",
    "    while len(arr) != 1:\n",
    "        Sum = heapq.heappop(arr) + heapq.heappop(arr)\n",
    "        ans += Sum\n",
    "        heapq.heappush(arr, Sum)\n",
    "    return ans\n",
    "\n",
    "print(getMinSplitCount(arr))"
   ]
  },
  {
   "cell_type": "code",
   "execution_count": null,
   "id": "5f889fa9",
   "metadata": {},
   "outputs": [],
   "source": []
  }
 ],
 "metadata": {
  "kernelspec": {
   "display_name": "Python 3",
   "language": "python",
   "name": "python3"
  },
  "language_info": {
   "codemirror_mode": {
    "name": "ipython",
    "version": 3
   },
   "file_extension": ".py",
   "mimetype": "text/x-python",
   "name": "python",
   "nbconvert_exporter": "python",
   "pygments_lexer": "ipython3",
   "version": "3.8.3"
  }
 },
 "nbformat": 4,
 "nbformat_minor": 5
}
