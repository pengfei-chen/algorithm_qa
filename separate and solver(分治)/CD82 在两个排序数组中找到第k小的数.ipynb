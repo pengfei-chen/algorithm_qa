{
 "cells": [
  {
   "cell_type": "code",
   "execution_count": 1,
   "id": "30c7fd4f",
   "metadata": {},
   "outputs": [
    {
     "name": "stdout",
     "output_type": "stream",
     "text": [
      "3 4 4\n",
      "1 2 3\n",
      "3 4 5 6\n",
      "3\n"
     ]
    }
   ],
   "source": [
    "a,b,kth = list(map(int,input().split()))\n",
    "arr1 = list(map(int,input().split()))\n",
    "arr2 = list(map(int,input().split()))\n",
    "\n",
    "def getUpMedian(arr1,s1,e1,arr2,s2,e2):\n",
    "    # 这一段不能要，暂时没明白\n",
    "#     if (arr1==None) or (arr2==None) or (len(arr1)!=len(arr2)):\n",
    "#         return \n",
    "    while s1 < e1:\n",
    "        mid1 = (s1 + e1) //2 \n",
    "        mid2 = (s2 + e2) //2 \n",
    "        # 元素个数为奇数，offset=0,否则offset=1 \n",
    "        offset = 0 if ((e1-s1+1) %2 == 1 ) else 1 \n",
    "        if arr1[mid1] > arr2[mid2]:\n",
    "            e1 = mid1\n",
    "            s2 = mid2 + offset \n",
    "        elif arr1[mid1] < arr2[mid2]:\n",
    "            s1 = mid1 + offset \n",
    "            e2 = mid2 \n",
    "        else: # arr1[mid1] = arr2[mid2],直接返回就好 \n",
    "            return arr1[mid1] \n",
    "    return min(arr1[s1], arr2[s2])\n",
    "\n",
    "def findKthNum(arr1,arr2,kth):\n",
    "    if arr1== None or arr2== None:\n",
    "        return \n",
    "    if (kth <1) or (kth > (len(arr1)+len(arr2))):\n",
    "        return \n",
    "    longs = arr1 if len(arr1)>len(arr2) else arr2 \n",
    "#     shorts = arr1 if len(arr1)<len(arr2) else arr2 \n",
    "    shorts = arr2 if len(arr1)>len(arr2) else arr1 \n",
    "    l = len(longs)\n",
    "    s = len(shorts) \n",
    "    if kth <= s:\n",
    "        return getUpMedian(shorts, 0, kth-1, longs, 0, kth-1)\n",
    "    if kth > l:\n",
    "        if shorts[kth-l-1] >= longs[l-1]:\n",
    "            return shorts[kth-l-1] \n",
    "        if longs[kth-s-1] >= shorts[s-1]:\n",
    "            return longs[kth-s-1]   # 以上两种特殊情况 \n",
    "        # kth-l 左边的不可能，因为数量不够 \n",
    "        # kth-s 左边的不可能，因为数量不够  边界上面两种特殊情况已经考虑了 \n",
    "        return getUpMedian(shorts, kth-l, s-1, longs, kth-s, l-1) \n",
    "    # s<kth<=l\n",
    "    if longs[kth-s-1] >= shorts[s-1]:\n",
    "        return  longs[kth-s-1]  \n",
    "    return getUpMedian(shorts, 0, s-1, longs, kth-s, kth-1)\n",
    "\n",
    "print(findKthNum(arr1,arr2,kth))"
   ]
  },
  {
   "cell_type": "code",
   "execution_count": null,
   "id": "f3ff3aee",
   "metadata": {},
   "outputs": [],
   "source": []
  },
  {
   "cell_type": "code",
   "execution_count": null,
   "id": "9aa40681",
   "metadata": {},
   "outputs": [],
   "source": []
  },
  {
   "cell_type": "code",
   "execution_count": null,
   "id": "a34d70a2",
   "metadata": {},
   "outputs": [],
   "source": []
  }
 ],
 "metadata": {
  "kernelspec": {
   "display_name": "Python 3",
   "language": "python",
   "name": "python3"
  },
  "language_info": {
   "codemirror_mode": {
    "name": "ipython",
    "version": 3
   },
   "file_extension": ".py",
   "mimetype": "text/x-python",
   "name": "python",
   "nbconvert_exporter": "python",
   "pygments_lexer": "ipython3",
   "version": "3.8.8"
  }
 },
 "nbformat": 4,
 "nbformat_minor": 5
}
