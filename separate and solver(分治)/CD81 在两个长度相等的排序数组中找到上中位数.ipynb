{
 "cells": [
  {
   "cell_type": "code",
   "execution_count": 1,
   "id": "314e5de6",
   "metadata": {},
   "outputs": [
    {
     "name": "stdout",
     "output_type": "stream",
     "text": [
      "4\n",
      "1 2 3 4 \n",
      "3 4 5 6\n",
      "3\n"
     ]
    }
   ],
   "source": [
    "n = int(input())\n",
    "arr1 = list(map(int,input().split()))\n",
    "arr2 = list(map(int,input().split()))\n",
    "\n",
    "def getUpMedian(arr1,arr2):\n",
    "    if not arr1 or not arr2 or len(arr1)!=len(arr2):\n",
    "        return \n",
    "    start1 = 0 \n",
    "    end1 = len(arr1)-1 \n",
    "    start2 = 0 \n",
    "    end2 = len(arr2)-1 \n",
    "    mid1 = 0 \n",
    "    mid2 = 0 \n",
    "    offset = 0 \n",
    "    while start1 < end1:\n",
    "        mid1 = (start1 + end1) //2 \n",
    "        mid2 = (start2 + end2) //2 \n",
    "        # 元素个数为奇数，offset=0,否则offset=1 \n",
    "        offset = 0 if ((end1-start1+1) %2 == 1 ) else 1 \n",
    "        if arr1[mid1] > arr2[mid2]:\n",
    "            end1 = mid1\n",
    "            start2 = mid2 + offset \n",
    "        elif arr1[mid1] < arr2[mid2]:\n",
    "            start1 = mid1 + offset \n",
    "            end2 = mid2 \n",
    "        else: # arr1[mid1] = arr2[mid2],直接返回就好 \n",
    "            return arr1[mid1]\n",
    "        \n",
    "    return min(arr1[start1], arr2[start2])\n",
    "\n",
    "print(getUpMedian(arr1,arr2))"
   ]
  },
  {
   "cell_type": "code",
   "execution_count": null,
   "id": "c5ef4832",
   "metadata": {},
   "outputs": [],
   "source": []
  }
 ],
 "metadata": {
  "kernelspec": {
   "display_name": "Python 3",
   "language": "python",
   "name": "python3"
  },
  "language_info": {
   "codemirror_mode": {
    "name": "ipython",
    "version": 3
   },
   "file_extension": ".py",
   "mimetype": "text/x-python",
   "name": "python",
   "nbconvert_exporter": "python",
   "pygments_lexer": "ipython3",
   "version": "3.8.8"
  }
 },
 "nbformat": 4,
 "nbformat_minor": 5
}
