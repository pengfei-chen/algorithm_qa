{
 "cells": [
  {
   "cell_type": "code",
   "execution_count": 2,
   "id": "9a4dc699",
   "metadata": {},
   "outputs": [
    {
     "name": "stdout",
     "output_type": "stream",
     "text": [
      "7\n",
      "4 5 6 7 1 2 3\n",
      "1\n"
     ]
    }
   ],
   "source": [
    "n = int(input())\n",
    "arr = list(map(int,input().split()))\n",
    "\n",
    "def getMin(arr):\n",
    "    low = 0 \n",
    "    high = len(arr)-1 \n",
    "    while (low<high):\n",
    "        if(low==high-1):\n",
    "            break \n",
    "        if (arr[low] < arr[high]):\n",
    "            return arr[low] \n",
    "        mid = (low+high) //2 \n",
    "        if (arr[low] > arr[mid]):\n",
    "            high = mid \n",
    "            continue \n",
    "        if (arr[mid]>arr[high]):\n",
    "            low = mid \n",
    "            continue \n",
    "        while (low<mid): # 上面3种情况都没有发生，则 arr[low]=arr[mid]==arr[high]\n",
    "            if (arr[low] == arr[mid]):\n",
    "                low += 1\n",
    "            elif arr[low] < arr[mid]:\n",
    "                return arr[low] \n",
    "            else:\n",
    "                high = mid \n",
    "                break \n",
    "    return min(arr[low],arr[high])\n",
    "                \n",
    "print(getMin(arr))"
   ]
  },
  {
   "cell_type": "code",
   "execution_count": null,
   "id": "d731f102",
   "metadata": {},
   "outputs": [],
   "source": []
  }
 ],
 "metadata": {
  "kernelspec": {
   "display_name": "Python 3",
   "language": "python",
   "name": "python3"
  },
  "language_info": {
   "codemirror_mode": {
    "name": "ipython",
    "version": 3
   },
   "file_extension": ".py",
   "mimetype": "text/x-python",
   "name": "python",
   "nbconvert_exporter": "python",
   "pygments_lexer": "ipython3",
   "version": "3.8.8"
  }
 },
 "nbformat": 4,
 "nbformat_minor": 5
}
