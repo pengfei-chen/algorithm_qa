{
 "cells": [
  {
   "cell_type": "code",
   "execution_count": 1,
   "id": "b4723b30",
   "metadata": {},
   "outputs": [
    {
     "name": "stdout",
     "output_type": "stream",
     "text": [
      "7 7\n",
      "4 5 6 7 1 2 3\n",
      "Yes\n"
     ]
    }
   ],
   "source": [
    "n,num = list(map(int,input().split()))\n",
    "arr = list(map(int,input().split())) \n",
    "\n",
    "def isContains(arr,num):\n",
    "    low=0 \n",
    "    high = len(arr)-1 \n",
    "    mid = 0\n",
    "    while (low<=high):\n",
    "        mid = (low+high) // 2 \n",
    "        if arr[mid] == num:\n",
    "            return True \n",
    "        if arr[low]==arr[mid] and arr[mid] == arr[high]: # 三者相等\n",
    "            while  low != mid and arr[low]==arr[mid]:\n",
    "                low += 1\n",
    "            if low == mid:\n",
    "                low = mid + 1 \n",
    "                continue \n",
    "        if arr[low] != arr[mid]: # 情况4中的1\n",
    "            if arr[mid]>arr[low]: #左半部分是有序的 \n",
    "                if num>=arr[low] and num<arr[mid]: #不在右半部分 \n",
    "                    high = mid-1 \n",
    "                else: #num 就在右边 \n",
    "                    low = mid + 1 \n",
    "            else: # 也就是 arr[mid] <= arr[low],断点在左边，右半部分是有序的 \n",
    "                if num>arr[mid] and num<arr[high]:\n",
    "                    low  = mid + 1 \n",
    "                else:\n",
    "                    high = mid - 1\n",
    "        else: # arr[low] = arr[mid]  and arr[mid] != arr[high]\n",
    "            if arr[mid] < arr[high]: #右边是有序的 \n",
    "                if num > arr[mid] and  num<=arr[high]:\n",
    "                    low = mid + 1\n",
    "                else:\n",
    "                    high = mid -1 \n",
    "            else: # arr[mid] > arr[high] 断点在右边，左边有序\n",
    "                if num>=arr[low] and num<arr[mid]:\n",
    "                    high = mid-1 \n",
    "                else:\n",
    "                    low = mid+1 \n",
    "    return False \n",
    "                \n",
    "ans = isContains(arr,num)\n",
    "print(\"Yes\" if ans else \"No\")"
   ]
  },
  {
   "cell_type": "code",
   "execution_count": null,
   "id": "0d0fbbeb",
   "metadata": {},
   "outputs": [],
   "source": []
  }
 ],
 "metadata": {
  "kernelspec": {
   "display_name": "Python 3",
   "language": "python",
   "name": "python3"
  },
  "language_info": {
   "codemirror_mode": {
    "name": "ipython",
    "version": 3
   },
   "file_extension": ".py",
   "mimetype": "text/x-python",
   "name": "python",
   "nbconvert_exporter": "python",
   "pygments_lexer": "ipython3",
   "version": "3.8.8"
  }
 },
 "nbformat": 4,
 "nbformat_minor": 5
}
