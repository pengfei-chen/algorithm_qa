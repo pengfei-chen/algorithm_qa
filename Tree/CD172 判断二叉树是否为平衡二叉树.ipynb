{
 "cells": [
  {
   "cell_type": "code",
   "execution_count": 1,
   "id": "f99010a8",
   "metadata": {},
   "outputs": [
    {
     "name": "stdout",
     "output_type": "stream",
     "text": [
      "3 1\n",
      "1 2 3\n",
      "2 0 0\n",
      "3 0 0\n",
      "true\n"
     ]
    }
   ],
   "source": [
    "class Node:\n",
    "    def __init__(self,x):\n",
    "        self.v = x \n",
    "        self.left = None \n",
    "        self.right = None \n",
    "        \n",
    "# 根据输入构造树\n",
    "n,r = input().split(' ')\n",
    "root = Node(r)\n",
    "node_dict = dict()\n",
    "node_dict[r] = root \n",
    "for i in range(int(n)):\n",
    "    fa,lch,rch = input().split(' ')\n",
    "    if lch != '0':\n",
    "        node_dict[lch] = Node(lch)\n",
    "        node_dict[fa].left = node_dict[lch]\n",
    "    if rch != '0':\n",
    "        node_dict[rch] = Node(rch)\n",
    "        node_dict[fa].right = node_dict[rch] \n",
    "\n",
    "def getHeight(head, level,res):\n",
    "    if head is None:\n",
    "        return level \n",
    "    lH = getHeight(head.left, level+1, res)\n",
    "    if not res[0]:\n",
    "        return level \n",
    "    rH = getHeight(head.right, level+1, res)\n",
    "    if not res[0]:\n",
    "        return level \n",
    "    if abs(lH -rH) > 1:\n",
    "        res[0] = False \n",
    "    return max(lH,rH)\n",
    "    \n",
    "def isBalance(root):\n",
    "    res = [True]\n",
    "    getHeight(root,1,res)\n",
    "    return res[0]\n",
    "\n",
    "ans = isBalance(root)\n",
    "print(\"true\" if ans else \"false\")"
   ]
  },
  {
   "cell_type": "code",
   "execution_count": null,
   "id": "1b420eef",
   "metadata": {},
   "outputs": [],
   "source": []
  }
 ],
 "metadata": {
  "kernelspec": {
   "display_name": "Python 3",
   "language": "python",
   "name": "python3"
  },
  "language_info": {
   "codemirror_mode": {
    "name": "ipython",
    "version": 3
   },
   "file_extension": ".py",
   "mimetype": "text/x-python",
   "name": "python",
   "nbconvert_exporter": "python",
   "pygments_lexer": "ipython3",
   "version": "3.8.8"
  }
 },
 "nbformat": 4,
 "nbformat_minor": 5
}
