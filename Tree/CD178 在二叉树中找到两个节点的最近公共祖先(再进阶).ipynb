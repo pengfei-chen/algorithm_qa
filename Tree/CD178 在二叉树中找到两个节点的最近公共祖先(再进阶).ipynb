{
 "cells": [
  {
   "cell_type": "markdown",
   "id": "a84ae18c",
   "metadata": {},
   "source": [
    "###  这题我选择放弃。。。"
   ]
  },
  {
   "cell_type": "code",
   "execution_count": null,
   "id": "d32d6b6d",
   "metadata": {},
   "outputs": [],
   "source": [
    "class Node:\n",
    "    def __init__(self,x):\n",
    "        self.v = x \n",
    "        self.left = None \n",
    "        self.right = None \n",
    "        \n",
    "# 根据输入构造树\n",
    "n,r = input().split(' ')\n",
    "root = Node(r)\n",
    "node_dict = dict()\n",
    "node_dict[r] = root \n",
    "for i in range(int(n)):\n",
    "    fa,lch,rch = input().split(' ')\n",
    "    if lch != '0':\n",
    "        node_dict[lch] = Node(lch)\n",
    "        node_dict[fa].left = node_dict[lch]\n",
    "    if rch != '0':\n",
    "        node_dict[rch] = Node(rch)\n",
    "        node_dict[fa].right = node_dict[rch] \n",
    "        \n",
    "class Query:\n",
    "    def __init__(self,o1,o2):\n",
    "        self.o1 = o1 \n",
    "        self.o2 = o2 \n",
    "        \n",
    "m = int(input())\n",
    "query = []\n",
    "for i in range(m):\n",
    "    o1,o2 = input().split(' ')\n",
    "    nod = Query(o1,o2)\n",
    "    query.append(nod)\n",
    "    \n",
    "    "
   ]
  },
  {
   "cell_type": "code",
   "execution_count": null,
   "id": "a4a8cd94",
   "metadata": {},
   "outputs": [],
   "source": []
  },
  {
   "cell_type": "markdown",
   "id": "4a64f6c4",
   "metadata": {},
   "source": [
    "### 抄袭来的答案"
   ]
  },
  {
   "cell_type": "code",
   "execution_count": null,
   "id": "db7020e4",
   "metadata": {},
   "outputs": [],
   "source": [
    "def nearestCommonAncestor(root, node1, node2):\n",
    "    node1_len = 0\n",
    "    p1 = node1\n",
    "    while node1 != root:\n",
    "        node1 = father[node1]\n",
    "        node1_len += 1\n",
    "    node2_len = 0\n",
    "    p2 = node2\n",
    "    while node2 != root:\n",
    "        node2 = father[node2]\n",
    "        node2_len += 1\n",
    "    if node1_len > node2_len :\n",
    "        nums = node1_len - node2_len\n",
    "        while nums > 0:\n",
    "            p1 = father[p1]\n",
    "            nums -= 1\n",
    "    else:\n",
    "        nums = node2_len - node1_len\n",
    "        while nums > 0:\n",
    "            p2 = father[p2]\n",
    "            nums -= 1\n",
    "    while p1 != p2: # p1 和 p2 现在是在同一层了，公共父节点一直往上找就行\n",
    "        p1 = father[p1]\n",
    "        p2 = father[p2]\n",
    "    return p1\n",
    "if __name__ == '__main__':\n",
    "    n, root = map(int, input().split())\n",
    "    father = {}\n",
    "    for _ in range(n):\n",
    "        fa, lch, rch = map(int, input().split())\n",
    "        father[lch] = fa\n",
    "        father[rch] = fa\n",
    "    m = int(input())\n",
    "    for _ in range(m):\n",
    "        node1, node2 = map(int, input().split())\n",
    "        res = nearestCommonAncestor(root, node1, node2)\n",
    "        print(res)"
   ]
  }
 ],
 "metadata": {
  "kernelspec": {
   "display_name": "Python 3",
   "language": "python",
   "name": "python3"
  },
  "language_info": {
   "codemirror_mode": {
    "name": "ipython",
    "version": 3
   },
   "file_extension": ".py",
   "mimetype": "text/x-python",
   "name": "python",
   "nbconvert_exporter": "python",
   "pygments_lexer": "ipython3",
   "version": "3.8.3"
  }
 },
 "nbformat": 4,
 "nbformat_minor": 5
}
