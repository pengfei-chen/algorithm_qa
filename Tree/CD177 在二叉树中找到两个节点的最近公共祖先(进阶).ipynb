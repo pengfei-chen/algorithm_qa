{
 "cells": [
  {
   "cell_type": "code",
   "execution_count": 3,
   "id": "3bfbd504",
   "metadata": {},
   "outputs": [
    {
     "data": {
      "text/plain": [
       "{1, 2}"
      ]
     },
     "execution_count": 3,
     "metadata": {},
     "output_type": "execute_result"
    }
   ],
   "source": [
    "a = set()\n",
    "a.add(1)\n",
    "a.add(2)\n",
    "a.add(1)\n",
    "a"
   ]
  },
  {
   "cell_type": "markdown",
   "id": "8b127939",
   "metadata": {},
   "source": [
    "###  尽力了，python不好过答案"
   ]
  },
  {
   "cell_type": "code",
   "execution_count": 16,
   "id": "9ad6086d",
   "metadata": {},
   "outputs": [
    {
     "name": "stdout",
     "output_type": "stream",
     "text": [
      "8 1\n",
      "1 2 3\n",
      "2 4 5\n",
      "4 0 0\n",
      "5 0 0\n",
      "3 6 7\n",
      "6 0 0\n",
      "7 8 0\n",
      "8 0 0\n",
      "4\n",
      "4 5\n",
      "2\n",
      "5 2\n",
      "2\n",
      "6 8\n",
      "3\n",
      "5 8\n",
      "1\n"
     ]
    }
   ],
   "source": [
    "class Node:\n",
    "    def __init__(self,x):\n",
    "        self.v = x \n",
    "        self.left = None \n",
    "        self.right = None \n",
    "        self.parent = None \n",
    "        \n",
    "# 根据输入构造树\n",
    "n,r = input().split(' ')\n",
    "root = Node(r)\n",
    "root.parent = None\n",
    "node_dict = dict()\n",
    "node_dict[r] = root \n",
    "for i in range(int(n)):\n",
    "    fa,lch,rch = input().split(' ')\n",
    "    if lch != '0':\n",
    "        node_dict[lch] = Node(lch)\n",
    "        node_dict[lch].parent = node_dict[fa]\n",
    "        node_dict[fa].left = node_dict[lch]\n",
    "    if rch != '0':\n",
    "        node_dict[rch] = Node(rch)\n",
    "        node_dict[rch].parent = node_dict[fa]\n",
    "        node_dict[fa].right = node_dict[rch] \n",
    "        \n",
    "\n",
    "# def lowestAncestor(head, o1,o2):  # 后序遍历\n",
    "#     if (head is None) or head==o1 or head==o2:\n",
    "#         return head \n",
    "#     left = lowestAncestor(head.left, o1, o2)\n",
    "#     right = lowestAncestor(head.right, o1, o2)\n",
    "#     if left!=None and right !=None:\n",
    "#         return head \n",
    "#     return left if left != None else right \n",
    "\n",
    "# m = int(input())\n",
    "# for i in range(m):\n",
    "#     o1,o2 = list(input().split(' '))\n",
    "#     o1 = node_dict[o1]\n",
    "#     o2 = node_dict[o2]\n",
    "#     node = lowestAncestor(root, o1,o2)\n",
    "#     print(node.v)\n",
    "\n",
    "class solution:\n",
    "    def __init__(self):\n",
    "        self.Map = dict()\n",
    "\n",
    "    def query(self,o1, o2):\n",
    "        path = set() \n",
    "        while o1 in self.Map.keys():\n",
    "            path.add(o1)\n",
    "            o1 = self.Map.get(o1) #更新其节点为父节点\n",
    "        while o2 not in path:\n",
    "            o2 = self.Map.get(o2) #更新其节点为父节点\n",
    "        return o2 \n",
    "\n",
    "    def setMap(self, head): # key是节点，值是父节点\n",
    "        if not head:\n",
    "            return \n",
    "        if head.left != None:\n",
    "            self.Map[head.left] = head\n",
    "        if head.right != None:\n",
    "            self.Map[head.right] = head \n",
    "        self.setMap(head.left)\n",
    "        self.setMap(head.right)\n",
    "\n",
    "    def Record1(self,head):\n",
    "        if head != None:\n",
    "            self.Map[head] = None \n",
    "        self.setMap(head)\n",
    "        \n",
    "solu = solution()\n",
    "solu.Record1(root)\n",
    "m = int(input())\n",
    "for i in range(m):\n",
    "    o1,o2 = list(input().split(' '))\n",
    "    o1 = node_dict[o1]\n",
    "    o2 = node_dict[o2]\n",
    "    node = solu.query(o1, o2)\n",
    "    print(node.v)"
   ]
  },
  {
   "cell_type": "code",
   "execution_count": null,
   "id": "a064d820",
   "metadata": {},
   "outputs": [],
   "source": []
  }
 ],
 "metadata": {
  "kernelspec": {
   "display_name": "Python 3",
   "language": "python",
   "name": "python3"
  },
  "language_info": {
   "codemirror_mode": {
    "name": "ipython",
    "version": 3
   },
   "file_extension": ".py",
   "mimetype": "text/x-python",
   "name": "python",
   "nbconvert_exporter": "python",
   "pygments_lexer": "ipython3",
   "version": "3.8.3"
  }
 },
 "nbformat": 4,
 "nbformat_minor": 5
}
