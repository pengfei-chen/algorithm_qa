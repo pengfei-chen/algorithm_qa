{
 "cells": [
  {
   "attachments": {
    "image.png": {
     "image/png": "[encoded data removed]"
    }
   },
   "cell_type": "markdown",
   "id": "5c2633e2",
   "metadata": {},
   "source": [
    "![image.png](attachment:image.png)"
   ]
  },
  {
   "cell_type": "markdown",
   "id": "2130a28f",
   "metadata": {},
   "source": [
    "层序序列化，每一层每一层保存"
   ]
  },
  {
   "cell_type": "markdown",
   "id": "e163534a",
   "metadata": {},
   "source": [
    "### 层序遍历，也就是 BFS 遍历？"
   ]
  },
  {
   "cell_type": "code",
   "execution_count": 7,
   "id": "31fc6591",
   "metadata": {},
   "outputs": [
    {
     "name": "stdout",
     "output_type": "stream",
     "text": [
      "2 1\n",
      "1 2 0\n",
      "2 0 0\n",
      "1!2!#!#!#!\n",
      "1!2!#!#!#!\n"
     ]
    }
   ],
   "source": [
    "class Node:\n",
    "    def __init__(self,x):\n",
    "        self.v = x \n",
    "        self.left = None \n",
    "        self.right = None \n",
    "        \n",
    "from collections import deque\n",
    "        \n",
    "# 递归先序遍历，序列化\n",
    "def serialByPre(head):\n",
    "    if head is None:\n",
    "        return \"#!\"\n",
    "    res = str(head.v) + \"!\"\n",
    "    res  += serialByPre(head.left)\n",
    "    res  += serialByPre(head.right) \n",
    "    return res \n",
    "\n",
    "# 层序序列化 \n",
    "def serialBylevel(head):\n",
    "    if not head:\n",
    "        return \"#!\"\n",
    "    res = str(head.v) + '!'\n",
    "    queue = deque()\n",
    "    queue.append(head) \n",
    "    while len(queue) > 0:\n",
    "        cur = queue.pop()\n",
    "        if cur.left:\n",
    "            res += str(cur.left.v) + '!'\n",
    "            queue.appendleft(cur.left)\n",
    "        else:\n",
    "            res += \"#!\"\n",
    "        if cur.right:\n",
    "            res += str(cur.right.v) + '!'\n",
    "            queue.appendleft(cur.right)\n",
    "        else:\n",
    "            res += \"#!\"\n",
    "    return res\n",
    "\n",
    "if __name__== \"__main__\":\n",
    "    n,root = list(map(int,input().split()))\n",
    "    nodes = [Node(i) for i in range(n+1)]\n",
    "    nodes[0] = None \n",
    "\n",
    "    # 根据输入构造树\n",
    "    for i in range(n):\n",
    "        fa,lch,rch = list(map(int, input().split()))  \n",
    "        nodes[fa].left = nodes[lch] \n",
    "        nodes[fa].right = nodes[rch]   \n",
    "    head = nodes[root]  #树的根节点 \n",
    "\n",
    "    print(serialByPre(head))\n",
    "    # print(end='\\n')\n",
    "    print(serialBylevel(head))"
   ]
  },
  {
   "cell_type": "markdown",
   "id": "090a0054",
   "metadata": {},
   "source": [
    "### 没有通过的原因，可能是由于  str(i) 转转了很多次。 数据量一大，就占用了不少时间。\n",
    "\n",
    "###  如果通过字典形式去构造树，就没有这样的问题了。"
   ]
  },
  {
   "cell_type": "code",
   "execution_count": null,
   "id": "bc9446d2",
   "metadata": {},
   "outputs": [],
   "source": []
  },
  {
   "cell_type": "markdown",
   "id": "c72beeef",
   "metadata": {},
   "source": [
    "### 跑通的代码，原来用字典构造树，可以节省很多的运行时间？"
   ]
  },
  {
   "cell_type": "code",
   "execution_count": null,
   "id": "02eb9430",
   "metadata": {},
   "outputs": [],
   "source": [
    "# -*- coding: utf-8 -*- # \n",
    "# @Time    : 2021-05-23 12:14\n",
    "# @Email   : zhilishen@smail.nju.edu.cn\n",
    "# @Author  : Zhili Shen\n",
    "# @File    : test.py\n",
    "# @Notice  :\n",
    "from collections import deque\n",
    "\n",
    "class Node:\n",
    "    def __init__(self, value):\n",
    "        self.value = value\n",
    "        self.right = None\n",
    "        self.left = None\n",
    "\n",
    "\n",
    "def serial_by_pre(head: Node):\n",
    "    if not head:\n",
    "        return \"#!\"\n",
    "    res = head.value + \"!\"\n",
    "    res += serial_by_pre(head.left)\n",
    "    res += serial_by_pre(head.right)\n",
    "    return res\n",
    "\n",
    "\n",
    "def serial_by_level(head: Node):\n",
    "    if not head:\n",
    "        return \"#!\"\n",
    "    res = head.value + \"!\"\n",
    "    queue = deque()\n",
    "    queue.append(head)\n",
    "    while len(queue)>0:\n",
    "        head = queue.pop()\n",
    "        if head.left:\n",
    "            res += head.left.value + \"!\"\n",
    "            queue.appendleft(head.left)\n",
    "        else:\n",
    "            res += \"#!\"\n",
    "        if head.right:\n",
    "            res += head.right.value + \"!\"\n",
    "            queue.appendleft(head.right)\n",
    "        else:\n",
    "            res += \"#!\"\n",
    "    return res\n",
    "\n",
    "\n",
    "\n",
    "\n",
    "if __name__ == \"__main__\":\n",
    "    n, r = input().split(' ')\n",
    "    root = Node(r)\n",
    "    node_dict = {r: root}\n",
    "    for _ in range(int(n)):\n",
    "        value, left, right = input().split(\" \")\n",
    "        if left != '0':\n",
    "            node_dict[left] = Node(left)\n",
    "            node_dict[value].left = node_dict[left]\n",
    "        if right != '0':\n",
    "            node_dict[right] = Node(right)\n",
    "            node_dict[value].right = node_dict[right]\n",
    "\n",
    "    a = serial_by_pre(root)\n",
    "    print(a)\n",
    "    b = serial_by_level(root)\n",
    "    print(b)"
   ]
  }
 ],
 "metadata": {
  "kernelspec": {
   "display_name": "Python 3",
   "language": "python",
   "name": "python3"
  },
  "language_info": {
   "codemirror_mode": {
    "name": "ipython",
    "version": 3
   },
   "file_extension": ".py",
   "mimetype": "text/x-python",
   "name": "python",
   "nbconvert_exporter": "python",
   "pygments_lexer": "ipython3",
   "version": "3.8.3"
  }
 },
 "nbformat": 4,
 "nbformat_minor": 5
}
