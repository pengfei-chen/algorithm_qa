{
 "cells": [
  {
   "cell_type": "code",
   "execution_count": null,
   "id": "4008ef02",
   "metadata": {},
   "outputs": [],
   "source": [
    "class Node:\n",
    "    def __init__(self,x):\n",
    "        self.v = x \n",
    "        self.left = None \n",
    "        self.right = None \n",
    "        \n",
    "# 根据输入构造树\n",
    "n,r = input().split(' ')\n",
    "root = Node(r)\n",
    "node_dict = dict()\n",
    "node_dict[r] = root \n",
    "for i in range(int(n)):\n",
    "    fa,lch,rch = input().split(' ')\n",
    "    if lch != '0':\n",
    "        node_dict[lch] = Node(lch)\n",
    "        node_dict[fa].left = node_dict[lch]\n",
    "    if rch != '0':\n",
    "        node_dict[rch] = Node(rch)\n",
    "        node_dict[fa].right = node_dict[rch] \n",
    "        \n",
    "        \n",
    "def posOrder(head, record):\n",
    "    if not head:\n",
    "        record[0] = 0 \n",
    "        return 0 \n",
    "    lMax = posOrder(head.left, record) #当前节点左子节点最大距离\n",
    "    maxfromLeft = record[0] #到 当前节点左子节点最大距离\n",
    "    rMax = posOrder(head.right, record)\n",
    "    maxfromRight = record[0]\n",
    "    curNodeMax = maxfromLeft + 1 + maxfromRight #当前节点最大距离\n",
    "    record[0] = max(maxfromLeft, maxfromRight) + 1 #到 当前节点左/右子节点最大距离，\n",
    "                                                    # 可以从其左或者右到达\n",
    "    return max(max(lMax,rMax), curNodeMax)\n",
    "\n",
    "def maxDistance(head):\n",
    "    record = [0] \n",
    "    return posOrder(head, record)\n",
    "\n",
    "print(maxDistance(root))"
   ]
  }
 ],
 "metadata": {
  "kernelspec": {
   "display_name": "Python 3",
   "language": "python",
   "name": "python3"
  },
  "language_info": {
   "codemirror_mode": {
    "name": "ipython",
    "version": 3
   },
   "file_extension": ".py",
   "mimetype": "text/x-python",
   "name": "python",
   "nbconvert_exporter": "python",
   "pygments_lexer": "ipython3",
   "version": "3.8.3"
  }
 },
 "nbformat": 4,
 "nbformat_minor": 5
}
