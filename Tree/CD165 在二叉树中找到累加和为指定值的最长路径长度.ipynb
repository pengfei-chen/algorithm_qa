{
 "cells": [
  {
   "cell_type": "code",
   "execution_count": 1,
   "id": "13b2c16e",
   "metadata": {},
   "outputs": [
    {
     "data": {
      "text/plain": [
       "{0: 0}"
      ]
     },
     "execution_count": 1,
     "metadata": {},
     "output_type": "execute_result"
    }
   ],
   "source": [
    "a = dict()\n",
    "a[0] = 0\n",
    "a"
   ]
  },
  {
   "cell_type": "markdown",
   "id": "5ed6d7dc",
   "metadata": {},
   "source": [
    "### 参考答案"
   ]
  },
  {
   "cell_type": "code",
   "execution_count": null,
   "id": "9e6b3398",
   "metadata": {},
   "outputs": [],
   "source": [
    "class Node:\n",
    "    def __init__(self, x):\n",
    "        self.v = x \n",
    "        self.left = None \n",
    "        self.right = None \n",
    "        \n",
    "n,root = list(map(int,input().split()))\n",
    "nodes = [Node(i) for i in range(n+1)]\n",
    "nodes[0] = None \n",
    "\n",
    "for i in range(n):\n",
    "    fa,lch,rch,val = list(map(int,input().split())) \n",
    "    nodes[fa].left = nodes[lch] \n",
    "    nodes[fa].right = nodes[rch] \n",
    "    nodes[fa].v = val \n",
    "\n",
    "head = nodes[root]\n",
    "target = int(input())\n",
    "\n",
    "def preOrder(head, target, preSum, level, maxLen, sumMap):\n",
    "    if not head:\n",
    "        return maxLen \n",
    "    curSum = preSum + head.v \n",
    "    if curSum not in sumMap.keys():\n",
    "        sumMap[curSum] = level \n",
    "    if curSum-target in sumMap.keys():\n",
    "        maxLen = max(maxLen, level - sumMap[curSum-target])  #更新长度\n",
    "    maxLen = preOrder(head.left, target, curSum, level+1, maxLen, sumMap)\n",
    "    maxLen = preOrder(head.right, target, curSum, level+1, maxLen, sumMap)\n",
    "    if level == sumMap.get(curSum):  #这里很重要，因为如果不删除，后面再出现curSum-target就没法保存了\n",
    "        sumMap.pop(curSum) \n",
    "    return maxLen \n",
    "\n",
    "def getMaxLength(head, target):\n",
    "    sumMap = dict()\n",
    "    sumMap[0] = 0\n",
    "    return preOrder(head,target,0,1,0,sumMap)\n",
    "\n",
    "print(getMaxLength(head, target))"
   ]
  }
 ],
 "metadata": {
  "kernelspec": {
   "display_name": "Python 3",
   "language": "python",
   "name": "python3"
  },
  "language_info": {
   "codemirror_mode": {
    "name": "ipython",
    "version": 3
   },
   "file_extension": ".py",
   "mimetype": "text/x-python",
   "name": "python",
   "nbconvert_exporter": "python",
   "pygments_lexer": "ipython3",
   "version": "3.8.8"
  }
 },
 "nbformat": 4,
 "nbformat_minor": 5
}
