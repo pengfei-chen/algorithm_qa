{
 "cells": [
  {
   "cell_type": "code",
   "execution_count": 19,
   "id": "ed5faa69",
   "metadata": {},
   "outputs": [
    {
     "name": "stdout",
     "output_type": "stream",
     "text": [
      "abcd\n",
      "dbac\n",
      "True\n"
     ]
    }
   ],
   "source": [
    "str1 = input()\n",
    "str2 = input()\n",
    "\n",
    "def sameTypeSameNumber(str1, str2):\n",
    "    if len(str1) != len(str2):\n",
    "        return False \n",
    "    Map = dict()\n",
    "    for i in range(len(str1)):\n",
    "        Map[i] = Map.get(i,0) + 1\n",
    "    for i in range(len(str1)):\n",
    "        Map[i] = Map.get(i,0) - 1\n",
    "        if Map[i] < 0:\n",
    "            return False \n",
    "    return True \n",
    "\n",
    "def process(str1,str2, L1, L2, size):\n",
    "    if size == 1:\n",
    "        return str1[L1] == str2[L2] \n",
    "    leftPart = 1\n",
    "    while leftPart < size:\n",
    "        if  (process(str1, str2, L1, L2, leftPart) and  process(str1, str2, L1+leftPart, L2+leftPart, size-leftPart)) or (process(str1, str2, L1, L2+size-leftPart, leftPart) and \n",
    "         process(str1, str2, L1+leftPart, L2, size-leftPart)):\n",
    "            return True \n",
    "        leftPart += 1\n",
    "    return False \n",
    "\n",
    "def isScramble1(str1, str2):\n",
    "    if (str1 is  None and str2  is not None) or (str1 is not None and str2  is None):\n",
    "        return False \n",
    "    if (str1 is None and str2 is None):\n",
    "        return True \n",
    "    if str1 == str2:\n",
    "        return True \n",
    "    if not sameTypeSameNumber(str1, str2):\n",
    "        return False \n",
    "    N = len(str1) \n",
    "    return process(str1, str2, 0, 0, N)\n",
    "\n",
    "print(isScramble1(str1, str2))"
   ]
  },
  {
   "cell_type": "markdown",
   "id": "6586a8dc",
   "metadata": {},
   "source": [
    "### 暴力法如上所示"
   ]
  },
  {
   "cell_type": "code",
   "execution_count": 21,
   "id": "f4615697",
   "metadata": {},
   "outputs": [
    {
     "name": "stdout",
     "output_type": "stream",
     "text": [
      "[[[False, False, False], [False, False, False]], [[False, False, False], [False, False, False]]]\n"
     ]
    }
   ],
   "source": [
    "N = 2\n",
    "dp = []\n",
    "for i in range(N):\n",
    "    b = []\n",
    "    for j in range(N):\n",
    "        a = [False] * (N+1)\n",
    "        b.append(a)\n",
    "    dp.append(b)\n",
    "print(dp)"
   ]
  },
  {
   "cell_type": "code",
   "execution_count": null,
   "id": "8712fc77",
   "metadata": {},
   "outputs": [],
   "source": []
  },
  {
   "cell_type": "code",
   "execution_count": null,
   "id": "f0d43272",
   "metadata": {},
   "outputs": [],
   "source": []
  },
  {
   "cell_type": "markdown",
   "id": "7718451b",
   "metadata": {},
   "source": [
    "### 优化后方法"
   ]
  },
  {
   "cell_type": "code",
   "execution_count": 29,
   "id": "04d16bb1",
   "metadata": {},
   "outputs": [
    {
     "name": "stdout",
     "output_type": "stream",
     "text": [
      "abcd\n",
      "dbac\n",
      "YES\n"
     ]
    }
   ],
   "source": [
    "str1 = input()\n",
    "str2 = input()\n",
    "\n",
    "def sameTypeSameNumber(str1, str2):\n",
    "    if len(str1) != len(str2):\n",
    "        return False \n",
    "    Map = dict()\n",
    "    for i in range(len(str1)):\n",
    "        Map[i] = Map.get(i,0) + 1\n",
    "    for i in range(len(str1)):\n",
    "        Map[i] = Map.get(i,0) - 1\n",
    "        if Map[i] < 0:\n",
    "            return False \n",
    "    return True \n",
    "\n",
    "def isScramble2(str1, str2):\n",
    "    if (str1 is  None and str2  is not None) or (str1 is not None and str2  is None):\n",
    "        return False \n",
    "    if (str1 is None and str2 is None):\n",
    "        return True \n",
    "    if str1 == str2:\n",
    "        return 'YES' \n",
    "    if not sameTypeSameNumber(str1, str2):\n",
    "        return 'NO' \n",
    "    N = len(str1) \n",
    "    dp = []\n",
    "    for i in range(N):\n",
    "        b = []\n",
    "        for j in range(N):\n",
    "            a = [False] * (N+1)\n",
    "            b.append(a)\n",
    "        dp.append(b)\n",
    "    for L1 in range(N):\n",
    "        for L2 in range(N):\n",
    "            dp[L1][L2][1] = (str1[L1]==str2[L2])\n",
    "    for size in range(2,N+1):\n",
    "        for L1 in range(N-size+1):\n",
    "            for L2 in range(N-size+1):\n",
    "                for leftPart in range(1,size):\n",
    "                    if (dp[L1][L2][leftPart] and dp[L1+leftPart][L2+leftPart][size-leftPart]) or (dp[L1][L2+size-leftPart][leftPart] and\n",
    "                     dp[L1+leftPart][L2][size-leftPart]):\n",
    "                        dp[L1][L2][size] = True \n",
    "                        break \n",
    "    return 'YES' if dp[0][0][N] else 'NO'\n",
    "\n",
    "print(isScramble2(str1, str2))"
   ]
  },
  {
   "cell_type": "code",
   "execution_count": null,
   "id": "b68f6da9",
   "metadata": {},
   "outputs": [],
   "source": []
  }
 ],
 "metadata": {
  "kernelspec": {
   "display_name": "Python 3",
   "language": "python",
   "name": "python3"
  },
  "language_info": {
   "codemirror_mode": {
    "name": "ipython",
    "version": 3
   },
   "file_extension": ".py",
   "mimetype": "text/x-python",
   "name": "python",
   "nbconvert_exporter": "python",
   "pygments_lexer": "ipython3",
   "version": "3.8.8"
  }
 },
 "nbformat": 4,
 "nbformat_minor": 5
}
