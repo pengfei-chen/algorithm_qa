{
 "cells": [
  {
   "cell_type": "code",
   "execution_count": 1,
   "id": "57424795",
   "metadata": {},
   "outputs": [],
   "source": [
    "from collections import deque\n",
    "queue = deque()\n",
    "queue??"
   ]
  },
  {
   "cell_type": "code",
   "execution_count": 2,
   "id": "84c100b3",
   "metadata": {},
   "outputs": [
    {
     "name": "stdout",
     "output_type": "stream",
     "text": [
      "8 1\n",
      "1 2 3\n",
      "2 4 0\n",
      "4 0 0\n",
      "3 5 6\n",
      "5 7 8\n",
      "6 0 0\n",
      "7 0 0\n",
      "8 0 0\n",
      "Level 1 : 1\n",
      "Level 2 : 2 3\n",
      "Level 3 : 4 5 6\n",
      "Level 4 : 7 8\n",
      "Level 1 from left to right : 1\n",
      "Level 2 from right to left: 3 2\n",
      "Level 3 from left to right : 4 5 6\n",
      "Level 4 from right to left: 8 7\n"
     ]
    }
   ],
   "source": [
    "class Node:\n",
    "    def __init__(self, x):\n",
    "        self.v = x \n",
    "        self.left = None \n",
    "        self.right = None \n",
    "        \n",
    "from collections import deque\n",
    "n,root = list(map(int,input().split()))\n",
    "nodes = [Node(i) for i in range(n+1)]\n",
    "nodes[0] = None \n",
    "\n",
    "for i in range(n):\n",
    "    fa,lch,rch = list(map(int,input().split())) \n",
    "    nodes[fa].left = nodes[lch] \n",
    "    nodes[fa].right = nodes[rch] \n",
    "\n",
    "head = nodes[root]\n",
    "\n",
    "# bfs 遍历，用空列表保存每一行的结果 \n",
    "def bfs(head):\n",
    "    if not head:\n",
    "        return \n",
    "    queue = deque()\n",
    "    queue.append(head)\n",
    "    result = []\n",
    "    \n",
    "    while queue:\n",
    "        local = []\n",
    "        for i in range(len(queue)):\n",
    "            cur = queue.popleft()\n",
    "            local.append(cur.v)\n",
    "            if cur.left:\n",
    "                queue.append(cur.left)\n",
    "            if cur.right:\n",
    "                queue.append(cur.right)\n",
    "        result.append(local)\n",
    "    for l in range(len(result)):\n",
    "        print(\"Level {0} : {1}\".format(l+1, \" \".join(str(i) for i in result[l])))\n",
    "    \n",
    "    for l in range(len(result)):\n",
    "        if l % 2 == 0:\n",
    "            print(\"Level {0} from left to right: {1}\".format(l+1, \" \".join(str(i) for i in result[l])))\n",
    "        else:\n",
    "            print(\"Level {0} from right to left: {1}\".format(l+1, \" \".join(str(i) for i in result[l][::-1])))\n",
    "            \n",
    "            \n",
    "bfs(head)"
   ]
  },
  {
   "cell_type": "markdown",
   "id": "f1238337",
   "metadata": {},
   "source": [
    "### 每一行先存下来，然后打印就方便很多！  原书中的解法要复杂不少。"
   ]
  },
  {
   "cell_type": "code",
   "execution_count": null,
   "id": "884405cc",
   "metadata": {},
   "outputs": [],
   "source": []
  }
 ],
 "metadata": {
  "kernelspec": {
   "display_name": "Python 3",
   "language": "python",
   "name": "python3"
  },
  "language_info": {
   "codemirror_mode": {
    "name": "ipython",
    "version": 3
   },
   "file_extension": ".py",
   "mimetype": "text/x-python",
   "name": "python",
   "nbconvert_exporter": "python",
   "pygments_lexer": "ipython3",
   "version": "3.8.8"
  }
 },
 "nbformat": 4,
 "nbformat_minor": 5
}
