{
 "cells": [
  {
   "cell_type": "code",
   "execution_count": 1,
   "id": "61a8d9df",
   "metadata": {},
   "outputs": [
    {
     "name": "stdout",
     "output_type": "stream",
     "text": [
      "3\n",
      "1 2 3\n",
      "2 1 3\n",
      "2 3 1\n"
     ]
    }
   ],
   "source": [
    "n = int(input())\n",
    "pre = list(map(int,input().split()))\n",
    "inOrder = list(map(int,input().split()))\n",
    "        \n",
    "def getLast(pre, mid):\n",
    "    if len(pre) <= 1:\n",
    "        return pre\n",
    "    root = pre[0]\n",
    "    index = mid.index(root)\n",
    "    preLeft = pre[1:index + 1]\n",
    "    preRight = pre[index + 1:]\n",
    "    midLeft = mid[:index]\n",
    "    midRight = mid[index + 1:]\n",
    "    return getLast(preLeft, midLeft) + getLast(preRight, midRight) + [root]\n",
    "\n",
    "ans = getLast(pre, inOrder)\n",
    "print(*ans)"
   ]
  },
  {
   "cell_type": "code",
   "execution_count": null,
   "id": "9757a080",
   "metadata": {},
   "outputs": [],
   "source": []
  }
 ],
 "metadata": {
  "kernelspec": {
   "display_name": "Python 3",
   "language": "python",
   "name": "python3"
  },
  "language_info": {
   "codemirror_mode": {
    "name": "ipython",
    "version": 3
   },
   "file_extension": ".py",
   "mimetype": "text/x-python",
   "name": "python",
   "nbconvert_exporter": "python",
   "pygments_lexer": "ipython3",
   "version": "3.8.3"
  }
 },
 "nbformat": 4,
 "nbformat_minor": 5
}
