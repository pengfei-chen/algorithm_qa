{
 "cells": [
  {
   "cell_type": "markdown",
   "id": "2980f5a0",
   "metadata": {},
   "source": [
    "### 时间复杂度太大了"
   ]
  },
  {
   "cell_type": "code",
   "execution_count": null,
   "id": "ab817b9c",
   "metadata": {},
   "outputs": [],
   "source": [
    "n = int(input())\n",
    "mod = 1000000007\n",
    "\n",
    "def numTrees(n):\n",
    "    if n<2:\n",
    "        return 1 \n",
    "    num = [0] *(n+1) \n",
    "    num[0] = 1 \n",
    "    for i in range(1,n+1):\n",
    "        for j in range(1,i+1):\n",
    "            num[i] += num[j-1] * num[i-j] \n",
    "    return num[n] \n",
    "\n",
    "print(numTrees(n) % 1000000007 )"
   ]
  },
  {
   "cell_type": "markdown",
   "id": "78a52f76",
   "metadata": {},
   "source": [
    "###  通过的代码"
   ]
  },
  {
   "cell_type": "code",
   "execution_count": null,
   "id": "578f063a",
   "metadata": {},
   "outputs": [],
   "source": [
    "'''\n",
    "h(n)=C(2n,n) - C(2n,n-1) (n=0,1,2,...)\n",
    "'''\n",
    "N = 1000000007\n",
    "def C(n,m):# C(n,m) n>=m\n",
    "\n",
    "    inv = [1]* (m+2)\n",
    "    inv[0] = 0\n",
    "    for i in range(2,m+2):\n",
    "        inv[i] =  (N - N // i) * inv[N % i] % N\n",
    "\n",
    "    s = 1\n",
    "    i = 0\n",
    "    while i<m:\n",
    "        s *= (n-i)\n",
    "        s = s%N\n",
    "        i+=1\n",
    "    i = 1\n",
    "    while i<=n-m+1:\n",
    "        s = s*inv[i]\n",
    "        s = s%N\n",
    "        i+=1\n",
    "    return s\n",
    "def catalan(n):\n",
    "    if n<=1:\n",
    "        return 1\n",
    "    return C(2*n,n)%N\n",
    "\n",
    "if __name__ == '__main__':\n",
    "    n = int(input())\n",
    "    print(catalan(n))\n",
    "\n"
   ]
  }
 ],
 "metadata": {
  "kernelspec": {
   "display_name": "Python 3",
   "language": "python",
   "name": "python3"
  },
  "language_info": {
   "codemirror_mode": {
    "name": "ipython",
    "version": 3
   },
   "file_extension": ".py",
   "mimetype": "text/x-python",
   "name": "python",
   "nbconvert_exporter": "python",
   "pygments_lexer": "ipython3",
   "version": "3.8.3"
  }
 },
 "nbformat": 4,
 "nbformat_minor": 5
}
