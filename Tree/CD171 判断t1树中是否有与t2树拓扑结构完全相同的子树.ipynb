{
 "cells": [
  {
   "cell_type": "markdown",
   "id": "bd829552",
   "metadata": {},
   "source": [
    "### 第一种构造树的方法"
   ]
  },
  {
   "cell_type": "code",
   "execution_count": null,
   "id": "831e05ea",
   "metadata": {},
   "outputs": [],
   "source": [
    "# 第一棵树\n",
    "n1,root1 = list(map(int,input().split()))\n",
    "nodes1 = [Node(i) for i in range(n1+1)]\n",
    "nodes1[0] = None \n",
    "for i in range(n1):\n",
    "    fa,lch,rch = list(map(int,input().split())) \n",
    "    nodes1[fa].left = nodes1[lch] \n",
    "    nodes1[fa].right = nodes1[rch] \n",
    "head1 = nodes1[root1]\n",
    "# 第二棵树\n",
    "n2,root2 = list(map(int,input().split()))\n",
    "nodes2 = [Node(i) for i in range(n1+1)]  # 注意这里是 n1\n",
    "nodes2[0] = None \n",
    "for i in range(n2):\n",
    "    fa,lch,rch = list(map(int,input().split())) \n",
    "    nodes2[fa].left = nodes2[lch] \n",
    "    nodes2[fa].right = nodes2[rch] \n",
    "head2 = nodes2[root2]"
   ]
  },
  {
   "cell_type": "code",
   "execution_count": null,
   "id": "42271381",
   "metadata": {},
   "outputs": [],
   "source": []
  },
  {
   "cell_type": "markdown",
   "id": "333d8987",
   "metadata": {},
   "source": [
    "###  第二种序列化方法（已经跑通）"
   ]
  },
  {
   "cell_type": "code",
   "execution_count": null,
   "id": "feec6a52",
   "metadata": {},
   "outputs": [],
   "source": [
    "class Node:\n",
    "    def __init__(self, x):\n",
    "        self.v = x \n",
    "        self.left = None \n",
    "        self.right = None \n",
    "        \n",
    "# 第一棵树\n",
    "n1,r1 = input().split(' ')\n",
    "root1 = Node(r1)\n",
    "node_dict1 = dict()\n",
    "# 键是 v, 值是 树的节点\n",
    "node_dict1[r1] = root1 \n",
    "for i in range(int(n1)):\n",
    "    v,lch,rch = input().split(' ')\n",
    "    if lch != '0':\n",
    "        node_dict1[lch] = Node(lch) #先把他转为树\n",
    "        node_dict1[v].left = node_dict1[lch]\n",
    "    if rch !='0':\n",
    "        node_dict1[rch] = Node(rch) #先把他转为树\n",
    "        node_dict1[v].right = node_dict1[rch]\n",
    "    \n",
    "# 第二棵树\n",
    "n2,r2 = input().split(' ')\n",
    "root2 = Node(r2)\n",
    "node_dict2 = dict()\n",
    "# 键是 v, 值是 树的节点\n",
    "node_dict2[r2] = root2 \n",
    "for i in range(int(n2)):\n",
    "    v,lch,rch = input().split(' ')\n",
    "    if lch != '0':\n",
    "        node_dict2[lch] = Node(lch) #先把他转为树\n",
    "        node_dict2[v].left = node_dict2[lch]\n",
    "    if rch !='0':\n",
    "        node_dict2[rch] = Node(rch) #先把他转为树\n",
    "        node_dict2[v].right = node_dict2[rch]\n",
    "        \n",
    "\n",
    "# 总体思路，先序列化两棵树，然后判断字符串2是否在字符串1中\n",
    "def serialByPre(head):\n",
    "    if not head:\n",
    "        return \"#!\"\n",
    "    res = head.v + \"!\"\n",
    "    res+= serialByPre(head.left)\n",
    "    res+= serialByPre(head.right)\n",
    "    return res \n",
    "\n",
    "str1 = serialByPre(root1)\n",
    "str2 = serialByPre(root2)\n",
    "# 用列表方式存树，每次都要int，然后str,多耗费时间\n",
    "\n",
    "# 这里偷懒取巧了，应该要用KMP算法实现的\n",
    "if str2 in str1:\n",
    "    print('true')  \n",
    "else:\n",
    "    print('false')"
   ]
  }
 ],
 "metadata": {
  "kernelspec": {
   "display_name": "Python 3",
   "language": "python",
   "name": "python3"
  },
  "language_info": {
   "codemirror_mode": {
    "name": "ipython",
    "version": 3
   },
   "file_extension": ".py",
   "mimetype": "text/x-python",
   "name": "python",
   "nbconvert_exporter": "python",
   "pygments_lexer": "ipython3",
   "version": "3.8.8"
  }
 },
 "nbformat": 4,
 "nbformat_minor": 5
}
