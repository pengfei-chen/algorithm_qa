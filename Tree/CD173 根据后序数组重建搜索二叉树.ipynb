{
 "cells": [
  {
   "cell_type": "code",
   "execution_count": 1,
   "id": "60b5cf31",
   "metadata": {},
   "outputs": [
    {
     "name": "stdout",
     "output_type": "stream",
     "text": [
      "3\n",
      "1 3 2\n",
      "true\n"
     ]
    }
   ],
   "source": [
    "n = int(input())\n",
    "arr = list(map(int,input().split()))\n",
    "\n",
    "def isPost(arr,start,end):\n",
    "    if start==end:\n",
    "        return True\n",
    "    less = -1 \n",
    "    more = end \n",
    "    for i in range(start,end):\n",
    "        if arr[end]>arr[i]:\n",
    "            less = i \n",
    "        else:\n",
    "            more=i if more==end else more #更新more的位置，只更新一次 \n",
    "    if less == -1 or more==end:  #头节点没有左子树或没有右子树？\n",
    "        return isPost(arr, start, end-1)\n",
    "    if less != more-1:\n",
    "        return False \n",
    "    return isPost(arr, start, less) and isPost(arr, more, end-1)\n",
    "        \n",
    "\n",
    "def isPostArray(arr):\n",
    "    if arr is  None or len(arr)==0:\n",
    "        return False\n",
    "    return isPost(arr,0,len(arr)-1)\n",
    "\n",
    "ans = isPostArray(arr)\n",
    "print(\"true\" if ans else \"false\")"
   ]
  },
  {
   "cell_type": "code",
   "execution_count": null,
   "id": "da4281e0",
   "metadata": {},
   "outputs": [],
   "source": []
  }
 ],
 "metadata": {
  "kernelspec": {
   "display_name": "Python 3",
   "language": "python",
   "name": "python3"
  },
  "language_info": {
   "codemirror_mode": {
    "name": "ipython",
    "version": 3
   },
   "file_extension": ".py",
   "mimetype": "text/x-python",
   "name": "python",
   "nbconvert_exporter": "python",
   "pygments_lexer": "ipython3",
   "version": "3.8.3"
  }
 },
 "nbformat": 4,
 "nbformat_minor": 5
}
