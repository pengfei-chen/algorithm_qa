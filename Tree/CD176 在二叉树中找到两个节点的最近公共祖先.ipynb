{
 "cells": [
  {
   "cell_type": "code",
   "execution_count": null,
   "id": "840920da",
   "metadata": {},
   "outputs": [],
   "source": [
    "class Node:\n",
    "    def __init__(self,x):\n",
    "        self.v = x \n",
    "        self.left = None \n",
    "        self.right = None \n",
    "        \n",
    "# 根据输入构造树\n",
    "n,r = input().split(' ')\n",
    "root = Node(r)\n",
    "node_dict = dict()\n",
    "node_dict[r] = root \n",
    "for i in range(int(n)):\n",
    "    fa,lch,rch = input().split(' ')\n",
    "    if lch != '0':\n",
    "        node_dict[lch] = Node(lch)\n",
    "        node_dict[fa].left = node_dict[lch]\n",
    "    if rch != '0':\n",
    "        node_dict[rch] = Node(rch)\n",
    "        node_dict[fa].right = node_dict[rch] \n",
    "        \n",
    "        \n",
    "o1,o2 = list(input().split(' '))\n",
    "o1 = node_dict[o1]\n",
    "o2 = node_dict[o2]\n",
    "def lowestAncestor(head, o1,o2):  # 后序遍历\n",
    "    if (head is None) or head==o1 or head==o2:\n",
    "        return head \n",
    "    left = lowestAncestor(head.left, o1, o2)\n",
    "    right = lowestAncestor(head.right, o1, o2)\n",
    "    if left!=None and right !=None:\n",
    "        return head \n",
    "    return left if left != None else right \n",
    "\n",
    "node = lowestAncestor(root, o1,o2)\n",
    "print(node.v)"
   ]
  }
 ],
 "metadata": {
  "kernelspec": {
   "display_name": "Python 3",
   "language": "python",
   "name": "python3"
  },
  "language_info": {
   "codemirror_mode": {
    "name": "ipython",
    "version": 3
   },
   "file_extension": ".py",
   "mimetype": "text/x-python",
   "name": "python",
   "nbconvert_exporter": "python",
   "pygments_lexer": "ipython3",
   "version": "3.8.8"
  }
 },
 "nbformat": 4,
 "nbformat_minor": 5
}
