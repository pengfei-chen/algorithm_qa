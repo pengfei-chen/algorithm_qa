{
 "cells": [
  {
   "cell_type": "code",
   "execution_count": 2,
   "id": "9e0f8ac6",
   "metadata": {},
   "outputs": [
    {
     "data": {
      "text/plain": [
       "'a,a,a'"
      ]
     },
     "execution_count": 2,
     "metadata": {},
     "output_type": "execute_result"
    }
   ],
   "source": [
    "a = 'a,a,a,'\n",
    "a = a.strip(',')\n",
    "a"
   ]
  },
  {
   "cell_type": "markdown",
   "id": "914f4a9c",
   "metadata": {},
   "source": [
    "### 自己写的方法"
   ]
  },
  {
   "cell_type": "code",
   "execution_count": null,
   "id": "74fad960",
   "metadata": {},
   "outputs": [],
   "source": [
    "class Node:\n",
    "    def __init__(self,x):\n",
    "        self.v = x \n",
    "        self.left = None \n",
    "        self.right = None \n",
    "        \n",
    "# 根据输入构造树\n",
    "n,r = input().split(' ')\n",
    "root = Node(r)\n",
    "node_dict = dict()\n",
    "node_dict[r] = root \n",
    "for i in range(int(n)):\n",
    "    fa,lch,rch = input().split(' ')\n",
    "    if lch != '0':\n",
    "        node_dict[lch] = Node(lch)\n",
    "        node_dict[fa].left = node_dict[lch]\n",
    "    if rch != '0':\n",
    "        node_dict[rch] = Node(rch)\n",
    "        node_dict[fa].right = node_dict[rch] \n",
    "        \n",
    "target = int(input())\n",
    "\n",
    "def inOrder(node,target):\n",
    "    if not node:\n",
    "        return ''\n",
    "    res = ''\n",
    "    res += inOrder(node.left,target)\n",
    "    res += node.v  + ','\n",
    "    res += inOrder(node.right,target)\n",
    "    return res\n",
    "    \n",
    "res = inOrder(root,target)\n",
    "res = list(map(int, res.strip(',').split(',')))\n",
    "for i in range(int(n)):\n",
    "    if res[i] == target:\n",
    "        if i+1 <int(n):\n",
    "            print(res[i+1])\n",
    "        else:\n",
    "            print(0)"
   ]
  },
  {
   "cell_type": "code",
   "execution_count": null,
   "id": "72040eb5",
   "metadata": {},
   "outputs": [],
   "source": []
  },
  {
   "cell_type": "markdown",
   "id": "3205afaa",
   "metadata": {},
   "source": [
    "### 优化后的方法"
   ]
  },
  {
   "cell_type": "code",
   "execution_count": 4,
   "id": "1e64bc84",
   "metadata": {},
   "outputs": [],
   "source": [
    "class Node:\n",
    "    def __init__(self,x):\n",
    "        self.v = x \n",
    "        self.left = None \n",
    "        self.right = None \n",
    "        self.parent = None \n",
    "        \n",
    "# 根据输入构造树\n",
    "n,r = input().split(' ')\n",
    "root = Node(r)\n",
    "root.parent = None\n",
    "node_dict = dict()\n",
    "node_dict[r] = root \n",
    "for i in range(int(n)):\n",
    "    fa,lch,rch = input().split(' ')\n",
    "    if lch != '0':\n",
    "        node_dict[lch] = Node(lch)\n",
    "        node_dict[lch].parent = node_dict[fa]\n",
    "        node_dict[fa].left = node_dict[lch]\n",
    "    if rch != '0':\n",
    "        node_dict[rch] = Node(rch)\n",
    "        node_dict[rch].parent = node_dict[fa]\n",
    "        node_dict[fa].right = node_dict[rch] \n",
    "        \n",
    "target = input()\n",
    "\n",
    "def getLeftMost(node):\n",
    "    if not node:\n",
    "        return node \n",
    "    while node.left:\n",
    "        node = node.left \n",
    "    return node \n",
    "\n",
    "def getNextNode(node):\n",
    "    if not Node:\n",
    "        return node \n",
    "    if node.right != None:\n",
    "        return getLeftMost(node.right)\n",
    "    else:\n",
    "        parent = node.parent \n",
    "        while parent and parent.left != node:\n",
    "            node = parent \n",
    "            parent = parent.parent \n",
    "        return parent \n",
    "    \n",
    "node = getNextNode(node_dict[target])\n",
    "print(node.v if node else 0)"
   ]
  },
  {
   "cell_type": "markdown",
   "id": "9f81d361",
   "metadata": {},
   "source": []
  }
 ],
 "metadata": {
  "kernelspec": {
   "display_name": "Python 3",
   "language": "python",
   "name": "python3"
  },
  "language_info": {
   "codemirror_mode": {
    "name": "ipython",
    "version": 3
   },
   "file_extension": ".py",
   "mimetype": "text/x-python",
   "name": "python",
   "nbconvert_exporter": "python",
   "pygments_lexer": "ipython3",
   "version": "3.8.8"
  }
 },
 "nbformat": 4,
 "nbformat_minor": 5
}
