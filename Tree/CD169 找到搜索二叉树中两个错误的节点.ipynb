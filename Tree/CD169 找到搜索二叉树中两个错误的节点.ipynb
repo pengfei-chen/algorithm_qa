{
 "cells": [
  {
   "cell_type": "code",
   "execution_count": null,
   "id": "35788e29",
   "metadata": {},
   "outputs": [],
   "source": [
    "class Node:\n",
    "    def __init__(self, x):\n",
    "        self.v = x \n",
    "        self.left = None \n",
    "        self.right = None \n",
    "        \n",
    "from collections import deque\n",
    "n,root = list(map(int,input().split()))\n",
    "nodes = [Node(i) for i in range(n+1)]\n",
    "nodes[0] = None \n",
    "\n",
    "for i in range(n):\n",
    "    fa,lch,rch = list(map(int,input().split())) \n",
    "    nodes[fa].left = nodes[lch] \n",
    "    nodes[fa].right = nodes[rch] \n",
    "\n",
    "head = nodes[root]\n",
    "\n",
    "# 非递归中序遍历\n",
    "def getTwoErrorNodes(head,pre = nodes[0]):\n",
    "    errs = [0] * 2\n",
    "    if not head:\n",
    "        return errs \n",
    "    stack = [] \n",
    "    while (len(stack) > 0) or (head is not None):\n",
    "        if head:\n",
    "            stack.append(head)\n",
    "            head = head.left \n",
    "        else:\n",
    "            head = stack.pop()\n",
    "            if (pre and pre.v > head.v):\n",
    "                errs[0] = pre.v if errs[0]==0 else errs[0]\n",
    "                # 这里errs[0] 只保留第一次逆序中比较大的值\n",
    "                errs[1] = head.v\n",
    "                # 如果有两次逆序，保留最后一次逆序中较小的值\n",
    "            pre = head \n",
    "            head = head.right \n",
    "    if errs[0] > errs[1]:\n",
    "        tmp = errs[0]\n",
    "        errs[0] = errs[1]\n",
    "        errs[1] = tmp\n",
    "    return errs \n",
    "\n",
    "ans = getTwoErrorNodes(head,pre = nodes[0])\n",
    "print(*ans) "
   ]
  }
 ],
 "metadata": {
  "kernelspec": {
   "display_name": "Python 3",
   "language": "python",
   "name": "python3"
  },
  "language_info": {
   "codemirror_mode": {
    "name": "ipython",
    "version": 3
   },
   "file_extension": ".py",
   "mimetype": "text/x-python",
   "name": "python",
   "nbconvert_exporter": "python",
   "pygments_lexer": "ipython3",
   "version": "3.8.3"
  }
 },
 "nbformat": 4,
 "nbformat_minor": 5
}
