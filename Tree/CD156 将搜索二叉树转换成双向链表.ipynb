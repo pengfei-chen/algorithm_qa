{
 "cells": [
  {
   "cell_type": "markdown",
   "id": "6d04f39c",
   "metadata": {},
   "source": [
    "###  方法1：中序遍历"
   ]
  },
  {
   "cell_type": "code",
   "execution_count": 2,
   "id": "edd0e862",
   "metadata": {},
   "outputs": [
    {
     "name": "stdout",
     "output_type": "stream",
     "text": [
      "9\n",
      "6 4 7 \n",
      "4 2 5\n",
      "2 1 3\n",
      "5 0 0\n",
      "1 0 0 \n",
      "3 0 0\n",
      "7 0 9\n",
      "9 8 0\n",
      "8 0 0\n",
      "1 2 3 4 5 6 7 8 9 "
     ]
    },
    {
     "data": {
      "text/plain": [
       "[]"
      ]
     },
     "execution_count": 2,
     "metadata": {},
     "output_type": "execute_result"
    }
   ],
   "source": [
    "# 定义树的类\n",
    "class Node:\n",
    "    def __init__(self,x=None):\n",
    "        self.v = x\n",
    "        self.left=None \n",
    "        self.right=None \n",
    "\n",
    "# 根据输入，构造一棵树\n",
    "n = int(input())\n",
    "nodes = [Node(i) for i in range(n+1)]\n",
    "nodes[0] = None # 处理node(0) == None\n",
    "\n",
    "root_id = -1\n",
    "for i in range(n):\n",
    "    fa,lch,rch = list(map(int,input().split()))\n",
    "    nodes[fa].left = nodes[lch]\n",
    "    nodes[fa].right = nodes[rch]\n",
    "    if root_id == -1:\n",
    "        root_id = fa \n",
    "# nodes[root_id]  #表示这棵树已经构建好了,且这个点为根节点 \n",
    "\n",
    "ans = []\n",
    "# 中序遍历 \n",
    "def mid(node):\n",
    "    if node is None:\n",
    "        return \n",
    "    mid(node.left) \n",
    "    print(node.v, end=\" \")\n",
    "    mid(node.right) \n",
    "    return ans \n",
    "\n",
    "mid(nodes[root_id],)\n",
    "# ans = mid(nodes[root_id],ans)\n",
    "# print(*ans)"
   ]
  },
  {
   "cell_type": "code",
   "execution_count": null,
   "id": "f477abd9",
   "metadata": {},
   "outputs": [],
   "source": [
    "# 定义树的类\n",
    "class Node:\n",
    "    def __init__(self,x=None):\n",
    "        self.v = x\n",
    "        self.left=None \n",
    "        self.right=None \n",
    "\n",
    "# 根据输入，构造一棵树\n",
    "n = int(input())\n",
    "nodes = [Node(i) for i in range(n+1)]\n",
    "nodes[0] = None \n",
    "root_id = -1\n",
    "for i in range(n):\n",
    "    fa,lch,rch = list(map(int,input().split()))\n",
    "    nodes[fa].left = nodes[lch]\n",
    "    nodes[fa].right = nodes[rch]\n",
    "    if root_id == -1:\n",
    "        root_id = fa \n",
    "# nodes[root_id]  #表示这棵树已经构建好了 \n",
    "\n",
    "# 中序遍历 \n",
    "def mid(node):\n",
    "    if node is None:\n",
    "        return \n",
    "    mid(node.left) \n",
    "    print(node.v, end=\" \")\n",
    "    mid(node.right) \n",
    "    return  \n",
    "\n",
    "mid(nodes[root_id],)\n",
    "# ans = mid(nodes[root_id],ans)\n",
    "# print(*ans)"
   ]
  }
 ],
 "metadata": {
  "kernelspec": {
   "display_name": "Python 3",
   "language": "python",
   "name": "python3"
  },
  "language_info": {
   "codemirror_mode": {
    "name": "ipython",
    "version": 3
   },
   "file_extension": ".py",
   "mimetype": "text/x-python",
   "name": "python",
   "nbconvert_exporter": "python",
   "pygments_lexer": "ipython3",
   "version": "3.8.8"
  }
 },
 "nbformat": 4,
 "nbformat_minor": 5
}
