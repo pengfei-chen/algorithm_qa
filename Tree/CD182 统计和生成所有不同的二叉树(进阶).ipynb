{
 "cells": [
  {
   "cell_type": "markdown",
   "id": "db7152fb",
   "metadata": {},
   "source": [
    "### 通过的代码"
   ]
  },
  {
   "cell_type": "code",
   "execution_count": 1,
   "id": "bbcf893a",
   "metadata": {},
   "outputs": [
    {
     "name": "stdout",
     "output_type": "stream",
     "text": [
      "7\n",
      "429\n"
     ]
    }
   ],
   "source": [
    "'''\n",
    "h(n)=C(2n,n) - C(2n,n-1) (n=0,1,2,...)\n",
    "'''\n",
    "N = 1000000007\n",
    "def C(n,m):# C(n,m) n>=m\n",
    "\n",
    "    inv = [1]* (m+2)\n",
    "    inv[0] = 0\n",
    "    for i in range(2,m+2):\n",
    "        inv[i] =  (N - N // i) * inv[N % i] % N\n",
    "\n",
    "    s = 1\n",
    "    i = 0\n",
    "    while i<m:\n",
    "        s *= (n-i)\n",
    "        s = s%N\n",
    "        i+=1\n",
    "    i = 1\n",
    "    while i<=n-m+1:\n",
    "        s = s*inv[i]\n",
    "        s = s%N\n",
    "        i+=1\n",
    "    return s\n",
    "def catalan(n):\n",
    "    if n<=1:\n",
    "        return 1\n",
    "    return C(2*n,n)%N\n",
    "\n",
    "if __name__ == '__main__':\n",
    "    n = int(input())\n",
    "    print(catalan(n))\n",
    "\n"
   ]
  },
  {
   "cell_type": "markdown",
   "id": "0bdd11a5",
   "metadata": {},
   "source": [
    "###  知识点，卡特兰数"
   ]
  },
  {
   "cell_type": "code",
   "execution_count": 2,
   "id": "b3d64d9c",
   "metadata": {},
   "outputs": [
    {
     "name": "stdout",
     "output_type": "stream",
     "text": [
      "7\n",
      "429\n"
     ]
    }
   ],
   "source": [
    "'''\n",
    "h(n)=C(2n,n) - C(2n,n-1) (n=0,1,2,...)\n",
    "'''\n",
    "N = 1000000007\n",
    "def C(n,m):# C(n,m) n>=m\n",
    "    inv = [1]* (m+2)\n",
    "    inv[0] = 0\n",
    "    for i in range(2,m+2):\n",
    "        inv[i] =  (N - N // i) * inv[N % i] % N\n",
    "    s = 1\n",
    "    i = 0\n",
    "    while i<m:\n",
    "        s *= (n-i)\n",
    "        s = s%N\n",
    "        i+=1\n",
    "    i = 1\n",
    "    while i<=n-m+1:\n",
    "        s = s*inv[i]\n",
    "        s = s%N\n",
    "        i+=1\n",
    "    return s\n",
    "\n",
    "def catalan(n):\n",
    "    if n<=1:\n",
    "        return 1\n",
    "    return C(2*n,n)%N\n",
    "\n",
    "if __name__ == '__main__':\n",
    "    n = int(input())\n",
    "    print(catalan(n))\n",
    "\n"
   ]
  },
  {
   "cell_type": "code",
   "execution_count": null,
   "id": "883eb9e2",
   "metadata": {},
   "outputs": [],
   "source": []
  }
 ],
 "metadata": {
  "kernelspec": {
   "display_name": "Python 3",
   "language": "python",
   "name": "python3"
  },
  "language_info": {
   "codemirror_mode": {
    "name": "ipython",
    "version": 3
   },
   "file_extension": ".py",
   "mimetype": "text/x-python",
   "name": "python",
   "nbconvert_exporter": "python",
   "pygments_lexer": "ipython3",
   "version": "3.8.3"
  }
 },
 "nbformat": 4,
 "nbformat_minor": 5
}
